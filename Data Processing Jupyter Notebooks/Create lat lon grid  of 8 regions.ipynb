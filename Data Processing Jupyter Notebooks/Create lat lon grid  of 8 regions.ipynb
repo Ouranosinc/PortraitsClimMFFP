{
 "cells": [
  {
   "cell_type": "code",
   "execution_count": 1,
   "metadata": {},
   "outputs": [],
   "source": [
    "%load_ext autoreload\n",
    "%autoreload 2\n",
    "import geopandas as gpd\n",
    "import xarray as xr\n",
    "import matplotlib.pyplot as plt\n",
    "import pandas as pd\n",
    "import processing_netcdf as pcdf\n",
    "import matplotlib.pyplot as plt\n",
    "from geopandas import GeoDataFrame\n",
    "import shapely.geometry \n",
    "import numpy as np\n",
    "from shapely import geometry as gmty\n",
    "from geofeather import to_geofeather, from_geofeather\n",
    "import itertools\n",
    "from shapely.geometry import Point\n",
    "\n",
    "import glob"
   ]
  },
  {
   "cell_type": "code",
   "execution_count": 2,
   "metadata": {},
   "outputs": [],
   "source": [
    "import pathlib"
   ]
  },
  {
   "cell_type": "code",
   "execution_count": 3,
   "metadata": {},
   "outputs": [],
   "source": [
    "shapefile = \"/home/mlopez/EXEC/Shapefiles/Secteurs_Operations_Regionales.shp\""
   ]
  },
  {
   "cell_type": "markdown",
   "metadata": {},
   "source": [
    "# Accessing shapefiles"
   ]
  },
  {
   "cell_type": "code",
   "execution_count": 4,
   "metadata": {},
   "outputs": [],
   "source": [
    "shfolder = \"/home/mlopez/EXEC/Shapefiles/\"\n",
    "out_folder = \"/home/mlopez/EXEC/Grids-polygons-regions/\"\n",
    "var = \"tg_mean\""
   ]
  },
  {
   "cell_type": "code",
   "execution_count": 5,
   "metadata": {},
   "outputs": [
    {
     "data": {
      "text/plain": [
       "['/home/mlopez/EXEC/Shapefiles/DDE_STF_20K_REG_FOR_VUE_S.shp',\n",
       " '/home/mlopez/EXEC/Shapefiles/DDE_STF_20K_UA_PER_VUE_S.shp',\n",
       " '/home/mlopez/EXEC/Shapefiles/DOM_BIO.shp',\n",
       " '/home/mlopez/EXEC/Shapefiles/REG_ECO.shp',\n",
       " '/home/mlopez/EXEC/Shapefiles/SDOM_BIO.shp',\n",
       " '/home/mlopez/EXEC/Shapefiles/Secteurs_Operations_Regionales.shp',\n",
       " '/home/mlopez/EXEC/Shapefiles/SREG_ECO.shp',\n",
       " '/home/mlopez/EXEC/Shapefiles/territoire_guide.shp']"
      ]
     },
     "execution_count": 5,
     "metadata": {},
     "output_type": "execute_result"
    }
   ],
   "source": [
    "shapefiles =  glob.glob(shfolder+\"*.shp\")\n",
    "shapefiles"
   ]
  },
  {
   "cell_type": "code",
   "execution_count": 6,
   "metadata": {},
   "outputs": [
    {
     "data": {
      "text/plain": [
       "['DDE_STF_20K_REG_FOR_VUE_S.shp',\n",
       " 'DDE_STF_20K_UA_PER_VUE_S.shp',\n",
       " 'DOM_BIO.shp',\n",
       " 'REG_ECO.shp',\n",
       " 'SDOM_BIO.shp',\n",
       " 'Secteurs_Operations_Regionales.shp',\n",
       " 'SREG_ECO.shp',\n",
       " 'territoire_guide.shp']"
      ]
     },
     "execution_count": 6,
     "metadata": {},
     "output_type": "execute_result"
    }
   ],
   "source": [
    "shnames1 = [str(sub.split('Shapefiles/')[1]) for sub in shapefiles] \n",
    "shnames1"
   ]
  },
  {
   "cell_type": "code",
   "execution_count": 7,
   "metadata": {},
   "outputs": [
    {
     "data": {
      "text/plain": [
       "['DDE_STF_20K_REG_FOR_VUE_S',\n",
       " 'DDE_STF_20K_UA_PER_VUE_S',\n",
       " 'DOM_BIO',\n",
       " 'REG_ECO',\n",
       " 'SDOM_BIO',\n",
       " 'Secteurs_Operations_Regionales',\n",
       " 'SREG_ECO',\n",
       " 'territoire_guide']"
      ]
     },
     "execution_count": 7,
     "metadata": {},
     "output_type": "execute_result"
    }
   ],
   "source": [
    "shnames = [str(sub.split('.shp')[0]) for sub in shnames1] \n",
    "shnames"
   ]
  },
  {
   "cell_type": "code",
   "execution_count": 8,
   "metadata": {},
   "outputs": [
    {
     "data": {
      "text/plain": [
       "'DDE_STF_20K_UA_PER_VUE_S'"
      ]
     },
     "execution_count": 8,
     "metadata": {},
     "output_type": "execute_result"
    }
   ],
   "source": [
    "shnames[1]"
   ]
  },
  {
   "cell_type": "code",
   "execution_count": 15,
   "metadata": {},
   "outputs": [
    {
     "name": "stdout",
     "output_type": "stream",
     "text": [
      "/home/mlopez/EXEC/Shapefiles/DDE_STF_20K_REG_FOR_VUE_S.shp\n"
     ]
    },
    {
     "name": "stderr",
     "output_type": "stream",
     "text": [
      "/home/mlopez/EXEC/anaconda3/envs/python37-2/lib/python3.8/site-packages/geopandas/tools/sjoin.py:58: UserWarning: CRS of frames being joined does not match!(None != {'init': 'epsg:4326'})\n",
      "  warn(\n"
     ]
    },
    {
     "name": "stdout",
     "output_type": "stream",
     "text": [
      "DDE_STF_20K_REG_FOR_VUE_S\n",
      "/home/mlopez/EXEC/Shapefiles/DDE_STF_20K_UA_PER_VUE_S.shp\n"
     ]
    },
    {
     "name": "stderr",
     "output_type": "stream",
     "text": [
      "/home/mlopez/EXEC/anaconda3/envs/python37-2/lib/python3.8/site-packages/geopandas/tools/sjoin.py:58: UserWarning: CRS of frames being joined does not match!(None != {'init': 'epsg:4326'})\n",
      "  warn(\n"
     ]
    },
    {
     "name": "stdout",
     "output_type": "stream",
     "text": [
      "DDE_STF_20K_UA_PER_VUE_S\n",
      "/home/mlopez/EXEC/Shapefiles/DOM_BIO.shp\n"
     ]
    },
    {
     "name": "stderr",
     "output_type": "stream",
     "text": [
      "/home/mlopez/EXEC/anaconda3/envs/python37-2/lib/python3.8/site-packages/geopandas/tools/sjoin.py:58: UserWarning: CRS of frames being joined does not match!(None != {'init': 'epsg:4326'})\n",
      "  warn(\n"
     ]
    },
    {
     "name": "stdout",
     "output_type": "stream",
     "text": [
      "DOM_BIO\n",
      "/home/mlopez/EXEC/Shapefiles/REG_ECO.shp\n"
     ]
    },
    {
     "name": "stderr",
     "output_type": "stream",
     "text": [
      "/home/mlopez/EXEC/anaconda3/envs/python37-2/lib/python3.8/site-packages/geopandas/tools/sjoin.py:58: UserWarning: CRS of frames being joined does not match!(None != {'init': 'epsg:4326'})\n",
      "  warn(\n"
     ]
    },
    {
     "name": "stdout",
     "output_type": "stream",
     "text": [
      "REG_ECO\n",
      "/home/mlopez/EXEC/Shapefiles/SDOM_BIO.shp\n"
     ]
    },
    {
     "name": "stderr",
     "output_type": "stream",
     "text": [
      "/home/mlopez/EXEC/anaconda3/envs/python37-2/lib/python3.8/site-packages/geopandas/tools/sjoin.py:58: UserWarning: CRS of frames being joined does not match!(None != {'init': 'epsg:4326'})\n",
      "  warn(\n"
     ]
    },
    {
     "name": "stdout",
     "output_type": "stream",
     "text": [
      "SDOM_BIO\n",
      "/home/mlopez/EXEC/Shapefiles/Secteurs_Operations_Regionales.shp\n"
     ]
    },
    {
     "name": "stderr",
     "output_type": "stream",
     "text": [
      "/home/mlopez/EXEC/anaconda3/envs/python37-2/lib/python3.8/site-packages/geopandas/tools/sjoin.py:58: UserWarning: CRS of frames being joined does not match!(None != {'init': 'epsg:4326'})\n",
      "  warn(\n"
     ]
    },
    {
     "name": "stdout",
     "output_type": "stream",
     "text": [
      "Secteurs_Operations_Regionales\n",
      "/home/mlopez/EXEC/Shapefiles/SREG_ECO.shp\n"
     ]
    },
    {
     "name": "stderr",
     "output_type": "stream",
     "text": [
      "/home/mlopez/EXEC/anaconda3/envs/python37-2/lib/python3.8/site-packages/geopandas/tools/sjoin.py:58: UserWarning: CRS of frames being joined does not match!(None != {'init': 'epsg:4326'})\n",
      "  warn(\n"
     ]
    },
    {
     "name": "stdout",
     "output_type": "stream",
     "text": [
      "SREG_ECO\n",
      "/home/mlopez/EXEC/Shapefiles/territoire_guide.shp\n"
     ]
    },
    {
     "name": "stderr",
     "output_type": "stream",
     "text": [
      "/home/mlopez/EXEC/anaconda3/envs/python37-2/lib/python3.8/site-packages/geopandas/tools/sjoin.py:58: UserWarning: CRS of frames being joined does not match!(None != {'init': 'epsg:4326'})\n",
      "  warn(\n"
     ]
    },
    {
     "name": "stdout",
     "output_type": "stream",
     "text": [
      "territoire_guide\n"
     ]
    }
   ],
   "source": [
    "i = 0\n",
    "for shpfl in shapefiles:\n",
    "    print (shpfl)\n",
    "    latlon_df = pcdf.latlon_regions(shpfl, var).reset_index()\n",
    "    latlon_df2 =  latlon_df.drop(columns=['geometry'])\n",
    "    latlon_df = 0\n",
    "    print (shnames[i])\n",
    "    latlon_df2.to_feather(out_folder+shnames[i]+\"lat_lon.feather\")\n",
    "    latlon_df2 = 0\n",
    "    i = i+1"
   ]
  },
  {
   "cell_type": "code",
   "execution_count": null,
   "metadata": {},
   "outputs": [],
   "source": [
    "latlon_df = pcdf.latlon_regions(shapefile)"
   ]
  },
  {
   "cell_type": "code",
   "execution_count": null,
   "metadata": {},
   "outputs": [],
   "source": [
    "latlon_df"
   ]
  },
  {
   "cell_type": "markdown",
   "metadata": {},
   "source": [
    "# Create polygons"
   ]
  },
  {
   "cell_type": "code",
   "execution_count": null,
   "metadata": {},
   "outputs": [],
   "source": [
    "#takes 8s\n",
    "%time dfpoints.geometry  = pcdf.process_points_poly(dfpoints)"
   ]
  },
  {
   "cell_type": "code",
   "execution_count": null,
   "metadata": {},
   "outputs": [],
   "source": [
    "dfpoints.head()"
   ]
  },
  {
   "cell_type": "code",
   "execution_count": null,
   "metadata": {},
   "outputs": [],
   "source": [
    "### TAKES 10 min for all the regions TG\n",
    "%time  dfpolyshape = pcdf.make_grid(dfpoints, shapefile) #10 min with overlay #1miin with sjoin"
   ]
  },
  {
   "cell_type": "code",
   "execution_count": null,
   "metadata": {},
   "outputs": [],
   "source": [
    "dfpolyshape.head()"
   ]
  },
  {
   "cell_type": "code",
   "execution_count": null,
   "metadata": {},
   "outputs": [],
   "source": [
    "to_geofeather(dfpolyshape, 'Grid'+shnames[1]+'.feather')"
   ]
  },
  {
   "cell_type": "code",
   "execution_count": null,
   "metadata": {},
   "outputs": [],
   "source": [
    "shnames[1]"
   ]
  },
  {
   "cell_type": "code",
   "execution_count": null,
   "metadata": {},
   "outputs": [],
   "source": [
    "i = 3\n",
    "for shape in shapefiles:\n",
    "    print (shapefiles[i])\n",
    "    print(i)\n",
    "    dfpolyshape = pcdf.make_grid(dfpoints, shapefiles[i])\n",
    "    print(shape)\n",
    "    to_geofeather(dfpolyshape, 'Grid'+shnames[i]+'.feather')\n",
    "    print(\"geofather done\")\n",
    "    i = i+1"
   ]
  },
  {
   "cell_type": "code",
   "execution_count": null,
   "metadata": {},
   "outputs": [],
   "source": []
  }
 ],
 "metadata": {
  "kernelspec": {
   "display_name": "Python 3",
   "language": "python",
   "name": "python3"
  },
  "language_info": {
   "codemirror_mode": {
    "name": "ipython",
    "version": 3
   },
   "file_extension": ".py",
   "mimetype": "text/x-python",
   "name": "python",
   "nbconvert_exporter": "python",
   "pygments_lexer": "ipython3",
   "version": "3.8.1"
  }
 },
 "nbformat": 4,
 "nbformat_minor": 4
}
