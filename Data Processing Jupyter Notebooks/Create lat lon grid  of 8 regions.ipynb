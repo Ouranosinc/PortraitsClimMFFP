{
 "cells": [
  {
   "cell_type": "code",
   "execution_count": 25,
   "metadata": {},
   "outputs": [
    {
     "name": "stdout",
     "output_type": "stream",
     "text": [
      "The autoreload extension is already loaded. To reload it, use:\n",
      "  %reload_ext autoreload\n"
     ]
    }
   ],
   "source": [
    "%load_ext autoreload\n",
    "%autoreload 2\n",
    "import geopandas as gpd\n",
    "import xarray as xr\n",
    "import matplotlib.pyplot as plt\n",
    "import pandas as pd\n",
    "import processing_netcdf as pcdf\n",
    "import matplotlib.pyplot as plt\n",
    "from geopandas import GeoDataFrame\n",
    "import shapely.geometry \n",
    "import numpy as np\n",
    "from shapely import geometry as gmty\n",
    "from geofeather import to_geofeather, from_geofeather\n",
    "import itertools\n",
    "from shapely.geometry import Point\n",
    "\n",
    "import glob"
   ]
  },
  {
   "cell_type": "code",
   "execution_count": 9,
   "metadata": {},
   "outputs": [],
   "source": [
    "import pathlib"
   ]
  },
  {
   "cell_type": "code",
   "execution_count": 7,
   "metadata": {},
   "outputs": [],
   "source": [
    "shapefile = \"/home/mlopez/EXEC/Shapefiles/Secteurs_Operations_Regionales.shp\""
   ]
  },
  {
   "cell_type": "markdown",
   "metadata": {},
   "source": [
    "# Accessing shapefiles"
   ]
  },
  {
   "cell_type": "code",
   "execution_count": 2,
   "metadata": {},
   "outputs": [],
   "source": [
    "shfolder = \"/home/mlopez/EXEC/Shapefiles/\"\n",
    "out_folder = \"/home/mlopez/EXEC/Grids-polygons-regions/\""
   ]
  },
  {
   "cell_type": "code",
   "execution_count": 3,
   "metadata": {},
   "outputs": [
    {
     "data": {
      "text/plain": [
       "['/home/mlopez/EXEC/Shapefiles/DDE_STF_20K_REG_FOR_VUE_S.shp',\n",
       " '/home/mlopez/EXEC/Shapefiles/DDE_STF_20K_UA_PER_VUE_S.shp',\n",
       " '/home/mlopez/EXEC/Shapefiles/DOM_BIO.shp',\n",
       " '/home/mlopez/EXEC/Shapefiles/REG_ECO.shp',\n",
       " '/home/mlopez/EXEC/Shapefiles/SDOM_BIO.shp',\n",
       " '/home/mlopez/EXEC/Shapefiles/Secteurs_Operations_Regionales.shp',\n",
       " '/home/mlopez/EXEC/Shapefiles/SREG_ECO.shp',\n",
       " '/home/mlopez/EXEC/Shapefiles/territoire_guide.shp']"
      ]
     },
     "execution_count": 3,
     "metadata": {},
     "output_type": "execute_result"
    }
   ],
   "source": [
    "shapefiles =  glob.glob(shfolder+\"*.shp\")\n",
    "shapefiles"
   ]
  },
  {
   "cell_type": "code",
   "execution_count": 4,
   "metadata": {},
   "outputs": [
    {
     "data": {
      "text/plain": [
       "['DDE_STF_20K_REG_FOR_VUE_S.shp',\n",
       " 'DDE_STF_20K_UA_PER_VUE_S.shp',\n",
       " 'DOM_BIO.shp',\n",
       " 'REG_ECO.shp',\n",
       " 'SDOM_BIO.shp',\n",
       " 'Secteurs_Operations_Regionales.shp',\n",
       " 'SREG_ECO.shp',\n",
       " 'territoire_guide.shp']"
      ]
     },
     "execution_count": 4,
     "metadata": {},
     "output_type": "execute_result"
    }
   ],
   "source": [
    "shnames1 = [str(sub.split('Shapefiles/')[1]) for sub in shapefiles] \n",
    "shnames1"
   ]
  },
  {
   "cell_type": "code",
   "execution_count": 5,
   "metadata": {},
   "outputs": [
    {
     "data": {
      "text/plain": [
       "['DDE_STF_20K_REG_FOR_VUE_S',\n",
       " 'DDE_STF_20K_UA_PER_VUE_S',\n",
       " 'DOM_BIO',\n",
       " 'REG_ECO',\n",
       " 'SDOM_BIO',\n",
       " 'Secteurs_Operations_Regionales',\n",
       " 'SREG_ECO',\n",
       " 'territoire_guide']"
      ]
     },
     "execution_count": 5,
     "metadata": {},
     "output_type": "execute_result"
    }
   ],
   "source": [
    "shnames = [str(sub.split('.shp')[0]) for sub in shnames1] \n",
    "shnames"
   ]
  },
  {
   "cell_type": "code",
   "execution_count": 6,
   "metadata": {},
   "outputs": [
    {
     "data": {
      "text/plain": [
       "'DDE_STF_20K_UA_PER_VUE_S'"
      ]
     },
     "execution_count": 6,
     "metadata": {},
     "output_type": "execute_result"
    }
   ],
   "source": [
    "shnames[1]"
   ]
  },
  {
   "cell_type": "code",
   "execution_count": 29,
   "metadata": {},
   "outputs": [
    {
     "name": "stdout",
     "output_type": "stream",
     "text": [
      "/home/mlopez/EXEC/Shapefiles/DDE_STF_20K_REG_FOR_VUE_S.shp\n"
     ]
    },
    {
     "name": "stderr",
     "output_type": "stream",
     "text": [
      "/home/mlopez/EXEC/anaconda3/envs/python37-2/lib/python3.8/site-packages/geopandas/tools/sjoin.py:58: UserWarning: CRS of frames being joined does not match!(None != {'init': 'epsg:4326'})\n",
      "  warn(\n"
     ]
    },
    {
     "name": "stdout",
     "output_type": "stream",
     "text": [
      "DDE_STF_20K_REG_FOR_VUE_S\n",
      "/home/mlopez/EXEC/Shapefiles/DDE_STF_20K_UA_PER_VUE_S.shp\n"
     ]
    },
    {
     "name": "stderr",
     "output_type": "stream",
     "text": [
      "/home/mlopez/EXEC/anaconda3/envs/python37-2/lib/python3.8/site-packages/geopandas/tools/sjoin.py:58: UserWarning: CRS of frames being joined does not match!(None != {'init': 'epsg:4326'})\n",
      "  warn(\n"
     ]
    },
    {
     "name": "stdout",
     "output_type": "stream",
     "text": [
      "DDE_STF_20K_UA_PER_VUE_S\n",
      "/home/mlopez/EXEC/Shapefiles/DOM_BIO.shp\n"
     ]
    },
    {
     "name": "stderr",
     "output_type": "stream",
     "text": [
      "/home/mlopez/EXEC/anaconda3/envs/python37-2/lib/python3.8/site-packages/geopandas/tools/sjoin.py:58: UserWarning: CRS of frames being joined does not match!(None != {'init': 'epsg:4326'})\n",
      "  warn(\n"
     ]
    },
    {
     "name": "stdout",
     "output_type": "stream",
     "text": [
      "DOM_BIO\n",
      "/home/mlopez/EXEC/Shapefiles/REG_ECO.shp\n"
     ]
    },
    {
     "name": "stderr",
     "output_type": "stream",
     "text": [
      "/home/mlopez/EXEC/anaconda3/envs/python37-2/lib/python3.8/site-packages/geopandas/tools/sjoin.py:58: UserWarning: CRS of frames being joined does not match!(None != {'init': 'epsg:4326'})\n",
      "  warn(\n"
     ]
    },
    {
     "name": "stdout",
     "output_type": "stream",
     "text": [
      "REG_ECO\n",
      "/home/mlopez/EXEC/Shapefiles/SDOM_BIO.shp\n"
     ]
    },
    {
     "name": "stderr",
     "output_type": "stream",
     "text": [
      "/home/mlopez/EXEC/anaconda3/envs/python37-2/lib/python3.8/site-packages/geopandas/tools/sjoin.py:58: UserWarning: CRS of frames being joined does not match!(None != {'init': 'epsg:4326'})\n",
      "  warn(\n"
     ]
    },
    {
     "name": "stdout",
     "output_type": "stream",
     "text": [
      "SDOM_BIO\n",
      "/home/mlopez/EXEC/Shapefiles/Secteurs_Operations_Regionales.shp\n"
     ]
    },
    {
     "name": "stderr",
     "output_type": "stream",
     "text": [
      "/home/mlopez/EXEC/anaconda3/envs/python37-2/lib/python3.8/site-packages/geopandas/tools/sjoin.py:58: UserWarning: CRS of frames being joined does not match!(None != {'init': 'epsg:4326'})\n",
      "  warn(\n"
     ]
    },
    {
     "name": "stdout",
     "output_type": "stream",
     "text": [
      "Secteurs_Operations_Regionales\n",
      "/home/mlopez/EXEC/Shapefiles/SREG_ECO.shp\n"
     ]
    },
    {
     "name": "stderr",
     "output_type": "stream",
     "text": [
      "/home/mlopez/EXEC/anaconda3/envs/python37-2/lib/python3.8/site-packages/geopandas/tools/sjoin.py:58: UserWarning: CRS of frames being joined does not match!(None != {'init': 'epsg:4326'})\n",
      "  warn(\n"
     ]
    },
    {
     "name": "stdout",
     "output_type": "stream",
     "text": [
      "SREG_ECO\n",
      "/home/mlopez/EXEC/Shapefiles/territoire_guide.shp\n"
     ]
    },
    {
     "name": "stderr",
     "output_type": "stream",
     "text": [
      "/home/mlopez/EXEC/anaconda3/envs/python37-2/lib/python3.8/site-packages/geopandas/tools/sjoin.py:58: UserWarning: CRS of frames being joined does not match!(None != {'init': 'epsg:4326'})\n",
      "  warn(\n"
     ]
    },
    {
     "name": "stdout",
     "output_type": "stream",
     "text": [
      "territoire_guide\n"
     ]
    }
   ],
   "source": [
    "i = 0\n",
    "for shpfl in shapefiles:\n",
    "    print (shpfl)\n",
    "    latlon_df = pcdf.latlon_regions(shpfl).reset_index()\n",
    "    latlon_df2 =  latlon_df.drop(columns=['geometry'])\n",
    "    latlon_df = 0\n",
    "    print (shnames[i])\n",
    "    latlon_df2.to_feather(out_folder+shnames[i]+\"lat_lon.feather\")\n",
    "    latlon_df2 = 0\n",
    "    i = i+1"
   ]
  },
  {
   "cell_type": "code",
   "execution_count": 16,
   "metadata": {},
   "outputs": [
    {
     "name": "stderr",
     "output_type": "stream",
     "text": [
      "/home/mlopez/EXEC/anaconda3/envs/python37-2/lib/python3.8/site-packages/geopandas/tools/sjoin.py:58: UserWarning: CRS of frames being joined does not match!(None != {'init': 'epsg:4326'})\n",
      "  warn(\n"
     ]
    }
   ],
   "source": [
    "latlon_df = pcdf.latlon_regions(shapefile)"
   ]
  },
  {
   "cell_type": "code",
   "execution_count": 17,
   "metadata": {},
   "outputs": [
    {
     "data": {
      "text/html": [
       "<div>\n",
       "<style scoped>\n",
       "    .dataframe tbody tr th:only-of-type {\n",
       "        vertical-align: middle;\n",
       "    }\n",
       "\n",
       "    .dataframe tbody tr th {\n",
       "        vertical-align: top;\n",
       "    }\n",
       "\n",
       "    .dataframe thead th {\n",
       "        text-align: right;\n",
       "    }\n",
       "</style>\n",
       "<table border=\"1\" class=\"dataframe\">\n",
       "  <thead>\n",
       "    <tr style=\"text-align: right;\">\n",
       "      <th></th>\n",
       "      <th>lat</th>\n",
       "      <th>lon</th>\n",
       "      <th>geometry</th>\n",
       "      <th>index_right</th>\n",
       "      <th>OBJECTID</th>\n",
       "      <th>D_GENERAL</th>\n",
       "      <th>Shape_Leng</th>\n",
       "      <th>Shape_Area</th>\n",
       "      <th>ORIG_FID</th>\n",
       "    </tr>\n",
       "  </thead>\n",
       "  <tbody>\n",
       "    <tr>\n",
       "      <th>68495</th>\n",
       "      <td>52.957191</td>\n",
       "      <td>-66.462784</td>\n",
       "      <td>POINT (-66.46278 52.95719)</td>\n",
       "      <td>2</td>\n",
       "      <td>2</td>\n",
       "      <td>Nord-est</td>\n",
       "      <td>5.383010e+06</td>\n",
       "      <td>4.351854e+11</td>\n",
       "      <td>1</td>\n",
       "    </tr>\n",
       "    <tr>\n",
       "      <th>68496</th>\n",
       "      <td>52.957191</td>\n",
       "      <td>-66.379448</td>\n",
       "      <td>POINT (-66.37945 52.95719)</td>\n",
       "      <td>2</td>\n",
       "      <td>2</td>\n",
       "      <td>Nord-est</td>\n",
       "      <td>5.383010e+06</td>\n",
       "      <td>4.351854e+11</td>\n",
       "      <td>1</td>\n",
       "    </tr>\n",
       "    <tr>\n",
       "      <th>68869</th>\n",
       "      <td>52.873859</td>\n",
       "      <td>-69.962639</td>\n",
       "      <td>POINT (-69.96264 52.87386)</td>\n",
       "      <td>2</td>\n",
       "      <td>2</td>\n",
       "      <td>Nord-est</td>\n",
       "      <td>5.383010e+06</td>\n",
       "      <td>4.351854e+11</td>\n",
       "      <td>1</td>\n",
       "    </tr>\n",
       "    <tr>\n",
       "      <th>68870</th>\n",
       "      <td>52.873859</td>\n",
       "      <td>-69.879311</td>\n",
       "      <td>POINT (-69.87931 52.87386)</td>\n",
       "      <td>2</td>\n",
       "      <td>2</td>\n",
       "      <td>Nord-est</td>\n",
       "      <td>5.383010e+06</td>\n",
       "      <td>4.351854e+11</td>\n",
       "      <td>1</td>\n",
       "    </tr>\n",
       "    <tr>\n",
       "      <th>68871</th>\n",
       "      <td>52.873859</td>\n",
       "      <td>-69.795982</td>\n",
       "      <td>POINT (-69.79598 52.87386)</td>\n",
       "      <td>2</td>\n",
       "      <td>2</td>\n",
       "      <td>Nord-est</td>\n",
       "      <td>5.383010e+06</td>\n",
       "      <td>4.351854e+11</td>\n",
       "      <td>1</td>\n",
       "    </tr>\n",
       "    <tr>\n",
       "      <th>...</th>\n",
       "      <td>...</td>\n",
       "      <td>...</td>\n",
       "      <td>...</td>\n",
       "      <td>...</td>\n",
       "      <td>...</td>\n",
       "      <td>...</td>\n",
       "      <td>...</td>\n",
       "      <td>...</td>\n",
       "      <td>...</td>\n",
       "    </tr>\n",
       "    <tr>\n",
       "      <th>107950</th>\n",
       "      <td>45.040840</td>\n",
       "      <td>-71.879227</td>\n",
       "      <td>POINT (-71.87923 45.04084)</td>\n",
       "      <td>3</td>\n",
       "      <td>5</td>\n",
       "      <td>Secteur métropolitain et sud</td>\n",
       "      <td>1.123268e+06</td>\n",
       "      <td>2.330905e+10</td>\n",
       "      <td>4</td>\n",
       "    </tr>\n",
       "    <tr>\n",
       "      <th>107951</th>\n",
       "      <td>45.040840</td>\n",
       "      <td>-71.795898</td>\n",
       "      <td>POINT (-71.79590 45.04084)</td>\n",
       "      <td>3</td>\n",
       "      <td>5</td>\n",
       "      <td>Secteur métropolitain et sud</td>\n",
       "      <td>1.123268e+06</td>\n",
       "      <td>2.330905e+10</td>\n",
       "      <td>4</td>\n",
       "    </tr>\n",
       "    <tr>\n",
       "      <th>107952</th>\n",
       "      <td>45.040840</td>\n",
       "      <td>-71.712570</td>\n",
       "      <td>POINT (-71.71257 45.04084)</td>\n",
       "      <td>3</td>\n",
       "      <td>5</td>\n",
       "      <td>Secteur métropolitain et sud</td>\n",
       "      <td>1.123268e+06</td>\n",
       "      <td>2.330905e+10</td>\n",
       "      <td>4</td>\n",
       "    </tr>\n",
       "    <tr>\n",
       "      <th>107953</th>\n",
       "      <td>45.040840</td>\n",
       "      <td>-71.629242</td>\n",
       "      <td>POINT (-71.62924 45.04084)</td>\n",
       "      <td>3</td>\n",
       "      <td>5</td>\n",
       "      <td>Secteur métropolitain et sud</td>\n",
       "      <td>1.123268e+06</td>\n",
       "      <td>2.330905e+10</td>\n",
       "      <td>4</td>\n",
       "    </tr>\n",
       "    <tr>\n",
       "      <th>107954</th>\n",
       "      <td>45.040840</td>\n",
       "      <td>-71.545914</td>\n",
       "      <td>POINT (-71.54591 45.04084)</td>\n",
       "      <td>3</td>\n",
       "      <td>5</td>\n",
       "      <td>Secteur métropolitain et sud</td>\n",
       "      <td>1.123268e+06</td>\n",
       "      <td>2.330905e+10</td>\n",
       "      <td>4</td>\n",
       "    </tr>\n",
       "  </tbody>\n",
       "</table>\n",
       "<p>17804 rows × 9 columns</p>\n",
       "</div>"
      ],
      "text/plain": [
       "              lat        lon                    geometry  index_right  \\\n",
       "68495   52.957191 -66.462784  POINT (-66.46278 52.95719)            2   \n",
       "68496   52.957191 -66.379448  POINT (-66.37945 52.95719)            2   \n",
       "68869   52.873859 -69.962639  POINT (-69.96264 52.87386)            2   \n",
       "68870   52.873859 -69.879311  POINT (-69.87931 52.87386)            2   \n",
       "68871   52.873859 -69.795982  POINT (-69.79598 52.87386)            2   \n",
       "...           ...        ...                         ...          ...   \n",
       "107950  45.040840 -71.879227  POINT (-71.87923 45.04084)            3   \n",
       "107951  45.040840 -71.795898  POINT (-71.79590 45.04084)            3   \n",
       "107952  45.040840 -71.712570  POINT (-71.71257 45.04084)            3   \n",
       "107953  45.040840 -71.629242  POINT (-71.62924 45.04084)            3   \n",
       "107954  45.040840 -71.545914  POINT (-71.54591 45.04084)            3   \n",
       "\n",
       "        OBJECTID                     D_GENERAL    Shape_Leng    Shape_Area  \\\n",
       "68495          2                      Nord-est  5.383010e+06  4.351854e+11   \n",
       "68496          2                      Nord-est  5.383010e+06  4.351854e+11   \n",
       "68869          2                      Nord-est  5.383010e+06  4.351854e+11   \n",
       "68870          2                      Nord-est  5.383010e+06  4.351854e+11   \n",
       "68871          2                      Nord-est  5.383010e+06  4.351854e+11   \n",
       "...          ...                           ...           ...           ...   \n",
       "107950         5  Secteur métropolitain et sud  1.123268e+06  2.330905e+10   \n",
       "107951         5  Secteur métropolitain et sud  1.123268e+06  2.330905e+10   \n",
       "107952         5  Secteur métropolitain et sud  1.123268e+06  2.330905e+10   \n",
       "107953         5  Secteur métropolitain et sud  1.123268e+06  2.330905e+10   \n",
       "107954         5  Secteur métropolitain et sud  1.123268e+06  2.330905e+10   \n",
       "\n",
       "        ORIG_FID  \n",
       "68495          1  \n",
       "68496          1  \n",
       "68869          1  \n",
       "68870          1  \n",
       "68871          1  \n",
       "...          ...  \n",
       "107950         4  \n",
       "107951         4  \n",
       "107952         4  \n",
       "107953         4  \n",
       "107954         4  \n",
       "\n",
       "[17804 rows x 9 columns]"
      ]
     },
     "execution_count": 17,
     "metadata": {},
     "output_type": "execute_result"
    }
   ],
   "source": [
    "latlon_df"
   ]
  },
  {
   "cell_type": "markdown",
   "metadata": {},
   "source": [
    "# Create polygons"
   ]
  },
  {
   "cell_type": "code",
   "execution_count": null,
   "metadata": {},
   "outputs": [],
   "source": [
    "#takes 8s\n",
    "%time dfpoints.geometry  = pcdf.process_points_poly(dfpoints)"
   ]
  },
  {
   "cell_type": "code",
   "execution_count": null,
   "metadata": {},
   "outputs": [],
   "source": [
    "dfpoints.head()"
   ]
  },
  {
   "cell_type": "code",
   "execution_count": null,
   "metadata": {},
   "outputs": [],
   "source": [
    "### TAKES 10 min for all the regions TG\n",
    "%time  dfpolyshape = pcdf.make_grid(dfpoints, shapefile) #10 min with overlay #1miin with sjoin"
   ]
  },
  {
   "cell_type": "code",
   "execution_count": null,
   "metadata": {},
   "outputs": [],
   "source": [
    "dfpolyshape.head()"
   ]
  },
  {
   "cell_type": "code",
   "execution_count": null,
   "metadata": {},
   "outputs": [],
   "source": [
    "to_geofeather(dfpolyshape, 'Grid'+shnames[1]+'.feather')"
   ]
  },
  {
   "cell_type": "code",
   "execution_count": null,
   "metadata": {},
   "outputs": [],
   "source": [
    "shnames[1]"
   ]
  },
  {
   "cell_type": "code",
   "execution_count": null,
   "metadata": {},
   "outputs": [],
   "source": [
    "i = 3\n",
    "for shape in shapefiles:\n",
    "    print (shapefiles[i])\n",
    "    print(i)\n",
    "    dfpolyshape = pcdf.make_grid(dfpoints, shapefiles[i])\n",
    "    print(shape)\n",
    "    to_geofeather(dfpolyshape, 'Grid'+shnames[i]+'.feather')\n",
    "    print(\"geofather done\")\n",
    "    i = i+1"
   ]
  },
  {
   "cell_type": "code",
   "execution_count": null,
   "metadata": {},
   "outputs": [],
   "source": []
  }
 ],
 "metadata": {
  "kernelspec": {
   "display_name": "Python 3",
   "language": "python",
   "name": "python3"
  },
  "language_info": {
   "codemirror_mode": {
    "name": "ipython",
    "version": 3
   },
   "file_extension": ".py",
   "mimetype": "text/x-python",
   "name": "python",
   "nbconvert_exporter": "python",
   "pygments_lexer": "ipython3",
   "version": "3.8.1"
  }
 },
 "nbformat": 4,
 "nbformat_minor": 4
}
