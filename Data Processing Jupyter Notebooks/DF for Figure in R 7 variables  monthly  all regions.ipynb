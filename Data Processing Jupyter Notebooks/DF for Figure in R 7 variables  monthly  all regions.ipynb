{
 "cells": [
  {
   "cell_type": "code",
   "execution_count": null,
   "metadata": {},
   "outputs": [],
   "source": [
    "%load_ext autoreload\n",
    "%autoreload 2\n",
    "import xarray as xr\n",
    "import matplotlib.pyplot as plt\n",
    "import pandas as pd\n",
    "import processing_netcdf as pcdf\n",
    "import geopandas as gpd\n",
    "from geopandas import GeoDataFrame\n",
    "import shapely.geometry \n",
    "import numpy as np\n",
    "from shapely import geometry as gmty\n",
    "from geofeather import to_geofeather, from_geofeather\n",
    "import glob\n",
    "import os\n",
    "import pyarrow\n",
    "from xclim import ensembles as ens\n",
    "from xclim import subset"
   ]
  },
  {
   "cell_type": "code",
   "execution_count": null,
   "metadata": {},
   "outputs": [],
   "source": [
    "import matplotlib.pyplot as plt"
   ]
  },
  {
   "cell_type": "code",
   "execution_count": null,
   "metadata": {},
   "outputs": [],
   "source": [
    "folder = \"/scen3/scenario/netcdf/ouranos/portraits-clim-2.0/\""
   ]
  },
  {
   "cell_type": "markdown",
   "metadata": {},
   "source": [
    "# Select variable"
   ]
  },
  {
   "cell_type": "code",
   "execution_count": null,
   "metadata": {},
   "outputs": [],
   "source": [
    "#Variable \n",
    "#var=\"tg_mean\"\n",
    "#var =\"tn_mean\"\n",
    "#var =\"tx_mean\"\n",
    "var =\"solidprcptot\"\n",
    "#var =\"prcptot\"\n",
    "#var =\"dlyfrzthw\"\n",
    "#var =\"DJC\"\n",
    "\n",
    "\n",
    "files85 = glob.glob(folder+\"*\"+\"rcp85_\"+var+\"_monthly.nc\")\n",
    "files45 = glob.glob(folder+\"*\"+\"rcp45_\"+var+\"_monthly.nc\")\n",
    "filesobs = glob.glob(folder+\"NRCAN_obs_\"+var+\"_monthly.nc\")\n",
    "\n",
    "#ex: ACCESS1-3_rcp45_tn_mean_annual.nc\n",
    "files85\n",
    "files45\n"
   ]
  },
  {
   "cell_type": "code",
   "execution_count": null,
   "metadata": {},
   "outputs": [],
   "source": [
    "filesobs"
   ]
  },
  {
   "cell_type": "markdown",
   "metadata": {},
   "source": [
    "# FOR RCP45 "
   ]
  },
  {
   "cell_type": "code",
   "execution_count": null,
   "metadata": {},
   "outputs": [],
   "source": [
    "dsEns45= ens.create_ensemble(files45)\n",
    "dsEns45.time.dt.month[0:12]\n",
    "# Monthly 30 y means\n",
    "listds45 = []\n",
    "i=0\n",
    "for s in dsEns45.time.dt.month[0:12]:\n",
    "    print (i)\n",
    "    tmp1 = dsEns45.sel(time=(dsEns45.time.dt.month==s))\n",
    "    print(tmp1)\n",
    "    i = i+1\n",
    "    listds45.append(tmp1)"
   ]
  },
  {
   "cell_type": "code",
   "execution_count": null,
   "metadata": {},
   "outputs": [],
   "source": [
    "i = 0\n",
    "df45list = []\n",
    "for ds in listds45:\n",
    "    print (\"Dataset number: \", i)\n",
    "    perc45 = ens.ensemble_percentiles(ds)\n",
    "    print (\"Percentiles Obteined\")\n",
    "    df45 = perc45.to_dataframe()\n",
    "    df452 = df45.reset_index()\n",
    "    df45=0\n",
    "    df453 = df452.loc[df452[\"realization\"] == 0].dropna()\n",
    "    df452 = 0\n",
    "    print (\"Converted to DF\")\n",
    "    dfp452 =  df453.reset_index()\n",
    "    df453 =0\n",
    "    df45C = dfp452.copy()\n",
    "    dfp452=0\n",
    "    df45C[var+\"_p10\"] = round(df45C[var+\"_p10\"],2)\n",
    "    df45C[var+\"_p50\"] = round(df45C[var+\"_p50\"],2)\n",
    "    df45C[var+\"_p90\"] = round(df45C[var+\"_p90\"],2)\n",
    "    print (\"Transformed in Celsiuds and rounded\")\n",
    "    Region1i45 = df45C.drop(columns=[\"realization\"])\n",
    "    df45C=0\n",
    "    if i== 0: month = \"january\" \n",
    "    elif i == 1: month = \"february\"\n",
    "    elif i == 2: month = \"march\"\n",
    "    elif i == 3: month = \"april\"\n",
    "    elif i == 4: month = \"may\"\n",
    "    elif i == 5: month = \"june\"\n",
    "    elif i == 6: month = \"july\"\n",
    "    elif i == 7: month = \"august\"\n",
    "    elif i == 8: month = \"september\"\n",
    "    elif i == 9: month = \"october\"\n",
    "    elif i == 10: month = \"november\"\n",
    "    elif i == 11: month = \"december\"  \n",
    "    Region1i45[\"month\"] = month\n",
    "    df45list.append(Region1i45)\n",
    "    print (\"DF added to the list\")\n",
    "    i = i + 1\n",
    "    "
   ]
  },
  {
   "cell_type": "code",
   "execution_count": null,
   "metadata": {},
   "outputs": [],
   "source": [
    "df45 = pd.concat(df45list)"
   ]
  },
  {
   "cell_type": "code",
   "execution_count": null,
   "metadata": {},
   "outputs": [],
   "source": [
    "df45.to_feather(\"/home/mlopez/EXEC/Processed data to clip with regions/df45\"+var+\"_forTS_monthly.feather\")"
   ]
  },
  {
   "cell_type": "code",
   "execution_count": null,
   "metadata": {},
   "outputs": [],
   "source": [
    "df45 = pd.read_feather(\"/home/mlopez/EXEC/Processed data to clip with regions/df45\"+var+\"_forTS_monthly.feather\")"
   ]
  },
  {
   "cell_type": "markdown",
   "metadata": {},
   "source": [
    "# FOR RCP85 "
   ]
  },
  {
   "cell_type": "code",
   "execution_count": null,
   "metadata": {},
   "outputs": [],
   "source": [
    "dsEns85= ens.create_ensemble(files85)\n",
    "dsEns85.time.dt.month[0:12]\n",
    "# Monthly 30 y means\n",
    "listds85 = []\n",
    "i=0\n",
    "for s in dsEns85.time.dt.month[0:12]:\n",
    "    print (i)\n",
    "    tmp1 = dsEns85.sel(time=(dsEns85.time.dt.month==s))\n",
    "    print(tmp1)\n",
    "    i = i+1\n",
    "    listds85.append(tmp1)"
   ]
  },
  {
   "cell_type": "code",
   "execution_count": null,
   "metadata": {},
   "outputs": [],
   "source": [
    "i = 0\n",
    "df85list = []\n",
    "for ds in listds85:\n",
    "    print (\"Dataset number: \", i)\n",
    "    perc85 = ens.ensemble_percentiles(ds)\n",
    "    print (\"Percentiles Obteined\")\n",
    "    df85 = perc85.to_dataframe()\n",
    "    df852 = df85.reset_index()\n",
    "    df85=0\n",
    "    df853 = df852.loc[df852[\"realization\"] == 0].dropna()\n",
    "    df852=0\n",
    "    print (\"Converted to DF\")\n",
    "    dfp852 =  df853.reset_index()\n",
    "    df853=0\n",
    "    df85C = dfp852.copy()\n",
    "    df85C[var+\"_p10\"] = round(df85C[var+\"_p10\"],2)\n",
    "    df85C[var+\"_p50\"] = round(df85C[var+\"_p50\"],2)\n",
    "    df85C[var+\"_p90\"] = round(df85C[var+\"_p90\"],2)\n",
    "    print (\"Transformed in Celsiuds and rounded\")\n",
    "    Region1i85 = df85C.drop(columns=[\"realization\"])\n",
    "    df85C=0\n",
    "    if i== 0: month = \"january\" \n",
    "    elif i == 1: month = \"february\"\n",
    "    elif i == 2: month = \"march\"\n",
    "    elif i == 3: month = \"april\"\n",
    "    elif i == 4: month = \"may\"\n",
    "    elif i == 5: month = \"june\"\n",
    "    elif i == 6: month = \"july\"\n",
    "    elif i == 7: month = \"august\"\n",
    "    elif i == 8: month = \"september\"\n",
    "    elif i == 9: month = \"october\"\n",
    "    elif i == 10: month = \"november\"\n",
    "    elif i == 11: month = \"december\"\n",
    "    Region1i85[\"month\"] = month\n",
    "    df85list.append(Region1i85)\n",
    "    print (\"DF added to the list\")\n",
    "    i = i + 1\n",
    "    "
   ]
  },
  {
   "cell_type": "code",
   "execution_count": null,
   "metadata": {},
   "outputs": [],
   "source": [
    "df85list =0"
   ]
  },
  {
   "cell_type": "code",
   "execution_count": null,
   "metadata": {},
   "outputs": [],
   "source": [
    "df85 = pd.concat(df85list)"
   ]
  },
  {
   "cell_type": "code",
   "execution_count": null,
   "metadata": {},
   "outputs": [],
   "source": [
    "df85.to_feather(\"/home/mlopez/EXEC/Processed data to clip with regions/df85\"+var+\"_forTS_monthly.feather\")"
   ]
  },
  {
   "cell_type": "code",
   "execution_count": null,
   "metadata": {},
   "outputs": [],
   "source": [
    "df85 = pd.read_feather(\"/home/mlopez/EXEC/Processed data to clip with regions/df85\"+var+\"_forTS_monthly.feather\")"
   ]
  },
  {
   "cell_type": "markdown",
   "metadata": {},
   "source": [
    "# OBSERVED DATA"
   ]
  },
  {
   "cell_type": "code",
   "execution_count": null,
   "metadata": {},
   "outputs": [],
   "source": [
    "dsOBs= xr.open_mfdataset(filesobs)"
   ]
  },
  {
   "cell_type": "code",
   "execution_count": null,
   "metadata": {},
   "outputs": [],
   "source": [
    "dsOBs"
   ]
  },
  {
   "cell_type": "markdown",
   "metadata": {},
   "source": [
    "## Convert in Dataframe"
   ]
  },
  {
   "cell_type": "code",
   "execution_count": null,
   "metadata": {},
   "outputs": [],
   "source": [
    "dfperObs = dsOBs.to_dataframe().dropna()\n",
    "dfmeanObs = dfperObs.reset_index()\n",
    "dfperObs = 0"
   ]
  },
  {
   "cell_type": "code",
   "execution_count": null,
   "metadata": {},
   "outputs": [],
   "source": [
    "dfObs = dfmeanObs.rename(columns={var: var+'_Obs'})\n",
    "dfmeanObs=0"
   ]
  },
  {
   "cell_type": "code",
   "execution_count": null,
   "metadata": {},
   "outputs": [],
   "source": [
    "month_dict = {1:\"january\", 2:\"february\", 3:\"march\", 4:\"april\", 5:\"may\", 6:\"june\", 7:\"july\", \n",
    "              8:\"august\", 9:\"september\", 10:\"october\", 11:\"november\", 12:\"december\" }\n",
    "\n",
    "dfObs[\"month\"]= dfObs.time.dt.month.map(lambda m: month_dict[m])\n",
    "dfObs"
   ]
  },
  {
   "cell_type": "code",
   "execution_count": null,
   "metadata": {},
   "outputs": [],
   "source": [
    "dfObs.to_feather(\"/home/mlopez/EXEC/Processed data to clip with regions/rcpObs\"+var+\"_forTS.feather\")"
   ]
  },
  {
   "cell_type": "code",
   "execution_count": null,
   "metadata": {},
   "outputs": [],
   "source": [
    "dfObs = pd.read_feather(\"/home/mlopez/EXEC/Processed data to clip with regions/rcpObs\"+var+\"_forTS.feather\")"
   ]
  },
  {
   "cell_type": "markdown",
   "metadata": {},
   "source": [
    "## Merge 2 rcp dataframes"
   ]
  },
  {
   "cell_type": "code",
   "execution_count": null,
   "metadata": {},
   "outputs": [],
   "source": [
    "df2m =  pd.merge(df45, df85, on=[\"lat\",\"lon\", \"time\", \"month\"], suffixes=('_45', '_85'))\n",
    "df45 = 0\n",
    "df85 = 0"
   ]
  },
  {
   "cell_type": "code",
   "execution_count": null,
   "metadata": {},
   "outputs": [],
   "source": [
    "df2m"
   ]
  },
  {
   "cell_type": "code",
   "execution_count": null,
   "metadata": {},
   "outputs": [],
   "source": [
    "df2m.to_feather(\"/home/mlopez/EXEC/Processed data to clip with regions/df2m\"+var+\"_forTS_monthly.feather\")"
   ]
  },
  {
   "cell_type": "code",
   "execution_count": null,
   "metadata": {},
   "outputs": [],
   "source": [
    "df2m = pd.read_feather(\"/home/mlopez/EXEC/Processed data to clip with regions/df2m\"+var+\"_forTS_monthly.feather\")"
   ]
  },
  {
   "cell_type": "markdown",
   "metadata": {},
   "source": [
    "# Cut by region for rcp45, 85 and Obs"
   ]
  },
  {
   "cell_type": "markdown",
   "metadata": {},
   "source": [
    "## Get the lat lon regions"
   ]
  },
  {
   "cell_type": "code",
   "execution_count": null,
   "metadata": {},
   "outputs": [],
   "source": [
    "regions_folder = \"/home/mlopez/EXEC/Grids-polygons-regions/\""
   ]
  },
  {
   "cell_type": "code",
   "execution_count": null,
   "metadata": {},
   "outputs": [],
   "source": [
    "files_regions = glob.glob(regions_folder+\"*\"+\"lat_lon.feather\")\n",
    "files_regions"
   ]
  },
  {
   "cell_type": "code",
   "execution_count": null,
   "metadata": {},
   "outputs": [],
   "source": [
    "listdfreg=[]\n",
    "for region in files_regions:\n",
    "    df = pd.read_feather(region)\n",
    "    listdfreg.append(df)\n",
    "   "
   ]
  },
  {
   "cell_type": "markdown",
   "metadata": {},
   "source": [
    "## Create DF by region"
   ]
  },
  {
   "cell_type": "code",
   "execution_count": null,
   "metadata": {},
   "outputs": [],
   "source": [
    "short_dict = {\"DDE_STF_20K_REG_FOR_VUE_S\": (\"NM_REG_FOR\", \"RF\"), \n",
    "            \"DDE_STF_20K_UA_PER_VUE_S\": (\"PER_NO_UA\", \"UA\"), \n",
    "              \"DOM_BIO\": (\"NOM\", \"DB\"), \n",
    "              \"REG_ECO\": (\"NOM\", \"RE\"), \n",
    "              \"SDOM_BIO\": (\"NOM\", \"SDB\"), \n",
    "              \"Secteurs_Operations_Regionales\": (\"D_GENERAL\", \"SOR\"), \n",
    "              \"SREG_ECO\": (\"NOM\", \"SRE\"),  \n",
    "              \"territoire_guide\": (\"TER_GUIDE\", \"TG\") \n",
    "              }\n",
    "\n",
    "for region, (name, short) in short_dict.items():\n",
    "    print(region, name, short)"
   ]
  },
  {
   "cell_type": "code",
   "execution_count": null,
   "metadata": {},
   "outputs": [],
   "source": [
    "def replace_all(text, dic):\n",
    "    for i, j in dic.items():\n",
    "        text = text.replace(i, j)\n",
    "    return text"
   ]
  },
  {
   "cell_type": "code",
   "execution_count": null,
   "metadata": {},
   "outputs": [],
   "source": [
    "d = { 'BAS-SAINT-LAURENT':\"Bas-Saint-Laurent\", \n",
    "     'SAGUENAY -LAC-SAINT-JEAN': \"Saguenay -Lac-Saint-Jean\",\n",
    "     'CAPITALE-NATIONALE-CHAUDIÈRE-APPALACHES':\"Capitale-Nationale-Chaudiere-Appalaches\",\n",
    "     'MAURICIE-CENTRE-DU-QUÉBEC':'Mauricie-Centre-du-Quebec','OUTAOUAIS':'Outaouais', \n",
    "     'ABITIBI-TEMISCAMINGUE':'Abitibi-Temiscamingue', 'COTE-NORD':'Cote-Nord',\n",
    "     'NORD-DU-QUEBEC':'Nord-Du-Quebec', 'GASPESIE-ILES-DE-LA-MADELEINE':'Gaspesie-Iles-De-La-Madeleine', \n",
    "     'LANAUDIERE':'Lanaudiere','LAURENTIDES':\"Laurentides\", \n",
    "     \"ESTRIE-MONTÉRÉGIE-LAVAL-MONTRÉAL\":\"Estrie-Monteregie-Laval-Montreal\", \n",
    "     \"é\": \"e\", \"É\": \"E\", \"à\": \"a\", \"è\": \"e\", \"Î\": \"i\", \"È\": \"E\", \"ô\" : \"o\", \"Ç\":\"C\", \"ç\":\"c\",\n",
    "       } "
   ]
  },
  {
   "cell_type": "markdown",
   "metadata": {},
   "source": [
    "## Cutting rcp45 and 85 by region and getting df with 4th degree polynomial"
   ]
  },
  {
   "cell_type": "code",
   "execution_count": null,
   "metadata": {},
   "outputs": [],
   "source": [
    "def polysmooth(years, y, degree):\n",
    "    coef = np.polyfit(years, y, degree)\n",
    "    return np.polyval(coef,years)"
   ]
  },
  {
   "cell_type": "code",
   "execution_count": null,
   "metadata": {},
   "outputs": [],
   "source": [
    "dfmean45UA2"
   ]
  },
  {
   "cell_type": "code",
   "execution_count": null,
   "metadata": {},
   "outputs": [],
   "source": [
    "monthlist = [\"january\", \"february\", \"march\", \"april\", \"may\", \"june\", \"july\", \"august\", \"september\", \n",
    "             \"october\", \"november\", \"december\"]"
   ]
  },
  {
   "cell_type": "code",
   "execution_count": null,
   "metadata": {
    "scrolled": false
   },
   "outputs": [],
   "source": [
    "for region, (name, short) in short_dict.items():\n",
    "    print(\"------------------------------------------------------------------\")\n",
    "    print (\"1/8... Cutting by region\")\n",
    "    print(region, name)\n",
    "    dfregion = pd.read_feather(\"/home/mlopez/EXEC/Grids-polygons-regions/\"+region+\"lat_lon.feather\")\n",
    "    print (\"2/8... Merging region with data\")\n",
    "    dfdatareg45 = pd.merge(dfregion, df2m, on=[\"lat\",\"lon\"])\n",
    "    dfdataregObs = pd.merge(dfregion, dfObs, on=[\"lat\",\"lon\"])\n",
    "    for mon in monthlist:\n",
    "        print (mon)\n",
    "        print (\"3/8... Get mean by year for every sub-region for every month\")\n",
    "        dfmeanUA45 = dfdatareg45.loc[dfdatareg45['month'] == mon]\n",
    "        dfmean45UA = dfmeanUA45.groupby([\"time\", name, 'month']).mean()\n",
    "        dfmean45UA2 = dfmean45UA.reset_index()\n",
    "        dfmeanObs = dfdataregObs.loc[dfdataregObs['month'] == mon]\n",
    "        dfmeanObs2 = dfmeanObs.groupby([\"time\", name, 'month']).mean() \n",
    "        dfmeanObs3 = dfmeanObs2.reset_index()\n",
    "        print(\"Merging 3 cases\")\n",
    "        df3m = pd.merge(dfmean45UA2, dfmeanObs3, how='left', on= [\"time\", name, \"month\"] )\n",
    "        print (\"4/8... Split by subregion\")\n",
    "        df3ma = df3m[['time', name, var+'_p10_45', var+'_p50_45', var+'_p90_45',\n",
    "                                   var+'_p10_85', var+'_p50_85', var+'_p90_85', var+'_Obs', \"month\"]]\n",
    "        if (var == \"tg_mean\" or var== \"tn_mean\" or var==\"tx_mean\"):\n",
    "            df3ma[var+\"_Obs\"] = df3ma[var+\"_Obs\"]- 273.15\n",
    "        if (var == \"solidprcptot\"):\n",
    "            df3ma[var+\"_Obs\"] = df3ma[var+\"_Obs\"]/10\n",
    "        df3ma[var+\"_Obs\"] = round(df3ma[var+\"_Obs\"], 2)\n",
    "        for name2,dfsr in df3ma.groupby(name):\n",
    "            print (\"                   \"+name2, name)\n",
    "            dfsrc = dfsr.copy()\n",
    "            print (\"6/8... 4th Polynomial - rcp45,85\")\n",
    "            years = dfsrc.time.dt.year\n",
    "            dfsrc[\"time\"] = years#.values\n",
    "            for p in ('_p10_45', '_p50_45', '_p90_45', '_p10_85', '_p50_85', '_p90_85'):\n",
    "                if (var == \"tg_mean\" or var== \"tn_mean\" or var==\"tx_mean\"):\n",
    "                    dfsrc[var+p] = polysmooth(years,dfsrc[var+p],4) - 273.15\n",
    "                if (var == \"solidprcptot\"):\n",
    "                    dfsrc[var+p] = polysmooth(years,dfsrc[var+p],4)/10\n",
    "                if (var == \"prcptot\", \"dlyfrzthw\", \"DJC\"):\n",
    "                    dfsrc[var+p] = polysmooth(years,dfsrc[var+p],4)\n",
    "                dfsrc[var+p] = round(dfsrc[var+p], 2) \n",
    "            print(\" -----------------------8/8 Creating CSV file for sub-region \" +name2)\n",
    "            dfsrc.to_csv(replace_all(name2,d)+\"_\"+var+\"_\"+mon+\".csv\")\n"
   ]
  },
  {
   "cell_type": "code",
   "execution_count": null,
   "metadata": {},
   "outputs": [],
   "source": [
    "df3m"
   ]
  },
  {
   "cell_type": "code",
   "execution_count": null,
   "metadata": {},
   "outputs": [],
   "source": []
  },
  {
   "cell_type": "code",
   "execution_count": null,
   "metadata": {},
   "outputs": [],
   "source": []
  },
  {
   "cell_type": "code",
   "execution_count": null,
   "metadata": {},
   "outputs": [],
   "source": []
  }
 ],
 "metadata": {
  "kernelspec": {
   "display_name": "Python 3",
   "language": "python",
   "name": "python3"
  },
  "language_info": {
   "codemirror_mode": {
    "name": "ipython",
    "version": 3
   },
   "file_extension": ".py",
   "mimetype": "text/x-python",
   "name": "python",
   "nbconvert_exporter": "python",
   "pygments_lexer": "ipython3",
   "version": "3.8.1"
  }
 },
 "nbformat": 4,
 "nbformat_minor": 4
}
