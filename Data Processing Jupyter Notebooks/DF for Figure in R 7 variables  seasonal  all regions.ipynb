{
 "cells": [
  {
   "cell_type": "code",
   "execution_count": 1,
   "metadata": {},
   "outputs": [],
   "source": [
    "%load_ext autoreload\n",
    "%autoreload 2\n",
    "import xarray as xr\n",
    "import matplotlib.pyplot as plt\n",
    "import pandas as pd\n",
    "import processing_netcdf as pcdf\n",
    "import geopandas as gpd\n",
    "from geopandas import GeoDataFrame\n",
    "import shapely.geometry \n",
    "import numpy as np\n",
    "from shapely import geometry as gmty\n",
    "from geofeather import to_geofeather, from_geofeather\n",
    "import glob\n",
    "import os\n",
    "import pyarrow\n",
    "from xclim import ensembles as ens\n",
    "from xclim import subset"
   ]
  },
  {
   "cell_type": "code",
   "execution_count": 2,
   "metadata": {},
   "outputs": [],
   "source": [
    "import matplotlib.pyplot as plt"
   ]
  },
  {
   "cell_type": "code",
   "execution_count": 3,
   "metadata": {},
   "outputs": [],
   "source": [
    "folder = \"/scen3/scenario/netcdf/ouranos/portraits-clim-2.0/\""
   ]
  },
  {
   "cell_type": "markdown",
   "metadata": {},
   "source": [
    "# Select variable"
   ]
  },
  {
   "cell_type": "code",
   "execution_count": 4,
   "metadata": {},
   "outputs": [
    {
     "data": {
      "text/plain": [
       "['/scen3/scenario/netcdf/ouranos/portraits-clim-2.0/ACCESS1-3_rcp45_prcptot_seasonal.nc',\n",
       " '/scen3/scenario/netcdf/ouranos/portraits-clim-2.0/BNU-ESM_rcp45_prcptot_seasonal.nc',\n",
       " '/scen3/scenario/netcdf/ouranos/portraits-clim-2.0/CanESM2_rcp45_prcptot_seasonal.nc',\n",
       " '/scen3/scenario/netcdf/ouranos/portraits-clim-2.0/CMCC-CMS_rcp45_prcptot_seasonal.nc',\n",
       " '/scen3/scenario/netcdf/ouranos/portraits-clim-2.0/GFDL-ESM2M_rcp45_prcptot_seasonal.nc',\n",
       " '/scen3/scenario/netcdf/ouranos/portraits-clim-2.0/HadGEM2-CC_rcp45_prcptot_seasonal.nc',\n",
       " '/scen3/scenario/netcdf/ouranos/portraits-clim-2.0/INM-CM4_rcp45_prcptot_seasonal.nc',\n",
       " '/scen3/scenario/netcdf/ouranos/portraits-clim-2.0/IPSL-CM5A-LR_rcp45_prcptot_seasonal.nc',\n",
       " '/scen3/scenario/netcdf/ouranos/portraits-clim-2.0/IPSL-CM5B-LR_rcp45_prcptot_seasonal.nc',\n",
       " '/scen3/scenario/netcdf/ouranos/portraits-clim-2.0/MPI-ESM-LR_rcp45_prcptot_seasonal.nc',\n",
       " '/scen3/scenario/netcdf/ouranos/portraits-clim-2.0/NorESM1-M_rcp45_prcptot_seasonal.nc']"
      ]
     },
     "execution_count": 4,
     "metadata": {},
     "output_type": "execute_result"
    }
   ],
   "source": [
    "#Variable \n",
    "#var=\"tg_mean\"\n",
    "#var =\"tn_mean\"\n",
    "#var =\"tx_mean\"\n",
    "#var =\"solidprcptot\"\n",
    "var =\"prcptot\"\n",
    "#var =\"dlyfrzthw\"\n",
    "#var =\"growing_season_length\"\n",
    "#var =\"DJC\"\n",
    "\n",
    "\n",
    "files85 = glob.glob(folder+\"*\"+\"rcp85_\"+var+\"_seasonal.nc\")\n",
    "files45 = glob.glob(folder+\"*\"+\"rcp45_\"+var+\"_seasonal.nc\")\n",
    "filesobs = glob.glob(folder+\"NRCAN_obs_\"+var+\"_seasonal.nc\")\n",
    "\n",
    "#ex: ACCESS1-3_rcp45_tn_mean_annual.nc\n",
    "files85\n",
    "files45\n"
   ]
  },
  {
   "cell_type": "code",
   "execution_count": 5,
   "metadata": {},
   "outputs": [
    {
     "data": {
      "text/plain": [
       "['/scen3/scenario/netcdf/ouranos/portraits-clim-2.0/NRCAN_obs_prcptot_seasonal.nc']"
      ]
     },
     "execution_count": 5,
     "metadata": {},
     "output_type": "execute_result"
    }
   ],
   "source": [
    "filesobs"
   ]
  },
  {
   "cell_type": "markdown",
   "metadata": {},
   "source": [
    "# FOR RCP45 "
   ]
  },
  {
   "cell_type": "code",
   "execution_count": 11,
   "metadata": {},
   "outputs": [
    {
     "name": "stdout",
     "output_type": "stream",
     "text": [
      "0\n",
      "<xarray.Dataset>\n",
      "Dimensions:      (lat: 320, lon: 416, realization: 11, time: 152)\n",
      "Coordinates:\n",
      "  * lat          (lat) float32 66.62331 66.53998 66.45665 ... 40.12437 40.04104\n",
      "  * time         (time) datetime64[ns] 1949-12-01 1950-12-01 ... 2100-12-01\n",
      "  * lon          (lon) float32 -89.04521 -88.96188 ... -54.54659 -54.46326\n",
      "  * realization  (realization) int64 0 1 2 3 4 5 6 7 8 9 10\n",
      "Data variables:\n",
      "    prcptot      (realization, time, lat, lon) float32 dask.array<chunksize=(1, 3, 320, 416), meta=np.ndarray>\n",
      "Attributes:\n",
      "    Conventions:     CF-1.5\n",
      "    title:           ACCESS1-3 model output prepared for CMIP5 historical\n",
      "    history:         CMIP5 compliant file produced from raw ACCESS model outp...\n",
      "    institution:     CSIRO (Commonwealth Scientific and Industrial Research O...\n",
      "    source:          ACCESS1-3 2011. Atmosphere: AGCM v1.0 (N96 grid-point, 1...\n",
      "    redistribution:  Redistribution prohibited. For internal use only.\n",
      "1\n",
      "<xarray.Dataset>\n",
      "Dimensions:      (lat: 320, lon: 416, realization: 11, time: 151)\n",
      "Coordinates:\n",
      "  * lat          (lat) float32 66.62331 66.53998 66.45665 ... 40.12437 40.04104\n",
      "  * time         (time) datetime64[ns] 1950-03-01 1951-03-01 ... 2100-03-01\n",
      "  * lon          (lon) float32 -89.04521 -88.96188 ... -54.54659 -54.46326\n",
      "  * realization  (realization) int64 0 1 2 3 4 5 6 7 8 9 10\n",
      "Data variables:\n",
      "    prcptot      (realization, time, lat, lon) float32 dask.array<chunksize=(1, 3, 320, 416), meta=np.ndarray>\n",
      "Attributes:\n",
      "    Conventions:     CF-1.5\n",
      "    title:           ACCESS1-3 model output prepared for CMIP5 historical\n",
      "    history:         CMIP5 compliant file produced from raw ACCESS model outp...\n",
      "    institution:     CSIRO (Commonwealth Scientific and Industrial Research O...\n",
      "    source:          ACCESS1-3 2011. Atmosphere: AGCM v1.0 (N96 grid-point, 1...\n",
      "    redistribution:  Redistribution prohibited. For internal use only.\n",
      "2\n",
      "<xarray.Dataset>\n",
      "Dimensions:      (lat: 320, lon: 416, realization: 11, time: 151)\n",
      "Coordinates:\n",
      "  * lat          (lat) float32 66.62331 66.53998 66.45665 ... 40.12437 40.04104\n",
      "  * time         (time) datetime64[ns] 1950-06-01 1951-06-01 ... 2100-06-01\n",
      "  * lon          (lon) float32 -89.04521 -88.96188 ... -54.54659 -54.46326\n",
      "  * realization  (realization) int64 0 1 2 3 4 5 6 7 8 9 10\n",
      "Data variables:\n",
      "    prcptot      (realization, time, lat, lon) float32 dask.array<chunksize=(1, 2, 320, 416), meta=np.ndarray>\n",
      "Attributes:\n",
      "    Conventions:     CF-1.5\n",
      "    title:           ACCESS1-3 model output prepared for CMIP5 historical\n",
      "    history:         CMIP5 compliant file produced from raw ACCESS model outp...\n",
      "    institution:     CSIRO (Commonwealth Scientific and Industrial Research O...\n",
      "    source:          ACCESS1-3 2011. Atmosphere: AGCM v1.0 (N96 grid-point, 1...\n",
      "    redistribution:  Redistribution prohibited. For internal use only.\n",
      "3\n",
      "<xarray.Dataset>\n",
      "Dimensions:      (lat: 320, lon: 416, realization: 11, time: 151)\n",
      "Coordinates:\n",
      "  * lat          (lat) float32 66.62331 66.53998 66.45665 ... 40.12437 40.04104\n",
      "  * time         (time) datetime64[ns] 1950-09-01 1951-09-01 ... 2100-09-01\n",
      "  * lon          (lon) float32 -89.04521 -88.96188 ... -54.54659 -54.46326\n",
      "  * realization  (realization) int64 0 1 2 3 4 5 6 7 8 9 10\n",
      "Data variables:\n",
      "    prcptot      (realization, time, lat, lon) float32 dask.array<chunksize=(1, 2, 320, 416), meta=np.ndarray>\n",
      "Attributes:\n",
      "    Conventions:     CF-1.5\n",
      "    title:           ACCESS1-3 model output prepared for CMIP5 historical\n",
      "    history:         CMIP5 compliant file produced from raw ACCESS model outp...\n",
      "    institution:     CSIRO (Commonwealth Scientific and Industrial Research O...\n",
      "    source:          ACCESS1-3 2011. Atmosphere: AGCM v1.0 (N96 grid-point, 1...\n",
      "    redistribution:  Redistribution prohibited. For internal use only.\n"
     ]
    }
   ],
   "source": [
    "dsEns45= ens.create_ensemble(files45)\n",
    "dsEns45.time.dt.season[0:4]\n",
    "# Seasonal example 30 y means\n",
    "listds45 = []\n",
    "i=0\n",
    "for s in dsEns45.time.dt.season[0:4]:\n",
    "    print (i)\n",
    "    tmp1 = dsEns45.sel(time=(dsEns45.time.dt.season==s))\n",
    "    print(tmp1)\n",
    "    i = i+1\n",
    "    listds45.append(tmp1)"
   ]
  },
  {
   "cell_type": "code",
   "execution_count": 13,
   "metadata": {},
   "outputs": [
    {
     "name": "stdout",
     "output_type": "stream",
     "text": [
      "Dataset number:  0\n",
      "Percentiles Obteined\n",
      "Converted to DF\n",
      "Transformed in Celsiuds and rounded\n",
      "DF added to the list\n",
      "Dataset number:  1\n",
      "Percentiles Obteined\n",
      "Converted to DF\n",
      "Transformed in Celsiuds and rounded\n",
      "DF added to the list\n",
      "Dataset number:  2\n",
      "Percentiles Obteined\n",
      "Converted to DF\n",
      "Transformed in Celsiuds and rounded\n",
      "DF added to the list\n",
      "Dataset number:  3\n",
      "Percentiles Obteined\n",
      "Converted to DF\n",
      "Transformed in Celsiuds and rounded\n",
      "DF added to the list\n"
     ]
    }
   ],
   "source": [
    "i = 0\n",
    "df45list = []\n",
    "for ds in listds45:\n",
    "    print (\"Dataset number: \", i)\n",
    "    perc45 = ens.ensemble_percentiles(ds)\n",
    "    print (\"Percentiles Obteined\")\n",
    "    df45 = perc45.to_dataframe()\n",
    "    df452 = df45.reset_index()\n",
    "    df453 = df452.loc[df452[\"realization\"] == 0].dropna()\n",
    "    print (\"Converted to DF\")\n",
    "    dfp452 =  df453.reset_index()\n",
    "    df45C = dfp452.copy()\n",
    "    df45C[var+\"_p10\"] = round(df45C[var+\"_p10\"],2)\n",
    "    df45C[var+\"_p50\"] = round(df45C[var+\"_p50\"],2)\n",
    "    df45C[var+\"_p90\"] = round(df45C[var+\"_p90\"],2)\n",
    "    print (\"Transformed in Celsiuds and rounded\")\n",
    "    Region1i45 = df45C.drop(columns=[\"realization\"])\n",
    "    df45list.append(Region1i45)\n",
    "    print (\"DF added to the list\")\n",
    "    i = i + 1\n",
    "    "
   ]
  },
  {
   "cell_type": "code",
   "execution_count": 14,
   "metadata": {},
   "outputs": [
    {
     "data": {
      "text/html": [
       "<div>\n",
       "<style scoped>\n",
       "    .dataframe tbody tr th:only-of-type {\n",
       "        vertical-align: middle;\n",
       "    }\n",
       "\n",
       "    .dataframe tbody tr th {\n",
       "        vertical-align: top;\n",
       "    }\n",
       "\n",
       "    .dataframe thead th {\n",
       "        text-align: right;\n",
       "    }\n",
       "</style>\n",
       "<table border=\"1\" class=\"dataframe\">\n",
       "  <thead>\n",
       "    <tr style=\"text-align: right;\">\n",
       "      <th></th>\n",
       "      <th>index</th>\n",
       "      <th>lat</th>\n",
       "      <th>lon</th>\n",
       "      <th>time</th>\n",
       "      <th>prcptot_p10</th>\n",
       "      <th>prcptot_p50</th>\n",
       "      <th>prcptot_p90</th>\n",
       "    </tr>\n",
       "  </thead>\n",
       "  <tbody>\n",
       "    <tr>\n",
       "      <th>0</th>\n",
       "      <td>1</td>\n",
       "      <td>66.623306</td>\n",
       "      <td>-89.045212</td>\n",
       "      <td>1950-12-01</td>\n",
       "      <td>25.03</td>\n",
       "      <td>34.60</td>\n",
       "      <td>47.51</td>\n",
       "    </tr>\n",
       "    <tr>\n",
       "      <th>1</th>\n",
       "      <td>2</td>\n",
       "      <td>66.623306</td>\n",
       "      <td>-89.045212</td>\n",
       "      <td>1951-12-01</td>\n",
       "      <td>22.80</td>\n",
       "      <td>30.75</td>\n",
       "      <td>46.68</td>\n",
       "    </tr>\n",
       "    <tr>\n",
       "      <th>2</th>\n",
       "      <td>3</td>\n",
       "      <td>66.623306</td>\n",
       "      <td>-89.045212</td>\n",
       "      <td>1952-12-01</td>\n",
       "      <td>16.67</td>\n",
       "      <td>29.58</td>\n",
       "      <td>50.60</td>\n",
       "    </tr>\n",
       "    <tr>\n",
       "      <th>3</th>\n",
       "      <td>4</td>\n",
       "      <td>66.623306</td>\n",
       "      <td>-89.045212</td>\n",
       "      <td>1953-12-01</td>\n",
       "      <td>19.05</td>\n",
       "      <td>25.30</td>\n",
       "      <td>34.58</td>\n",
       "    </tr>\n",
       "    <tr>\n",
       "      <th>4</th>\n",
       "      <td>5</td>\n",
       "      <td>66.623306</td>\n",
       "      <td>-89.045212</td>\n",
       "      <td>1954-12-01</td>\n",
       "      <td>24.16</td>\n",
       "      <td>33.77</td>\n",
       "      <td>44.65</td>\n",
       "    </tr>\n",
       "    <tr>\n",
       "      <th>...</th>\n",
       "      <td>...</td>\n",
       "      <td>...</td>\n",
       "      <td>...</td>\n",
       "      <td>...</td>\n",
       "      <td>...</td>\n",
       "      <td>...</td>\n",
       "      <td>...</td>\n",
       "    </tr>\n",
       "    <tr>\n",
       "      <th>11430895</th>\n",
       "      <td>222182194</td>\n",
       "      <td>40.041039</td>\n",
       "      <td>-74.045807</td>\n",
       "      <td>2095-12-01</td>\n",
       "      <td>257.28</td>\n",
       "      <td>332.76</td>\n",
       "      <td>387.51</td>\n",
       "    </tr>\n",
       "    <tr>\n",
       "      <th>11430896</th>\n",
       "      <td>222182195</td>\n",
       "      <td>40.041039</td>\n",
       "      <td>-74.045807</td>\n",
       "      <td>2096-12-01</td>\n",
       "      <td>203.98</td>\n",
       "      <td>256.04</td>\n",
       "      <td>382.54</td>\n",
       "    </tr>\n",
       "    <tr>\n",
       "      <th>11430897</th>\n",
       "      <td>222182196</td>\n",
       "      <td>40.041039</td>\n",
       "      <td>-74.045807</td>\n",
       "      <td>2097-12-01</td>\n",
       "      <td>223.94</td>\n",
       "      <td>291.67</td>\n",
       "      <td>427.14</td>\n",
       "    </tr>\n",
       "    <tr>\n",
       "      <th>11430898</th>\n",
       "      <td>222182197</td>\n",
       "      <td>40.041039</td>\n",
       "      <td>-74.045807</td>\n",
       "      <td>2098-12-01</td>\n",
       "      <td>254.92</td>\n",
       "      <td>289.26</td>\n",
       "      <td>361.23</td>\n",
       "    </tr>\n",
       "    <tr>\n",
       "      <th>11430899</th>\n",
       "      <td>222182198</td>\n",
       "      <td>40.041039</td>\n",
       "      <td>-74.045807</td>\n",
       "      <td>2099-12-01</td>\n",
       "      <td>245.78</td>\n",
       "      <td>318.70</td>\n",
       "      <td>409.26</td>\n",
       "    </tr>\n",
       "  </tbody>\n",
       "</table>\n",
       "<p>11430900 rows × 7 columns</p>\n",
       "</div>"
      ],
      "text/plain": [
       "              index        lat        lon       time  prcptot_p10  \\\n",
       "0                 1  66.623306 -89.045212 1950-12-01        25.03   \n",
       "1                 2  66.623306 -89.045212 1951-12-01        22.80   \n",
       "2                 3  66.623306 -89.045212 1952-12-01        16.67   \n",
       "3                 4  66.623306 -89.045212 1953-12-01        19.05   \n",
       "4                 5  66.623306 -89.045212 1954-12-01        24.16   \n",
       "...             ...        ...        ...        ...          ...   \n",
       "11430895  222182194  40.041039 -74.045807 2095-12-01       257.28   \n",
       "11430896  222182195  40.041039 -74.045807 2096-12-01       203.98   \n",
       "11430897  222182196  40.041039 -74.045807 2097-12-01       223.94   \n",
       "11430898  222182197  40.041039 -74.045807 2098-12-01       254.92   \n",
       "11430899  222182198  40.041039 -74.045807 2099-12-01       245.78   \n",
       "\n",
       "          prcptot_p50  prcptot_p90  \n",
       "0               34.60        47.51  \n",
       "1               30.75        46.68  \n",
       "2               29.58        50.60  \n",
       "3               25.30        34.58  \n",
       "4               33.77        44.65  \n",
       "...               ...          ...  \n",
       "11430895       332.76       387.51  \n",
       "11430896       256.04       382.54  \n",
       "11430897       291.67       427.14  \n",
       "11430898       289.26       361.23  \n",
       "11430899       318.70       409.26  \n",
       "\n",
       "[11430900 rows x 7 columns]"
      ]
     },
     "execution_count": 14,
     "metadata": {},
     "output_type": "execute_result"
    }
   ],
   "source": [
    "df45list[0]"
   ]
  },
  {
   "cell_type": "markdown",
   "metadata": {},
   "source": [
    "# FOR RCP85 "
   ]
  },
  {
   "cell_type": "code",
   "execution_count": 15,
   "metadata": {},
   "outputs": [
    {
     "name": "stdout",
     "output_type": "stream",
     "text": [
      "0\n",
      "<xarray.Dataset>\n",
      "Dimensions:      (lat: 320, lon: 416, realization: 11, time: 152)\n",
      "Coordinates:\n",
      "  * lat          (lat) float32 66.62331 66.53998 66.45665 ... 40.12437 40.04104\n",
      "  * time         (time) datetime64[ns] 1949-12-01 1950-12-01 ... 2100-12-01\n",
      "  * lon          (lon) float32 -89.04521 -88.96188 ... -54.54659 -54.46326\n",
      "  * realization  (realization) int64 0 1 2 3 4 5 6 7 8 9 10\n",
      "Data variables:\n",
      "    prcptot      (realization, time, lat, lon) float32 dask.array<chunksize=(1, 3, 320, 416), meta=np.ndarray>\n",
      "Attributes:\n",
      "    Conventions:     CF-1.5\n",
      "    title:           ACCESS1-3 model output prepared for CMIP5 historical\n",
      "    history:         CMIP5 compliant file produced from raw ACCESS model outp...\n",
      "    institution:     CSIRO (Commonwealth Scientific and Industrial Research O...\n",
      "    source:          ACCESS1-3 2011. Atmosphere: AGCM v1.0 (N96 grid-point, 1...\n",
      "    redistribution:  Redistribution prohibited. For internal use only.\n",
      "1\n",
      "<xarray.Dataset>\n",
      "Dimensions:      (lat: 320, lon: 416, realization: 11, time: 151)\n",
      "Coordinates:\n",
      "  * lat          (lat) float32 66.62331 66.53998 66.45665 ... 40.12437 40.04104\n",
      "  * time         (time) datetime64[ns] 1950-03-01 1951-03-01 ... 2100-03-01\n",
      "  * lon          (lon) float32 -89.04521 -88.96188 ... -54.54659 -54.46326\n",
      "  * realization  (realization) int64 0 1 2 3 4 5 6 7 8 9 10\n",
      "Data variables:\n",
      "    prcptot      (realization, time, lat, lon) float32 dask.array<chunksize=(1, 3, 320, 416), meta=np.ndarray>\n",
      "Attributes:\n",
      "    Conventions:     CF-1.5\n",
      "    title:           ACCESS1-3 model output prepared for CMIP5 historical\n",
      "    history:         CMIP5 compliant file produced from raw ACCESS model outp...\n",
      "    institution:     CSIRO (Commonwealth Scientific and Industrial Research O...\n",
      "    source:          ACCESS1-3 2011. Atmosphere: AGCM v1.0 (N96 grid-point, 1...\n",
      "    redistribution:  Redistribution prohibited. For internal use only.\n",
      "2\n",
      "<xarray.Dataset>\n",
      "Dimensions:      (lat: 320, lon: 416, realization: 11, time: 151)\n",
      "Coordinates:\n",
      "  * lat          (lat) float32 66.62331 66.53998 66.45665 ... 40.12437 40.04104\n",
      "  * time         (time) datetime64[ns] 1950-06-01 1951-06-01 ... 2100-06-01\n",
      "  * lon          (lon) float32 -89.04521 -88.96188 ... -54.54659 -54.46326\n",
      "  * realization  (realization) int64 0 1 2 3 4 5 6 7 8 9 10\n",
      "Data variables:\n",
      "    prcptot      (realization, time, lat, lon) float32 dask.array<chunksize=(1, 2, 320, 416), meta=np.ndarray>\n",
      "Attributes:\n",
      "    Conventions:     CF-1.5\n",
      "    title:           ACCESS1-3 model output prepared for CMIP5 historical\n",
      "    history:         CMIP5 compliant file produced from raw ACCESS model outp...\n",
      "    institution:     CSIRO (Commonwealth Scientific and Industrial Research O...\n",
      "    source:          ACCESS1-3 2011. Atmosphere: AGCM v1.0 (N96 grid-point, 1...\n",
      "    redistribution:  Redistribution prohibited. For internal use only.\n",
      "3\n",
      "<xarray.Dataset>\n",
      "Dimensions:      (lat: 320, lon: 416, realization: 11, time: 151)\n",
      "Coordinates:\n",
      "  * lat          (lat) float32 66.62331 66.53998 66.45665 ... 40.12437 40.04104\n",
      "  * time         (time) datetime64[ns] 1950-09-01 1951-09-01 ... 2100-09-01\n",
      "  * lon          (lon) float32 -89.04521 -88.96188 ... -54.54659 -54.46326\n",
      "  * realization  (realization) int64 0 1 2 3 4 5 6 7 8 9 10\n",
      "Data variables:\n",
      "    prcptot      (realization, time, lat, lon) float32 dask.array<chunksize=(1, 2, 320, 416), meta=np.ndarray>\n",
      "Attributes:\n",
      "    Conventions:     CF-1.5\n",
      "    title:           ACCESS1-3 model output prepared for CMIP5 historical\n",
      "    history:         CMIP5 compliant file produced from raw ACCESS model outp...\n",
      "    institution:     CSIRO (Commonwealth Scientific and Industrial Research O...\n",
      "    source:          ACCESS1-3 2011. Atmosphere: AGCM v1.0 (N96 grid-point, 1...\n",
      "    redistribution:  Redistribution prohibited. For internal use only.\n"
     ]
    }
   ],
   "source": [
    "dsEns85= ens.create_ensemble(files85)\n",
    "dsEns85.time.dt.season[0:4]\n",
    "# Seasonal example 30 y means\n",
    "listds85 = []\n",
    "i=0\n",
    "for s in dsEns85.time.dt.season[0:4]:\n",
    "    print (i)\n",
    "    tmp1 = dsEns85.sel(time=(dsEns85.time.dt.season==s))\n",
    "    print(tmp1)\n",
    "    i = i+1\n",
    "    listds85.append(tmp1)"
   ]
  },
  {
   "cell_type": "code",
   "execution_count": 13,
   "metadata": {},
   "outputs": [
    {
     "name": "stdout",
     "output_type": "stream",
     "text": [
      "Dataset number:  0\n",
      "Percentiles Obteined\n",
      "Converted to DF\n",
      "Transformed in Celsiuds and rounded\n",
      "DF added to the list\n",
      "Dataset number:  1\n",
      "Percentiles Obteined\n",
      "Converted to DF\n",
      "Transformed in Celsiuds and rounded\n",
      "DF added to the list\n",
      "Dataset number:  2\n",
      "Percentiles Obteined\n",
      "Converted to DF\n",
      "Transformed in Celsiuds and rounded\n",
      "DF added to the list\n",
      "Dataset number:  3\n",
      "Percentiles Obteined\n",
      "Converted to DF\n",
      "Transformed in Celsiuds and rounded\n",
      "DF added to the list\n"
     ]
    }
   ],
   "source": [
    "i = 0\n",
    "df45list = []\n",
    "for ds in listds45:\n",
    "    print (\"Dataset number: \", i)\n",
    "    perc45 = ens.ensemble_percentiles(ds)\n",
    "    print (\"Percentiles Obteined\")\n",
    "    df45 = perc45.to_dataframe()\n",
    "    df452 = df45.reset_index()\n",
    "    df453 = df452.loc[df452[\"realization\"] == 0].dropna()\n",
    "    print (\"Converted to DF\")\n",
    "    dfp452 =  df453.reset_index()\n",
    "    df45C = dfp452.copy()\n",
    "    df45C[var+\"_p10\"] = round(df45C[var+\"_p10\"],2)\n",
    "    df45C[var+\"_p50\"] = round(df45C[var+\"_p50\"],2)\n",
    "    df45C[var+\"_p90\"] = round(df45C[var+\"_p90\"],2)\n",
    "    print (\"Transformed in Celsiuds and rounded\")\n",
    "    Region1i45 = df45C.drop(columns=[\"realization\"])\n",
    "    df45list.append(Region1i45)\n",
    "    print (\"DF added to the list\")\n",
    "    i = i + 1\n",
    "    "
   ]
  },
  {
   "cell_type": "code",
   "execution_count": 14,
   "metadata": {},
   "outputs": [
    {
     "data": {
      "text/html": [
       "<div>\n",
       "<style scoped>\n",
       "    .dataframe tbody tr th:only-of-type {\n",
       "        vertical-align: middle;\n",
       "    }\n",
       "\n",
       "    .dataframe tbody tr th {\n",
       "        vertical-align: top;\n",
       "    }\n",
       "\n",
       "    .dataframe thead th {\n",
       "        text-align: right;\n",
       "    }\n",
       "</style>\n",
       "<table border=\"1\" class=\"dataframe\">\n",
       "  <thead>\n",
       "    <tr style=\"text-align: right;\">\n",
       "      <th></th>\n",
       "      <th>index</th>\n",
       "      <th>lat</th>\n",
       "      <th>lon</th>\n",
       "      <th>time</th>\n",
       "      <th>prcptot_p10</th>\n",
       "      <th>prcptot_p50</th>\n",
       "      <th>prcptot_p90</th>\n",
       "    </tr>\n",
       "  </thead>\n",
       "  <tbody>\n",
       "    <tr>\n",
       "      <th>0</th>\n",
       "      <td>1</td>\n",
       "      <td>66.623306</td>\n",
       "      <td>-89.045212</td>\n",
       "      <td>1950-12-01</td>\n",
       "      <td>25.03</td>\n",
       "      <td>34.60</td>\n",
       "      <td>47.51</td>\n",
       "    </tr>\n",
       "    <tr>\n",
       "      <th>1</th>\n",
       "      <td>2</td>\n",
       "      <td>66.623306</td>\n",
       "      <td>-89.045212</td>\n",
       "      <td>1951-12-01</td>\n",
       "      <td>22.80</td>\n",
       "      <td>30.75</td>\n",
       "      <td>46.68</td>\n",
       "    </tr>\n",
       "    <tr>\n",
       "      <th>2</th>\n",
       "      <td>3</td>\n",
       "      <td>66.623306</td>\n",
       "      <td>-89.045212</td>\n",
       "      <td>1952-12-01</td>\n",
       "      <td>16.67</td>\n",
       "      <td>29.58</td>\n",
       "      <td>50.60</td>\n",
       "    </tr>\n",
       "    <tr>\n",
       "      <th>3</th>\n",
       "      <td>4</td>\n",
       "      <td>66.623306</td>\n",
       "      <td>-89.045212</td>\n",
       "      <td>1953-12-01</td>\n",
       "      <td>19.05</td>\n",
       "      <td>25.30</td>\n",
       "      <td>34.58</td>\n",
       "    </tr>\n",
       "    <tr>\n",
       "      <th>4</th>\n",
       "      <td>5</td>\n",
       "      <td>66.623306</td>\n",
       "      <td>-89.045212</td>\n",
       "      <td>1954-12-01</td>\n",
       "      <td>24.16</td>\n",
       "      <td>33.77</td>\n",
       "      <td>44.65</td>\n",
       "    </tr>\n",
       "    <tr>\n",
       "      <th>...</th>\n",
       "      <td>...</td>\n",
       "      <td>...</td>\n",
       "      <td>...</td>\n",
       "      <td>...</td>\n",
       "      <td>...</td>\n",
       "      <td>...</td>\n",
       "      <td>...</td>\n",
       "    </tr>\n",
       "    <tr>\n",
       "      <th>11430895</th>\n",
       "      <td>222182194</td>\n",
       "      <td>40.041039</td>\n",
       "      <td>-74.045807</td>\n",
       "      <td>2095-12-01</td>\n",
       "      <td>257.28</td>\n",
       "      <td>332.76</td>\n",
       "      <td>387.51</td>\n",
       "    </tr>\n",
       "    <tr>\n",
       "      <th>11430896</th>\n",
       "      <td>222182195</td>\n",
       "      <td>40.041039</td>\n",
       "      <td>-74.045807</td>\n",
       "      <td>2096-12-01</td>\n",
       "      <td>203.98</td>\n",
       "      <td>256.04</td>\n",
       "      <td>382.54</td>\n",
       "    </tr>\n",
       "    <tr>\n",
       "      <th>11430897</th>\n",
       "      <td>222182196</td>\n",
       "      <td>40.041039</td>\n",
       "      <td>-74.045807</td>\n",
       "      <td>2097-12-01</td>\n",
       "      <td>223.94</td>\n",
       "      <td>291.67</td>\n",
       "      <td>427.14</td>\n",
       "    </tr>\n",
       "    <tr>\n",
       "      <th>11430898</th>\n",
       "      <td>222182197</td>\n",
       "      <td>40.041039</td>\n",
       "      <td>-74.045807</td>\n",
       "      <td>2098-12-01</td>\n",
       "      <td>254.92</td>\n",
       "      <td>289.26</td>\n",
       "      <td>361.23</td>\n",
       "    </tr>\n",
       "    <tr>\n",
       "      <th>11430899</th>\n",
       "      <td>222182198</td>\n",
       "      <td>40.041039</td>\n",
       "      <td>-74.045807</td>\n",
       "      <td>2099-12-01</td>\n",
       "      <td>245.78</td>\n",
       "      <td>318.70</td>\n",
       "      <td>409.26</td>\n",
       "    </tr>\n",
       "  </tbody>\n",
       "</table>\n",
       "<p>11430900 rows × 7 columns</p>\n",
       "</div>"
      ],
      "text/plain": [
       "              index        lat        lon       time  prcptot_p10  \\\n",
       "0                 1  66.623306 -89.045212 1950-12-01        25.03   \n",
       "1                 2  66.623306 -89.045212 1951-12-01        22.80   \n",
       "2                 3  66.623306 -89.045212 1952-12-01        16.67   \n",
       "3                 4  66.623306 -89.045212 1953-12-01        19.05   \n",
       "4                 5  66.623306 -89.045212 1954-12-01        24.16   \n",
       "...             ...        ...        ...        ...          ...   \n",
       "11430895  222182194  40.041039 -74.045807 2095-12-01       257.28   \n",
       "11430896  222182195  40.041039 -74.045807 2096-12-01       203.98   \n",
       "11430897  222182196  40.041039 -74.045807 2097-12-01       223.94   \n",
       "11430898  222182197  40.041039 -74.045807 2098-12-01       254.92   \n",
       "11430899  222182198  40.041039 -74.045807 2099-12-01       245.78   \n",
       "\n",
       "          prcptot_p50  prcptot_p90  \n",
       "0               34.60        47.51  \n",
       "1               30.75        46.68  \n",
       "2               29.58        50.60  \n",
       "3               25.30        34.58  \n",
       "4               33.77        44.65  \n",
       "...               ...          ...  \n",
       "11430895       332.76       387.51  \n",
       "11430896       256.04       382.54  \n",
       "11430897       291.67       427.14  \n",
       "11430898       289.26       361.23  \n",
       "11430899       318.70       409.26  \n",
       "\n",
       "[11430900 rows x 7 columns]"
      ]
     },
     "execution_count": 14,
     "metadata": {},
     "output_type": "execute_result"
    }
   ],
   "source": [
    "df45list[0]"
   ]
  },
  {
   "cell_type": "markdown",
   "metadata": {},
   "source": [
    "## Get the percentiles"
   ]
  },
  {
   "cell_type": "code",
   "execution_count": null,
   "metadata": {},
   "outputs": [],
   "source": [
    "# Calculate ensembles percentiles on regional means\n",
    "perctiles85 = ens.ensemble_percentiles(dsEns85)\n",
    "perctiles85\n",
    "dsEns85 =0"
   ]
  },
  {
   "cell_type": "markdown",
   "metadata": {},
   "source": [
    "## Convert in Dataframe"
   ]
  },
  {
   "cell_type": "code",
   "execution_count": null,
   "metadata": {},
   "outputs": [],
   "source": [
    "dfper185 = perctiles85.to_dataframe().dropna()\n",
    "dfper85 = perctiles85.drop('realization').to_dataframe().dropna()\n",
    "dfmean85 = dfper85.reset_index()\n",
    "dfper85 = 0"
   ]
  },
  {
   "cell_type": "code",
   "execution_count": null,
   "metadata": {},
   "outputs": [],
   "source": [
    "#dfmean85"
   ]
  },
  {
   "cell_type": "code",
   "execution_count": null,
   "metadata": {},
   "outputs": [],
   "source": [
    "dfmean85.to_feather(\"/home/mlopez/EXEC/Processed data to clip with regions/rcp85\"+var+\"_forTS.feather\")"
   ]
  },
  {
   "cell_type": "code",
   "execution_count": null,
   "metadata": {},
   "outputs": [],
   "source": [
    "dfmean85 = pd.read_feather(\"/home/mlopez/EXEC/Processed data to clip with regions/rcp85\"+var+\"_forTS.feather\")"
   ]
  },
  {
   "cell_type": "markdown",
   "metadata": {},
   "source": [
    "# OBSERVED DATA"
   ]
  },
  {
   "cell_type": "code",
   "execution_count": null,
   "metadata": {},
   "outputs": [],
   "source": [
    "dsOBs= xr.open_mfdataset(filesobs)"
   ]
  },
  {
   "cell_type": "code",
   "execution_count": null,
   "metadata": {},
   "outputs": [],
   "source": [
    "dsOBs"
   ]
  },
  {
   "cell_type": "markdown",
   "metadata": {},
   "source": [
    "## Convert in Dataframe"
   ]
  },
  {
   "cell_type": "code",
   "execution_count": null,
   "metadata": {},
   "outputs": [],
   "source": [
    "dfperObs = dsOBs.to_dataframe().dropna()\n",
    "dfmeanObs = dfperObs.reset_index()\n",
    "dfperObs = 0"
   ]
  },
  {
   "cell_type": "code",
   "execution_count": null,
   "metadata": {},
   "outputs": [],
   "source": [
    "dfObs = dfmeanObs.rename(columns={var: var+'_Obs'})"
   ]
  },
  {
   "cell_type": "code",
   "execution_count": null,
   "metadata": {},
   "outputs": [],
   "source": [
    "dfObs"
   ]
  },
  {
   "cell_type": "code",
   "execution_count": null,
   "metadata": {},
   "outputs": [],
   "source": [
    "dfObs.to_feather(\"/home/mlopez/EXEC/Processed data to clip with regions/rcpObs\"+var+\"_forTS.feather\")"
   ]
  },
  {
   "cell_type": "code",
   "execution_count": null,
   "metadata": {},
   "outputs": [],
   "source": [
    "dfObs = pd.read_feather(\"/home/mlopez/EXEC/Processed data to clip with regions/rcpObs\"+var+\"_forTS.feather\")"
   ]
  },
  {
   "cell_type": "markdown",
   "metadata": {},
   "source": [
    "## Merge 2 rcp dataframes"
   ]
  },
  {
   "cell_type": "code",
   "execution_count": null,
   "metadata": {},
   "outputs": [],
   "source": [
    "df2m =  pd.merge(dfmean45, dfmean85, on=[\"lat\",\"lon\", \"time\"], suffixes=('_45', '_85'))"
   ]
  },
  {
   "cell_type": "code",
   "execution_count": null,
   "metadata": {},
   "outputs": [],
   "source": [
    "df2m"
   ]
  },
  {
   "cell_type": "markdown",
   "metadata": {},
   "source": [
    "# Cut by region for rcp45, 85 and Obs"
   ]
  },
  {
   "cell_type": "markdown",
   "metadata": {},
   "source": [
    "## Get the lat lon regions"
   ]
  },
  {
   "cell_type": "code",
   "execution_count": null,
   "metadata": {},
   "outputs": [],
   "source": [
    "regions_folder = \"/home/mlopez/EXEC/Grids-polygons-regions/\""
   ]
  },
  {
   "cell_type": "code",
   "execution_count": null,
   "metadata": {},
   "outputs": [],
   "source": [
    "files_regions = glob.glob(regions_folder+\"*\"+\"lat_lon.feather\")\n",
    "files_regions"
   ]
  },
  {
   "cell_type": "code",
   "execution_count": null,
   "metadata": {},
   "outputs": [],
   "source": [
    "listdfreg=[]\n",
    "for region in files_regions:\n",
    "    df = pd.read_feather(region)\n",
    "    listdfreg.append(df)\n",
    "   "
   ]
  },
  {
   "cell_type": "markdown",
   "metadata": {},
   "source": [
    "## Create DF by region"
   ]
  },
  {
   "cell_type": "code",
   "execution_count": null,
   "metadata": {},
   "outputs": [],
   "source": [
    "short_dict = {\"DDE_STF_20K_REG_FOR_VUE_S\": (\"NM_REG_FOR\", \"RF\"), \n",
    "            \"DDE_STF_20K_UA_PER_VUE_S\": (\"PER_NO_UA\", \"UA\"), \n",
    "              \"DOM_BIO\": (\"NOM\", \"DB\"), \n",
    "              \"REG_ECO\": (\"NOM\", \"RE\"), \n",
    "              \"SDOM_BIO\": (\"NOM\", \"SDB\"), \n",
    "              \"Secteurs_Operations_Regionales\": (\"D_GENERAL\", \"SOR\"), \n",
    "              \"SREG_ECO\": (\"NOM\", \"SRE\"),  \n",
    "              \"territoire_guide\": (\"TER_GUIDE\", \"TG\") \n",
    "              }\n",
    "\n",
    "for region, (name, short) in short_dict.items():\n",
    "    print(region, name, short)"
   ]
  },
  {
   "cell_type": "code",
   "execution_count": null,
   "metadata": {},
   "outputs": [],
   "source": [
    "def replace_all(text, dic):\n",
    "    for i, j in dic.items():\n",
    "        text = text.replace(i, j)\n",
    "    return text"
   ]
  },
  {
   "cell_type": "code",
   "execution_count": null,
   "metadata": {},
   "outputs": [],
   "source": [
    "d = { 'BAS-SAINT-LAURENT':\"Bas-Saint-Laurent\", \n",
    "     'SAGUENAY -LAC-SAINT-JEAN': \"Saguenay -Lac-Saint-Jean\",\n",
    "     'CAPITALE-NATIONALE-CHAUDIÈRE-APPALACHES':\"Capitale-Nationale-Chaudiere-Appalaches\",\n",
    "     'MAURICIE-CENTRE-DU-QUÉBEC':'Mauricie-Centre-du-Quebec','OUTAOUAIS':'Outaouais', \n",
    "     'ABITIBI-TEMISCAMINGUE':'Abitibi-Temiscamingue', 'COTE-NORD':'Cote-Nord',\n",
    "     'NORD-DU-QUEBEC':'Nord-Du-Quebec', 'GASPESIE-ILES-DE-LA-MADELEINE':'Gaspesie-Iles-De-La-Madeleine', \n",
    "     'LANAUDIERE':'Lanaudiere','LAURENTIDES':\"Laurentides\", \n",
    "     \"ESTRIE-MONTÉRÉGIE-LAVAL-MONTRÉAL\":\"Estrie-Monteregie-Laval-Montreal\", \n",
    "     \"é\": \"e\", \"É\": \"E\", \"à\": \"a\", \"è\": \"e\", \"Î\": \"i\", \"È\": \"E\", \"ô\" : \"o\", \"Ç\":\"C\", \"ç\":\"c\",\n",
    "       } "
   ]
  },
  {
   "cell_type": "markdown",
   "metadata": {},
   "source": [
    "## Cutting rcp45 and 85 by region and getting df with 4th degree polynomial"
   ]
  },
  {
   "cell_type": "code",
   "execution_count": null,
   "metadata": {},
   "outputs": [],
   "source": [
    "def polysmooth(years, y, degree):\n",
    "    coef = np.polyfit(years, y, degree)\n",
    "    return np.polyval(coef,years)"
   ]
  },
  {
   "cell_type": "code",
   "execution_count": null,
   "metadata": {},
   "outputs": [],
   "source": [
    "dfmeanObs = dfdataregObs.groupby([\"time\", name]).mean() \n"
   ]
  },
  {
   "cell_type": "code",
   "execution_count": null,
   "metadata": {},
   "outputs": [],
   "source": [
    "dfmeanObs"
   ]
  },
  {
   "cell_type": "code",
   "execution_count": null,
   "metadata": {
    "scrolled": false
   },
   "outputs": [],
   "source": [
    "listdf2m = []\n",
    "\n",
    "for region, (name, short) in short_dict.items():\n",
    "    print(\"------------------------------------------------------------------\")\n",
    "    print (\"1/8... Cutting by region\")\n",
    "    print(region, name)\n",
    "    dfregion = pd.read_feather(\"/home/mlopez/EXEC/Grids-polygons-regions/\"+region+\"lat_lon.feather\")\n",
    "    print (\"2/8... Merging region with data\")\n",
    "    dfdatareg45 = pd.merge(dfregion, df2m, on=[\"lat\",\"lon\"])\n",
    "    dfdataregObs = pd.merge(dfregion, dfObs, on=[\"lat\",\"lon\"])\n",
    "    print (\"3/8... Get mean by year for every sub-region\")\n",
    "    dfmeanUA45 = dfdatareg45\n",
    "    dfmean45UA = dfmeanUA45.groupby([\"time\", name]).mean()\n",
    "    dfmean45UA2 = dfmean45UA.reset_index()\n",
    "    dfmeanObs = dfdataregObs.groupby([\"time\", name]).mean() \n",
    "    dfmeanObs2 = dfmeanObs.reset_index()\n",
    "    print(\"Merging 3 cases\")\n",
    "    df3m = pd.merge(dfmean45UA2, dfmeanObs2, how='left', on= [\"time\", name] )\n",
    "    print (\"4/8... Split by subregion\")\n",
    "    df3ma = df3m[['time', name, var+'_p10_45', var+'_p50_45', var+'_p90_45',\n",
    "                               var+'_p10_85', var+'_p50_85', var+'_p90_85', var+'_Obs']]\n",
    "    if (var == \"tg_mean\" or var== \"tn_mean\" or var==):\n",
    "        df3ma[var+\"_Obs\"] = df3ma[var+\"_Obs\"]- 273.15\n",
    "    if (var == \"solidprcptot\"):\n",
    "        df3ma[var+\"_Obs\"] = df3ma[var+\"_Obs\"]/10\n",
    "    df3ma[var+\"_Obs\"] = round(df3ma[var+\"_Obs\"], 2)\n",
    "    for name2,dfsr in df3ma.groupby(name):\n",
    "        print (\"                   \"+name2, name)\n",
    "        dfsrc = dfsr.copy()\n",
    "        print (\"6/8... 4th Polynomial - rcp45,85\")\n",
    "        years = dfsrc.time.dt.year\n",
    "        dfsrc[\"time\"] = years#.values\n",
    "        for p in ('_p10_45', '_p50_45', '_p90_45', '_p10_85', '_p50_85', '_p90_85'):\n",
    "            if (var == \"tg_mean\" or var== \"tn_mean\" or var==):\n",
    "                dfsrc[var+p] = polysmooth(years,dfsrc[var+p],4) - 273.15\n",
    "            if (var == \"solidprcptot\"):\n",
    "                dfsrc[var+p] = polysmooth(years,dfsrc[var+p],4)/10\n",
    "            dfsrc[var+p] = round(dfsrc[var+p], 2) \n",
    "        print(\" -----------------------8/8 Creating CSV file for sub-region \" +name2)\n",
    "        dfsrc.to_csv(replace_all(name2,d)+\"_\"+var+\"_annual.csv\")\n",
    "    \n",
    "    \n",
    "                            \n",
    "       "
   ]
  },
  {
   "cell_type": "code",
   "execution_count": null,
   "metadata": {},
   "outputs": [],
   "source": []
  },
  {
   "cell_type": "code",
   "execution_count": null,
   "metadata": {},
   "outputs": [],
   "source": []
  },
  {
   "cell_type": "code",
   "execution_count": null,
   "metadata": {},
   "outputs": [],
   "source": []
  }
 ],
 "metadata": {
  "kernelspec": {
   "display_name": "Python 3",
   "language": "python",
   "name": "python3"
  },
  "language_info": {
   "codemirror_mode": {
    "name": "ipython",
    "version": 3
   },
   "file_extension": ".py",
   "mimetype": "text/x-python",
   "name": "python",
   "nbconvert_exporter": "python",
   "pygments_lexer": "ipython3",
   "version": "3.8.1"
  }
 },
 "nbformat": 4,
 "nbformat_minor": 4
}
