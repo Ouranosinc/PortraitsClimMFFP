{
 "cells": [
  {
   "cell_type": "code",
   "execution_count": 1,
   "metadata": {},
   "outputs": [],
   "source": [
    "%load_ext autoreload\n",
    "%autoreload 2\n",
    "import xarray as xr\n",
    "import matplotlib.pyplot as plt\n",
    "import pandas as pd\n",
    "import processing_netcdf as pcdf\n",
    "import geopandas as gpd\n",
    "from geopandas import GeoDataFrame\n",
    "import shapely.geometry \n",
    "import numpy as np\n",
    "from shapely import geometry as gmty\n",
    "from geofeather import to_geofeather, from_geofeather\n",
    "import glob\n",
    "import os\n",
    "import pyarrow\n",
    "from xclim import ensembles as ens\n",
    "from xclim import subset"
   ]
  },
  {
   "cell_type": "code",
   "execution_count": 2,
   "metadata": {},
   "outputs": [],
   "source": [
    "import matplotlib.pyplot as plt"
   ]
  },
  {
   "cell_type": "code",
   "execution_count": 3,
   "metadata": {},
   "outputs": [],
   "source": [
    "folder = \"/scen3/scenario/netcdf/ouranos/portraits-clim-2.0/\""
   ]
  },
  {
   "cell_type": "markdown",
   "metadata": {},
   "source": [
    "# Select variable"
   ]
  },
  {
   "cell_type": "code",
   "execution_count": 4,
   "metadata": {},
   "outputs": [
    {
     "data": {
      "text/plain": [
       "['/scen3/scenario/netcdf/ouranos/portraits-clim-2.0/ACCESS1-3_rcp45_solidprcptot_annual.nc',\n",
       " '/scen3/scenario/netcdf/ouranos/portraits-clim-2.0/BNU-ESM_rcp45_solidprcptot_annual.nc',\n",
       " '/scen3/scenario/netcdf/ouranos/portraits-clim-2.0/CanESM2_rcp45_solidprcptot_annual.nc',\n",
       " '/scen3/scenario/netcdf/ouranos/portraits-clim-2.0/CMCC-CMS_rcp45_solidprcptot_annual.nc',\n",
       " '/scen3/scenario/netcdf/ouranos/portraits-clim-2.0/GFDL-ESM2M_rcp45_solidprcptot_annual.nc',\n",
       " '/scen3/scenario/netcdf/ouranos/portraits-clim-2.0/HadGEM2-CC_rcp45_solidprcptot_annual.nc',\n",
       " '/scen3/scenario/netcdf/ouranos/portraits-clim-2.0/INM-CM4_rcp45_solidprcptot_annual.nc',\n",
       " '/scen3/scenario/netcdf/ouranos/portraits-clim-2.0/IPSL-CM5A-LR_rcp45_solidprcptot_annual.nc',\n",
       " '/scen3/scenario/netcdf/ouranos/portraits-clim-2.0/IPSL-CM5B-LR_rcp45_solidprcptot_annual.nc',\n",
       " '/scen3/scenario/netcdf/ouranos/portraits-clim-2.0/MPI-ESM-LR_rcp45_solidprcptot_annual.nc',\n",
       " '/scen3/scenario/netcdf/ouranos/portraits-clim-2.0/NorESM1-M_rcp45_solidprcptot_annual.nc']"
      ]
     },
     "execution_count": 4,
     "metadata": {},
     "output_type": "execute_result"
    }
   ],
   "source": [
    "#Variable \n",
    "#var=\"tg_mean\"\n",
    "#var =\"tn_mean\"\n",
    "#var =\"tx_mean\"\n",
    "var =\"solidprcptot\"\n",
    "#var =\"prcptot\"\n",
    "#var =\"dlyfrzthw\"\n",
    "#var =\"growing_season_length\"\n",
    "#var =\"DJC\"\n",
    "\n",
    "\n",
    "files85 = glob.glob(folder+\"*\"+\"rcp85_\"+var+\"_annual.nc\")\n",
    "files45 = glob.glob(folder+\"*\"+\"rcp45_\"+var+\"_annual.nc\")\n",
    "filesobs = glob.glob(folder+\"NRCAN_obs_\"+var+\"_annual.nc\")\n",
    "\n",
    "#ex: ACCESS1-3_rcp45_tn_mean_annual.nc\n",
    "files85\n",
    "files45\n"
   ]
  },
  {
   "cell_type": "code",
   "execution_count": 5,
   "metadata": {},
   "outputs": [
    {
     "data": {
      "text/plain": [
       "['/scen3/scenario/netcdf/ouranos/portraits-clim-2.0/NRCAN_obs_solidprcptot_annual.nc']"
      ]
     },
     "execution_count": 5,
     "metadata": {},
     "output_type": "execute_result"
    }
   ],
   "source": [
    "filesobs"
   ]
  },
  {
   "cell_type": "markdown",
   "metadata": {},
   "source": [
    "# FOR RCP45 "
   ]
  },
  {
   "cell_type": "code",
   "execution_count": 6,
   "metadata": {},
   "outputs": [],
   "source": [
    "dsEns45= ens.create_ensemble(files45)\n",
    "#dsEns45"
   ]
  },
  {
   "cell_type": "markdown",
   "metadata": {},
   "source": [
    "## Get the percentiles"
   ]
  },
  {
   "cell_type": "code",
   "execution_count": 7,
   "metadata": {},
   "outputs": [],
   "source": [
    "# Calculate ensembles percentiles on regional means\n",
    "perctiles45 = ens.ensemble_percentiles(dsEns45)\n",
    "perctiles45\n",
    "dsEns45 =0"
   ]
  },
  {
   "cell_type": "markdown",
   "metadata": {},
   "source": [
    "## Convert in Dataframe"
   ]
  },
  {
   "cell_type": "code",
   "execution_count": 9,
   "metadata": {},
   "outputs": [],
   "source": [
    "dfper145 = perctiles45.to_dataframe().dropna()\n",
    "dfper45 = perctiles45.drop('realization').to_dataframe().dropna()\n",
    "dfmean45 = dfper45.reset_index()\n",
    "dfper45 = 0"
   ]
  },
  {
   "cell_type": "code",
   "execution_count": 10,
   "metadata": {},
   "outputs": [],
   "source": [
    "#dfmean45"
   ]
  },
  {
   "cell_type": "code",
   "execution_count": 11,
   "metadata": {},
   "outputs": [],
   "source": [
    "dfmean45.to_feather(\"/home/mlopez/EXEC/Processed data to clip with regions/rcp45\"+var+\"_forTS.feather\")"
   ]
  },
  {
   "cell_type": "code",
   "execution_count": 12,
   "metadata": {},
   "outputs": [],
   "source": [
    "dfmean45 = pd.read_feather(\"/home/mlopez/EXEC/Processed data to clip with regions/rcp45\"+var+\"_forTS.feather\")"
   ]
  },
  {
   "cell_type": "markdown",
   "metadata": {},
   "source": [
    "# FOR RCP85 "
   ]
  },
  {
   "cell_type": "code",
   "execution_count": 13,
   "metadata": {},
   "outputs": [],
   "source": [
    "dsEns85= ens.create_ensemble(files85)\n",
    "#dsEns85"
   ]
  },
  {
   "cell_type": "markdown",
   "metadata": {},
   "source": [
    "## Get the percentiles"
   ]
  },
  {
   "cell_type": "code",
   "execution_count": 14,
   "metadata": {},
   "outputs": [],
   "source": [
    "# Calculate ensembles percentiles on regional means\n",
    "perctiles85 = ens.ensemble_percentiles(dsEns85)\n",
    "perctiles85\n",
    "dsEns85 =0"
   ]
  },
  {
   "cell_type": "markdown",
   "metadata": {},
   "source": [
    "## Convert in Dataframe"
   ]
  },
  {
   "cell_type": "code",
   "execution_count": 15,
   "metadata": {},
   "outputs": [],
   "source": [
    "dfper185 = perctiles85.to_dataframe().dropna()\n",
    "dfper85 = perctiles85.drop('realization').to_dataframe().dropna()\n",
    "dfmean85 = dfper85.reset_index()\n",
    "dfper85 = 0"
   ]
  },
  {
   "cell_type": "code",
   "execution_count": 16,
   "metadata": {},
   "outputs": [],
   "source": [
    "#dfmean85"
   ]
  },
  {
   "cell_type": "code",
   "execution_count": 17,
   "metadata": {},
   "outputs": [],
   "source": [
    "dfmean85.to_feather(\"/home/mlopez/EXEC/Processed data to clip with regions/rcp85\"+var+\"_forTS.feather\")"
   ]
  },
  {
   "cell_type": "code",
   "execution_count": 18,
   "metadata": {},
   "outputs": [],
   "source": [
    "dfmean85 = pd.read_feather(\"/home/mlopez/EXEC/Processed data to clip with regions/rcp85\"+var+\"_forTS.feather\")"
   ]
  },
  {
   "cell_type": "markdown",
   "metadata": {},
   "source": [
    "# OBSERVED DATA"
   ]
  },
  {
   "cell_type": "code",
   "execution_count": 19,
   "metadata": {},
   "outputs": [
    {
     "name": "stderr",
     "output_type": "stream",
     "text": [
      "WARNING:py.warnings:<ipython-input-19-8c1b4c38076b>:1: FutureWarning: In xarray version 0.15 the default behaviour of `open_mfdataset`\n",
      "will change. To retain the existing behavior, pass\n",
      "combine='nested'. To use future default behavior, pass\n",
      "combine='by_coords'. See\n",
      "http://xarray.pydata.org/en/stable/combining.html#combining-multi\n",
      "\n",
      "  dsOBs= xr.open_mfdataset(filesobs)\n",
      "\n",
      "WARNING:py.warnings:/home/mlopez/EXEC/anaconda3/envs/python37-2/lib/python3.8/site-packages/xarray/backends/api.py:926: FutureWarning: The datasets supplied have global dimension coordinates. You may want\n",
      "to use the new `combine_by_coords` function (or the\n",
      "`combine='by_coords'` option to `open_mfdataset`) to order the datasets\n",
      "before concatenation. Alternatively, to continue concatenating based\n",
      "on the order the datasets are supplied in future, please use the new\n",
      "`combine_nested` function (or the `combine='nested'` option to\n",
      "open_mfdataset).\n",
      "  combined = auto_combine(\n",
      "\n"
     ]
    }
   ],
   "source": [
    "dsOBs= xr.open_mfdataset(filesobs)"
   ]
  },
  {
   "cell_type": "code",
   "execution_count": 20,
   "metadata": {},
   "outputs": [
    {
     "data": {
      "text/html": [
       "<pre>&lt;xarray.Dataset&gt;\n",
       "Dimensions:       (lat: 510, lon: 1068, time: 64)\n",
       "Coordinates:\n",
       "  * time          (time) datetime64[ns] 1950-01-01 1951-01-01 ... 2013-01-01\n",
       "  * lat           (lat) float32 83.45833 83.375 83.291664 ... 41.125 41.041668\n",
       "  * lon           (lon) float32 -140.95833 -140.875 ... -52.125004 -52.04167\n",
       "Data variables:\n",
       "    solidprcptot  (time, lat, lon) float32 dask.array&lt;chunksize=(64, 510, 1068), meta=np.ndarray&gt;\n",
       "Attributes:\n",
       "    Conventions:     CF-1.5\n",
       "    title:           NRCAN 10km Gridded Climate Dataset\n",
       "    history:         2012-10-19T16:38:49: Convert from original format to NetCDF\n",
       "    institution:     NRCAN\n",
       "    source:          ANUSPLIN\n",
       "    redistribution:  Redistribution policy unknown. For internal use only.</pre>"
      ],
      "text/plain": [
       "<xarray.Dataset>\n",
       "Dimensions:       (lat: 510, lon: 1068, time: 64)\n",
       "Coordinates:\n",
       "  * time          (time) datetime64[ns] 1950-01-01 1951-01-01 ... 2013-01-01\n",
       "  * lat           (lat) float32 83.45833 83.375 83.291664 ... 41.125 41.041668\n",
       "  * lon           (lon) float32 -140.95833 -140.875 ... -52.125004 -52.04167\n",
       "Data variables:\n",
       "    solidprcptot  (time, lat, lon) float32 dask.array<chunksize=(64, 510, 1068), meta=np.ndarray>\n",
       "Attributes:\n",
       "    Conventions:     CF-1.5\n",
       "    title:           NRCAN 10km Gridded Climate Dataset\n",
       "    history:         2012-10-19T16:38:49: Convert from original format to NetCDF\n",
       "    institution:     NRCAN\n",
       "    source:          ANUSPLIN\n",
       "    redistribution:  Redistribution policy unknown. For internal use only."
      ]
     },
     "execution_count": 20,
     "metadata": {},
     "output_type": "execute_result"
    }
   ],
   "source": [
    "dsOBs"
   ]
  },
  {
   "cell_type": "markdown",
   "metadata": {},
   "source": [
    "## Convert in Dataframe"
   ]
  },
  {
   "cell_type": "code",
   "execution_count": 21,
   "metadata": {},
   "outputs": [],
   "source": [
    "dfperObs = dsOBs.to_dataframe().dropna()\n",
    "dfmeanObs = dfperObs.reset_index()\n",
    "dfperObs = 0"
   ]
  },
  {
   "cell_type": "code",
   "execution_count": 22,
   "metadata": {},
   "outputs": [],
   "source": [
    "dfObs = dfmeanObs.rename(columns={var: var+'_Obs'})"
   ]
  },
  {
   "cell_type": "code",
   "execution_count": 23,
   "metadata": {},
   "outputs": [
    {
     "data": {
      "text/html": [
       "<div>\n",
       "<style scoped>\n",
       "    .dataframe tbody tr th:only-of-type {\n",
       "        vertical-align: middle;\n",
       "    }\n",
       "\n",
       "    .dataframe tbody tr th {\n",
       "        vertical-align: top;\n",
       "    }\n",
       "\n",
       "    .dataframe thead th {\n",
       "        text-align: right;\n",
       "    }\n",
       "</style>\n",
       "<table border=\"1\" class=\"dataframe\">\n",
       "  <thead>\n",
       "    <tr style=\"text-align: right;\">\n",
       "      <th></th>\n",
       "      <th>lat</th>\n",
       "      <th>lon</th>\n",
       "      <th>time</th>\n",
       "      <th>solidprcptot_Obs</th>\n",
       "    </tr>\n",
       "  </thead>\n",
       "  <tbody>\n",
       "    <tr>\n",
       "      <th>0</th>\n",
       "      <td>83.125000</td>\n",
       "      <td>-74.541672</td>\n",
       "      <td>1950-01-01</td>\n",
       "      <td>97.809998</td>\n",
       "    </tr>\n",
       "    <tr>\n",
       "      <th>1</th>\n",
       "      <td>83.125000</td>\n",
       "      <td>-74.541672</td>\n",
       "      <td>1951-01-01</td>\n",
       "      <td>80.720001</td>\n",
       "    </tr>\n",
       "    <tr>\n",
       "      <th>2</th>\n",
       "      <td>83.125000</td>\n",
       "      <td>-74.541672</td>\n",
       "      <td>1952-01-01</td>\n",
       "      <td>77.459999</td>\n",
       "    </tr>\n",
       "    <tr>\n",
       "      <th>3</th>\n",
       "      <td>83.125000</td>\n",
       "      <td>-74.541672</td>\n",
       "      <td>1953-01-01</td>\n",
       "      <td>126.579994</td>\n",
       "    </tr>\n",
       "    <tr>\n",
       "      <th>4</th>\n",
       "      <td>83.125000</td>\n",
       "      <td>-74.541672</td>\n",
       "      <td>1954-01-01</td>\n",
       "      <td>57.630005</td>\n",
       "    </tr>\n",
       "    <tr>\n",
       "      <th>...</th>\n",
       "      <td>...</td>\n",
       "      <td>...</td>\n",
       "      <td>...</td>\n",
       "      <td>...</td>\n",
       "    </tr>\n",
       "    <tr>\n",
       "      <th>16464827</th>\n",
       "      <td>41.708332</td>\n",
       "      <td>-82.208336</td>\n",
       "      <td>2009-01-01</td>\n",
       "      <td>82.680000</td>\n",
       "    </tr>\n",
       "    <tr>\n",
       "      <th>16464828</th>\n",
       "      <td>41.708332</td>\n",
       "      <td>-82.208336</td>\n",
       "      <td>2010-01-01</td>\n",
       "      <td>70.550003</td>\n",
       "    </tr>\n",
       "    <tr>\n",
       "      <th>16464829</th>\n",
       "      <td>41.708332</td>\n",
       "      <td>-82.208336</td>\n",
       "      <td>2011-01-01</td>\n",
       "      <td>109.059998</td>\n",
       "    </tr>\n",
       "    <tr>\n",
       "      <th>16464830</th>\n",
       "      <td>41.708332</td>\n",
       "      <td>-82.208336</td>\n",
       "      <td>2012-01-01</td>\n",
       "      <td>25.209997</td>\n",
       "    </tr>\n",
       "    <tr>\n",
       "      <th>16464831</th>\n",
       "      <td>41.708332</td>\n",
       "      <td>-82.208336</td>\n",
       "      <td>2013-01-01</td>\n",
       "      <td>89.500000</td>\n",
       "    </tr>\n",
       "  </tbody>\n",
       "</table>\n",
       "<p>16464832 rows × 4 columns</p>\n",
       "</div>"
      ],
      "text/plain": [
       "                lat        lon       time  solidprcptot_Obs\n",
       "0         83.125000 -74.541672 1950-01-01         97.809998\n",
       "1         83.125000 -74.541672 1951-01-01         80.720001\n",
       "2         83.125000 -74.541672 1952-01-01         77.459999\n",
       "3         83.125000 -74.541672 1953-01-01        126.579994\n",
       "4         83.125000 -74.541672 1954-01-01         57.630005\n",
       "...             ...        ...        ...               ...\n",
       "16464827  41.708332 -82.208336 2009-01-01         82.680000\n",
       "16464828  41.708332 -82.208336 2010-01-01         70.550003\n",
       "16464829  41.708332 -82.208336 2011-01-01        109.059998\n",
       "16464830  41.708332 -82.208336 2012-01-01         25.209997\n",
       "16464831  41.708332 -82.208336 2013-01-01         89.500000\n",
       "\n",
       "[16464832 rows x 4 columns]"
      ]
     },
     "execution_count": 23,
     "metadata": {},
     "output_type": "execute_result"
    }
   ],
   "source": [
    "dfObs"
   ]
  },
  {
   "cell_type": "code",
   "execution_count": 24,
   "metadata": {},
   "outputs": [],
   "source": [
    "dfObs.to_feather(\"/home/mlopez/EXEC/Processed data to clip with regions/rcpObs\"+var+\"_forTS.feather\")"
   ]
  },
  {
   "cell_type": "code",
   "execution_count": 25,
   "metadata": {},
   "outputs": [],
   "source": [
    "dfObs = pd.read_feather(\"/home/mlopez/EXEC/Processed data to clip with regions/rcpObs\"+var+\"_forTS.feather\")"
   ]
  },
  {
   "cell_type": "markdown",
   "metadata": {},
   "source": [
    "## Merge 2 rcp dataframes"
   ]
  },
  {
   "cell_type": "code",
   "execution_count": 26,
   "metadata": {},
   "outputs": [],
   "source": [
    "df2m =  pd.merge(dfmean45, dfmean85, on=[\"lat\",\"lon\", \"time\"], suffixes=('_45', '_85'))"
   ]
  },
  {
   "cell_type": "code",
   "execution_count": 27,
   "metadata": {},
   "outputs": [
    {
     "data": {
      "text/html": [
       "<div>\n",
       "<style scoped>\n",
       "    .dataframe tbody tr th:only-of-type {\n",
       "        vertical-align: middle;\n",
       "    }\n",
       "\n",
       "    .dataframe tbody tr th {\n",
       "        vertical-align: top;\n",
       "    }\n",
       "\n",
       "    .dataframe thead th {\n",
       "        text-align: right;\n",
       "    }\n",
       "</style>\n",
       "<table border=\"1\" class=\"dataframe\">\n",
       "  <thead>\n",
       "    <tr style=\"text-align: right;\">\n",
       "      <th></th>\n",
       "      <th>lat</th>\n",
       "      <th>lon</th>\n",
       "      <th>time</th>\n",
       "      <th>solidprcptot_p10_45</th>\n",
       "      <th>solidprcptot_p50_45</th>\n",
       "      <th>solidprcptot_p90_45</th>\n",
       "      <th>solidprcptot_p10_85</th>\n",
       "      <th>solidprcptot_p50_85</th>\n",
       "      <th>solidprcptot_p90_85</th>\n",
       "    </tr>\n",
       "  </thead>\n",
       "  <tbody>\n",
       "    <tr>\n",
       "      <th>0</th>\n",
       "      <td>66.623306</td>\n",
       "      <td>-89.045212</td>\n",
       "      <td>1950-01-01</td>\n",
       "      <td>124.688156</td>\n",
       "      <td>144.241928</td>\n",
       "      <td>164.693527</td>\n",
       "      <td>125.154518</td>\n",
       "      <td>145.417313</td>\n",
       "      <td>167.477890</td>\n",
       "    </tr>\n",
       "    <tr>\n",
       "      <th>1</th>\n",
       "      <td>66.623306</td>\n",
       "      <td>-89.045212</td>\n",
       "      <td>1951-01-01</td>\n",
       "      <td>109.169937</td>\n",
       "      <td>128.686707</td>\n",
       "      <td>149.757523</td>\n",
       "      <td>110.070961</td>\n",
       "      <td>130.774124</td>\n",
       "      <td>149.144318</td>\n",
       "    </tr>\n",
       "    <tr>\n",
       "      <th>2</th>\n",
       "      <td>66.623306</td>\n",
       "      <td>-89.045212</td>\n",
       "      <td>1952-01-01</td>\n",
       "      <td>103.477226</td>\n",
       "      <td>133.644638</td>\n",
       "      <td>160.624710</td>\n",
       "      <td>101.982391</td>\n",
       "      <td>134.047134</td>\n",
       "      <td>159.755310</td>\n",
       "    </tr>\n",
       "    <tr>\n",
       "      <th>3</th>\n",
       "      <td>66.623306</td>\n",
       "      <td>-89.045212</td>\n",
       "      <td>1953-01-01</td>\n",
       "      <td>102.191559</td>\n",
       "      <td>131.006851</td>\n",
       "      <td>158.441101</td>\n",
       "      <td>102.266777</td>\n",
       "      <td>130.683594</td>\n",
       "      <td>160.392029</td>\n",
       "    </tr>\n",
       "    <tr>\n",
       "      <th>4</th>\n",
       "      <td>66.623306</td>\n",
       "      <td>-89.045212</td>\n",
       "      <td>1954-01-01</td>\n",
       "      <td>109.389801</td>\n",
       "      <td>141.920380</td>\n",
       "      <td>169.858826</td>\n",
       "      <td>109.548889</td>\n",
       "      <td>141.883194</td>\n",
       "      <td>169.141571</td>\n",
       "    </tr>\n",
       "    <tr>\n",
       "      <th>...</th>\n",
       "      <td>...</td>\n",
       "      <td>...</td>\n",
       "      <td>...</td>\n",
       "      <td>...</td>\n",
       "      <td>...</td>\n",
       "      <td>...</td>\n",
       "      <td>...</td>\n",
       "      <td>...</td>\n",
       "      <td>...</td>\n",
       "    </tr>\n",
       "    <tr>\n",
       "      <th>11507101</th>\n",
       "      <td>40.041039</td>\n",
       "      <td>-74.045807</td>\n",
       "      <td>2096-01-01</td>\n",
       "      <td>4.686313</td>\n",
       "      <td>13.790977</td>\n",
       "      <td>59.855244</td>\n",
       "      <td>0.000000</td>\n",
       "      <td>6.462111</td>\n",
       "      <td>37.802505</td>\n",
       "    </tr>\n",
       "    <tr>\n",
       "      <th>11507102</th>\n",
       "      <td>40.041039</td>\n",
       "      <td>-74.045807</td>\n",
       "      <td>2097-01-01</td>\n",
       "      <td>6.848152</td>\n",
       "      <td>17.010681</td>\n",
       "      <td>52.099159</td>\n",
       "      <td>2.463510</td>\n",
       "      <td>4.530007</td>\n",
       "      <td>40.702274</td>\n",
       "    </tr>\n",
       "    <tr>\n",
       "      <th>11507103</th>\n",
       "      <td>40.041039</td>\n",
       "      <td>-74.045807</td>\n",
       "      <td>2098-01-01</td>\n",
       "      <td>8.020243</td>\n",
       "      <td>32.514015</td>\n",
       "      <td>63.753597</td>\n",
       "      <td>0.000000</td>\n",
       "      <td>5.677419</td>\n",
       "      <td>21.532455</td>\n",
       "    </tr>\n",
       "    <tr>\n",
       "      <th>11507104</th>\n",
       "      <td>40.041039</td>\n",
       "      <td>-74.045807</td>\n",
       "      <td>2099-01-01</td>\n",
       "      <td>1.936671</td>\n",
       "      <td>21.796797</td>\n",
       "      <td>29.183802</td>\n",
       "      <td>0.000000</td>\n",
       "      <td>2.411559</td>\n",
       "      <td>8.850348</td>\n",
       "    </tr>\n",
       "    <tr>\n",
       "      <th>11507105</th>\n",
       "      <td>40.041039</td>\n",
       "      <td>-74.045807</td>\n",
       "      <td>2100-01-01</td>\n",
       "      <td>2.579202</td>\n",
       "      <td>11.179572</td>\n",
       "      <td>70.440575</td>\n",
       "      <td>0.051389</td>\n",
       "      <td>10.483323</td>\n",
       "      <td>28.028383</td>\n",
       "    </tr>\n",
       "  </tbody>\n",
       "</table>\n",
       "<p>11507106 rows × 9 columns</p>\n",
       "</div>"
      ],
      "text/plain": [
       "                lat        lon       time  solidprcptot_p10_45  \\\n",
       "0         66.623306 -89.045212 1950-01-01           124.688156   \n",
       "1         66.623306 -89.045212 1951-01-01           109.169937   \n",
       "2         66.623306 -89.045212 1952-01-01           103.477226   \n",
       "3         66.623306 -89.045212 1953-01-01           102.191559   \n",
       "4         66.623306 -89.045212 1954-01-01           109.389801   \n",
       "...             ...        ...        ...                  ...   \n",
       "11507101  40.041039 -74.045807 2096-01-01             4.686313   \n",
       "11507102  40.041039 -74.045807 2097-01-01             6.848152   \n",
       "11507103  40.041039 -74.045807 2098-01-01             8.020243   \n",
       "11507104  40.041039 -74.045807 2099-01-01             1.936671   \n",
       "11507105  40.041039 -74.045807 2100-01-01             2.579202   \n",
       "\n",
       "          solidprcptot_p50_45  solidprcptot_p90_45  solidprcptot_p10_85  \\\n",
       "0                  144.241928           164.693527           125.154518   \n",
       "1                  128.686707           149.757523           110.070961   \n",
       "2                  133.644638           160.624710           101.982391   \n",
       "3                  131.006851           158.441101           102.266777   \n",
       "4                  141.920380           169.858826           109.548889   \n",
       "...                       ...                  ...                  ...   \n",
       "11507101            13.790977            59.855244             0.000000   \n",
       "11507102            17.010681            52.099159             2.463510   \n",
       "11507103            32.514015            63.753597             0.000000   \n",
       "11507104            21.796797            29.183802             0.000000   \n",
       "11507105            11.179572            70.440575             0.051389   \n",
       "\n",
       "          solidprcptot_p50_85  solidprcptot_p90_85  \n",
       "0                  145.417313           167.477890  \n",
       "1                  130.774124           149.144318  \n",
       "2                  134.047134           159.755310  \n",
       "3                  130.683594           160.392029  \n",
       "4                  141.883194           169.141571  \n",
       "...                       ...                  ...  \n",
       "11507101             6.462111            37.802505  \n",
       "11507102             4.530007            40.702274  \n",
       "11507103             5.677419            21.532455  \n",
       "11507104             2.411559             8.850348  \n",
       "11507105            10.483323            28.028383  \n",
       "\n",
       "[11507106 rows x 9 columns]"
      ]
     },
     "execution_count": 27,
     "metadata": {},
     "output_type": "execute_result"
    }
   ],
   "source": [
    "df2m"
   ]
  },
  {
   "cell_type": "markdown",
   "metadata": {},
   "source": [
    "# Cut by region for rcp45, 85 and Obs"
   ]
  },
  {
   "cell_type": "markdown",
   "metadata": {},
   "source": [
    "## Get the lat lon regions"
   ]
  },
  {
   "cell_type": "code",
   "execution_count": 28,
   "metadata": {},
   "outputs": [],
   "source": [
    "regions_folder = \"/home/mlopez/EXEC/Grids-polygons-regions/\""
   ]
  },
  {
   "cell_type": "code",
   "execution_count": 29,
   "metadata": {},
   "outputs": [
    {
     "data": {
      "text/plain": [
       "['/home/mlopez/EXEC/Grids-polygons-regions/DDE_STF_20K_REG_FOR_VUE_Slat_lon.feather',\n",
       " '/home/mlopez/EXEC/Grids-polygons-regions/DDE_STF_20K_UA_PER_VUE_Slat_lon.feather',\n",
       " '/home/mlopez/EXEC/Grids-polygons-regions/DOM_BIOlat_lon.feather',\n",
       " '/home/mlopez/EXEC/Grids-polygons-regions/REG_ECOlat_lon.feather',\n",
       " '/home/mlopez/EXEC/Grids-polygons-regions/SDOM_BIOlat_lon.feather',\n",
       " '/home/mlopez/EXEC/Grids-polygons-regions/Secteurs_Operations_Regionaleslat_lon.feather',\n",
       " '/home/mlopez/EXEC/Grids-polygons-regions/SREG_ECOlat_lon.feather',\n",
       " '/home/mlopez/EXEC/Grids-polygons-regions/territoire_guidelat_lon.feather']"
      ]
     },
     "execution_count": 29,
     "metadata": {},
     "output_type": "execute_result"
    }
   ],
   "source": [
    "files_regions = glob.glob(regions_folder+\"*\"+\"lat_lon.feather\")\n",
    "files_regions"
   ]
  },
  {
   "cell_type": "code",
   "execution_count": 30,
   "metadata": {},
   "outputs": [],
   "source": [
    "listdfreg=[]\n",
    "for region in files_regions:\n",
    "    df = pd.read_feather(region)\n",
    "    listdfreg.append(df)\n",
    "   "
   ]
  },
  {
   "cell_type": "markdown",
   "metadata": {},
   "source": [
    "## Create DF by region"
   ]
  },
  {
   "cell_type": "code",
   "execution_count": 31,
   "metadata": {},
   "outputs": [
    {
     "name": "stdout",
     "output_type": "stream",
     "text": [
      "DDE_STF_20K_REG_FOR_VUE_S NM_REG_FOR RF\n",
      "DDE_STF_20K_UA_PER_VUE_S PER_NO_UA UA\n",
      "DOM_BIO NOM DB\n",
      "REG_ECO NOM RE\n",
      "SDOM_BIO NOM SDB\n",
      "Secteurs_Operations_Regionales D_GENERAL SOR\n",
      "SREG_ECO NOM SRE\n",
      "territoire_guide TER_GUIDE TG\n"
     ]
    }
   ],
   "source": [
    "short_dict = {\"DDE_STF_20K_REG_FOR_VUE_S\": (\"NM_REG_FOR\", \"RF\"), \n",
    "            \"DDE_STF_20K_UA_PER_VUE_S\": (\"PER_NO_UA\", \"UA\"), \n",
    "              \"DOM_BIO\": (\"NOM\", \"DB\"), \n",
    "              \"REG_ECO\": (\"NOM\", \"RE\"), \n",
    "              \"SDOM_BIO\": (\"NOM\", \"SDB\"), \n",
    "              \"Secteurs_Operations_Regionales\": (\"D_GENERAL\", \"SOR\"), \n",
    "              \"SREG_ECO\": (\"NOM\", \"SRE\"),  \n",
    "              \"territoire_guide\": (\"TER_GUIDE\", \"TG\") \n",
    "              }\n",
    "\n",
    "for region, (name, short) in short_dict.items():\n",
    "    print(region, name, short)"
   ]
  },
  {
   "cell_type": "code",
   "execution_count": 32,
   "metadata": {},
   "outputs": [],
   "source": [
    "def replace_all(text, dic):\n",
    "    for i, j in dic.items():\n",
    "        text = text.replace(i, j)\n",
    "    return text"
   ]
  },
  {
   "cell_type": "code",
   "execution_count": 33,
   "metadata": {},
   "outputs": [],
   "source": [
    "d = { 'BAS-SAINT-LAURENT':\"Bas-Saint-Laurent\", \n",
    "     'SAGUENAY -LAC-SAINT-JEAN': \"Saguenay -Lac-Saint-Jean\",\n",
    "     'CAPITALE-NATIONALE-CHAUDIÈRE-APPALACHES':\"Capitale-Nationale-Chaudiere-Appalaches\",\n",
    "     'MAURICIE-CENTRE-DU-QUÉBEC':'Mauricie-Centre-du-Quebec','OUTAOUAIS':'Outaouais', \n",
    "     'ABITIBI-TEMISCAMINGUE':'Abitibi-Temiscamingue', 'COTE-NORD':'Cote-Nord',\n",
    "     'NORD-DU-QUEBEC':'Nord-Du-Quebec', 'GASPESIE-ILES-DE-LA-MADELEINE':'Gaspesie-Iles-De-La-Madeleine', \n",
    "     'LANAUDIERE':'Lanaudiere','LAURENTIDES':\"Laurentides\", \n",
    "     \"ESTRIE-MONTÉRÉGIE-LAVAL-MONTRÉAL\":\"Estrie-Monteregie-Laval-Montreal\", \n",
    "     \"é\": \"e\", \"É\": \"E\", \"à\": \"a\", \"è\": \"e\", \"Î\": \"i\", \"È\": \"E\", \"ô\" : \"o\", \"Ç\":\"C\", \"ç\":\"c\",\n",
    "       } "
   ]
  },
  {
   "cell_type": "markdown",
   "metadata": {},
   "source": [
    "## Cutting rcp45 and 85 by region and getting df with 4th degree polynomial"
   ]
  },
  {
   "cell_type": "code",
   "execution_count": 34,
   "metadata": {},
   "outputs": [],
   "source": [
    "def polysmooth(years, y, degree):\n",
    "    coef = np.polyfit(years, y, degree)\n",
    "    return np.polyval(coef,years)"
   ]
  },
  {
   "cell_type": "code",
   "execution_count": 35,
   "metadata": {},
   "outputs": [
    {
     "ename": "NameError",
     "evalue": "name 'dfdataregObs' is not defined",
     "output_type": "error",
     "traceback": [
      "\u001b[0;31m---------------------------------------------------------------------------\u001b[0m",
      "\u001b[0;31mNameError\u001b[0m                                 Traceback (most recent call last)",
      "\u001b[0;32m<ipython-input-35-d83d7be2eaca>\u001b[0m in \u001b[0;36m<module>\u001b[0;34m\u001b[0m\n\u001b[0;32m----> 1\u001b[0;31m \u001b[0mdfmeanObs\u001b[0m \u001b[0;34m=\u001b[0m \u001b[0mdfdataregObs\u001b[0m\u001b[0;34m.\u001b[0m\u001b[0mgroupby\u001b[0m\u001b[0;34m(\u001b[0m\u001b[0;34m[\u001b[0m\u001b[0;34m\"time\"\u001b[0m\u001b[0;34m,\u001b[0m \u001b[0mname\u001b[0m\u001b[0;34m]\u001b[0m\u001b[0;34m)\u001b[0m\u001b[0;34m.\u001b[0m\u001b[0mmean\u001b[0m\u001b[0;34m(\u001b[0m\u001b[0;34m)\u001b[0m\u001b[0;34m\u001b[0m\u001b[0;34m\u001b[0m\u001b[0m\n\u001b[0m",
      "\u001b[0;31mNameError\u001b[0m: name 'dfdataregObs' is not defined"
     ]
    }
   ],
   "source": [
    "dfmeanObs = dfdataregObs.groupby([\"time\", name]).mean() \n"
   ]
  },
  {
   "cell_type": "code",
   "execution_count": null,
   "metadata": {},
   "outputs": [],
   "source": [
    "dfmeanObs"
   ]
  },
  {
   "cell_type": "code",
   "execution_count": null,
   "metadata": {
    "scrolled": false
   },
   "outputs": [],
   "source": [
    "listdf2m = []\n",
    "\n",
    "for region, (name, short) in short_dict.items():\n",
    "    print(\"------------------------------------------------------------------\")\n",
    "    print (\"1/8... Cutting by region\")\n",
    "    print(region, name)\n",
    "    dfregion = pd.read_feather(\"/home/mlopez/EXEC/Grids-polygons-regions/\"+region+\"lat_lon.feather\")\n",
    "    print (\"2/8... Merging region with data\")\n",
    "    dfdatareg45 = pd.merge(dfregion, df2m, on=[\"lat\",\"lon\"])\n",
    "    dfdataregObs = pd.merge(dfregion, dfObs, on=[\"lat\",\"lon\"])\n",
    "    print (\"3/8... Get mean by year for every sub-region\")\n",
    "    dfmeanUA45 = dfdatareg45\n",
    "    dfmean45UA = dfmeanUA45.groupby([\"time\", name]).mean()\n",
    "    dfmean45UA2 = dfmean45UA.reset_index()\n",
    "    dfmeanObs = dfdataregObs.groupby([\"time\", name]).mean() \n",
    "    dfmeanObs2 = dfmeanObs.reset_index()\n",
    "    print(\"Merging 3 cases\")\n",
    "    df3m = pd.merge(dfmean45UA2, dfmeanObs2, how='left', on= [\"time\", name] )\n",
    "    print (\"4/8... Split by subregion\")\n",
    "    df3ma = df3m[['time', name, var+'_p10_45', var+'_p50_45', var+'_p90_45',\n",
    "                               var+'_p10_85', var+'_p50_85', var+'_p90_85', var+'_Obs']]\n",
    "    if (var == \"tg_mean\" or var== \"tn_mean\" or var==):\n",
    "        df3ma[var+\"_Obs\"] = df3ma[var+\"_Obs\"]- 273.15\n",
    "    if (var == \"solidprcptot\"):\n",
    "        df3ma[var+\"_Obs\"] = df3ma[var+\"_Obs\"]/10\n",
    "    df3ma[var+\"_Obs\"] = round(df3ma[var+\"_Obs\"], 2)\n",
    "    for name2,dfsr in df3ma.groupby(name):\n",
    "        print (\"                   \"+name2, name)\n",
    "        dfsrc = dfsr.copy()\n",
    "        print (\"6/8... 4th Polynomial - rcp45,85\")\n",
    "        years = dfsrc.time.dt.year\n",
    "        dfsrc[\"time\"] = years#.values\n",
    "        for p in ('_p10_45', '_p50_45', '_p90_45', '_p10_85', '_p50_85', '_p90_85'):\n",
    "            if (var == \"tg_mean\" or var== \"tn_mean\" or var==):\n",
    "                dfsrc[var+p] = polysmooth(years,dfsrc[var+p],4) - 273.15\n",
    "            if (var == \"solidprcptot\"):\n",
    "                dfsrc[var+p] = polysmooth(years,dfsrc[var+p],4)/10\n",
    "            dfsrc[var+p] = round(dfsrc[var+p], 2) \n",
    "        print(\" -----------------------8/8 Creating CSV file for sub-region \" +name2)\n",
    "        dfsrc.to_csv(replace_all(name2,d)+\"_\"+var+\"_annual.csv\")\n",
    "    \n",
    "    \n",
    "                            \n",
    "       "
   ]
  },
  {
   "cell_type": "code",
   "execution_count": null,
   "metadata": {},
   "outputs": [],
   "source": []
  },
  {
   "cell_type": "code",
   "execution_count": null,
   "metadata": {},
   "outputs": [],
   "source": []
  },
  {
   "cell_type": "code",
   "execution_count": null,
   "metadata": {},
   "outputs": [],
   "source": []
  }
 ],
 "metadata": {
  "kernelspec": {
   "display_name": "Python 3",
   "language": "python",
   "name": "python3"
  },
  "language_info": {
   "codemirror_mode": {
    "name": "ipython",
    "version": 3
   },
   "file_extension": ".py",
   "mimetype": "text/x-python",
   "name": "python",
   "nbconvert_exporter": "python",
   "pygments_lexer": "ipython3",
   "version": "3.8.1"
  }
 },
 "nbformat": 4,
 "nbformat_minor": 4
}
