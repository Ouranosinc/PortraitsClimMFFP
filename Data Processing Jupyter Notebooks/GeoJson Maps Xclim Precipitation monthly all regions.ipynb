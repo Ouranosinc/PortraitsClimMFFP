{
 "cells": [
  {
   "cell_type": "code",
   "execution_count": 1,
   "metadata": {},
   "outputs": [],
   "source": [
    "%load_ext autoreload\n",
    "%autoreload 2\n",
    "import xarray as xr\n",
    "import matplotlib.pyplot as plt\n",
    "import pandas as pd\n",
    "import processing_netcdf as pcdf\n",
    "import geopandas as gpd\n",
    "from geopandas import GeoDataFrame\n",
    "import shapely.geometry \n",
    "import numpy as np\n",
    "from shapely import geometry as gmty\n",
    "from geofeather import to_geofeather, from_geofeather\n",
    "import glob\n",
    "import os\n",
    "import pyarrow\n",
    "from xclim import ensembles as ens\n",
    "from xclim import subset\n",
    "import matplotlib.pyplot as plt"
   ]
  },
  {
   "cell_type": "code",
   "execution_count": 2,
   "metadata": {},
   "outputs": [],
   "source": [
    "folder = \"/scen3/scenario/netcdf/ouranos/portraits-clim-2.0/\""
   ]
  },
  {
   "cell_type": "markdown",
   "metadata": {},
   "source": [
    "# Select variable"
   ]
  },
  {
   "cell_type": "code",
   "execution_count": 3,
   "metadata": {},
   "outputs": [],
   "source": [
    "var = \"prcptot\""
   ]
  },
  {
   "cell_type": "code",
   "execution_count": 4,
   "metadata": {},
   "outputs": [
    {
     "data": {
      "text/plain": [
       "['/scen3/scenario/netcdf/ouranos/portraits-clim-2.0/ACCESS1-3_rcp45_prcptot_monthly.nc',\n",
       " '/scen3/scenario/netcdf/ouranos/portraits-clim-2.0/BNU-ESM_rcp45_prcptot_monthly.nc',\n",
       " '/scen3/scenario/netcdf/ouranos/portraits-clim-2.0/CanESM2_rcp45_prcptot_monthly.nc',\n",
       " '/scen3/scenario/netcdf/ouranos/portraits-clim-2.0/CMCC-CMS_rcp45_prcptot_monthly.nc',\n",
       " '/scen3/scenario/netcdf/ouranos/portraits-clim-2.0/GFDL-ESM2M_rcp45_prcptot_monthly.nc',\n",
       " '/scen3/scenario/netcdf/ouranos/portraits-clim-2.0/HadGEM2-CC_rcp45_prcptot_monthly.nc',\n",
       " '/scen3/scenario/netcdf/ouranos/portraits-clim-2.0/INM-CM4_rcp45_prcptot_monthly.nc',\n",
       " '/scen3/scenario/netcdf/ouranos/portraits-clim-2.0/IPSL-CM5A-LR_rcp45_prcptot_monthly.nc',\n",
       " '/scen3/scenario/netcdf/ouranos/portraits-clim-2.0/IPSL-CM5B-LR_rcp45_prcptot_monthly.nc',\n",
       " '/scen3/scenario/netcdf/ouranos/portraits-clim-2.0/MPI-ESM-LR_rcp45_prcptot_monthly.nc',\n",
       " '/scen3/scenario/netcdf/ouranos/portraits-clim-2.0/NorESM1-M_rcp45_prcptot_monthly.nc']"
      ]
     },
     "execution_count": 4,
     "metadata": {},
     "output_type": "execute_result"
    }
   ],
   "source": [
    "#Variable \n",
    "variable85=\"rcp85_\"+var+\"_monthly\"\n",
    "variable45=\"rcp45_\"+var+\"_monthly\"\n",
    "#variable=\"rcp[48]5_tg_mean_annual\"\n",
    "\n",
    "files85 = glob.glob(folder+\"*\"+variable85+\".nc\")\n",
    "files45 = glob.glob(folder+\"*\"+variable45+\".nc\")\n",
    "#ex: ACCESS1-3_rcp45_tn_mean_annual.nc\n",
    "files85\n",
    "files45"
   ]
  },
  {
   "cell_type": "code",
   "execution_count": 5,
   "metadata": {},
   "outputs": [],
   "source": [
    "monthlist = [\"january\", \"february\", \"march\", \"april\", \"may\", \"june\", \"july\", \"august\", \"september\", \n",
    "             \"october\", \"november\", \"december\"]"
   ]
  },
  {
   "cell_type": "markdown",
   "metadata": {},
   "source": [
    "# FOR RCP 45"
   ]
  },
  {
   "cell_type": "markdown",
   "metadata": {},
   "source": [
    "## Subsetting arrays by periods of time with Xclim"
   ]
  },
  {
   "cell_type": "code",
   "execution_count": 6,
   "metadata": {},
   "outputs": [
    {
     "name": "stdout",
     "output_type": "stream",
     "text": [
      "0\n",
      "<xarray.Dataset>\n",
      "Dimensions:      (lat: 320, lon: 416, realization: 11, time: 120)\n",
      "Coordinates:\n",
      "  * lon          (lon) float32 -89.04521 -88.96188 ... -54.54659 -54.46326\n",
      "  * lat          (lat) float32 66.62331 66.53998 66.45665 ... 40.12437 40.04104\n",
      "  * time         (time) datetime64[ns] 1981-01-01 1982-01-01 ... 2100-01-01\n",
      "  * realization  (realization) int64 0 1 2 3 4 5 6 7 8 9 10\n",
      "Data variables:\n",
      "    prcptot      (realization, time, lat, lon) float32 dask.array<chunksize=(1, 1, 320, 416), meta=np.ndarray>\n",
      "Attributes:\n",
      "    Conventions:     CF-1.5\n",
      "    title:           ACCESS1-3 model output prepared for CMIP5 historical\n",
      "    history:         CMIP5 compliant file produced from raw ACCESS model outp...\n",
      "    institution:     CSIRO (Commonwealth Scientific and Industrial Research O...\n",
      "    source:          ACCESS1-3 2011. Atmosphere: AGCM v1.0 (N96 grid-point, 1...\n",
      "    redistribution:  Redistribution prohibited. For internal use only.\n",
      "1\n",
      "<xarray.Dataset>\n",
      "Dimensions:      (lat: 320, lon: 416, realization: 11, time: 120)\n",
      "Coordinates:\n",
      "  * lon          (lon) float32 -89.04521 -88.96188 ... -54.54659 -54.46326\n",
      "  * lat          (lat) float32 66.62331 66.53998 66.45665 ... 40.12437 40.04104\n",
      "  * time         (time) datetime64[ns] 1981-02-01 1982-02-01 ... 2100-02-01\n",
      "  * realization  (realization) int64 0 1 2 3 4 5 6 7 8 9 10\n",
      "Data variables:\n",
      "    prcptot      (realization, time, lat, lon) float32 dask.array<chunksize=(1, 1, 320, 416), meta=np.ndarray>\n",
      "Attributes:\n",
      "    Conventions:     CF-1.5\n",
      "    title:           ACCESS1-3 model output prepared for CMIP5 historical\n",
      "    history:         CMIP5 compliant file produced from raw ACCESS model outp...\n",
      "    institution:     CSIRO (Commonwealth Scientific and Industrial Research O...\n",
      "    source:          ACCESS1-3 2011. Atmosphere: AGCM v1.0 (N96 grid-point, 1...\n",
      "    redistribution:  Redistribution prohibited. For internal use only.\n",
      "2\n",
      "<xarray.Dataset>\n",
      "Dimensions:      (lat: 320, lon: 416, realization: 11, time: 120)\n",
      "Coordinates:\n",
      "  * lon          (lon) float32 -89.04521 -88.96188 ... -54.54659 -54.46326\n",
      "  * lat          (lat) float32 66.62331 66.53998 66.45665 ... 40.12437 40.04104\n",
      "  * time         (time) datetime64[ns] 1981-03-01 1982-03-01 ... 2100-03-01\n",
      "  * realization  (realization) int64 0 1 2 3 4 5 6 7 8 9 10\n",
      "Data variables:\n",
      "    prcptot      (realization, time, lat, lon) float32 dask.array<chunksize=(1, 1, 320, 416), meta=np.ndarray>\n",
      "Attributes:\n",
      "    Conventions:     CF-1.5\n",
      "    title:           ACCESS1-3 model output prepared for CMIP5 historical\n",
      "    history:         CMIP5 compliant file produced from raw ACCESS model outp...\n",
      "    institution:     CSIRO (Commonwealth Scientific and Industrial Research O...\n",
      "    source:          ACCESS1-3 2011. Atmosphere: AGCM v1.0 (N96 grid-point, 1...\n",
      "    redistribution:  Redistribution prohibited. For internal use only.\n",
      "3\n",
      "<xarray.Dataset>\n",
      "Dimensions:      (lat: 320, lon: 416, realization: 11, time: 120)\n",
      "Coordinates:\n",
      "  * lon          (lon) float32 -89.04521 -88.96188 ... -54.54659 -54.46326\n",
      "  * lat          (lat) float32 66.62331 66.53998 66.45665 ... 40.12437 40.04104\n",
      "  * time         (time) datetime64[ns] 1981-04-01 1982-04-01 ... 2100-04-01\n",
      "  * realization  (realization) int64 0 1 2 3 4 5 6 7 8 9 10\n",
      "Data variables:\n",
      "    prcptot      (realization, time, lat, lon) float32 dask.array<chunksize=(1, 1, 320, 416), meta=np.ndarray>\n",
      "Attributes:\n",
      "    Conventions:     CF-1.5\n",
      "    title:           ACCESS1-3 model output prepared for CMIP5 historical\n",
      "    history:         CMIP5 compliant file produced from raw ACCESS model outp...\n",
      "    institution:     CSIRO (Commonwealth Scientific and Industrial Research O...\n",
      "    source:          ACCESS1-3 2011. Atmosphere: AGCM v1.0 (N96 grid-point, 1...\n",
      "    redistribution:  Redistribution prohibited. For internal use only.\n",
      "4\n",
      "<xarray.Dataset>\n",
      "Dimensions:      (lat: 320, lon: 416, realization: 11, time: 120)\n",
      "Coordinates:\n",
      "  * lon          (lon) float32 -89.04521 -88.96188 ... -54.54659 -54.46326\n",
      "  * lat          (lat) float32 66.62331 66.53998 66.45665 ... 40.12437 40.04104\n",
      "  * time         (time) datetime64[ns] 1981-05-01 1982-05-01 ... 2100-05-01\n",
      "  * realization  (realization) int64 0 1 2 3 4 5 6 7 8 9 10\n",
      "Data variables:\n",
      "    prcptot      (realization, time, lat, lon) float32 dask.array<chunksize=(1, 1, 320, 416), meta=np.ndarray>\n",
      "Attributes:\n",
      "    Conventions:     CF-1.5\n",
      "    title:           ACCESS1-3 model output prepared for CMIP5 historical\n",
      "    history:         CMIP5 compliant file produced from raw ACCESS model outp...\n",
      "    institution:     CSIRO (Commonwealth Scientific and Industrial Research O...\n",
      "    source:          ACCESS1-3 2011. Atmosphere: AGCM v1.0 (N96 grid-point, 1...\n",
      "    redistribution:  Redistribution prohibited. For internal use only.\n",
      "5\n",
      "<xarray.Dataset>\n",
      "Dimensions:      (lat: 320, lon: 416, realization: 11, time: 120)\n",
      "Coordinates:\n",
      "  * lon          (lon) float32 -89.04521 -88.96188 ... -54.54659 -54.46326\n",
      "  * lat          (lat) float32 66.62331 66.53998 66.45665 ... 40.12437 40.04104\n",
      "  * time         (time) datetime64[ns] 1981-06-01 1982-06-01 ... 2100-06-01\n",
      "  * realization  (realization) int64 0 1 2 3 4 5 6 7 8 9 10\n",
      "Data variables:\n",
      "    prcptot      (realization, time, lat, lon) float32 dask.array<chunksize=(1, 1, 320, 416), meta=np.ndarray>\n",
      "Attributes:\n",
      "    Conventions:     CF-1.5\n",
      "    title:           ACCESS1-3 model output prepared for CMIP5 historical\n",
      "    history:         CMIP5 compliant file produced from raw ACCESS model outp...\n",
      "    institution:     CSIRO (Commonwealth Scientific and Industrial Research O...\n",
      "    source:          ACCESS1-3 2011. Atmosphere: AGCM v1.0 (N96 grid-point, 1...\n",
      "    redistribution:  Redistribution prohibited. For internal use only.\n",
      "6\n",
      "<xarray.Dataset>\n",
      "Dimensions:      (lat: 320, lon: 416, realization: 11, time: 120)\n",
      "Coordinates:\n",
      "  * lon          (lon) float32 -89.04521 -88.96188 ... -54.54659 -54.46326\n",
      "  * lat          (lat) float32 66.62331 66.53998 66.45665 ... 40.12437 40.04104\n",
      "  * time         (time) datetime64[ns] 1981-07-01 1982-07-01 ... 2100-07-01\n",
      "  * realization  (realization) int64 0 1 2 3 4 5 6 7 8 9 10\n",
      "Data variables:\n",
      "    prcptot      (realization, time, lat, lon) float32 dask.array<chunksize=(1, 1, 320, 416), meta=np.ndarray>\n",
      "Attributes:\n",
      "    Conventions:     CF-1.5\n",
      "    title:           ACCESS1-3 model output prepared for CMIP5 historical\n",
      "    history:         CMIP5 compliant file produced from raw ACCESS model outp...\n",
      "    institution:     CSIRO (Commonwealth Scientific and Industrial Research O...\n",
      "    source:          ACCESS1-3 2011. Atmosphere: AGCM v1.0 (N96 grid-point, 1...\n",
      "    redistribution:  Redistribution prohibited. For internal use only.\n",
      "7\n",
      "<xarray.Dataset>\n",
      "Dimensions:      (lat: 320, lon: 416, realization: 11, time: 120)\n",
      "Coordinates:\n",
      "  * lon          (lon) float32 -89.04521 -88.96188 ... -54.54659 -54.46326\n",
      "  * lat          (lat) float32 66.62331 66.53998 66.45665 ... 40.12437 40.04104\n",
      "  * time         (time) datetime64[ns] 1981-08-01 1982-08-01 ... 2100-08-01\n",
      "  * realization  (realization) int64 0 1 2 3 4 5 6 7 8 9 10\n",
      "Data variables:\n",
      "    prcptot      (realization, time, lat, lon) float32 dask.array<chunksize=(1, 1, 320, 416), meta=np.ndarray>\n",
      "Attributes:\n",
      "    Conventions:     CF-1.5\n",
      "    title:           ACCESS1-3 model output prepared for CMIP5 historical\n",
      "    history:         CMIP5 compliant file produced from raw ACCESS model outp...\n",
      "    institution:     CSIRO (Commonwealth Scientific and Industrial Research O...\n",
      "    source:          ACCESS1-3 2011. Atmosphere: AGCM v1.0 (N96 grid-point, 1...\n",
      "    redistribution:  Redistribution prohibited. For internal use only.\n",
      "8\n",
      "<xarray.Dataset>\n",
      "Dimensions:      (lat: 320, lon: 416, realization: 11, time: 120)\n",
      "Coordinates:\n",
      "  * lon          (lon) float32 -89.04521 -88.96188 ... -54.54659 -54.46326\n",
      "  * lat          (lat) float32 66.62331 66.53998 66.45665 ... 40.12437 40.04104\n",
      "  * time         (time) datetime64[ns] 1981-09-01 1982-09-01 ... 2100-09-01\n",
      "  * realization  (realization) int64 0 1 2 3 4 5 6 7 8 9 10\n",
      "Data variables:\n",
      "    prcptot      (realization, time, lat, lon) float32 dask.array<chunksize=(1, 1, 320, 416), meta=np.ndarray>\n",
      "Attributes:\n",
      "    Conventions:     CF-1.5\n",
      "    title:           ACCESS1-3 model output prepared for CMIP5 historical\n",
      "    history:         CMIP5 compliant file produced from raw ACCESS model outp...\n",
      "    institution:     CSIRO (Commonwealth Scientific and Industrial Research O...\n",
      "    source:          ACCESS1-3 2011. Atmosphere: AGCM v1.0 (N96 grid-point, 1...\n",
      "    redistribution:  Redistribution prohibited. For internal use only.\n",
      "9\n",
      "<xarray.Dataset>\n",
      "Dimensions:      (lat: 320, lon: 416, realization: 11, time: 120)\n",
      "Coordinates:\n",
      "  * lon          (lon) float32 -89.04521 -88.96188 ... -54.54659 -54.46326\n",
      "  * lat          (lat) float32 66.62331 66.53998 66.45665 ... 40.12437 40.04104\n",
      "  * time         (time) datetime64[ns] 1981-10-01 1982-10-01 ... 2100-10-01\n",
      "  * realization  (realization) int64 0 1 2 3 4 5 6 7 8 9 10\n",
      "Data variables:\n",
      "    prcptot      (realization, time, lat, lon) float32 dask.array<chunksize=(1, 1, 320, 416), meta=np.ndarray>\n",
      "Attributes:\n",
      "    Conventions:     CF-1.5\n",
      "    title:           ACCESS1-3 model output prepared for CMIP5 historical\n",
      "    history:         CMIP5 compliant file produced from raw ACCESS model outp...\n",
      "    institution:     CSIRO (Commonwealth Scientific and Industrial Research O...\n",
      "    source:          ACCESS1-3 2011. Atmosphere: AGCM v1.0 (N96 grid-point, 1...\n",
      "    redistribution:  Redistribution prohibited. For internal use only.\n",
      "10\n",
      "<xarray.Dataset>\n",
      "Dimensions:      (lat: 320, lon: 416, realization: 11, time: 120)\n",
      "Coordinates:\n",
      "  * lon          (lon) float32 -89.04521 -88.96188 ... -54.54659 -54.46326\n",
      "  * lat          (lat) float32 66.62331 66.53998 66.45665 ... 40.12437 40.04104\n",
      "  * time         (time) datetime64[ns] 1981-11-01 1982-11-01 ... 2100-11-01\n",
      "  * realization  (realization) int64 0 1 2 3 4 5 6 7 8 9 10\n",
      "Data variables:\n",
      "    prcptot      (realization, time, lat, lon) float32 dask.array<chunksize=(1, 1, 320, 416), meta=np.ndarray>\n",
      "Attributes:\n",
      "    Conventions:     CF-1.5\n",
      "    title:           ACCESS1-3 model output prepared for CMIP5 historical\n",
      "    history:         CMIP5 compliant file produced from raw ACCESS model outp...\n",
      "    institution:     CSIRO (Commonwealth Scientific and Industrial Research O...\n",
      "    source:          ACCESS1-3 2011. Atmosphere: AGCM v1.0 (N96 grid-point, 1...\n",
      "    redistribution:  Redistribution prohibited. For internal use only.\n",
      "11\n",
      "<xarray.Dataset>\n",
      "Dimensions:      (lat: 320, lon: 416, realization: 11, time: 120)\n",
      "Coordinates:\n",
      "  * lon          (lon) float32 -89.04521 -88.96188 ... -54.54659 -54.46326\n",
      "  * lat          (lat) float32 66.62331 66.53998 66.45665 ... 40.12437 40.04104\n",
      "  * time         (time) datetime64[ns] 1981-12-01 1982-12-01 ... 2100-12-01\n",
      "  * realization  (realization) int64 0 1 2 3 4 5 6 7 8 9 10\n",
      "Data variables:\n",
      "    prcptot      (realization, time, lat, lon) float32 dask.array<chunksize=(1, 1, 320, 416), meta=np.ndarray>\n",
      "Attributes:\n",
      "    Conventions:     CF-1.5\n",
      "    title:           ACCESS1-3 model output prepared for CMIP5 historical\n",
      "    history:         CMIP5 compliant file produced from raw ACCESS model outp...\n",
      "    institution:     CSIRO (Commonwealth Scientific and Industrial Research O...\n",
      "    source:          ACCESS1-3 2011. Atmosphere: AGCM v1.0 (N96 grid-point, 1...\n",
      "    redistribution:  Redistribution prohibited. For internal use only.\n"
     ]
    }
   ],
   "source": [
    "dsEns45= ens.create_ensemble(files45)\n",
    "dsEns45.time.dt.month[0:12]\n",
    "# Monthly example 30 y means\n",
    "listds = []\n",
    "i=0\n",
    "for s in dsEns45.time.dt.month[0:12]:\n",
    "    print (i)\n",
    "    tmp1 = dsEns45.sel(time=(dsEns45.time.dt.year>=1981))\n",
    "    tmp1 = tmp1.sel(time=(tmp1.time.dt.month==s))\n",
    "    print(tmp1)\n",
    "    i = i+1\n",
    "    listds.append(tmp1)"
   ]
  },
  {
   "cell_type": "markdown",
   "metadata": {},
   "source": [
    "## Loop to create all 12 dataframes"
   ]
  },
  {
   "cell_type": "code",
   "execution_count": 7,
   "metadata": {},
   "outputs": [
    {
     "name": "stdout",
     "output_type": "stream",
     "text": [
      "Dataset number:  0 --------------\n",
      "Percentiles Obteined\n"
     ]
    },
    {
     "ename": "KeyboardInterrupt",
     "evalue": "",
     "output_type": "error",
     "traceback": [
      "\u001b[0;31m---------------------------------------------------------------------------\u001b[0m",
      "\u001b[0;31mKeyboardInterrupt\u001b[0m                         Traceback (most recent call last)",
      "\u001b[0;32m<ipython-input-7-80b9dd08cd58>\u001b[0m in \u001b[0;36m<module>\u001b[0;34m\u001b[0m\n\u001b[1;32m      6\u001b[0m     \u001b[0mprint\u001b[0m \u001b[0;34m(\u001b[0m\u001b[0;34m\"Percentiles Obteined\"\u001b[0m\u001b[0;34m)\u001b[0m\u001b[0;34m\u001b[0m\u001b[0;34m\u001b[0m\u001b[0m\n\u001b[1;32m      7\u001b[0m     \u001b[0mdf45\u001b[0m \u001b[0;34m=\u001b[0m \u001b[0mperc45\u001b[0m\u001b[0;34m.\u001b[0m\u001b[0mto_dataframe\u001b[0m\u001b[0;34m(\u001b[0m\u001b[0;34m)\u001b[0m\u001b[0;34m\u001b[0m\u001b[0;34m\u001b[0m\u001b[0m\n\u001b[0;32m----> 8\u001b[0;31m     \u001b[0mdf452\u001b[0m \u001b[0;34m=\u001b[0m \u001b[0mdf45\u001b[0m\u001b[0;34m.\u001b[0m\u001b[0mreset_index\u001b[0m\u001b[0;34m(\u001b[0m\u001b[0;34m)\u001b[0m\u001b[0;34m\u001b[0m\u001b[0;34m\u001b[0m\u001b[0m\n\u001b[0m\u001b[1;32m      9\u001b[0m     \u001b[0mdf453\u001b[0m \u001b[0;34m=\u001b[0m \u001b[0mdf452\u001b[0m\u001b[0;34m.\u001b[0m\u001b[0mloc\u001b[0m\u001b[0;34m[\u001b[0m\u001b[0mdf452\u001b[0m\u001b[0;34m[\u001b[0m\u001b[0;34m\"realization\"\u001b[0m\u001b[0;34m]\u001b[0m \u001b[0;34m==\u001b[0m \u001b[0;36m0\u001b[0m\u001b[0;34m]\u001b[0m\u001b[0;34m.\u001b[0m\u001b[0mdropna\u001b[0m\u001b[0;34m(\u001b[0m\u001b[0;34m)\u001b[0m\u001b[0;34m\u001b[0m\u001b[0;34m\u001b[0m\u001b[0m\n\u001b[1;32m     10\u001b[0m     \u001b[0mprint\u001b[0m \u001b[0;34m(\u001b[0m\u001b[0;34m\"Converted to DF\"\u001b[0m\u001b[0;34m)\u001b[0m\u001b[0;34m\u001b[0m\u001b[0;34m\u001b[0m\u001b[0m\n",
      "\u001b[0;32m~/EXEC/anaconda3/envs/python37-2/lib/python3.8/site-packages/pandas/core/frame.py\u001b[0m in \u001b[0;36mreset_index\u001b[0;34m(self, level, drop, inplace, col_level, col_fill)\u001b[0m\n\u001b[1;32m   4706\u001b[0m                     \u001b[0mname\u001b[0m \u001b[0;34m=\u001b[0m \u001b[0mtuple\u001b[0m\u001b[0;34m(\u001b[0m\u001b[0mname_lst\u001b[0m\u001b[0;34m)\u001b[0m\u001b[0;34m\u001b[0m\u001b[0;34m\u001b[0m\u001b[0m\n\u001b[1;32m   4707\u001b[0m                 \u001b[0;31m# to ndarray and maybe infer different dtype\u001b[0m\u001b[0;34m\u001b[0m\u001b[0;34m\u001b[0m\u001b[0;34m\u001b[0m\u001b[0m\n\u001b[0;32m-> 4708\u001b[0;31m                 \u001b[0mlevel_values\u001b[0m \u001b[0;34m=\u001b[0m \u001b[0m_maybe_casted_values\u001b[0m\u001b[0;34m(\u001b[0m\u001b[0mlev\u001b[0m\u001b[0;34m,\u001b[0m \u001b[0mlab\u001b[0m\u001b[0;34m)\u001b[0m\u001b[0;34m\u001b[0m\u001b[0;34m\u001b[0m\u001b[0m\n\u001b[0m\u001b[1;32m   4709\u001b[0m                 \u001b[0mnew_obj\u001b[0m\u001b[0;34m.\u001b[0m\u001b[0minsert\u001b[0m\u001b[0;34m(\u001b[0m\u001b[0;36m0\u001b[0m\u001b[0;34m,\u001b[0m \u001b[0mname\u001b[0m\u001b[0;34m,\u001b[0m \u001b[0mlevel_values\u001b[0m\u001b[0;34m)\u001b[0m\u001b[0;34m\u001b[0m\u001b[0;34m\u001b[0m\u001b[0m\n\u001b[1;32m   4710\u001b[0m \u001b[0;34m\u001b[0m\u001b[0m\n",
      "\u001b[0;32m~/EXEC/anaconda3/envs/python37-2/lib/python3.8/site-packages/pandas/core/frame.py\u001b[0m in \u001b[0;36m_maybe_casted_values\u001b[0;34m(index, labels)\u001b[0m\n\u001b[1;32m   4643\u001b[0m                     \u001b[0mvalues\u001b[0m\u001b[0;34m.\u001b[0m\u001b[0mfill\u001b[0m\u001b[0;34m(\u001b[0m\u001b[0mnp\u001b[0m\u001b[0;34m.\u001b[0m\u001b[0mnan\u001b[0m\u001b[0;34m)\u001b[0m\u001b[0;34m\u001b[0m\u001b[0;34m\u001b[0m\u001b[0m\n\u001b[1;32m   4644\u001b[0m                 \u001b[0;32melse\u001b[0m\u001b[0;34m:\u001b[0m\u001b[0;34m\u001b[0m\u001b[0;34m\u001b[0m\u001b[0m\n\u001b[0;32m-> 4645\u001b[0;31m                     \u001b[0mvalues\u001b[0m \u001b[0;34m=\u001b[0m \u001b[0mvalues\u001b[0m\u001b[0;34m.\u001b[0m\u001b[0mtake\u001b[0m\u001b[0;34m(\u001b[0m\u001b[0mlabels\u001b[0m\u001b[0;34m)\u001b[0m\u001b[0;34m\u001b[0m\u001b[0;34m\u001b[0m\u001b[0m\n\u001b[0m\u001b[1;32m   4646\u001b[0m \u001b[0;34m\u001b[0m\u001b[0m\n\u001b[1;32m   4647\u001b[0m                     \u001b[0;31m# TODO(https://github.com/pandas-dev/pandas/issues/24206)\u001b[0m\u001b[0;34m\u001b[0m\u001b[0;34m\u001b[0m\u001b[0;34m\u001b[0m\u001b[0m\n",
      "\u001b[0;31mKeyboardInterrupt\u001b[0m: "
     ]
    }
   ],
   "source": [
    "i = 0\n",
    "df45list = []\n",
    "for ds in listds:\n",
    "    print (\"Dataset number: \", i, \"--------------\")\n",
    "    perc45 = ens.ensemble_percentiles(ds)\n",
    "    print (\"Percentiles Obteined\")\n",
    "    df45 = perc45.to_dataframe()\n",
    "    df452 = df45.reset_index()\n",
    "    df453 = df452.loc[df452[\"realization\"] == 0].dropna()\n",
    "    print (\"Converted to DF\")\n",
    "    year_groups = {y:0 for y in range(1980,2011)}\n",
    "    year_groups.update({y:1 for y in range(2041,2071)})\n",
    "    year_groups.update({y:2 for y in range(2071,2101)})\n",
    "    dfp = df453.groupby([df453.time.dt.year.map(year_groups), \"lat\",\"lon\", \"realization\"]).mean()\n",
    "    dfp452 =  dfp.reset_index()\n",
    "    print (\"Split in 3 different time periods\")\n",
    "    df45C = dfp452.copy()\n",
    "    df45C[var+\"_p10\"] = round(df45C[var+\"_p10\"],2)\n",
    "    df45C[var+\"_p50\"] = round(df45C[var+\"_p50\"],2)\n",
    "    df45C[var+\"_p90\"] = round(df45C[var+\"_p90\"],2)\n",
    "    print (\"Transformed in Celsiuds and rounded\")\n",
    "    Region1i45 = df45C.drop(columns=[\"realization\"])\n",
    "    print (\"pivoted\")\n",
    "    df45f = Region1i45.pivot_table(index=[\"lat\",\"lon\"], columns=\"time\")\n",
    "    print (\"DF pivoted\")\n",
    "    if i== 0: month = \"january\" \n",
    "    elif i == 1: month = \"february\"\n",
    "    elif i == 2: month = \"march\"\n",
    "    elif i == 3: month = \"april\"\n",
    "    elif i == 4: month = \"may\"\n",
    "    elif i == 5: month = \"june\"\n",
    "    elif i == 6: month = \"july\"\n",
    "    elif i == 7: month = \"august\"\n",
    "    elif i == 8: month = \"september\"\n",
    "    elif i == 9: month = \"october\"\n",
    "    elif i == 10: month = \"november\"\n",
    "    elif i == 11: month = \"december\"    \n",
    "    print (month)         \n",
    "    df45f.columns = [month + \"_\" + year + \"rcp45_p\"+p\n",
    "                     for p in [\"10\", \"50\", \"90\"]\n",
    "                     for year in [\"hist_\",\"t2050_\", \"t2080_\"]]\n",
    "    print(\"Columns renamed\")\n",
    "    df45list.append(df45f)\n",
    "    print (\"DF added to the list\")\n",
    "    i = i + 1\n",
    "    "
   ]
  },
  {
   "cell_type": "code",
   "execution_count": null,
   "metadata": {},
   "outputs": [],
   "source": [
    "df45list\n"
   ]
  },
  {
   "cell_type": "code",
   "execution_count": 22,
   "metadata": {},
   "outputs": [],
   "source": [
    "def merge_multiple_dfs(df_list, on):\n",
    "    df_result = df_list[0]\n",
    "    for df in df_list[1:]:\n",
    "        df_result = df_result.merge(df, on=on)\n",
    "    return df_result"
   ]
  },
  {
   "cell_type": "code",
   "execution_count": 12,
   "metadata": {},
   "outputs": [],
   "source": [
    "mkey = [\"lat\", \"lon\"]"
   ]
  },
  {
   "cell_type": "code",
   "execution_count": null,
   "metadata": {},
   "outputs": [],
   "source": [
    "dfse45 = merge_multiple_dfs(df45list[0:12], on=mkey)"
   ]
  },
  {
   "cell_type": "code",
   "execution_count": null,
   "metadata": {},
   "outputs": [],
   "source": [
    "dfse452 = dfse45.reset_index()"
   ]
  },
  {
   "cell_type": "code",
   "execution_count": null,
   "metadata": {},
   "outputs": [],
   "source": [
    "dfse452.to_feather(\"/home/mlopez/EXEC/Processed data to clip with regions/rcp45\"+var+\"_monthly.feather\")"
   ]
  },
  {
   "cell_type": "code",
   "execution_count": 9,
   "metadata": {},
   "outputs": [],
   "source": [
    "dfse452 = pd.read_feather(\"/home/mlopez/EXEC/Processed data to clip with regions/rcp45\"+var+\"_monthly.feather\")"
   ]
  },
  {
   "cell_type": "code",
   "execution_count": 10,
   "metadata": {},
   "outputs": [
    {
     "data": {
      "text/html": [
       "<div>\n",
       "<style scoped>\n",
       "    .dataframe tbody tr th:only-of-type {\n",
       "        vertical-align: middle;\n",
       "    }\n",
       "\n",
       "    .dataframe tbody tr th {\n",
       "        vertical-align: top;\n",
       "    }\n",
       "\n",
       "    .dataframe thead th {\n",
       "        text-align: right;\n",
       "    }\n",
       "</style>\n",
       "<table border=\"1\" class=\"dataframe\">\n",
       "  <thead>\n",
       "    <tr style=\"text-align: right;\">\n",
       "      <th></th>\n",
       "      <th>lat</th>\n",
       "      <th>lon</th>\n",
       "      <th>january_t2050_rcp45_p10</th>\n",
       "      <th>january_t2080_rcp45_p10</th>\n",
       "      <th>january_t2050_rcp45_p50</th>\n",
       "      <th>january_t2080_rcp45_p50</th>\n",
       "      <th>january_t2050_rcp45_p90</th>\n",
       "      <th>january_t2080_rcp45_p90</th>\n",
       "      <th>february_t2050_rcp45_p10</th>\n",
       "      <th>february_t2080_rcp45_p10</th>\n",
       "      <th>...</th>\n",
       "      <th>november_t2050_rcp45_p50</th>\n",
       "      <th>november_t2080_rcp45_p50</th>\n",
       "      <th>november_t2050_rcp45_p90</th>\n",
       "      <th>november_t2080_rcp45_p90</th>\n",
       "      <th>december_t2050_rcp45_p10</th>\n",
       "      <th>december_t2080_rcp45_p10</th>\n",
       "      <th>december_t2050_rcp45_p50</th>\n",
       "      <th>december_t2080_rcp45_p50</th>\n",
       "      <th>december_t2050_rcp45_p90</th>\n",
       "      <th>december_t2080_rcp45_p90</th>\n",
       "    </tr>\n",
       "  </thead>\n",
       "  <tbody>\n",
       "    <tr>\n",
       "      <th>0</th>\n",
       "      <td>40.041039</td>\n",
       "      <td>-89.045212</td>\n",
       "      <td>23.31</td>\n",
       "      <td>23.48</td>\n",
       "      <td>44.78</td>\n",
       "      <td>44.25</td>\n",
       "      <td>71.75</td>\n",
       "      <td>79.26</td>\n",
       "      <td>25.46</td>\n",
       "      <td>28.02</td>\n",
       "      <td>...</td>\n",
       "      <td>81.08</td>\n",
       "      <td>79.88</td>\n",
       "      <td>129.02</td>\n",
       "      <td>129.71</td>\n",
       "      <td>36.77</td>\n",
       "      <td>33.30</td>\n",
       "      <td>67.30</td>\n",
       "      <td>75.41</td>\n",
       "      <td>105.42</td>\n",
       "      <td>116.96</td>\n",
       "    </tr>\n",
       "    <tr>\n",
       "      <th>1</th>\n",
       "      <td>40.041039</td>\n",
       "      <td>-88.961884</td>\n",
       "      <td>23.93</td>\n",
       "      <td>24.02</td>\n",
       "      <td>45.83</td>\n",
       "      <td>45.49</td>\n",
       "      <td>73.30</td>\n",
       "      <td>81.28</td>\n",
       "      <td>26.39</td>\n",
       "      <td>28.96</td>\n",
       "      <td>...</td>\n",
       "      <td>81.63</td>\n",
       "      <td>80.56</td>\n",
       "      <td>130.52</td>\n",
       "      <td>130.58</td>\n",
       "      <td>37.54</td>\n",
       "      <td>33.98</td>\n",
       "      <td>68.74</td>\n",
       "      <td>76.71</td>\n",
       "      <td>107.11</td>\n",
       "      <td>119.16</td>\n",
       "    </tr>\n",
       "    <tr>\n",
       "      <th>2</th>\n",
       "      <td>40.041039</td>\n",
       "      <td>-88.878548</td>\n",
       "      <td>24.50</td>\n",
       "      <td>24.66</td>\n",
       "      <td>46.54</td>\n",
       "      <td>45.97</td>\n",
       "      <td>73.58</td>\n",
       "      <td>81.40</td>\n",
       "      <td>26.48</td>\n",
       "      <td>29.06</td>\n",
       "      <td>...</td>\n",
       "      <td>81.26</td>\n",
       "      <td>79.99</td>\n",
       "      <td>128.71</td>\n",
       "      <td>128.38</td>\n",
       "      <td>38.29</td>\n",
       "      <td>34.84</td>\n",
       "      <td>69.56</td>\n",
       "      <td>77.02</td>\n",
       "      <td>106.47</td>\n",
       "      <td>118.31</td>\n",
       "    </tr>\n",
       "    <tr>\n",
       "      <th>3</th>\n",
       "      <td>40.041039</td>\n",
       "      <td>-88.795219</td>\n",
       "      <td>24.78</td>\n",
       "      <td>24.97</td>\n",
       "      <td>46.42</td>\n",
       "      <td>45.90</td>\n",
       "      <td>73.38</td>\n",
       "      <td>81.11</td>\n",
       "      <td>26.09</td>\n",
       "      <td>28.60</td>\n",
       "      <td>...</td>\n",
       "      <td>81.06</td>\n",
       "      <td>79.79</td>\n",
       "      <td>127.22</td>\n",
       "      <td>126.77</td>\n",
       "      <td>38.83</td>\n",
       "      <td>35.30</td>\n",
       "      <td>69.62</td>\n",
       "      <td>76.58</td>\n",
       "      <td>105.45</td>\n",
       "      <td>116.51</td>\n",
       "    </tr>\n",
       "    <tr>\n",
       "      <th>4</th>\n",
       "      <td>40.041039</td>\n",
       "      <td>-88.711891</td>\n",
       "      <td>25.09</td>\n",
       "      <td>25.34</td>\n",
       "      <td>47.10</td>\n",
       "      <td>46.90</td>\n",
       "      <td>75.32</td>\n",
       "      <td>82.81</td>\n",
       "      <td>25.45</td>\n",
       "      <td>27.81</td>\n",
       "      <td>...</td>\n",
       "      <td>81.61</td>\n",
       "      <td>80.25</td>\n",
       "      <td>128.14</td>\n",
       "      <td>127.52</td>\n",
       "      <td>39.46</td>\n",
       "      <td>36.02</td>\n",
       "      <td>70.99</td>\n",
       "      <td>77.60</td>\n",
       "      <td>107.77</td>\n",
       "      <td>118.19</td>\n",
       "    </tr>\n",
       "    <tr>\n",
       "      <th>...</th>\n",
       "      <td>...</td>\n",
       "      <td>...</td>\n",
       "      <td>...</td>\n",
       "      <td>...</td>\n",
       "      <td>...</td>\n",
       "      <td>...</td>\n",
       "      <td>...</td>\n",
       "      <td>...</td>\n",
       "      <td>...</td>\n",
       "      <td>...</td>\n",
       "      <td>...</td>\n",
       "      <td>...</td>\n",
       "      <td>...</td>\n",
       "      <td>...</td>\n",
       "      <td>...</td>\n",
       "      <td>...</td>\n",
       "      <td>...</td>\n",
       "      <td>...</td>\n",
       "      <td>...</td>\n",
       "      <td>...</td>\n",
       "      <td>...</td>\n",
       "    </tr>\n",
       "    <tr>\n",
       "      <th>76201</th>\n",
       "      <td>66.623306</td>\n",
       "      <td>-61.629639</td>\n",
       "      <td>15.27</td>\n",
       "      <td>13.51</td>\n",
       "      <td>38.49</td>\n",
       "      <td>34.54</td>\n",
       "      <td>87.94</td>\n",
       "      <td>81.96</td>\n",
       "      <td>9.04</td>\n",
       "      <td>11.72</td>\n",
       "      <td>...</td>\n",
       "      <td>53.98</td>\n",
       "      <td>53.91</td>\n",
       "      <td>99.71</td>\n",
       "      <td>95.81</td>\n",
       "      <td>20.25</td>\n",
       "      <td>21.36</td>\n",
       "      <td>46.20</td>\n",
       "      <td>49.95</td>\n",
       "      <td>93.79</td>\n",
       "      <td>92.90</td>\n",
       "    </tr>\n",
       "    <tr>\n",
       "      <th>76202</th>\n",
       "      <td>66.623306</td>\n",
       "      <td>-61.546310</td>\n",
       "      <td>15.92</td>\n",
       "      <td>13.98</td>\n",
       "      <td>39.18</td>\n",
       "      <td>35.43</td>\n",
       "      <td>88.78</td>\n",
       "      <td>83.03</td>\n",
       "      <td>9.53</td>\n",
       "      <td>12.45</td>\n",
       "      <td>...</td>\n",
       "      <td>55.24</td>\n",
       "      <td>55.25</td>\n",
       "      <td>101.16</td>\n",
       "      <td>97.45</td>\n",
       "      <td>21.14</td>\n",
       "      <td>22.17</td>\n",
       "      <td>47.11</td>\n",
       "      <td>51.29</td>\n",
       "      <td>94.70</td>\n",
       "      <td>94.61</td>\n",
       "    </tr>\n",
       "    <tr>\n",
       "      <th>76203</th>\n",
       "      <td>66.623306</td>\n",
       "      <td>-61.462978</td>\n",
       "      <td>15.56</td>\n",
       "      <td>13.60</td>\n",
       "      <td>38.83</td>\n",
       "      <td>34.98</td>\n",
       "      <td>88.44</td>\n",
       "      <td>82.73</td>\n",
       "      <td>9.19</td>\n",
       "      <td>11.99</td>\n",
       "      <td>...</td>\n",
       "      <td>54.35</td>\n",
       "      <td>54.57</td>\n",
       "      <td>99.81</td>\n",
       "      <td>96.60</td>\n",
       "      <td>20.81</td>\n",
       "      <td>21.72</td>\n",
       "      <td>46.78</td>\n",
       "      <td>50.47</td>\n",
       "      <td>94.09</td>\n",
       "      <td>94.03</td>\n",
       "    </tr>\n",
       "    <tr>\n",
       "      <th>76204</th>\n",
       "      <td>66.623306</td>\n",
       "      <td>-61.379650</td>\n",
       "      <td>15.47</td>\n",
       "      <td>13.42</td>\n",
       "      <td>38.48</td>\n",
       "      <td>34.76</td>\n",
       "      <td>87.62</td>\n",
       "      <td>82.20</td>\n",
       "      <td>9.01</td>\n",
       "      <td>11.81</td>\n",
       "      <td>...</td>\n",
       "      <td>53.85</td>\n",
       "      <td>54.14</td>\n",
       "      <td>99.01</td>\n",
       "      <td>95.88</td>\n",
       "      <td>20.81</td>\n",
       "      <td>21.61</td>\n",
       "      <td>46.36</td>\n",
       "      <td>50.36</td>\n",
       "      <td>93.25</td>\n",
       "      <td>93.40</td>\n",
       "    </tr>\n",
       "    <tr>\n",
       "      <th>76205</th>\n",
       "      <td>66.623306</td>\n",
       "      <td>-61.296322</td>\n",
       "      <td>14.16</td>\n",
       "      <td>12.22</td>\n",
       "      <td>36.25</td>\n",
       "      <td>32.35</td>\n",
       "      <td>83.60</td>\n",
       "      <td>77.22</td>\n",
       "      <td>7.97</td>\n",
       "      <td>10.55</td>\n",
       "      <td>...</td>\n",
       "      <td>50.61</td>\n",
       "      <td>50.85</td>\n",
       "      <td>93.42</td>\n",
       "      <td>90.98</td>\n",
       "      <td>19.26</td>\n",
       "      <td>19.89</td>\n",
       "      <td>43.46</td>\n",
       "      <td>47.38</td>\n",
       "      <td>88.09</td>\n",
       "      <td>88.61</td>\n",
       "    </tr>\n",
       "  </tbody>\n",
       "</table>\n",
       "<p>76206 rows × 74 columns</p>\n",
       "</div>"
      ],
      "text/plain": [
       "             lat        lon  january_t2050_rcp45_p10  january_t2080_rcp45_p10  \\\n",
       "0      40.041039 -89.045212                    23.31                    23.48   \n",
       "1      40.041039 -88.961884                    23.93                    24.02   \n",
       "2      40.041039 -88.878548                    24.50                    24.66   \n",
       "3      40.041039 -88.795219                    24.78                    24.97   \n",
       "4      40.041039 -88.711891                    25.09                    25.34   \n",
       "...          ...        ...                      ...                      ...   \n",
       "76201  66.623306 -61.629639                    15.27                    13.51   \n",
       "76202  66.623306 -61.546310                    15.92                    13.98   \n",
       "76203  66.623306 -61.462978                    15.56                    13.60   \n",
       "76204  66.623306 -61.379650                    15.47                    13.42   \n",
       "76205  66.623306 -61.296322                    14.16                    12.22   \n",
       "\n",
       "       january_t2050_rcp45_p50  january_t2080_rcp45_p50  \\\n",
       "0                        44.78                    44.25   \n",
       "1                        45.83                    45.49   \n",
       "2                        46.54                    45.97   \n",
       "3                        46.42                    45.90   \n",
       "4                        47.10                    46.90   \n",
       "...                        ...                      ...   \n",
       "76201                    38.49                    34.54   \n",
       "76202                    39.18                    35.43   \n",
       "76203                    38.83                    34.98   \n",
       "76204                    38.48                    34.76   \n",
       "76205                    36.25                    32.35   \n",
       "\n",
       "       january_t2050_rcp45_p90  january_t2080_rcp45_p90  \\\n",
       "0                        71.75                    79.26   \n",
       "1                        73.30                    81.28   \n",
       "2                        73.58                    81.40   \n",
       "3                        73.38                    81.11   \n",
       "4                        75.32                    82.81   \n",
       "...                        ...                      ...   \n",
       "76201                    87.94                    81.96   \n",
       "76202                    88.78                    83.03   \n",
       "76203                    88.44                    82.73   \n",
       "76204                    87.62                    82.20   \n",
       "76205                    83.60                    77.22   \n",
       "\n",
       "       february_t2050_rcp45_p10  february_t2080_rcp45_p10  ...  \\\n",
       "0                         25.46                     28.02  ...   \n",
       "1                         26.39                     28.96  ...   \n",
       "2                         26.48                     29.06  ...   \n",
       "3                         26.09                     28.60  ...   \n",
       "4                         25.45                     27.81  ...   \n",
       "...                         ...                       ...  ...   \n",
       "76201                      9.04                     11.72  ...   \n",
       "76202                      9.53                     12.45  ...   \n",
       "76203                      9.19                     11.99  ...   \n",
       "76204                      9.01                     11.81  ...   \n",
       "76205                      7.97                     10.55  ...   \n",
       "\n",
       "       november_t2050_rcp45_p50  november_t2080_rcp45_p50  \\\n",
       "0                         81.08                     79.88   \n",
       "1                         81.63                     80.56   \n",
       "2                         81.26                     79.99   \n",
       "3                         81.06                     79.79   \n",
       "4                         81.61                     80.25   \n",
       "...                         ...                       ...   \n",
       "76201                     53.98                     53.91   \n",
       "76202                     55.24                     55.25   \n",
       "76203                     54.35                     54.57   \n",
       "76204                     53.85                     54.14   \n",
       "76205                     50.61                     50.85   \n",
       "\n",
       "       november_t2050_rcp45_p90  november_t2080_rcp45_p90  \\\n",
       "0                        129.02                    129.71   \n",
       "1                        130.52                    130.58   \n",
       "2                        128.71                    128.38   \n",
       "3                        127.22                    126.77   \n",
       "4                        128.14                    127.52   \n",
       "...                         ...                       ...   \n",
       "76201                     99.71                     95.81   \n",
       "76202                    101.16                     97.45   \n",
       "76203                     99.81                     96.60   \n",
       "76204                     99.01                     95.88   \n",
       "76205                     93.42                     90.98   \n",
       "\n",
       "       december_t2050_rcp45_p10  december_t2080_rcp45_p10  \\\n",
       "0                         36.77                     33.30   \n",
       "1                         37.54                     33.98   \n",
       "2                         38.29                     34.84   \n",
       "3                         38.83                     35.30   \n",
       "4                         39.46                     36.02   \n",
       "...                         ...                       ...   \n",
       "76201                     20.25                     21.36   \n",
       "76202                     21.14                     22.17   \n",
       "76203                     20.81                     21.72   \n",
       "76204                     20.81                     21.61   \n",
       "76205                     19.26                     19.89   \n",
       "\n",
       "       december_t2050_rcp45_p50  december_t2080_rcp45_p50  \\\n",
       "0                         67.30                     75.41   \n",
       "1                         68.74                     76.71   \n",
       "2                         69.56                     77.02   \n",
       "3                         69.62                     76.58   \n",
       "4                         70.99                     77.60   \n",
       "...                         ...                       ...   \n",
       "76201                     46.20                     49.95   \n",
       "76202                     47.11                     51.29   \n",
       "76203                     46.78                     50.47   \n",
       "76204                     46.36                     50.36   \n",
       "76205                     43.46                     47.38   \n",
       "\n",
       "       december_t2050_rcp45_p90  december_t2080_rcp45_p90  \n",
       "0                        105.42                    116.96  \n",
       "1                        107.11                    119.16  \n",
       "2                        106.47                    118.31  \n",
       "3                        105.45                    116.51  \n",
       "4                        107.77                    118.19  \n",
       "...                         ...                       ...  \n",
       "76201                     93.79                     92.90  \n",
       "76202                     94.70                     94.61  \n",
       "76203                     94.09                     94.03  \n",
       "76204                     93.25                     93.40  \n",
       "76205                     88.09                     88.61  \n",
       "\n",
       "[76206 rows x 74 columns]"
      ]
     },
     "execution_count": 10,
     "metadata": {},
     "output_type": "execute_result"
    }
   ],
   "source": [
    "dfse453 = dfse452.drop(columns=[\"january_hist_rcp45_p10\",\"january_hist_rcp45_p50\", \"january_hist_rcp45_p90\", \n",
    "                               \"february_hist_rcp45_p10\", \"february_hist_rcp45_p50\", \"february_hist_rcp45_p90\", \n",
    "                               \"march_hist_rcp45_p10\",\"march_hist_rcp45_p50\", \"march_hist_rcp45_p90\", \n",
    "                               \"april_hist_rcp45_p10\",\"april_hist_rcp45_p50\", \"april_hist_rcp45_p90\",\n",
    "                              \"may_hist_rcp45_p10\",\"may_hist_rcp45_p50\", \"may_hist_rcp45_p90\", \n",
    "                               \"june_hist_rcp45_p10\", \"june_hist_rcp45_p50\", \"june_hist_rcp45_p90\", \n",
    "                               \"july_hist_rcp45_p10\",\"july_hist_rcp45_p50\", \"july_hist_rcp45_p90\", \n",
    "                               \"august_hist_rcp45_p10\",\"august_hist_rcp45_p50\", \"august_hist_rcp45_p90\",\n",
    "                              \"september_hist_rcp45_p10\",\"september_hist_rcp45_p50\", \"september_hist_rcp45_p90\", \n",
    "                               \"october_hist_rcp45_p10\", \"october_hist_rcp45_p50\", \"october_hist_rcp45_p90\", \n",
    "                               \"november_hist_rcp45_p10\",\"november_hist_rcp45_p50\", \"november_hist_rcp45_p90\", \n",
    "                               \"december_hist_rcp45_p10\",\"december_hist_rcp45_p50\", \"december_hist_rcp45_p90\"])\n",
    "dfse453\n"
   ]
  },
  {
   "cell_type": "code",
   "execution_count": 11,
   "metadata": {},
   "outputs": [
    {
     "name": "stdout",
     "output_type": "stream",
     "text": [
      "january\n",
      "february\n",
      "march\n",
      "april\n",
      "may\n",
      "june\n",
      "july\n",
      "august\n",
      "september\n",
      "october\n",
      "november\n",
      "december\n"
     ]
    }
   ],
   "source": [
    "lisdfmoh45 = []\n",
    "for month in monthlist: \n",
    "    dfmoh = dfse452[[\"lat\", \"lon\", month+\"_hist_rcp45_p50\"]]\n",
    "    print (month)\n",
    "    lisdfmoh45.append(dfmoh)"
   ]
  },
  {
   "cell_type": "code",
   "execution_count": null,
   "metadata": {},
   "outputs": [],
   "source": []
  },
  {
   "cell_type": "markdown",
   "metadata": {},
   "source": [
    "# FOR RCP 85"
   ]
  },
  {
   "cell_type": "markdown",
   "metadata": {},
   "source": [
    "## Subsetting arrays by periods of time with Xclim"
   ]
  },
  {
   "cell_type": "code",
   "execution_count": null,
   "metadata": {},
   "outputs": [],
   "source": [
    "dsEns85= ens.create_ensemble(files85)\n",
    "dsEns85.time.dt.month[0:12]\n",
    "# Monthly example 30 y means\n",
    "listds85 = []\n",
    "i=0\n",
    "for s in dsEns85.time.dt.month[0:12]:\n",
    "    print (i)\n",
    "    tmp1 = dsEns85.sel(time=(dsEns85.time.dt.year>=1981))\n",
    "    tmp1 = tmp1.sel(time=(tmp1.time.dt.month==s))\n",
    "    print(tmp1)\n",
    "    i = i+1\n",
    "    listds85.append(tmp1)"
   ]
  },
  {
   "cell_type": "markdown",
   "metadata": {},
   "source": [
    "## Loop to create all 12 dataframes"
   ]
  },
  {
   "cell_type": "code",
   "execution_count": null,
   "metadata": {},
   "outputs": [],
   "source": [
    "i = 0\n",
    "df85list = []\n",
    "for ds in listds85:\n",
    "    print (\"Dataset number: \", i)\n",
    "    perc85 = ens.ensemble_percentiles(ds)\n",
    "    print (\"Percentiles Obteined\")\n",
    "    df85 = perc85.to_dataframe()\n",
    "    df852 = df85.reset_index()\n",
    "    df853 = df852.loc[df852[\"realization\"] == 0].dropna()\n",
    "    print (\"Converted to DF\")\n",
    "    year_groups = {y:0 for y in range(1980,2011)}\n",
    "    year_groups.update({y:1 for y in range(2041,2071)})\n",
    "    year_groups.update({y:2 for y in range(2071,2101)})\n",
    "    dfp = df853.groupby([df853.time.dt.year.map(year_groups), \"lat\",\"lon\", \"realization\"]).mean()\n",
    "    dfp852 =  dfp.reset_index()\n",
    "    print (\"Split in 3 different time periods\")\n",
    "    df85C = dfp852.copy()\n",
    "    df85C[var+\"_p10\"] = round(df85C[var+\"_p10\"],2)\n",
    "    df85C[var+\"_p50\"] = round(df85C[var+\"_p50\"],2)\n",
    "    df85C[var+\"_p90\"] = round(df85C[var+\"_p90\"],2)\n",
    "    print (\"Transformed in Celsiuds and rounded\")\n",
    "    Region1i85 = df85C.drop(columns=[\"realization\"])\n",
    "    print (\"pivoted\")\n",
    "    df85f = Region1i85.pivot_table(index=[\"lat\",\"lon\"], columns=\"time\")\n",
    "    print (\"DF pivoted\")\n",
    "    if i== 0: month = \"january\" \n",
    "    elif i == 1: month = \"february\"\n",
    "    elif i == 2: month = \"march\"\n",
    "    elif i == 3: month = \"april\"\n",
    "    elif i == 4: month = \"may\"\n",
    "    elif i == 5: month = \"june\"\n",
    "    elif i == 6: month = \"july\"\n",
    "    elif i == 7: month = \"august\"\n",
    "    elif i == 8: month = \"september\"\n",
    "    elif i == 9: month = \"october\"\n",
    "    elif i == 10: month = \"november\"\n",
    "    elif i == 11: month = \"december\"    \n",
    "    print (month)\n",
    "    df85f.columns = [month + \"_\" + year + \"rcp85_p\"+p\n",
    "                     for p in [\"10\", \"50\", \"90\"]\n",
    "                     for year in [\"hist_\",\"t2050_\", \"t2080_\"]]\n",
    "    print(\"Columns renamed\")\n",
    "    df85list.append(df85f)\n",
    "    print (\"DF added to the list\")\n",
    "    i = i + 1\n",
    "    "
   ]
  },
  {
   "cell_type": "code",
   "execution_count": null,
   "metadata": {},
   "outputs": [],
   "source": [
    "df85list\n"
   ]
  },
  {
   "cell_type": "code",
   "execution_count": null,
   "metadata": {},
   "outputs": [],
   "source": [
    "dfse85 = merge_multiple_dfs(df85list[0:12], on=mkey).reset_index()"
   ]
  },
  {
   "cell_type": "code",
   "execution_count": null,
   "metadata": {},
   "outputs": [],
   "source": [
    "dfse85"
   ]
  },
  {
   "cell_type": "code",
   "execution_count": 22,
   "metadata": {},
   "outputs": [],
   "source": [
    "dfse85.to_feather(\"/home/mlopez/EXEC/Processed data to clip with regions/rcp85\"+var+\"_monthly.feather\")"
   ]
  },
  {
   "cell_type": "code",
   "execution_count": 13,
   "metadata": {},
   "outputs": [],
   "source": [
    "dfse85 = pd.read_feather(\"/home/mlopez/EXEC/Processed data to clip with regions/rcp85\"+var+\"_monthly.feather\")"
   ]
  },
  {
   "cell_type": "code",
   "execution_count": 14,
   "metadata": {},
   "outputs": [
    {
     "data": {
      "text/html": [
       "<div>\n",
       "<style scoped>\n",
       "    .dataframe tbody tr th:only-of-type {\n",
       "        vertical-align: middle;\n",
       "    }\n",
       "\n",
       "    .dataframe tbody tr th {\n",
       "        vertical-align: top;\n",
       "    }\n",
       "\n",
       "    .dataframe thead th {\n",
       "        text-align: right;\n",
       "    }\n",
       "</style>\n",
       "<table border=\"1\" class=\"dataframe\">\n",
       "  <thead>\n",
       "    <tr style=\"text-align: right;\">\n",
       "      <th></th>\n",
       "      <th>lat</th>\n",
       "      <th>lon</th>\n",
       "      <th>january_t2050_rcp85_p10</th>\n",
       "      <th>january_t2080_rcp85_p10</th>\n",
       "      <th>january_t2050_rcp85_p50</th>\n",
       "      <th>january_t2080_rcp85_p50</th>\n",
       "      <th>january_t2050_rcp85_p90</th>\n",
       "      <th>january_t2080_rcp85_p90</th>\n",
       "      <th>february_t2050_rcp85_p10</th>\n",
       "      <th>february_t2080_rcp85_p10</th>\n",
       "      <th>...</th>\n",
       "      <th>november_t2050_rcp85_p50</th>\n",
       "      <th>november_t2080_rcp85_p50</th>\n",
       "      <th>november_t2050_rcp85_p90</th>\n",
       "      <th>november_t2080_rcp85_p90</th>\n",
       "      <th>december_t2050_rcp85_p10</th>\n",
       "      <th>december_t2080_rcp85_p10</th>\n",
       "      <th>december_t2050_rcp85_p50</th>\n",
       "      <th>december_t2080_rcp85_p50</th>\n",
       "      <th>december_t2050_rcp85_p90</th>\n",
       "      <th>december_t2080_rcp85_p90</th>\n",
       "    </tr>\n",
       "  </thead>\n",
       "  <tbody>\n",
       "    <tr>\n",
       "      <th>0</th>\n",
       "      <td>40.041039</td>\n",
       "      <td>-89.045212</td>\n",
       "      <td>25.03</td>\n",
       "      <td>24.41</td>\n",
       "      <td>46.30</td>\n",
       "      <td>49.71</td>\n",
       "      <td>76.82</td>\n",
       "      <td>82.15</td>\n",
       "      <td>31.35</td>\n",
       "      <td>31.10</td>\n",
       "      <td>...</td>\n",
       "      <td>80.22</td>\n",
       "      <td>82.81</td>\n",
       "      <td>129.28</td>\n",
       "      <td>135.33</td>\n",
       "      <td>37.02</td>\n",
       "      <td>39.59</td>\n",
       "      <td>71.20</td>\n",
       "      <td>76.09</td>\n",
       "      <td>121.86</td>\n",
       "      <td>134.99</td>\n",
       "    </tr>\n",
       "    <tr>\n",
       "      <th>1</th>\n",
       "      <td>40.041039</td>\n",
       "      <td>-88.961884</td>\n",
       "      <td>25.66</td>\n",
       "      <td>25.12</td>\n",
       "      <td>47.65</td>\n",
       "      <td>51.06</td>\n",
       "      <td>78.71</td>\n",
       "      <td>84.24</td>\n",
       "      <td>32.36</td>\n",
       "      <td>32.37</td>\n",
       "      <td>...</td>\n",
       "      <td>80.80</td>\n",
       "      <td>83.45</td>\n",
       "      <td>130.92</td>\n",
       "      <td>136.71</td>\n",
       "      <td>37.67</td>\n",
       "      <td>40.36</td>\n",
       "      <td>72.71</td>\n",
       "      <td>77.51</td>\n",
       "      <td>124.48</td>\n",
       "      <td>137.43</td>\n",
       "    </tr>\n",
       "    <tr>\n",
       "      <th>2</th>\n",
       "      <td>40.041039</td>\n",
       "      <td>-88.878548</td>\n",
       "      <td>26.22</td>\n",
       "      <td>25.71</td>\n",
       "      <td>48.16</td>\n",
       "      <td>51.53</td>\n",
       "      <td>79.07</td>\n",
       "      <td>84.89</td>\n",
       "      <td>32.49</td>\n",
       "      <td>32.65</td>\n",
       "      <td>...</td>\n",
       "      <td>80.25</td>\n",
       "      <td>82.96</td>\n",
       "      <td>129.31</td>\n",
       "      <td>134.65</td>\n",
       "      <td>38.37</td>\n",
       "      <td>40.82</td>\n",
       "      <td>73.36</td>\n",
       "      <td>78.07</td>\n",
       "      <td>123.66</td>\n",
       "      <td>135.79</td>\n",
       "    </tr>\n",
       "    <tr>\n",
       "      <th>3</th>\n",
       "      <td>40.041039</td>\n",
       "      <td>-88.795219</td>\n",
       "      <td>26.53</td>\n",
       "      <td>25.96</td>\n",
       "      <td>48.20</td>\n",
       "      <td>51.32</td>\n",
       "      <td>78.71</td>\n",
       "      <td>84.49</td>\n",
       "      <td>32.09</td>\n",
       "      <td>31.99</td>\n",
       "      <td>...</td>\n",
       "      <td>79.35</td>\n",
       "      <td>82.26</td>\n",
       "      <td>128.06</td>\n",
       "      <td>132.74</td>\n",
       "      <td>38.89</td>\n",
       "      <td>40.99</td>\n",
       "      <td>73.45</td>\n",
       "      <td>78.02</td>\n",
       "      <td>121.65</td>\n",
       "      <td>133.56</td>\n",
       "    </tr>\n",
       "    <tr>\n",
       "      <th>4</th>\n",
       "      <td>40.041039</td>\n",
       "      <td>-88.711891</td>\n",
       "      <td>26.98</td>\n",
       "      <td>26.40</td>\n",
       "      <td>49.12</td>\n",
       "      <td>52.04</td>\n",
       "      <td>80.33</td>\n",
       "      <td>86.50</td>\n",
       "      <td>31.20</td>\n",
       "      <td>31.37</td>\n",
       "      <td>...</td>\n",
       "      <td>79.38</td>\n",
       "      <td>82.90</td>\n",
       "      <td>128.83</td>\n",
       "      <td>133.40</td>\n",
       "      <td>39.55</td>\n",
       "      <td>41.76</td>\n",
       "      <td>75.07</td>\n",
       "      <td>79.42</td>\n",
       "      <td>122.99</td>\n",
       "      <td>135.63</td>\n",
       "    </tr>\n",
       "    <tr>\n",
       "      <th>...</th>\n",
       "      <td>...</td>\n",
       "      <td>...</td>\n",
       "      <td>...</td>\n",
       "      <td>...</td>\n",
       "      <td>...</td>\n",
       "      <td>...</td>\n",
       "      <td>...</td>\n",
       "      <td>...</td>\n",
       "      <td>...</td>\n",
       "      <td>...</td>\n",
       "      <td>...</td>\n",
       "      <td>...</td>\n",
       "      <td>...</td>\n",
       "      <td>...</td>\n",
       "      <td>...</td>\n",
       "      <td>...</td>\n",
       "      <td>...</td>\n",
       "      <td>...</td>\n",
       "      <td>...</td>\n",
       "      <td>...</td>\n",
       "      <td>...</td>\n",
       "    </tr>\n",
       "    <tr>\n",
       "      <th>76201</th>\n",
       "      <td>66.623306</td>\n",
       "      <td>-61.629639</td>\n",
       "      <td>15.97</td>\n",
       "      <td>20.20</td>\n",
       "      <td>38.45</td>\n",
       "      <td>47.24</td>\n",
       "      <td>85.22</td>\n",
       "      <td>99.26</td>\n",
       "      <td>10.93</td>\n",
       "      <td>13.59</td>\n",
       "      <td>...</td>\n",
       "      <td>53.30</td>\n",
       "      <td>62.33</td>\n",
       "      <td>98.92</td>\n",
       "      <td>111.75</td>\n",
       "      <td>20.86</td>\n",
       "      <td>24.57</td>\n",
       "      <td>47.97</td>\n",
       "      <td>52.73</td>\n",
       "      <td>96.55</td>\n",
       "      <td>98.93</td>\n",
       "    </tr>\n",
       "    <tr>\n",
       "      <th>76202</th>\n",
       "      <td>66.623306</td>\n",
       "      <td>-61.546310</td>\n",
       "      <td>16.56</td>\n",
       "      <td>21.00</td>\n",
       "      <td>39.43</td>\n",
       "      <td>48.42</td>\n",
       "      <td>86.30</td>\n",
       "      <td>100.27</td>\n",
       "      <td>11.56</td>\n",
       "      <td>14.25</td>\n",
       "      <td>...</td>\n",
       "      <td>54.54</td>\n",
       "      <td>63.73</td>\n",
       "      <td>100.45</td>\n",
       "      <td>113.04</td>\n",
       "      <td>21.72</td>\n",
       "      <td>25.56</td>\n",
       "      <td>49.15</td>\n",
       "      <td>53.73</td>\n",
       "      <td>98.03</td>\n",
       "      <td>100.39</td>\n",
       "    </tr>\n",
       "    <tr>\n",
       "      <th>76203</th>\n",
       "      <td>66.623306</td>\n",
       "      <td>-61.462978</td>\n",
       "      <td>16.13</td>\n",
       "      <td>20.54</td>\n",
       "      <td>38.98</td>\n",
       "      <td>47.85</td>\n",
       "      <td>85.92</td>\n",
       "      <td>99.12</td>\n",
       "      <td>11.14</td>\n",
       "      <td>13.72</td>\n",
       "      <td>...</td>\n",
       "      <td>53.43</td>\n",
       "      <td>62.80</td>\n",
       "      <td>99.37</td>\n",
       "      <td>111.97</td>\n",
       "      <td>21.49</td>\n",
       "      <td>25.07</td>\n",
       "      <td>48.78</td>\n",
       "      <td>52.94</td>\n",
       "      <td>97.51</td>\n",
       "      <td>99.22</td>\n",
       "    </tr>\n",
       "    <tr>\n",
       "      <th>76204</th>\n",
       "      <td>66.623306</td>\n",
       "      <td>-61.379650</td>\n",
       "      <td>15.96</td>\n",
       "      <td>20.37</td>\n",
       "      <td>38.67</td>\n",
       "      <td>47.63</td>\n",
       "      <td>85.10</td>\n",
       "      <td>98.34</td>\n",
       "      <td>10.94</td>\n",
       "      <td>13.46</td>\n",
       "      <td>...</td>\n",
       "      <td>52.97</td>\n",
       "      <td>62.41</td>\n",
       "      <td>98.64</td>\n",
       "      <td>111.02</td>\n",
       "      <td>21.28</td>\n",
       "      <td>24.87</td>\n",
       "      <td>48.66</td>\n",
       "      <td>52.55</td>\n",
       "      <td>96.94</td>\n",
       "      <td>98.30</td>\n",
       "    </tr>\n",
       "    <tr>\n",
       "      <th>76205</th>\n",
       "      <td>66.623306</td>\n",
       "      <td>-61.296322</td>\n",
       "      <td>14.54</td>\n",
       "      <td>18.66</td>\n",
       "      <td>36.22</td>\n",
       "      <td>44.46</td>\n",
       "      <td>80.28</td>\n",
       "      <td>92.65</td>\n",
       "      <td>9.67</td>\n",
       "      <td>11.94</td>\n",
       "      <td>...</td>\n",
       "      <td>49.71</td>\n",
       "      <td>58.58</td>\n",
       "      <td>93.34</td>\n",
       "      <td>105.14</td>\n",
       "      <td>19.71</td>\n",
       "      <td>22.86</td>\n",
       "      <td>45.51</td>\n",
       "      <td>49.05</td>\n",
       "      <td>91.51</td>\n",
       "      <td>92.64</td>\n",
       "    </tr>\n",
       "  </tbody>\n",
       "</table>\n",
       "<p>76206 rows × 74 columns</p>\n",
       "</div>"
      ],
      "text/plain": [
       "             lat        lon  january_t2050_rcp85_p10  january_t2080_rcp85_p10  \\\n",
       "0      40.041039 -89.045212                    25.03                    24.41   \n",
       "1      40.041039 -88.961884                    25.66                    25.12   \n",
       "2      40.041039 -88.878548                    26.22                    25.71   \n",
       "3      40.041039 -88.795219                    26.53                    25.96   \n",
       "4      40.041039 -88.711891                    26.98                    26.40   \n",
       "...          ...        ...                      ...                      ...   \n",
       "76201  66.623306 -61.629639                    15.97                    20.20   \n",
       "76202  66.623306 -61.546310                    16.56                    21.00   \n",
       "76203  66.623306 -61.462978                    16.13                    20.54   \n",
       "76204  66.623306 -61.379650                    15.96                    20.37   \n",
       "76205  66.623306 -61.296322                    14.54                    18.66   \n",
       "\n",
       "       january_t2050_rcp85_p50  january_t2080_rcp85_p50  \\\n",
       "0                        46.30                    49.71   \n",
       "1                        47.65                    51.06   \n",
       "2                        48.16                    51.53   \n",
       "3                        48.20                    51.32   \n",
       "4                        49.12                    52.04   \n",
       "...                        ...                      ...   \n",
       "76201                    38.45                    47.24   \n",
       "76202                    39.43                    48.42   \n",
       "76203                    38.98                    47.85   \n",
       "76204                    38.67                    47.63   \n",
       "76205                    36.22                    44.46   \n",
       "\n",
       "       january_t2050_rcp85_p90  january_t2080_rcp85_p90  \\\n",
       "0                        76.82                    82.15   \n",
       "1                        78.71                    84.24   \n",
       "2                        79.07                    84.89   \n",
       "3                        78.71                    84.49   \n",
       "4                        80.33                    86.50   \n",
       "...                        ...                      ...   \n",
       "76201                    85.22                    99.26   \n",
       "76202                    86.30                   100.27   \n",
       "76203                    85.92                    99.12   \n",
       "76204                    85.10                    98.34   \n",
       "76205                    80.28                    92.65   \n",
       "\n",
       "       february_t2050_rcp85_p10  february_t2080_rcp85_p10  ...  \\\n",
       "0                         31.35                     31.10  ...   \n",
       "1                         32.36                     32.37  ...   \n",
       "2                         32.49                     32.65  ...   \n",
       "3                         32.09                     31.99  ...   \n",
       "4                         31.20                     31.37  ...   \n",
       "...                         ...                       ...  ...   \n",
       "76201                     10.93                     13.59  ...   \n",
       "76202                     11.56                     14.25  ...   \n",
       "76203                     11.14                     13.72  ...   \n",
       "76204                     10.94                     13.46  ...   \n",
       "76205                      9.67                     11.94  ...   \n",
       "\n",
       "       november_t2050_rcp85_p50  november_t2080_rcp85_p50  \\\n",
       "0                         80.22                     82.81   \n",
       "1                         80.80                     83.45   \n",
       "2                         80.25                     82.96   \n",
       "3                         79.35                     82.26   \n",
       "4                         79.38                     82.90   \n",
       "...                         ...                       ...   \n",
       "76201                     53.30                     62.33   \n",
       "76202                     54.54                     63.73   \n",
       "76203                     53.43                     62.80   \n",
       "76204                     52.97                     62.41   \n",
       "76205                     49.71                     58.58   \n",
       "\n",
       "       november_t2050_rcp85_p90  november_t2080_rcp85_p90  \\\n",
       "0                        129.28                    135.33   \n",
       "1                        130.92                    136.71   \n",
       "2                        129.31                    134.65   \n",
       "3                        128.06                    132.74   \n",
       "4                        128.83                    133.40   \n",
       "...                         ...                       ...   \n",
       "76201                     98.92                    111.75   \n",
       "76202                    100.45                    113.04   \n",
       "76203                     99.37                    111.97   \n",
       "76204                     98.64                    111.02   \n",
       "76205                     93.34                    105.14   \n",
       "\n",
       "       december_t2050_rcp85_p10  december_t2080_rcp85_p10  \\\n",
       "0                         37.02                     39.59   \n",
       "1                         37.67                     40.36   \n",
       "2                         38.37                     40.82   \n",
       "3                         38.89                     40.99   \n",
       "4                         39.55                     41.76   \n",
       "...                         ...                       ...   \n",
       "76201                     20.86                     24.57   \n",
       "76202                     21.72                     25.56   \n",
       "76203                     21.49                     25.07   \n",
       "76204                     21.28                     24.87   \n",
       "76205                     19.71                     22.86   \n",
       "\n",
       "       december_t2050_rcp85_p50  december_t2080_rcp85_p50  \\\n",
       "0                         71.20                     76.09   \n",
       "1                         72.71                     77.51   \n",
       "2                         73.36                     78.07   \n",
       "3                         73.45                     78.02   \n",
       "4                         75.07                     79.42   \n",
       "...                         ...                       ...   \n",
       "76201                     47.97                     52.73   \n",
       "76202                     49.15                     53.73   \n",
       "76203                     48.78                     52.94   \n",
       "76204                     48.66                     52.55   \n",
       "76205                     45.51                     49.05   \n",
       "\n",
       "       december_t2050_rcp85_p90  december_t2080_rcp85_p90  \n",
       "0                        121.86                    134.99  \n",
       "1                        124.48                    137.43  \n",
       "2                        123.66                    135.79  \n",
       "3                        121.65                    133.56  \n",
       "4                        122.99                    135.63  \n",
       "...                         ...                       ...  \n",
       "76201                     96.55                     98.93  \n",
       "76202                     98.03                    100.39  \n",
       "76203                     97.51                     99.22  \n",
       "76204                     96.94                     98.30  \n",
       "76205                     91.51                     92.64  \n",
       "\n",
       "[76206 rows x 74 columns]"
      ]
     },
     "execution_count": 14,
     "metadata": {},
     "output_type": "execute_result"
    }
   ],
   "source": [
    "dfse852 = dfse85.drop(columns=[\"january_hist_rcp85_p10\",\"january_hist_rcp85_p50\", \"january_hist_rcp85_p90\", \n",
    "                               \"february_hist_rcp85_p10\", \"february_hist_rcp85_p50\", \"february_hist_rcp85_p90\", \n",
    "                               \"march_hist_rcp85_p10\",\"march_hist_rcp85_p50\", \"march_hist_rcp85_p90\", \n",
    "                               \"april_hist_rcp85_p10\",\"april_hist_rcp85_p50\", \"april_hist_rcp85_p90\",\n",
    "                              \"may_hist_rcp85_p10\",\"may_hist_rcp85_p50\", \"may_hist_rcp85_p90\", \n",
    "                               \"june_hist_rcp85_p10\", \"june_hist_rcp85_p50\", \"june_hist_rcp85_p90\", \n",
    "                               \"july_hist_rcp85_p10\",\"july_hist_rcp85_p50\", \"july_hist_rcp85_p90\", \n",
    "                               \"august_hist_rcp85_p10\",\"august_hist_rcp85_p50\", \"august_hist_rcp85_p90\",\n",
    "                              \"september_hist_rcp85_p10\",\"september_hist_rcp85_p50\", \"september_hist_rcp85_p90\", \n",
    "                               \"october_hist_rcp85_p10\", \"october_hist_rcp85_p50\", \"october_hist_rcp85_p90\", \n",
    "                               \"november_hist_rcp85_p10\",\"november_hist_rcp85_p50\", \"november_hist_rcp85_p90\", \n",
    "                               \"december_hist_rcp85_p10\",\"december_hist_rcp85_p50\", \"december_hist_rcp85_p90\"])\n",
    "dfse852\n"
   ]
  },
  {
   "cell_type": "code",
   "execution_count": 15,
   "metadata": {},
   "outputs": [
    {
     "name": "stdout",
     "output_type": "stream",
     "text": [
      "january\n",
      "february\n",
      "march\n",
      "april\n",
      "may\n",
      "june\n",
      "july\n",
      "august\n",
      "september\n",
      "october\n",
      "november\n",
      "december\n"
     ]
    }
   ],
   "source": [
    "lisdfmoh85 = []\n",
    "for month in monthlist: \n",
    "    dfmoh = dfse85[[\"lat\", \"lon\", month+\"_hist_rcp85_p50\"]]\n",
    "    print (month)\n",
    "    lisdfmoh85.append(dfmoh)"
   ]
  },
  {
   "cell_type": "code",
   "execution_count": 16,
   "metadata": {},
   "outputs": [
    {
     "data": {
      "text/plain": [
       "[             lat        lon  january_hist_rcp85_p50\n",
       " 0      40.041039 -89.045212                   41.72\n",
       " 1      40.041039 -88.961884                   42.96\n",
       " 2      40.041039 -88.878548                   43.71\n",
       " 3      40.041039 -88.795219                   43.86\n",
       " 4      40.041039 -88.711891                   44.82\n",
       " ...          ...        ...                     ...\n",
       " 76201  66.623306 -61.629639                   27.66\n",
       " 76202  66.623306 -61.546310                   28.39\n",
       " 76203  66.623306 -61.462978                   27.76\n",
       " 76204  66.623306 -61.379650                   27.64\n",
       " 76205  66.623306 -61.296322                   25.86\n",
       " \n",
       " [76206 rows x 3 columns],              lat        lon  february_hist_rcp85_p50\n",
       " 0      40.041039 -89.045212                    50.43\n",
       " 1      40.041039 -88.961884                    52.19\n",
       " 2      40.041039 -88.878548                    52.26\n",
       " 3      40.041039 -88.795219                    51.24\n",
       " 4      40.041039 -88.711891                    50.36\n",
       " ...          ...        ...                      ...\n",
       " 76201  66.623306 -61.629639                    22.79\n",
       " 76202  66.623306 -61.546310                    23.54\n",
       " 76203  66.623306 -61.462978                    22.98\n",
       " 76204  66.623306 -61.379650                    22.56\n",
       " 76205  66.623306 -61.296322                    20.61\n",
       " \n",
       " [76206 rows x 3 columns],              lat        lon  march_hist_rcp85_p50\n",
       " 0      40.041039 -89.045212                 78.70\n",
       " 1      40.041039 -88.961884                 80.15\n",
       " 2      40.041039 -88.878548                 79.24\n",
       " 3      40.041039 -88.795219                 78.58\n",
       " 4      40.041039 -88.711891                 77.75\n",
       " ...          ...        ...                   ...\n",
       " 76201  66.623306 -61.629639                 23.27\n",
       " 76202  66.623306 -61.546310                 24.25\n",
       " 76203  66.623306 -61.462978                 23.70\n",
       " 76204  66.623306 -61.379650                 23.36\n",
       " 76205  66.623306 -61.296322                 21.30\n",
       " \n",
       " [76206 rows x 3 columns],              lat        lon  april_hist_rcp85_p50\n",
       " 0      40.041039 -89.045212                 96.52\n",
       " 1      40.041039 -88.961884                 97.58\n",
       " 2      40.041039 -88.878548                 96.67\n",
       " 3      40.041039 -88.795219                 95.85\n",
       " 4      40.041039 -88.711891                 95.40\n",
       " ...          ...        ...                   ...\n",
       " 76201  66.623306 -61.629639                 27.99\n",
       " 76202  66.623306 -61.546310                 28.72\n",
       " 76203  66.623306 -61.462978                 28.44\n",
       " 76204  66.623306 -61.379650                 28.33\n",
       " 76205  66.623306 -61.296322                 26.51\n",
       " \n",
       " [76206 rows x 3 columns],              lat        lon  may_hist_rcp85_p50\n",
       " 0      40.041039 -89.045212               99.79\n",
       " 1      40.041039 -88.961884              100.69\n",
       " 2      40.041039 -88.878548               99.55\n",
       " 3      40.041039 -88.795219               98.56\n",
       " 4      40.041039 -88.711891               97.05\n",
       " ...          ...        ...                 ...\n",
       " 76201  66.623306 -61.629639               38.02\n",
       " 76202  66.623306 -61.546310               38.74\n",
       " 76203  66.623306 -61.462978               38.32\n",
       " 76204  66.623306 -61.379650               37.93\n",
       " 76205  66.623306 -61.296322               35.78\n",
       " \n",
       " [76206 rows x 3 columns],              lat        lon  june_hist_rcp85_p50\n",
       " 0      40.041039 -89.045212                99.22\n",
       " 1      40.041039 -88.961884               101.12\n",
       " 2      40.041039 -88.878548               100.74\n",
       " 3      40.041039 -88.795219               100.60\n",
       " 4      40.041039 -88.711891               101.49\n",
       " ...          ...        ...                  ...\n",
       " 76201  66.623306 -61.629639                27.48\n",
       " 76202  66.623306 -61.546310                28.61\n",
       " 76203  66.623306 -61.462978                27.91\n",
       " 76204  66.623306 -61.379650                27.76\n",
       " 76205  66.623306 -61.296322                26.04\n",
       " \n",
       " [76206 rows x 3 columns],              lat        lon  july_hist_rcp85_p50\n",
       " 0      40.041039 -89.045212               104.96\n",
       " 1      40.041039 -88.961884               105.03\n",
       " 2      40.041039 -88.878548               103.44\n",
       " 3      40.041039 -88.795219               103.78\n",
       " 4      40.041039 -88.711891               106.41\n",
       " ...          ...        ...                  ...\n",
       " 76201  66.623306 -61.629639                31.92\n",
       " 76202  66.623306 -61.546310                32.71\n",
       " 76203  66.623306 -61.462978                32.20\n",
       " 76204  66.623306 -61.379650                31.97\n",
       " 76205  66.623306 -61.296322                29.99\n",
       " \n",
       " [76206 rows x 3 columns],              lat        lon  august_hist_rcp85_p50\n",
       " 0      40.041039 -89.045212                  96.23\n",
       " 1      40.041039 -88.961884                  93.99\n",
       " 2      40.041039 -88.878548                  94.09\n",
       " 3      40.041039 -88.795219                  95.93\n",
       " 4      40.041039 -88.711891                  97.05\n",
       " ...          ...        ...                    ...\n",
       " 76201  66.623306 -61.629639                  43.62\n",
       " 76202  66.623306 -61.546310                  44.20\n",
       " 76203  66.623306 -61.462978                  43.59\n",
       " 76204  66.623306 -61.379650                  43.27\n",
       " 76205  66.623306 -61.296322                  41.71\n",
       " \n",
       " [76206 rows x 3 columns],              lat        lon  september_hist_rcp85_p50\n",
       " 0      40.041039 -89.045212                     75.44\n",
       " 1      40.041039 -88.961884                     74.76\n",
       " 2      40.041039 -88.878548                     74.07\n",
       " 3      40.041039 -88.795219                     72.88\n",
       " 4      40.041039 -88.711891                     72.11\n",
       " ...          ...        ...                       ...\n",
       " 76201  66.623306 -61.629639                     52.22\n",
       " 76202  66.623306 -61.546310                     52.79\n",
       " 76203  66.623306 -61.462978                     52.33\n",
       " 76204  66.623306 -61.379650                     51.78\n",
       " 76205  66.623306 -61.296322                     48.90\n",
       " \n",
       " [76206 rows x 3 columns],              lat        lon  october_hist_rcp85_p50\n",
       " 0      40.041039 -89.045212                   68.13\n",
       " 1      40.041039 -88.961884                   68.35\n",
       " 2      40.041039 -88.878548                   67.65\n",
       " 3      40.041039 -88.795219                   67.03\n",
       " 4      40.041039 -88.711891                   65.83\n",
       " ...          ...        ...                     ...\n",
       " 76201  66.623306 -61.629639                   61.46\n",
       " 76202  66.623306 -61.546310                   62.74\n",
       " 76203  66.623306 -61.462978                   62.28\n",
       " 76204  66.623306 -61.379650                   61.59\n",
       " 76205  66.623306 -61.296322                   58.54\n",
       " \n",
       " [76206 rows x 3 columns],              lat        lon  november_hist_rcp85_p50\n",
       " 0      40.041039 -89.045212                    76.24\n",
       " 1      40.041039 -88.961884                    76.98\n",
       " 2      40.041039 -88.878548                    77.05\n",
       " 3      40.041039 -88.795219                    76.85\n",
       " 4      40.041039 -88.711891                    77.37\n",
       " ...          ...        ...                      ...\n",
       " 76201  66.623306 -61.629639                    47.04\n",
       " 76202  66.623306 -61.546310                    47.98\n",
       " 76203  66.623306 -61.462978                    47.25\n",
       " 76204  66.623306 -61.379650                    46.65\n",
       " 76205  66.623306 -61.296322                    44.01\n",
       " \n",
       " [76206 rows x 3 columns],              lat        lon  december_hist_rcp85_p50\n",
       " 0      40.041039 -89.045212                    66.33\n",
       " 1      40.041039 -88.961884                    67.47\n",
       " 2      40.041039 -88.878548                    67.79\n",
       " 3      40.041039 -88.795219                    67.67\n",
       " 4      40.041039 -88.711891                    68.82\n",
       " ...          ...        ...                      ...\n",
       " 76201  66.623306 -61.629639                    38.33\n",
       " 76202  66.623306 -61.546310                    39.12\n",
       " 76203  66.623306 -61.462978                    38.96\n",
       " 76204  66.623306 -61.379650                    38.67\n",
       " 76205  66.623306 -61.296322                    35.97\n",
       " \n",
       " [76206 rows x 3 columns]]"
      ]
     },
     "execution_count": 16,
     "metadata": {},
     "output_type": "execute_result"
    }
   ],
   "source": [
    "lisdfmoh85"
   ]
  },
  {
   "cell_type": "markdown",
   "metadata": {},
   "source": [
    "# Merge df45 and 85"
   ]
  },
  {
   "cell_type": "markdown",
   "metadata": {},
   "source": [
    "# Extract hist"
   ]
  },
  {
   "cell_type": "markdown",
   "metadata": {},
   "source": [
    "## Getting historic mean for each month"
   ]
  },
  {
   "cell_type": "code",
   "execution_count": 17,
   "metadata": {},
   "outputs": [],
   "source": [
    "### Function\n",
    "def mean_month(month, dfse45, dfse85):\n",
    "    print(month)\n",
    "    dfw45 = dfse45[[\"lat\", \"lon\", month+\"_hist_rcp45_p50\"]]\n",
    "    dfw85 = dfse85[[\"lat\", \"lon\", month+\"_hist_rcp85_p50\"]]\n",
    "    dfsew = pd.merge(dfw45, dfw85, on=[\"lat\",\"lon\"])\n",
    "    dfsew[month+\"_hist_p50\"] = round((dfsew[month+\"_hist_rcp45_p50\"]+ dfsew[month+\"_hist_rcp85_p50\"])/2, 2)\n",
    "    dftgwh2 = dfsew.reset_index()\n",
    "    dftgwh3 = dftgwh2[[\"lat\", \"lon\", month+\"_hist_p50\"]]\n",
    "    return (dftgwh3)\n"
   ]
  },
  {
   "cell_type": "markdown",
   "metadata": {},
   "source": [
    "### All months historic mean"
   ]
  },
  {
   "cell_type": "code",
   "execution_count": 18,
   "metadata": {},
   "outputs": [
    {
     "name": "stdout",
     "output_type": "stream",
     "text": [
      "january\n",
      "january\n",
      "february\n",
      "february\n",
      "march\n",
      "march\n",
      "april\n",
      "april\n",
      "may\n",
      "may\n",
      "june\n",
      "june\n",
      "july\n",
      "july\n",
      "august\n",
      "august\n",
      "september\n",
      "september\n",
      "october\n",
      "october\n",
      "november\n",
      "november\n",
      "december\n",
      "december\n"
     ]
    }
   ],
   "source": [
    "listdfmo = []\n",
    "i=0\n",
    "for month in monthlist:\n",
    "    print(month)\n",
    "    dfm = mean_month(month, lisdfmoh45[i], lisdfmoh85[i])\n",
    "    i = i+1\n",
    "    listdfmo.append(dfm)"
   ]
  },
  {
   "cell_type": "markdown",
   "metadata": {},
   "source": [
    "# Merge means with the 45 and 85 DF"
   ]
  },
  {
   "cell_type": "code",
   "execution_count": 19,
   "metadata": {},
   "outputs": [],
   "source": [
    "dftgseall = dfse852.merge(dfse452, on=mkey)\n",
    "i=0\n",
    "for df in listdfmo:\n",
    "    dftgseall2 = dftgseall.merge(listdfmo[i], on=mkey)\n",
    "    i = i +1\n"
   ]
  },
  {
   "cell_type": "code",
   "execution_count": 20,
   "metadata": {},
   "outputs": [
    {
     "data": {
      "text/html": [
       "<div>\n",
       "<style scoped>\n",
       "    .dataframe tbody tr th:only-of-type {\n",
       "        vertical-align: middle;\n",
       "    }\n",
       "\n",
       "    .dataframe tbody tr th {\n",
       "        vertical-align: top;\n",
       "    }\n",
       "\n",
       "    .dataframe thead th {\n",
       "        text-align: right;\n",
       "    }\n",
       "</style>\n",
       "<table border=\"1\" class=\"dataframe\">\n",
       "  <thead>\n",
       "    <tr style=\"text-align: right;\">\n",
       "      <th></th>\n",
       "      <th>lat</th>\n",
       "      <th>lon</th>\n",
       "      <th>january_t2050_rcp85_p10</th>\n",
       "      <th>january_t2080_rcp85_p10</th>\n",
       "      <th>january_t2050_rcp85_p50</th>\n",
       "      <th>january_t2080_rcp85_p50</th>\n",
       "      <th>january_t2050_rcp85_p90</th>\n",
       "      <th>january_t2080_rcp85_p90</th>\n",
       "      <th>february_t2050_rcp85_p10</th>\n",
       "      <th>february_t2080_rcp85_p10</th>\n",
       "      <th>...</th>\n",
       "      <th>november_t2080_rcp45_p90</th>\n",
       "      <th>december_hist_rcp45_p10</th>\n",
       "      <th>december_t2050_rcp45_p10</th>\n",
       "      <th>december_t2080_rcp45_p10</th>\n",
       "      <th>december_hist_rcp45_p50</th>\n",
       "      <th>december_t2050_rcp45_p50</th>\n",
       "      <th>december_t2080_rcp45_p50</th>\n",
       "      <th>december_hist_rcp45_p90</th>\n",
       "      <th>december_t2050_rcp45_p90</th>\n",
       "      <th>december_t2080_rcp45_p90</th>\n",
       "    </tr>\n",
       "  </thead>\n",
       "  <tbody>\n",
       "    <tr>\n",
       "      <th>0</th>\n",
       "      <td>40.041039</td>\n",
       "      <td>-89.045212</td>\n",
       "      <td>25.03</td>\n",
       "      <td>24.41</td>\n",
       "      <td>46.30</td>\n",
       "      <td>49.71</td>\n",
       "      <td>76.82</td>\n",
       "      <td>82.15</td>\n",
       "      <td>31.35</td>\n",
       "      <td>31.10</td>\n",
       "      <td>...</td>\n",
       "      <td>129.71</td>\n",
       "      <td>37.47</td>\n",
       "      <td>36.77</td>\n",
       "      <td>33.30</td>\n",
       "      <td>66.50</td>\n",
       "      <td>67.30</td>\n",
       "      <td>75.41</td>\n",
       "      <td>110.00</td>\n",
       "      <td>105.42</td>\n",
       "      <td>116.96</td>\n",
       "    </tr>\n",
       "    <tr>\n",
       "      <th>1</th>\n",
       "      <td>40.041039</td>\n",
       "      <td>-88.961884</td>\n",
       "      <td>25.66</td>\n",
       "      <td>25.12</td>\n",
       "      <td>47.65</td>\n",
       "      <td>51.06</td>\n",
       "      <td>78.71</td>\n",
       "      <td>84.24</td>\n",
       "      <td>32.36</td>\n",
       "      <td>32.37</td>\n",
       "      <td>...</td>\n",
       "      <td>130.58</td>\n",
       "      <td>38.13</td>\n",
       "      <td>37.54</td>\n",
       "      <td>33.98</td>\n",
       "      <td>67.60</td>\n",
       "      <td>68.74</td>\n",
       "      <td>76.71</td>\n",
       "      <td>111.89</td>\n",
       "      <td>107.11</td>\n",
       "      <td>119.16</td>\n",
       "    </tr>\n",
       "    <tr>\n",
       "      <th>2</th>\n",
       "      <td>40.041039</td>\n",
       "      <td>-88.878548</td>\n",
       "      <td>26.22</td>\n",
       "      <td>25.71</td>\n",
       "      <td>48.16</td>\n",
       "      <td>51.53</td>\n",
       "      <td>79.07</td>\n",
       "      <td>84.89</td>\n",
       "      <td>32.49</td>\n",
       "      <td>32.65</td>\n",
       "      <td>...</td>\n",
       "      <td>128.38</td>\n",
       "      <td>38.95</td>\n",
       "      <td>38.29</td>\n",
       "      <td>34.84</td>\n",
       "      <td>68.08</td>\n",
       "      <td>69.56</td>\n",
       "      <td>77.02</td>\n",
       "      <td>111.08</td>\n",
       "      <td>106.47</td>\n",
       "      <td>118.31</td>\n",
       "    </tr>\n",
       "    <tr>\n",
       "      <th>3</th>\n",
       "      <td>40.041039</td>\n",
       "      <td>-88.795219</td>\n",
       "      <td>26.53</td>\n",
       "      <td>25.96</td>\n",
       "      <td>48.20</td>\n",
       "      <td>51.32</td>\n",
       "      <td>78.71</td>\n",
       "      <td>84.49</td>\n",
       "      <td>32.09</td>\n",
       "      <td>31.99</td>\n",
       "      <td>...</td>\n",
       "      <td>126.77</td>\n",
       "      <td>39.38</td>\n",
       "      <td>38.83</td>\n",
       "      <td>35.30</td>\n",
       "      <td>68.07</td>\n",
       "      <td>69.62</td>\n",
       "      <td>76.58</td>\n",
       "      <td>109.50</td>\n",
       "      <td>105.45</td>\n",
       "      <td>116.51</td>\n",
       "    </tr>\n",
       "    <tr>\n",
       "      <th>4</th>\n",
       "      <td>40.041039</td>\n",
       "      <td>-88.711891</td>\n",
       "      <td>26.98</td>\n",
       "      <td>26.40</td>\n",
       "      <td>49.12</td>\n",
       "      <td>52.04</td>\n",
       "      <td>80.33</td>\n",
       "      <td>86.50</td>\n",
       "      <td>31.20</td>\n",
       "      <td>31.37</td>\n",
       "      <td>...</td>\n",
       "      <td>127.52</td>\n",
       "      <td>39.83</td>\n",
       "      <td>39.46</td>\n",
       "      <td>36.02</td>\n",
       "      <td>69.48</td>\n",
       "      <td>70.99</td>\n",
       "      <td>77.60</td>\n",
       "      <td>110.83</td>\n",
       "      <td>107.77</td>\n",
       "      <td>118.19</td>\n",
       "    </tr>\n",
       "    <tr>\n",
       "      <th>...</th>\n",
       "      <td>...</td>\n",
       "      <td>...</td>\n",
       "      <td>...</td>\n",
       "      <td>...</td>\n",
       "      <td>...</td>\n",
       "      <td>...</td>\n",
       "      <td>...</td>\n",
       "      <td>...</td>\n",
       "      <td>...</td>\n",
       "      <td>...</td>\n",
       "      <td>...</td>\n",
       "      <td>...</td>\n",
       "      <td>...</td>\n",
       "      <td>...</td>\n",
       "      <td>...</td>\n",
       "      <td>...</td>\n",
       "      <td>...</td>\n",
       "      <td>...</td>\n",
       "      <td>...</td>\n",
       "      <td>...</td>\n",
       "      <td>...</td>\n",
       "    </tr>\n",
       "    <tr>\n",
       "      <th>76201</th>\n",
       "      <td>66.623306</td>\n",
       "      <td>-61.629639</td>\n",
       "      <td>15.97</td>\n",
       "      <td>20.20</td>\n",
       "      <td>38.45</td>\n",
       "      <td>47.24</td>\n",
       "      <td>85.22</td>\n",
       "      <td>99.26</td>\n",
       "      <td>10.93</td>\n",
       "      <td>13.59</td>\n",
       "      <td>...</td>\n",
       "      <td>95.81</td>\n",
       "      <td>15.64</td>\n",
       "      <td>20.25</td>\n",
       "      <td>21.36</td>\n",
       "      <td>40.05</td>\n",
       "      <td>46.20</td>\n",
       "      <td>49.95</td>\n",
       "      <td>79.69</td>\n",
       "      <td>93.79</td>\n",
       "      <td>92.90</td>\n",
       "    </tr>\n",
       "    <tr>\n",
       "      <th>76202</th>\n",
       "      <td>66.623306</td>\n",
       "      <td>-61.546310</td>\n",
       "      <td>16.56</td>\n",
       "      <td>21.00</td>\n",
       "      <td>39.43</td>\n",
       "      <td>48.42</td>\n",
       "      <td>86.30</td>\n",
       "      <td>100.27</td>\n",
       "      <td>11.56</td>\n",
       "      <td>14.25</td>\n",
       "      <td>...</td>\n",
       "      <td>97.45</td>\n",
       "      <td>16.40</td>\n",
       "      <td>21.14</td>\n",
       "      <td>22.17</td>\n",
       "      <td>40.86</td>\n",
       "      <td>47.11</td>\n",
       "      <td>51.29</td>\n",
       "      <td>80.72</td>\n",
       "      <td>94.70</td>\n",
       "      <td>94.61</td>\n",
       "    </tr>\n",
       "    <tr>\n",
       "      <th>76203</th>\n",
       "      <td>66.623306</td>\n",
       "      <td>-61.462978</td>\n",
       "      <td>16.13</td>\n",
       "      <td>20.54</td>\n",
       "      <td>38.98</td>\n",
       "      <td>47.85</td>\n",
       "      <td>85.92</td>\n",
       "      <td>99.12</td>\n",
       "      <td>11.14</td>\n",
       "      <td>13.72</td>\n",
       "      <td>...</td>\n",
       "      <td>96.60</td>\n",
       "      <td>16.16</td>\n",
       "      <td>20.81</td>\n",
       "      <td>21.72</td>\n",
       "      <td>40.12</td>\n",
       "      <td>46.78</td>\n",
       "      <td>50.47</td>\n",
       "      <td>80.06</td>\n",
       "      <td>94.09</td>\n",
       "      <td>94.03</td>\n",
       "    </tr>\n",
       "    <tr>\n",
       "      <th>76204</th>\n",
       "      <td>66.623306</td>\n",
       "      <td>-61.379650</td>\n",
       "      <td>15.96</td>\n",
       "      <td>20.37</td>\n",
       "      <td>38.67</td>\n",
       "      <td>47.63</td>\n",
       "      <td>85.10</td>\n",
       "      <td>98.34</td>\n",
       "      <td>10.94</td>\n",
       "      <td>13.46</td>\n",
       "      <td>...</td>\n",
       "      <td>95.88</td>\n",
       "      <td>16.15</td>\n",
       "      <td>20.81</td>\n",
       "      <td>21.61</td>\n",
       "      <td>39.99</td>\n",
       "      <td>46.36</td>\n",
       "      <td>50.36</td>\n",
       "      <td>79.56</td>\n",
       "      <td>93.25</td>\n",
       "      <td>93.40</td>\n",
       "    </tr>\n",
       "    <tr>\n",
       "      <th>76205</th>\n",
       "      <td>66.623306</td>\n",
       "      <td>-61.296322</td>\n",
       "      <td>14.54</td>\n",
       "      <td>18.66</td>\n",
       "      <td>36.22</td>\n",
       "      <td>44.46</td>\n",
       "      <td>80.28</td>\n",
       "      <td>92.65</td>\n",
       "      <td>9.67</td>\n",
       "      <td>11.94</td>\n",
       "      <td>...</td>\n",
       "      <td>90.98</td>\n",
       "      <td>14.95</td>\n",
       "      <td>19.26</td>\n",
       "      <td>19.89</td>\n",
       "      <td>37.46</td>\n",
       "      <td>43.46</td>\n",
       "      <td>47.38</td>\n",
       "      <td>75.21</td>\n",
       "      <td>88.09</td>\n",
       "      <td>88.61</td>\n",
       "    </tr>\n",
       "  </tbody>\n",
       "</table>\n",
       "<p>76206 rows × 182 columns</p>\n",
       "</div>"
      ],
      "text/plain": [
       "             lat        lon  january_t2050_rcp85_p10  january_t2080_rcp85_p10  \\\n",
       "0      40.041039 -89.045212                    25.03                    24.41   \n",
       "1      40.041039 -88.961884                    25.66                    25.12   \n",
       "2      40.041039 -88.878548                    26.22                    25.71   \n",
       "3      40.041039 -88.795219                    26.53                    25.96   \n",
       "4      40.041039 -88.711891                    26.98                    26.40   \n",
       "...          ...        ...                      ...                      ...   \n",
       "76201  66.623306 -61.629639                    15.97                    20.20   \n",
       "76202  66.623306 -61.546310                    16.56                    21.00   \n",
       "76203  66.623306 -61.462978                    16.13                    20.54   \n",
       "76204  66.623306 -61.379650                    15.96                    20.37   \n",
       "76205  66.623306 -61.296322                    14.54                    18.66   \n",
       "\n",
       "       january_t2050_rcp85_p50  january_t2080_rcp85_p50  \\\n",
       "0                        46.30                    49.71   \n",
       "1                        47.65                    51.06   \n",
       "2                        48.16                    51.53   \n",
       "3                        48.20                    51.32   \n",
       "4                        49.12                    52.04   \n",
       "...                        ...                      ...   \n",
       "76201                    38.45                    47.24   \n",
       "76202                    39.43                    48.42   \n",
       "76203                    38.98                    47.85   \n",
       "76204                    38.67                    47.63   \n",
       "76205                    36.22                    44.46   \n",
       "\n",
       "       january_t2050_rcp85_p90  january_t2080_rcp85_p90  \\\n",
       "0                        76.82                    82.15   \n",
       "1                        78.71                    84.24   \n",
       "2                        79.07                    84.89   \n",
       "3                        78.71                    84.49   \n",
       "4                        80.33                    86.50   \n",
       "...                        ...                      ...   \n",
       "76201                    85.22                    99.26   \n",
       "76202                    86.30                   100.27   \n",
       "76203                    85.92                    99.12   \n",
       "76204                    85.10                    98.34   \n",
       "76205                    80.28                    92.65   \n",
       "\n",
       "       february_t2050_rcp85_p10  february_t2080_rcp85_p10  ...  \\\n",
       "0                         31.35                     31.10  ...   \n",
       "1                         32.36                     32.37  ...   \n",
       "2                         32.49                     32.65  ...   \n",
       "3                         32.09                     31.99  ...   \n",
       "4                         31.20                     31.37  ...   \n",
       "...                         ...                       ...  ...   \n",
       "76201                     10.93                     13.59  ...   \n",
       "76202                     11.56                     14.25  ...   \n",
       "76203                     11.14                     13.72  ...   \n",
       "76204                     10.94                     13.46  ...   \n",
       "76205                      9.67                     11.94  ...   \n",
       "\n",
       "       november_t2080_rcp45_p90  december_hist_rcp45_p10  \\\n",
       "0                        129.71                    37.47   \n",
       "1                        130.58                    38.13   \n",
       "2                        128.38                    38.95   \n",
       "3                        126.77                    39.38   \n",
       "4                        127.52                    39.83   \n",
       "...                         ...                      ...   \n",
       "76201                     95.81                    15.64   \n",
       "76202                     97.45                    16.40   \n",
       "76203                     96.60                    16.16   \n",
       "76204                     95.88                    16.15   \n",
       "76205                     90.98                    14.95   \n",
       "\n",
       "       december_t2050_rcp45_p10  december_t2080_rcp45_p10  \\\n",
       "0                         36.77                     33.30   \n",
       "1                         37.54                     33.98   \n",
       "2                         38.29                     34.84   \n",
       "3                         38.83                     35.30   \n",
       "4                         39.46                     36.02   \n",
       "...                         ...                       ...   \n",
       "76201                     20.25                     21.36   \n",
       "76202                     21.14                     22.17   \n",
       "76203                     20.81                     21.72   \n",
       "76204                     20.81                     21.61   \n",
       "76205                     19.26                     19.89   \n",
       "\n",
       "       december_hist_rcp45_p50  december_t2050_rcp45_p50  \\\n",
       "0                        66.50                     67.30   \n",
       "1                        67.60                     68.74   \n",
       "2                        68.08                     69.56   \n",
       "3                        68.07                     69.62   \n",
       "4                        69.48                     70.99   \n",
       "...                        ...                       ...   \n",
       "76201                    40.05                     46.20   \n",
       "76202                    40.86                     47.11   \n",
       "76203                    40.12                     46.78   \n",
       "76204                    39.99                     46.36   \n",
       "76205                    37.46                     43.46   \n",
       "\n",
       "       december_t2080_rcp45_p50  december_hist_rcp45_p90  \\\n",
       "0                         75.41                   110.00   \n",
       "1                         76.71                   111.89   \n",
       "2                         77.02                   111.08   \n",
       "3                         76.58                   109.50   \n",
       "4                         77.60                   110.83   \n",
       "...                         ...                      ...   \n",
       "76201                     49.95                    79.69   \n",
       "76202                     51.29                    80.72   \n",
       "76203                     50.47                    80.06   \n",
       "76204                     50.36                    79.56   \n",
       "76205                     47.38                    75.21   \n",
       "\n",
       "       december_t2050_rcp45_p90  december_t2080_rcp45_p90  \n",
       "0                        105.42                    116.96  \n",
       "1                        107.11                    119.16  \n",
       "2                        106.47                    118.31  \n",
       "3                        105.45                    116.51  \n",
       "4                        107.77                    118.19  \n",
       "...                         ...                       ...  \n",
       "76201                     93.79                     92.90  \n",
       "76202                     94.70                     94.61  \n",
       "76203                     94.09                     94.03  \n",
       "76204                     93.25                     93.40  \n",
       "76205                     88.09                     88.61  \n",
       "\n",
       "[76206 rows x 182 columns]"
      ]
     },
     "execution_count": 20,
     "metadata": {},
     "output_type": "execute_result"
    }
   ],
   "source": [
    "dftgseall"
   ]
  },
  {
   "cell_type": "code",
   "execution_count": 23,
   "metadata": {},
   "outputs": [],
   "source": [
    "dfmop50 = merge_multiple_dfs(listdfmo[0:12], on=mkey)"
   ]
  },
  {
   "cell_type": "code",
   "execution_count": 24,
   "metadata": {},
   "outputs": [
    {
     "data": {
      "text/html": [
       "<div>\n",
       "<style scoped>\n",
       "    .dataframe tbody tr th:only-of-type {\n",
       "        vertical-align: middle;\n",
       "    }\n",
       "\n",
       "    .dataframe tbody tr th {\n",
       "        vertical-align: top;\n",
       "    }\n",
       "\n",
       "    .dataframe thead th {\n",
       "        text-align: right;\n",
       "    }\n",
       "</style>\n",
       "<table border=\"1\" class=\"dataframe\">\n",
       "  <thead>\n",
       "    <tr style=\"text-align: right;\">\n",
       "      <th></th>\n",
       "      <th>lat</th>\n",
       "      <th>lon</th>\n",
       "      <th>january_hist_p50</th>\n",
       "      <th>february_hist_p50</th>\n",
       "      <th>march_hist_p50</th>\n",
       "      <th>april_hist_p50</th>\n",
       "      <th>may_hist_p50</th>\n",
       "      <th>june_hist_p50</th>\n",
       "      <th>july_hist_p50</th>\n",
       "      <th>august_hist_p50</th>\n",
       "      <th>september_hist_p50</th>\n",
       "      <th>october_hist_p50</th>\n",
       "      <th>november_hist_p50</th>\n",
       "      <th>december_hist_p50</th>\n",
       "    </tr>\n",
       "  </thead>\n",
       "  <tbody>\n",
       "    <tr>\n",
       "      <th>0</th>\n",
       "      <td>40.041039</td>\n",
       "      <td>-89.045212</td>\n",
       "      <td>42.32</td>\n",
       "      <td>50.16</td>\n",
       "      <td>78.17</td>\n",
       "      <td>97.00</td>\n",
       "      <td>99.51</td>\n",
       "      <td>96.96</td>\n",
       "      <td>103.85</td>\n",
       "      <td>94.08</td>\n",
       "      <td>75.47</td>\n",
       "      <td>68.32</td>\n",
       "      <td>76.13</td>\n",
       "      <td>66.41</td>\n",
       "    </tr>\n",
       "    <tr>\n",
       "      <th>1</th>\n",
       "      <td>40.041039</td>\n",
       "      <td>-88.961884</td>\n",
       "      <td>43.54</td>\n",
       "      <td>51.92</td>\n",
       "      <td>79.68</td>\n",
       "      <td>97.96</td>\n",
       "      <td>100.44</td>\n",
       "      <td>98.68</td>\n",
       "      <td>104.00</td>\n",
       "      <td>91.86</td>\n",
       "      <td>74.82</td>\n",
       "      <td>68.48</td>\n",
       "      <td>76.88</td>\n",
       "      <td>67.54</td>\n",
       "    </tr>\n",
       "    <tr>\n",
       "      <th>2</th>\n",
       "      <td>40.041039</td>\n",
       "      <td>-88.878548</td>\n",
       "      <td>44.22</td>\n",
       "      <td>51.98</td>\n",
       "      <td>78.95</td>\n",
       "      <td>96.74</td>\n",
       "      <td>99.34</td>\n",
       "      <td>98.57</td>\n",
       "      <td>102.42</td>\n",
       "      <td>92.02</td>\n",
       "      <td>73.92</td>\n",
       "      <td>67.78</td>\n",
       "      <td>76.70</td>\n",
       "      <td>67.94</td>\n",
       "    </tr>\n",
       "    <tr>\n",
       "      <th>3</th>\n",
       "      <td>40.041039</td>\n",
       "      <td>-88.795219</td>\n",
       "      <td>44.33</td>\n",
       "      <td>50.88</td>\n",
       "      <td>78.23</td>\n",
       "      <td>95.84</td>\n",
       "      <td>98.36</td>\n",
       "      <td>98.65</td>\n",
       "      <td>102.59</td>\n",
       "      <td>93.90</td>\n",
       "      <td>72.85</td>\n",
       "      <td>67.22</td>\n",
       "      <td>76.47</td>\n",
       "      <td>67.87</td>\n",
       "    </tr>\n",
       "    <tr>\n",
       "      <th>4</th>\n",
       "      <td>40.041039</td>\n",
       "      <td>-88.711891</td>\n",
       "      <td>45.22</td>\n",
       "      <td>50.10</td>\n",
       "      <td>77.39</td>\n",
       "      <td>95.38</td>\n",
       "      <td>96.89</td>\n",
       "      <td>99.20</td>\n",
       "      <td>105.44</td>\n",
       "      <td>95.26</td>\n",
       "      <td>71.97</td>\n",
       "      <td>66.14</td>\n",
       "      <td>76.90</td>\n",
       "      <td>69.15</td>\n",
       "    </tr>\n",
       "    <tr>\n",
       "      <th>...</th>\n",
       "      <td>...</td>\n",
       "      <td>...</td>\n",
       "      <td>...</td>\n",
       "      <td>...</td>\n",
       "      <td>...</td>\n",
       "      <td>...</td>\n",
       "      <td>...</td>\n",
       "      <td>...</td>\n",
       "      <td>...</td>\n",
       "      <td>...</td>\n",
       "      <td>...</td>\n",
       "      <td>...</td>\n",
       "      <td>...</td>\n",
       "      <td>...</td>\n",
       "    </tr>\n",
       "    <tr>\n",
       "      <th>76201</th>\n",
       "      <td>66.623306</td>\n",
       "      <td>-61.629639</td>\n",
       "      <td>28.38</td>\n",
       "      <td>23.10</td>\n",
       "      <td>22.98</td>\n",
       "      <td>28.18</td>\n",
       "      <td>37.76</td>\n",
       "      <td>27.10</td>\n",
       "      <td>31.86</td>\n",
       "      <td>43.32</td>\n",
       "      <td>51.56</td>\n",
       "      <td>62.60</td>\n",
       "      <td>46.67</td>\n",
       "      <td>39.19</td>\n",
       "    </tr>\n",
       "    <tr>\n",
       "      <th>76202</th>\n",
       "      <td>66.623306</td>\n",
       "      <td>-61.546310</td>\n",
       "      <td>29.11</td>\n",
       "      <td>23.86</td>\n",
       "      <td>24.02</td>\n",
       "      <td>28.91</td>\n",
       "      <td>38.45</td>\n",
       "      <td>28.16</td>\n",
       "      <td>32.62</td>\n",
       "      <td>43.96</td>\n",
       "      <td>52.24</td>\n",
       "      <td>63.72</td>\n",
       "      <td>47.61</td>\n",
       "      <td>39.99</td>\n",
       "    </tr>\n",
       "    <tr>\n",
       "      <th>76203</th>\n",
       "      <td>66.623306</td>\n",
       "      <td>-61.462978</td>\n",
       "      <td>28.56</td>\n",
       "      <td>23.33</td>\n",
       "      <td>23.44</td>\n",
       "      <td>28.58</td>\n",
       "      <td>38.00</td>\n",
       "      <td>27.46</td>\n",
       "      <td>32.06</td>\n",
       "      <td>43.32</td>\n",
       "      <td>51.80</td>\n",
       "      <td>63.23</td>\n",
       "      <td>46.90</td>\n",
       "      <td>39.54</td>\n",
       "    </tr>\n",
       "    <tr>\n",
       "      <th>76204</th>\n",
       "      <td>66.623306</td>\n",
       "      <td>-61.379650</td>\n",
       "      <td>28.34</td>\n",
       "      <td>22.88</td>\n",
       "      <td>23.12</td>\n",
       "      <td>28.49</td>\n",
       "      <td>37.64</td>\n",
       "      <td>27.27</td>\n",
       "      <td>31.81</td>\n",
       "      <td>43.00</td>\n",
       "      <td>51.33</td>\n",
       "      <td>62.64</td>\n",
       "      <td>46.39</td>\n",
       "      <td>39.33</td>\n",
       "    </tr>\n",
       "    <tr>\n",
       "      <th>76205</th>\n",
       "      <td>66.623306</td>\n",
       "      <td>-61.296322</td>\n",
       "      <td>26.46</td>\n",
       "      <td>20.99</td>\n",
       "      <td>21.02</td>\n",
       "      <td>26.68</td>\n",
       "      <td>35.52</td>\n",
       "      <td>25.58</td>\n",
       "      <td>29.84</td>\n",
       "      <td>41.44</td>\n",
       "      <td>48.51</td>\n",
       "      <td>59.58</td>\n",
       "      <td>43.78</td>\n",
       "      <td>36.72</td>\n",
       "    </tr>\n",
       "  </tbody>\n",
       "</table>\n",
       "<p>76206 rows × 14 columns</p>\n",
       "</div>"
      ],
      "text/plain": [
       "             lat        lon  january_hist_p50  february_hist_p50  \\\n",
       "0      40.041039 -89.045212             42.32              50.16   \n",
       "1      40.041039 -88.961884             43.54              51.92   \n",
       "2      40.041039 -88.878548             44.22              51.98   \n",
       "3      40.041039 -88.795219             44.33              50.88   \n",
       "4      40.041039 -88.711891             45.22              50.10   \n",
       "...          ...        ...               ...                ...   \n",
       "76201  66.623306 -61.629639             28.38              23.10   \n",
       "76202  66.623306 -61.546310             29.11              23.86   \n",
       "76203  66.623306 -61.462978             28.56              23.33   \n",
       "76204  66.623306 -61.379650             28.34              22.88   \n",
       "76205  66.623306 -61.296322             26.46              20.99   \n",
       "\n",
       "       march_hist_p50  april_hist_p50  may_hist_p50  june_hist_p50  \\\n",
       "0               78.17           97.00         99.51          96.96   \n",
       "1               79.68           97.96        100.44          98.68   \n",
       "2               78.95           96.74         99.34          98.57   \n",
       "3               78.23           95.84         98.36          98.65   \n",
       "4               77.39           95.38         96.89          99.20   \n",
       "...               ...             ...           ...            ...   \n",
       "76201           22.98           28.18         37.76          27.10   \n",
       "76202           24.02           28.91         38.45          28.16   \n",
       "76203           23.44           28.58         38.00          27.46   \n",
       "76204           23.12           28.49         37.64          27.27   \n",
       "76205           21.02           26.68         35.52          25.58   \n",
       "\n",
       "       july_hist_p50  august_hist_p50  september_hist_p50  october_hist_p50  \\\n",
       "0             103.85            94.08               75.47             68.32   \n",
       "1             104.00            91.86               74.82             68.48   \n",
       "2             102.42            92.02               73.92             67.78   \n",
       "3             102.59            93.90               72.85             67.22   \n",
       "4             105.44            95.26               71.97             66.14   \n",
       "...              ...              ...                 ...               ...   \n",
       "76201          31.86            43.32               51.56             62.60   \n",
       "76202          32.62            43.96               52.24             63.72   \n",
       "76203          32.06            43.32               51.80             63.23   \n",
       "76204          31.81            43.00               51.33             62.64   \n",
       "76205          29.84            41.44               48.51             59.58   \n",
       "\n",
       "       november_hist_p50  december_hist_p50  \n",
       "0                  76.13              66.41  \n",
       "1                  76.88              67.54  \n",
       "2                  76.70              67.94  \n",
       "3                  76.47              67.87  \n",
       "4                  76.90              69.15  \n",
       "...                  ...                ...  \n",
       "76201              46.67              39.19  \n",
       "76202              47.61              39.99  \n",
       "76203              46.90              39.54  \n",
       "76204              46.39              39.33  \n",
       "76205              43.78              36.72  \n",
       "\n",
       "[76206 rows x 14 columns]"
      ]
     },
     "execution_count": 24,
     "metadata": {},
     "output_type": "execute_result"
    }
   ],
   "source": [
    "dfmop50"
   ]
  },
  {
   "cell_type": "code",
   "execution_count": 25,
   "metadata": {},
   "outputs": [],
   "source": [
    "dftgseall2 = dfse852.merge(dfse452, on=mkey)"
   ]
  },
  {
   "cell_type": "code",
   "execution_count": 26,
   "metadata": {},
   "outputs": [],
   "source": [
    "#dftgseall = dfse852.merge(dfse452, on=mkey).merge(dftfah, on=mkey).merge(dftsuh, on=mkey).merge(dftsph, on=mkey).merge(dftgwh, on=mkey)"
   ]
  },
  {
   "cell_type": "code",
   "execution_count": 27,
   "metadata": {},
   "outputs": [
    {
     "data": {
      "text/html": [
       "<div>\n",
       "<style scoped>\n",
       "    .dataframe tbody tr th:only-of-type {\n",
       "        vertical-align: middle;\n",
       "    }\n",
       "\n",
       "    .dataframe tbody tr th {\n",
       "        vertical-align: top;\n",
       "    }\n",
       "\n",
       "    .dataframe thead th {\n",
       "        text-align: right;\n",
       "    }\n",
       "</style>\n",
       "<table border=\"1\" class=\"dataframe\">\n",
       "  <thead>\n",
       "    <tr style=\"text-align: right;\">\n",
       "      <th></th>\n",
       "      <th>lat</th>\n",
       "      <th>lon</th>\n",
       "      <th>january_t2050_rcp85_p10</th>\n",
       "      <th>january_t2080_rcp85_p10</th>\n",
       "      <th>january_t2050_rcp85_p50</th>\n",
       "      <th>january_t2080_rcp85_p50</th>\n",
       "      <th>january_t2050_rcp85_p90</th>\n",
       "      <th>january_t2080_rcp85_p90</th>\n",
       "      <th>february_t2050_rcp85_p10</th>\n",
       "      <th>february_t2080_rcp85_p10</th>\n",
       "      <th>...</th>\n",
       "      <th>november_t2080_rcp45_p90</th>\n",
       "      <th>december_hist_rcp45_p10</th>\n",
       "      <th>december_t2050_rcp45_p10</th>\n",
       "      <th>december_t2080_rcp45_p10</th>\n",
       "      <th>december_hist_rcp45_p50</th>\n",
       "      <th>december_t2050_rcp45_p50</th>\n",
       "      <th>december_t2080_rcp45_p50</th>\n",
       "      <th>december_hist_rcp45_p90</th>\n",
       "      <th>december_t2050_rcp45_p90</th>\n",
       "      <th>december_t2080_rcp45_p90</th>\n",
       "    </tr>\n",
       "  </thead>\n",
       "  <tbody>\n",
       "    <tr>\n",
       "      <th>0</th>\n",
       "      <td>40.041039</td>\n",
       "      <td>-89.045212</td>\n",
       "      <td>25.03</td>\n",
       "      <td>24.41</td>\n",
       "      <td>46.30</td>\n",
       "      <td>49.71</td>\n",
       "      <td>76.82</td>\n",
       "      <td>82.15</td>\n",
       "      <td>31.35</td>\n",
       "      <td>31.10</td>\n",
       "      <td>...</td>\n",
       "      <td>129.71</td>\n",
       "      <td>37.47</td>\n",
       "      <td>36.77</td>\n",
       "      <td>33.30</td>\n",
       "      <td>66.50</td>\n",
       "      <td>67.30</td>\n",
       "      <td>75.41</td>\n",
       "      <td>110.00</td>\n",
       "      <td>105.42</td>\n",
       "      <td>116.96</td>\n",
       "    </tr>\n",
       "    <tr>\n",
       "      <th>1</th>\n",
       "      <td>40.041039</td>\n",
       "      <td>-88.961884</td>\n",
       "      <td>25.66</td>\n",
       "      <td>25.12</td>\n",
       "      <td>47.65</td>\n",
       "      <td>51.06</td>\n",
       "      <td>78.71</td>\n",
       "      <td>84.24</td>\n",
       "      <td>32.36</td>\n",
       "      <td>32.37</td>\n",
       "      <td>...</td>\n",
       "      <td>130.58</td>\n",
       "      <td>38.13</td>\n",
       "      <td>37.54</td>\n",
       "      <td>33.98</td>\n",
       "      <td>67.60</td>\n",
       "      <td>68.74</td>\n",
       "      <td>76.71</td>\n",
       "      <td>111.89</td>\n",
       "      <td>107.11</td>\n",
       "      <td>119.16</td>\n",
       "    </tr>\n",
       "    <tr>\n",
       "      <th>2</th>\n",
       "      <td>40.041039</td>\n",
       "      <td>-88.878548</td>\n",
       "      <td>26.22</td>\n",
       "      <td>25.71</td>\n",
       "      <td>48.16</td>\n",
       "      <td>51.53</td>\n",
       "      <td>79.07</td>\n",
       "      <td>84.89</td>\n",
       "      <td>32.49</td>\n",
       "      <td>32.65</td>\n",
       "      <td>...</td>\n",
       "      <td>128.38</td>\n",
       "      <td>38.95</td>\n",
       "      <td>38.29</td>\n",
       "      <td>34.84</td>\n",
       "      <td>68.08</td>\n",
       "      <td>69.56</td>\n",
       "      <td>77.02</td>\n",
       "      <td>111.08</td>\n",
       "      <td>106.47</td>\n",
       "      <td>118.31</td>\n",
       "    </tr>\n",
       "    <tr>\n",
       "      <th>3</th>\n",
       "      <td>40.041039</td>\n",
       "      <td>-88.795219</td>\n",
       "      <td>26.53</td>\n",
       "      <td>25.96</td>\n",
       "      <td>48.20</td>\n",
       "      <td>51.32</td>\n",
       "      <td>78.71</td>\n",
       "      <td>84.49</td>\n",
       "      <td>32.09</td>\n",
       "      <td>31.99</td>\n",
       "      <td>...</td>\n",
       "      <td>126.77</td>\n",
       "      <td>39.38</td>\n",
       "      <td>38.83</td>\n",
       "      <td>35.30</td>\n",
       "      <td>68.07</td>\n",
       "      <td>69.62</td>\n",
       "      <td>76.58</td>\n",
       "      <td>109.50</td>\n",
       "      <td>105.45</td>\n",
       "      <td>116.51</td>\n",
       "    </tr>\n",
       "    <tr>\n",
       "      <th>4</th>\n",
       "      <td>40.041039</td>\n",
       "      <td>-88.711891</td>\n",
       "      <td>26.98</td>\n",
       "      <td>26.40</td>\n",
       "      <td>49.12</td>\n",
       "      <td>52.04</td>\n",
       "      <td>80.33</td>\n",
       "      <td>86.50</td>\n",
       "      <td>31.20</td>\n",
       "      <td>31.37</td>\n",
       "      <td>...</td>\n",
       "      <td>127.52</td>\n",
       "      <td>39.83</td>\n",
       "      <td>39.46</td>\n",
       "      <td>36.02</td>\n",
       "      <td>69.48</td>\n",
       "      <td>70.99</td>\n",
       "      <td>77.60</td>\n",
       "      <td>110.83</td>\n",
       "      <td>107.77</td>\n",
       "      <td>118.19</td>\n",
       "    </tr>\n",
       "    <tr>\n",
       "      <th>...</th>\n",
       "      <td>...</td>\n",
       "      <td>...</td>\n",
       "      <td>...</td>\n",
       "      <td>...</td>\n",
       "      <td>...</td>\n",
       "      <td>...</td>\n",
       "      <td>...</td>\n",
       "      <td>...</td>\n",
       "      <td>...</td>\n",
       "      <td>...</td>\n",
       "      <td>...</td>\n",
       "      <td>...</td>\n",
       "      <td>...</td>\n",
       "      <td>...</td>\n",
       "      <td>...</td>\n",
       "      <td>...</td>\n",
       "      <td>...</td>\n",
       "      <td>...</td>\n",
       "      <td>...</td>\n",
       "      <td>...</td>\n",
       "      <td>...</td>\n",
       "    </tr>\n",
       "    <tr>\n",
       "      <th>76201</th>\n",
       "      <td>66.623306</td>\n",
       "      <td>-61.629639</td>\n",
       "      <td>15.97</td>\n",
       "      <td>20.20</td>\n",
       "      <td>38.45</td>\n",
       "      <td>47.24</td>\n",
       "      <td>85.22</td>\n",
       "      <td>99.26</td>\n",
       "      <td>10.93</td>\n",
       "      <td>13.59</td>\n",
       "      <td>...</td>\n",
       "      <td>95.81</td>\n",
       "      <td>15.64</td>\n",
       "      <td>20.25</td>\n",
       "      <td>21.36</td>\n",
       "      <td>40.05</td>\n",
       "      <td>46.20</td>\n",
       "      <td>49.95</td>\n",
       "      <td>79.69</td>\n",
       "      <td>93.79</td>\n",
       "      <td>92.90</td>\n",
       "    </tr>\n",
       "    <tr>\n",
       "      <th>76202</th>\n",
       "      <td>66.623306</td>\n",
       "      <td>-61.546310</td>\n",
       "      <td>16.56</td>\n",
       "      <td>21.00</td>\n",
       "      <td>39.43</td>\n",
       "      <td>48.42</td>\n",
       "      <td>86.30</td>\n",
       "      <td>100.27</td>\n",
       "      <td>11.56</td>\n",
       "      <td>14.25</td>\n",
       "      <td>...</td>\n",
       "      <td>97.45</td>\n",
       "      <td>16.40</td>\n",
       "      <td>21.14</td>\n",
       "      <td>22.17</td>\n",
       "      <td>40.86</td>\n",
       "      <td>47.11</td>\n",
       "      <td>51.29</td>\n",
       "      <td>80.72</td>\n",
       "      <td>94.70</td>\n",
       "      <td>94.61</td>\n",
       "    </tr>\n",
       "    <tr>\n",
       "      <th>76203</th>\n",
       "      <td>66.623306</td>\n",
       "      <td>-61.462978</td>\n",
       "      <td>16.13</td>\n",
       "      <td>20.54</td>\n",
       "      <td>38.98</td>\n",
       "      <td>47.85</td>\n",
       "      <td>85.92</td>\n",
       "      <td>99.12</td>\n",
       "      <td>11.14</td>\n",
       "      <td>13.72</td>\n",
       "      <td>...</td>\n",
       "      <td>96.60</td>\n",
       "      <td>16.16</td>\n",
       "      <td>20.81</td>\n",
       "      <td>21.72</td>\n",
       "      <td>40.12</td>\n",
       "      <td>46.78</td>\n",
       "      <td>50.47</td>\n",
       "      <td>80.06</td>\n",
       "      <td>94.09</td>\n",
       "      <td>94.03</td>\n",
       "    </tr>\n",
       "    <tr>\n",
       "      <th>76204</th>\n",
       "      <td>66.623306</td>\n",
       "      <td>-61.379650</td>\n",
       "      <td>15.96</td>\n",
       "      <td>20.37</td>\n",
       "      <td>38.67</td>\n",
       "      <td>47.63</td>\n",
       "      <td>85.10</td>\n",
       "      <td>98.34</td>\n",
       "      <td>10.94</td>\n",
       "      <td>13.46</td>\n",
       "      <td>...</td>\n",
       "      <td>95.88</td>\n",
       "      <td>16.15</td>\n",
       "      <td>20.81</td>\n",
       "      <td>21.61</td>\n",
       "      <td>39.99</td>\n",
       "      <td>46.36</td>\n",
       "      <td>50.36</td>\n",
       "      <td>79.56</td>\n",
       "      <td>93.25</td>\n",
       "      <td>93.40</td>\n",
       "    </tr>\n",
       "    <tr>\n",
       "      <th>76205</th>\n",
       "      <td>66.623306</td>\n",
       "      <td>-61.296322</td>\n",
       "      <td>14.54</td>\n",
       "      <td>18.66</td>\n",
       "      <td>36.22</td>\n",
       "      <td>44.46</td>\n",
       "      <td>80.28</td>\n",
       "      <td>92.65</td>\n",
       "      <td>9.67</td>\n",
       "      <td>11.94</td>\n",
       "      <td>...</td>\n",
       "      <td>90.98</td>\n",
       "      <td>14.95</td>\n",
       "      <td>19.26</td>\n",
       "      <td>19.89</td>\n",
       "      <td>37.46</td>\n",
       "      <td>43.46</td>\n",
       "      <td>47.38</td>\n",
       "      <td>75.21</td>\n",
       "      <td>88.09</td>\n",
       "      <td>88.61</td>\n",
       "    </tr>\n",
       "  </tbody>\n",
       "</table>\n",
       "<p>76206 rows × 182 columns</p>\n",
       "</div>"
      ],
      "text/plain": [
       "             lat        lon  january_t2050_rcp85_p10  january_t2080_rcp85_p10  \\\n",
       "0      40.041039 -89.045212                    25.03                    24.41   \n",
       "1      40.041039 -88.961884                    25.66                    25.12   \n",
       "2      40.041039 -88.878548                    26.22                    25.71   \n",
       "3      40.041039 -88.795219                    26.53                    25.96   \n",
       "4      40.041039 -88.711891                    26.98                    26.40   \n",
       "...          ...        ...                      ...                      ...   \n",
       "76201  66.623306 -61.629639                    15.97                    20.20   \n",
       "76202  66.623306 -61.546310                    16.56                    21.00   \n",
       "76203  66.623306 -61.462978                    16.13                    20.54   \n",
       "76204  66.623306 -61.379650                    15.96                    20.37   \n",
       "76205  66.623306 -61.296322                    14.54                    18.66   \n",
       "\n",
       "       january_t2050_rcp85_p50  january_t2080_rcp85_p50  \\\n",
       "0                        46.30                    49.71   \n",
       "1                        47.65                    51.06   \n",
       "2                        48.16                    51.53   \n",
       "3                        48.20                    51.32   \n",
       "4                        49.12                    52.04   \n",
       "...                        ...                      ...   \n",
       "76201                    38.45                    47.24   \n",
       "76202                    39.43                    48.42   \n",
       "76203                    38.98                    47.85   \n",
       "76204                    38.67                    47.63   \n",
       "76205                    36.22                    44.46   \n",
       "\n",
       "       january_t2050_rcp85_p90  january_t2080_rcp85_p90  \\\n",
       "0                        76.82                    82.15   \n",
       "1                        78.71                    84.24   \n",
       "2                        79.07                    84.89   \n",
       "3                        78.71                    84.49   \n",
       "4                        80.33                    86.50   \n",
       "...                        ...                      ...   \n",
       "76201                    85.22                    99.26   \n",
       "76202                    86.30                   100.27   \n",
       "76203                    85.92                    99.12   \n",
       "76204                    85.10                    98.34   \n",
       "76205                    80.28                    92.65   \n",
       "\n",
       "       february_t2050_rcp85_p10  february_t2080_rcp85_p10  ...  \\\n",
       "0                         31.35                     31.10  ...   \n",
       "1                         32.36                     32.37  ...   \n",
       "2                         32.49                     32.65  ...   \n",
       "3                         32.09                     31.99  ...   \n",
       "4                         31.20                     31.37  ...   \n",
       "...                         ...                       ...  ...   \n",
       "76201                     10.93                     13.59  ...   \n",
       "76202                     11.56                     14.25  ...   \n",
       "76203                     11.14                     13.72  ...   \n",
       "76204                     10.94                     13.46  ...   \n",
       "76205                      9.67                     11.94  ...   \n",
       "\n",
       "       november_t2080_rcp45_p90  december_hist_rcp45_p10  \\\n",
       "0                        129.71                    37.47   \n",
       "1                        130.58                    38.13   \n",
       "2                        128.38                    38.95   \n",
       "3                        126.77                    39.38   \n",
       "4                        127.52                    39.83   \n",
       "...                         ...                      ...   \n",
       "76201                     95.81                    15.64   \n",
       "76202                     97.45                    16.40   \n",
       "76203                     96.60                    16.16   \n",
       "76204                     95.88                    16.15   \n",
       "76205                     90.98                    14.95   \n",
       "\n",
       "       december_t2050_rcp45_p10  december_t2080_rcp45_p10  \\\n",
       "0                         36.77                     33.30   \n",
       "1                         37.54                     33.98   \n",
       "2                         38.29                     34.84   \n",
       "3                         38.83                     35.30   \n",
       "4                         39.46                     36.02   \n",
       "...                         ...                       ...   \n",
       "76201                     20.25                     21.36   \n",
       "76202                     21.14                     22.17   \n",
       "76203                     20.81                     21.72   \n",
       "76204                     20.81                     21.61   \n",
       "76205                     19.26                     19.89   \n",
       "\n",
       "       december_hist_rcp45_p50  december_t2050_rcp45_p50  \\\n",
       "0                        66.50                     67.30   \n",
       "1                        67.60                     68.74   \n",
       "2                        68.08                     69.56   \n",
       "3                        68.07                     69.62   \n",
       "4                        69.48                     70.99   \n",
       "...                        ...                       ...   \n",
       "76201                    40.05                     46.20   \n",
       "76202                    40.86                     47.11   \n",
       "76203                    40.12                     46.78   \n",
       "76204                    39.99                     46.36   \n",
       "76205                    37.46                     43.46   \n",
       "\n",
       "       december_t2080_rcp45_p50  december_hist_rcp45_p90  \\\n",
       "0                         75.41                   110.00   \n",
       "1                         76.71                   111.89   \n",
       "2                         77.02                   111.08   \n",
       "3                         76.58                   109.50   \n",
       "4                         77.60                   110.83   \n",
       "...                         ...                      ...   \n",
       "76201                     49.95                    79.69   \n",
       "76202                     51.29                    80.72   \n",
       "76203                     50.47                    80.06   \n",
       "76204                     50.36                    79.56   \n",
       "76205                     47.38                    75.21   \n",
       "\n",
       "       december_t2050_rcp45_p90  december_t2080_rcp45_p90  \n",
       "0                        105.42                    116.96  \n",
       "1                        107.11                    119.16  \n",
       "2                        106.47                    118.31  \n",
       "3                        105.45                    116.51  \n",
       "4                        107.77                    118.19  \n",
       "...                         ...                       ...  \n",
       "76201                     93.79                     92.90  \n",
       "76202                     94.70                     94.61  \n",
       "76203                     94.09                     94.03  \n",
       "76204                     93.25                     93.40  \n",
       "76205                     88.09                     88.61  \n",
       "\n",
       "[76206 rows x 182 columns]"
      ]
     },
     "execution_count": 27,
     "metadata": {},
     "output_type": "execute_result"
    }
   ],
   "source": [
    "dftgseall2"
   ]
  },
  {
   "cell_type": "code",
   "execution_count": 28,
   "metadata": {},
   "outputs": [],
   "source": [
    "dftgseall3 = dftgseall2.merge(dfmop50, on=mkey)"
   ]
  },
  {
   "cell_type": "code",
   "execution_count": 29,
   "metadata": {},
   "outputs": [],
   "source": [
    "dftgseall3.to_feather(\"/home/mlopez/EXEC/Processed data to clip with regions/\"+var+\"_monthly.feather\")"
   ]
  },
  {
   "cell_type": "code",
   "execution_count": 30,
   "metadata": {},
   "outputs": [
    {
     "data": {
      "text/html": [
       "<div>\n",
       "<style scoped>\n",
       "    .dataframe tbody tr th:only-of-type {\n",
       "        vertical-align: middle;\n",
       "    }\n",
       "\n",
       "    .dataframe tbody tr th {\n",
       "        vertical-align: top;\n",
       "    }\n",
       "\n",
       "    .dataframe thead th {\n",
       "        text-align: right;\n",
       "    }\n",
       "</style>\n",
       "<table border=\"1\" class=\"dataframe\">\n",
       "  <thead>\n",
       "    <tr style=\"text-align: right;\">\n",
       "      <th></th>\n",
       "      <th>lat</th>\n",
       "      <th>lon</th>\n",
       "      <th>january_t2050_rcp85_p10</th>\n",
       "      <th>january_t2080_rcp85_p10</th>\n",
       "      <th>january_t2050_rcp85_p50</th>\n",
       "      <th>january_t2080_rcp85_p50</th>\n",
       "      <th>january_t2050_rcp85_p90</th>\n",
       "      <th>january_t2080_rcp85_p90</th>\n",
       "      <th>february_t2050_rcp85_p10</th>\n",
       "      <th>february_t2080_rcp85_p10</th>\n",
       "      <th>...</th>\n",
       "      <th>march_hist_p50</th>\n",
       "      <th>april_hist_p50</th>\n",
       "      <th>may_hist_p50</th>\n",
       "      <th>june_hist_p50</th>\n",
       "      <th>july_hist_p50</th>\n",
       "      <th>august_hist_p50</th>\n",
       "      <th>september_hist_p50</th>\n",
       "      <th>october_hist_p50</th>\n",
       "      <th>november_hist_p50</th>\n",
       "      <th>december_hist_p50</th>\n",
       "    </tr>\n",
       "  </thead>\n",
       "  <tbody>\n",
       "    <tr>\n",
       "      <th>0</th>\n",
       "      <td>40.041039</td>\n",
       "      <td>-89.045212</td>\n",
       "      <td>25.03</td>\n",
       "      <td>24.41</td>\n",
       "      <td>46.30</td>\n",
       "      <td>49.71</td>\n",
       "      <td>76.82</td>\n",
       "      <td>82.15</td>\n",
       "      <td>31.35</td>\n",
       "      <td>31.10</td>\n",
       "      <td>...</td>\n",
       "      <td>78.17</td>\n",
       "      <td>97.00</td>\n",
       "      <td>99.51</td>\n",
       "      <td>96.96</td>\n",
       "      <td>103.85</td>\n",
       "      <td>94.08</td>\n",
       "      <td>75.47</td>\n",
       "      <td>68.32</td>\n",
       "      <td>76.13</td>\n",
       "      <td>66.41</td>\n",
       "    </tr>\n",
       "    <tr>\n",
       "      <th>1</th>\n",
       "      <td>40.041039</td>\n",
       "      <td>-88.961884</td>\n",
       "      <td>25.66</td>\n",
       "      <td>25.12</td>\n",
       "      <td>47.65</td>\n",
       "      <td>51.06</td>\n",
       "      <td>78.71</td>\n",
       "      <td>84.24</td>\n",
       "      <td>32.36</td>\n",
       "      <td>32.37</td>\n",
       "      <td>...</td>\n",
       "      <td>79.68</td>\n",
       "      <td>97.96</td>\n",
       "      <td>100.44</td>\n",
       "      <td>98.68</td>\n",
       "      <td>104.00</td>\n",
       "      <td>91.86</td>\n",
       "      <td>74.82</td>\n",
       "      <td>68.48</td>\n",
       "      <td>76.88</td>\n",
       "      <td>67.54</td>\n",
       "    </tr>\n",
       "    <tr>\n",
       "      <th>2</th>\n",
       "      <td>40.041039</td>\n",
       "      <td>-88.878548</td>\n",
       "      <td>26.22</td>\n",
       "      <td>25.71</td>\n",
       "      <td>48.16</td>\n",
       "      <td>51.53</td>\n",
       "      <td>79.07</td>\n",
       "      <td>84.89</td>\n",
       "      <td>32.49</td>\n",
       "      <td>32.65</td>\n",
       "      <td>...</td>\n",
       "      <td>78.95</td>\n",
       "      <td>96.74</td>\n",
       "      <td>99.34</td>\n",
       "      <td>98.57</td>\n",
       "      <td>102.42</td>\n",
       "      <td>92.02</td>\n",
       "      <td>73.92</td>\n",
       "      <td>67.78</td>\n",
       "      <td>76.70</td>\n",
       "      <td>67.94</td>\n",
       "    </tr>\n",
       "    <tr>\n",
       "      <th>3</th>\n",
       "      <td>40.041039</td>\n",
       "      <td>-88.795219</td>\n",
       "      <td>26.53</td>\n",
       "      <td>25.96</td>\n",
       "      <td>48.20</td>\n",
       "      <td>51.32</td>\n",
       "      <td>78.71</td>\n",
       "      <td>84.49</td>\n",
       "      <td>32.09</td>\n",
       "      <td>31.99</td>\n",
       "      <td>...</td>\n",
       "      <td>78.23</td>\n",
       "      <td>95.84</td>\n",
       "      <td>98.36</td>\n",
       "      <td>98.65</td>\n",
       "      <td>102.59</td>\n",
       "      <td>93.90</td>\n",
       "      <td>72.85</td>\n",
       "      <td>67.22</td>\n",
       "      <td>76.47</td>\n",
       "      <td>67.87</td>\n",
       "    </tr>\n",
       "    <tr>\n",
       "      <th>4</th>\n",
       "      <td>40.041039</td>\n",
       "      <td>-88.711891</td>\n",
       "      <td>26.98</td>\n",
       "      <td>26.40</td>\n",
       "      <td>49.12</td>\n",
       "      <td>52.04</td>\n",
       "      <td>80.33</td>\n",
       "      <td>86.50</td>\n",
       "      <td>31.20</td>\n",
       "      <td>31.37</td>\n",
       "      <td>...</td>\n",
       "      <td>77.39</td>\n",
       "      <td>95.38</td>\n",
       "      <td>96.89</td>\n",
       "      <td>99.20</td>\n",
       "      <td>105.44</td>\n",
       "      <td>95.26</td>\n",
       "      <td>71.97</td>\n",
       "      <td>66.14</td>\n",
       "      <td>76.90</td>\n",
       "      <td>69.15</td>\n",
       "    </tr>\n",
       "    <tr>\n",
       "      <th>...</th>\n",
       "      <td>...</td>\n",
       "      <td>...</td>\n",
       "      <td>...</td>\n",
       "      <td>...</td>\n",
       "      <td>...</td>\n",
       "      <td>...</td>\n",
       "      <td>...</td>\n",
       "      <td>...</td>\n",
       "      <td>...</td>\n",
       "      <td>...</td>\n",
       "      <td>...</td>\n",
       "      <td>...</td>\n",
       "      <td>...</td>\n",
       "      <td>...</td>\n",
       "      <td>...</td>\n",
       "      <td>...</td>\n",
       "      <td>...</td>\n",
       "      <td>...</td>\n",
       "      <td>...</td>\n",
       "      <td>...</td>\n",
       "      <td>...</td>\n",
       "    </tr>\n",
       "    <tr>\n",
       "      <th>76201</th>\n",
       "      <td>66.623306</td>\n",
       "      <td>-61.629639</td>\n",
       "      <td>15.97</td>\n",
       "      <td>20.20</td>\n",
       "      <td>38.45</td>\n",
       "      <td>47.24</td>\n",
       "      <td>85.22</td>\n",
       "      <td>99.26</td>\n",
       "      <td>10.93</td>\n",
       "      <td>13.59</td>\n",
       "      <td>...</td>\n",
       "      <td>22.98</td>\n",
       "      <td>28.18</td>\n",
       "      <td>37.76</td>\n",
       "      <td>27.10</td>\n",
       "      <td>31.86</td>\n",
       "      <td>43.32</td>\n",
       "      <td>51.56</td>\n",
       "      <td>62.60</td>\n",
       "      <td>46.67</td>\n",
       "      <td>39.19</td>\n",
       "    </tr>\n",
       "    <tr>\n",
       "      <th>76202</th>\n",
       "      <td>66.623306</td>\n",
       "      <td>-61.546310</td>\n",
       "      <td>16.56</td>\n",
       "      <td>21.00</td>\n",
       "      <td>39.43</td>\n",
       "      <td>48.42</td>\n",
       "      <td>86.30</td>\n",
       "      <td>100.27</td>\n",
       "      <td>11.56</td>\n",
       "      <td>14.25</td>\n",
       "      <td>...</td>\n",
       "      <td>24.02</td>\n",
       "      <td>28.91</td>\n",
       "      <td>38.45</td>\n",
       "      <td>28.16</td>\n",
       "      <td>32.62</td>\n",
       "      <td>43.96</td>\n",
       "      <td>52.24</td>\n",
       "      <td>63.72</td>\n",
       "      <td>47.61</td>\n",
       "      <td>39.99</td>\n",
       "    </tr>\n",
       "    <tr>\n",
       "      <th>76203</th>\n",
       "      <td>66.623306</td>\n",
       "      <td>-61.462978</td>\n",
       "      <td>16.13</td>\n",
       "      <td>20.54</td>\n",
       "      <td>38.98</td>\n",
       "      <td>47.85</td>\n",
       "      <td>85.92</td>\n",
       "      <td>99.12</td>\n",
       "      <td>11.14</td>\n",
       "      <td>13.72</td>\n",
       "      <td>...</td>\n",
       "      <td>23.44</td>\n",
       "      <td>28.58</td>\n",
       "      <td>38.00</td>\n",
       "      <td>27.46</td>\n",
       "      <td>32.06</td>\n",
       "      <td>43.32</td>\n",
       "      <td>51.80</td>\n",
       "      <td>63.23</td>\n",
       "      <td>46.90</td>\n",
       "      <td>39.54</td>\n",
       "    </tr>\n",
       "    <tr>\n",
       "      <th>76204</th>\n",
       "      <td>66.623306</td>\n",
       "      <td>-61.379650</td>\n",
       "      <td>15.96</td>\n",
       "      <td>20.37</td>\n",
       "      <td>38.67</td>\n",
       "      <td>47.63</td>\n",
       "      <td>85.10</td>\n",
       "      <td>98.34</td>\n",
       "      <td>10.94</td>\n",
       "      <td>13.46</td>\n",
       "      <td>...</td>\n",
       "      <td>23.12</td>\n",
       "      <td>28.49</td>\n",
       "      <td>37.64</td>\n",
       "      <td>27.27</td>\n",
       "      <td>31.81</td>\n",
       "      <td>43.00</td>\n",
       "      <td>51.33</td>\n",
       "      <td>62.64</td>\n",
       "      <td>46.39</td>\n",
       "      <td>39.33</td>\n",
       "    </tr>\n",
       "    <tr>\n",
       "      <th>76205</th>\n",
       "      <td>66.623306</td>\n",
       "      <td>-61.296322</td>\n",
       "      <td>14.54</td>\n",
       "      <td>18.66</td>\n",
       "      <td>36.22</td>\n",
       "      <td>44.46</td>\n",
       "      <td>80.28</td>\n",
       "      <td>92.65</td>\n",
       "      <td>9.67</td>\n",
       "      <td>11.94</td>\n",
       "      <td>...</td>\n",
       "      <td>21.02</td>\n",
       "      <td>26.68</td>\n",
       "      <td>35.52</td>\n",
       "      <td>25.58</td>\n",
       "      <td>29.84</td>\n",
       "      <td>41.44</td>\n",
       "      <td>48.51</td>\n",
       "      <td>59.58</td>\n",
       "      <td>43.78</td>\n",
       "      <td>36.72</td>\n",
       "    </tr>\n",
       "  </tbody>\n",
       "</table>\n",
       "<p>76206 rows × 194 columns</p>\n",
       "</div>"
      ],
      "text/plain": [
       "             lat        lon  january_t2050_rcp85_p10  january_t2080_rcp85_p10  \\\n",
       "0      40.041039 -89.045212                    25.03                    24.41   \n",
       "1      40.041039 -88.961884                    25.66                    25.12   \n",
       "2      40.041039 -88.878548                    26.22                    25.71   \n",
       "3      40.041039 -88.795219                    26.53                    25.96   \n",
       "4      40.041039 -88.711891                    26.98                    26.40   \n",
       "...          ...        ...                      ...                      ...   \n",
       "76201  66.623306 -61.629639                    15.97                    20.20   \n",
       "76202  66.623306 -61.546310                    16.56                    21.00   \n",
       "76203  66.623306 -61.462978                    16.13                    20.54   \n",
       "76204  66.623306 -61.379650                    15.96                    20.37   \n",
       "76205  66.623306 -61.296322                    14.54                    18.66   \n",
       "\n",
       "       january_t2050_rcp85_p50  january_t2080_rcp85_p50  \\\n",
       "0                        46.30                    49.71   \n",
       "1                        47.65                    51.06   \n",
       "2                        48.16                    51.53   \n",
       "3                        48.20                    51.32   \n",
       "4                        49.12                    52.04   \n",
       "...                        ...                      ...   \n",
       "76201                    38.45                    47.24   \n",
       "76202                    39.43                    48.42   \n",
       "76203                    38.98                    47.85   \n",
       "76204                    38.67                    47.63   \n",
       "76205                    36.22                    44.46   \n",
       "\n",
       "       january_t2050_rcp85_p90  january_t2080_rcp85_p90  \\\n",
       "0                        76.82                    82.15   \n",
       "1                        78.71                    84.24   \n",
       "2                        79.07                    84.89   \n",
       "3                        78.71                    84.49   \n",
       "4                        80.33                    86.50   \n",
       "...                        ...                      ...   \n",
       "76201                    85.22                    99.26   \n",
       "76202                    86.30                   100.27   \n",
       "76203                    85.92                    99.12   \n",
       "76204                    85.10                    98.34   \n",
       "76205                    80.28                    92.65   \n",
       "\n",
       "       february_t2050_rcp85_p10  february_t2080_rcp85_p10  ...  \\\n",
       "0                         31.35                     31.10  ...   \n",
       "1                         32.36                     32.37  ...   \n",
       "2                         32.49                     32.65  ...   \n",
       "3                         32.09                     31.99  ...   \n",
       "4                         31.20                     31.37  ...   \n",
       "...                         ...                       ...  ...   \n",
       "76201                     10.93                     13.59  ...   \n",
       "76202                     11.56                     14.25  ...   \n",
       "76203                     11.14                     13.72  ...   \n",
       "76204                     10.94                     13.46  ...   \n",
       "76205                      9.67                     11.94  ...   \n",
       "\n",
       "       march_hist_p50  april_hist_p50  may_hist_p50  june_hist_p50  \\\n",
       "0               78.17           97.00         99.51          96.96   \n",
       "1               79.68           97.96        100.44          98.68   \n",
       "2               78.95           96.74         99.34          98.57   \n",
       "3               78.23           95.84         98.36          98.65   \n",
       "4               77.39           95.38         96.89          99.20   \n",
       "...               ...             ...           ...            ...   \n",
       "76201           22.98           28.18         37.76          27.10   \n",
       "76202           24.02           28.91         38.45          28.16   \n",
       "76203           23.44           28.58         38.00          27.46   \n",
       "76204           23.12           28.49         37.64          27.27   \n",
       "76205           21.02           26.68         35.52          25.58   \n",
       "\n",
       "       july_hist_p50  august_hist_p50  september_hist_p50  october_hist_p50  \\\n",
       "0             103.85            94.08               75.47             68.32   \n",
       "1             104.00            91.86               74.82             68.48   \n",
       "2             102.42            92.02               73.92             67.78   \n",
       "3             102.59            93.90               72.85             67.22   \n",
       "4             105.44            95.26               71.97             66.14   \n",
       "...              ...              ...                 ...               ...   \n",
       "76201          31.86            43.32               51.56             62.60   \n",
       "76202          32.62            43.96               52.24             63.72   \n",
       "76203          32.06            43.32               51.80             63.23   \n",
       "76204          31.81            43.00               51.33             62.64   \n",
       "76205          29.84            41.44               48.51             59.58   \n",
       "\n",
       "       november_hist_p50  december_hist_p50  \n",
       "0                  76.13              66.41  \n",
       "1                  76.88              67.54  \n",
       "2                  76.70              67.94  \n",
       "3                  76.47              67.87  \n",
       "4                  76.90              69.15  \n",
       "...                  ...                ...  \n",
       "76201              46.67              39.19  \n",
       "76202              47.61              39.99  \n",
       "76203              46.90              39.54  \n",
       "76204              46.39              39.33  \n",
       "76205              43.78              36.72  \n",
       "\n",
       "[76206 rows x 194 columns]"
      ]
     },
     "execution_count": 30,
     "metadata": {},
     "output_type": "execute_result"
    }
   ],
   "source": [
    "dftgseall3"
   ]
  },
  {
   "cell_type": "markdown",
   "metadata": {},
   "source": [
    "# Merge complete DF with Polygons for each spatial scale"
   ]
  },
  {
   "cell_type": "markdown",
   "metadata": {},
   "source": [
    "## Dictionary - regions: column name, short name"
   ]
  },
  {
   "cell_type": "code",
   "execution_count": 31,
   "metadata": {},
   "outputs": [
    {
     "name": "stdout",
     "output_type": "stream",
     "text": [
      "DDE_STF_20K_REG_FOR_VUE_S NM_REG_FOR RF\n",
      "DDE_STF_20K_UA_PER_VUE_S PER_NO_UA UA\n",
      "DOM_BIO NOM DB\n",
      "REG_ECO NOM RE\n",
      "SDOM_BIO NOM SDB\n",
      "Secteurs_Operations_Regionales D_GENERAL SOR\n",
      "SREG_ECO NOM SRE\n",
      "territoire_guide TER_GUIDE TG\n"
     ]
    }
   ],
   "source": [
    "short_dict = {\"DDE_STF_20K_REG_FOR_VUE_S\": (\"NM_REG_FOR\", \"RF\"), \n",
    "            \"DDE_STF_20K_UA_PER_VUE_S\": (\"PER_NO_UA\", \"UA\"), \n",
    "              \"DOM_BIO\": (\"NOM\", \"DB\"), \n",
    "              \"REG_ECO\": (\"NOM\", \"RE\"), \n",
    "              \"SDOM_BIO\": (\"NOM\", \"SDB\"), \n",
    "              \"Secteurs_Operations_Regionales\": (\"D_GENERAL\", \"SOR\"), \n",
    "              \"SREG_ECO\": (\"NOM\", \"SRE\"),  \n",
    "              \"territoire_guide\": (\"TER_GUIDE\", \"TG\") \n",
    "              }\n",
    "\n",
    "for region, (name, short) in short_dict.items():\n",
    "    print(region, name, short)"
   ]
  },
  {
   "cell_type": "code",
   "execution_count": 32,
   "metadata": {},
   "outputs": [],
   "source": [
    "def replace_all(text, dic):\n",
    "    for i, j in dic.items():\n",
    "        text = text.replace(i, j)\n",
    "    return text"
   ]
  },
  {
   "cell_type": "code",
   "execution_count": 33,
   "metadata": {},
   "outputs": [],
   "source": [
    "d = { 'BAS-SAINT-LAURENT':\"Bas-Saint-Laurent\", \n",
    "     'SAGUENAY -LAC-SAINT-JEAN': \"Saguenay -Lac-Saint-Jean\",\n",
    "     'CAPITALE-NATIONALE-CHAUDIÈRE-APPALACHES':\"Capitale-Nationale-Chaudiere-Appalaches\",\n",
    "     'MAURICIE-CENTRE-DU-QUÉBEC':'Mauricie-Centre-du-Quebec','OUTAOUAIS':'Outaouais', \n",
    "     'ABITIBI-TEMISCAMINGUE':'Abitibi-Temiscamingue', 'COTE-NORD':'Cote-Nord',\n",
    "     'NORD-DU-QUEBEC':'Nord-Du-Quebec', 'GASPESIE-ILES-DE-LA-MADELEINE':'Gaspesie-Iles-De-La-Madeleine', \n",
    "     'LANAUDIERE':'Lanaudiere','LAURENTIDES':\"Laurentides\", \n",
    "     \"ESTRIE-MONTÉRÉGIE-LAVAL-MONTRÉAL\":\"Estrie-Monteregie-Laval-Montreal\", \n",
    "     \"é\": \"e\", \"É\": \"E\", \"à\": \"a\", \"è\": \"e\", \"Î\": \"i\", \"È\": \"E\", \"ô\" : \"o\", \"Ç\":\"C\", \"ç\":\"c\",\n",
    "       } "
   ]
  },
  {
   "cell_type": "code",
   "execution_count": 35,
   "metadata": {},
   "outputs": [
    {
     "name": "stdout",
     "output_type": "stream",
     "text": [
      "DDE_STF_20K_REG_FOR_VUE_S\n"
     ]
    },
    {
     "name": "stderr",
     "output_type": "stream",
     "text": [
      "ERROR:fiona._env:/home/mlopez/EXEC/GeoJsonMFFP/Estrie-Monteregie-Laval-Montreal_prcptot_monthly.json: No such file or directory\n",
      "WARNING:fiona._env:driver GeoJSON does not support creation option ENCODING\n"
     ]
    },
    {
     "name": "stdout",
     "output_type": "stream",
     "text": [
      "Merged with polygons\n",
      "ESTRIE-MONTÉRÉGIE-LAVAL-MONTRÉAL\n",
      "OUTAOUAIS\n",
      "LAURENTIDES\n",
      "MAURICIE-CENTRE-DU-QUÉBEC\n",
      "LANAUDIERE\n",
      "CAPITALE-NATIONALE-CHAUDIÈRE-APPALACHES\n",
      "ABITIBI-TEMISCAMINGUE\n",
      "BAS-SAINT-LAURENT\n",
      "GASPESIE-ILES-DE-LA-MADELEINE\n",
      "SAGUENAY -LAC-SAINT-JEAN\n",
      "COTE-NORD\n",
      "NORD-DU-QUEBEC\n",
      "ESTRIE-MONTÉRÉGIE-LAVAL-MONTRÉAL\n"
     ]
    },
    {
     "name": "stderr",
     "output_type": "stream",
     "text": [
      "ERROR:fiona._env:/home/mlopez/EXEC/GeoJsonMFFP/Outaouais_prcptot_monthly.json: No such file or directory\n",
      "WARNING:fiona._env:driver GeoJSON does not support creation option ENCODING\n"
     ]
    },
    {
     "name": "stdout",
     "output_type": "stream",
     "text": [
      "OUTAOUAIS\n"
     ]
    },
    {
     "name": "stderr",
     "output_type": "stream",
     "text": [
      "ERROR:fiona._env:/home/mlopez/EXEC/GeoJsonMFFP/Laurentides_prcptot_monthly.json: No such file or directory\n",
      "WARNING:fiona._env:driver GeoJSON does not support creation option ENCODING\n"
     ]
    },
    {
     "name": "stdout",
     "output_type": "stream",
     "text": [
      "LAURENTIDES\n"
     ]
    },
    {
     "name": "stderr",
     "output_type": "stream",
     "text": [
      "ERROR:fiona._env:/home/mlopez/EXEC/GeoJsonMFFP/Mauricie-Centre-du-Quebec_prcptot_monthly.json: No such file or directory\n",
      "WARNING:fiona._env:driver GeoJSON does not support creation option ENCODING\n"
     ]
    },
    {
     "name": "stdout",
     "output_type": "stream",
     "text": [
      "MAURICIE-CENTRE-DU-QUÉBEC\n"
     ]
    },
    {
     "name": "stderr",
     "output_type": "stream",
     "text": [
      "ERROR:fiona._env:/home/mlopez/EXEC/GeoJsonMFFP/Lanaudiere_prcptot_monthly.json: No such file or directory\n",
      "WARNING:fiona._env:driver GeoJSON does not support creation option ENCODING\n"
     ]
    },
    {
     "name": "stdout",
     "output_type": "stream",
     "text": [
      "LANAUDIERE\n"
     ]
    },
    {
     "name": "stderr",
     "output_type": "stream",
     "text": [
      "ERROR:fiona._env:/home/mlopez/EXEC/GeoJsonMFFP/Capitale-Nationale-Chaudiere-Appalaches_prcptot_monthly.json: No such file or directory\n",
      "WARNING:fiona._env:driver GeoJSON does not support creation option ENCODING\n"
     ]
    },
    {
     "name": "stdout",
     "output_type": "stream",
     "text": [
      "CAPITALE-NATIONALE-CHAUDIÈRE-APPALACHES\n"
     ]
    },
    {
     "name": "stderr",
     "output_type": "stream",
     "text": [
      "ERROR:fiona._env:/home/mlopez/EXEC/GeoJsonMFFP/Abitibi-Temiscamingue_prcptot_monthly.json: No such file or directory\n",
      "WARNING:fiona._env:driver GeoJSON does not support creation option ENCODING\n"
     ]
    },
    {
     "name": "stdout",
     "output_type": "stream",
     "text": [
      "ABITIBI-TEMISCAMINGUE\n"
     ]
    },
    {
     "name": "stderr",
     "output_type": "stream",
     "text": [
      "ERROR:fiona._env:/home/mlopez/EXEC/GeoJsonMFFP/Bas-Saint-Laurent_prcptot_monthly.json: No such file or directory\n",
      "WARNING:fiona._env:driver GeoJSON does not support creation option ENCODING\n"
     ]
    },
    {
     "name": "stdout",
     "output_type": "stream",
     "text": [
      "BAS-SAINT-LAURENT\n"
     ]
    },
    {
     "name": "stderr",
     "output_type": "stream",
     "text": [
      "ERROR:fiona._env:/home/mlopez/EXEC/GeoJsonMFFP/Gaspesie-Iles-De-La-Madeleine_prcptot_monthly.json: No such file or directory\n",
      "WARNING:fiona._env:driver GeoJSON does not support creation option ENCODING\n"
     ]
    },
    {
     "name": "stdout",
     "output_type": "stream",
     "text": [
      "GASPESIE-ILES-DE-LA-MADELEINE\n"
     ]
    },
    {
     "name": "stderr",
     "output_type": "stream",
     "text": [
      "ERROR:fiona._env:/home/mlopez/EXEC/GeoJsonMFFP/Saguenay -Lac-Saint-Jean_prcptot_monthly.json: No such file or directory\n",
      "WARNING:fiona._env:driver GeoJSON does not support creation option ENCODING\n"
     ]
    },
    {
     "name": "stdout",
     "output_type": "stream",
     "text": [
      "SAGUENAY -LAC-SAINT-JEAN\n"
     ]
    },
    {
     "name": "stderr",
     "output_type": "stream",
     "text": [
      "ERROR:fiona._env:/home/mlopez/EXEC/GeoJsonMFFP/Cote-Nord_prcptot_monthly.json: No such file or directory\n",
      "WARNING:fiona._env:driver GeoJSON does not support creation option ENCODING\n"
     ]
    },
    {
     "name": "stdout",
     "output_type": "stream",
     "text": [
      "COTE-NORD\n"
     ]
    },
    {
     "name": "stderr",
     "output_type": "stream",
     "text": [
      "ERROR:fiona._env:/home/mlopez/EXEC/GeoJsonMFFP/Nord-Du-Quebec_prcptot_monthly.json: No such file or directory\n",
      "WARNING:fiona._env:driver GeoJSON does not support creation option ENCODING\n"
     ]
    },
    {
     "name": "stdout",
     "output_type": "stream",
     "text": [
      "NORD-DU-QUEBEC\n"
     ]
    },
    {
     "name": "stderr",
     "output_type": "stream",
     "text": [
      "ERROR:fiona._env:/home/mlopez/EXEC/GeoJsonMFFP/RF_prcptot_monthly.json: No such file or directory\n",
      "WARNING:fiona._env:driver GeoJSON does not support creation option ENCODING\n",
      "WARNING:py.warnings:/home/mlopez/EXEC/anaconda3/envs/python37-2/lib/python3.8/site-packages/geofeather/core.py:85: UserWarning: /home/mlopez/EXEC/Grids-polygons-regions/Grid-DDE_STF_20K_UA_PER_VUE_S.feather.crs coordinate reference system file is missing. No crs will be set for this GeoDataFrame.\n",
      "  warnings.warn(\n",
      "\n"
     ]
    },
    {
     "name": "stdout",
     "output_type": "stream",
     "text": [
      "DDE_STF_20K_UA_PER_VUE_S\n",
      "Merged with polygons\n",
      "05151\n",
      "07151\n",
      "07251\n",
      "06151\n",
      "03571\n",
      "06452\n",
      "06271\n",
      "07351\n",
      "07152\n",
      "08151\n",
      "06471\n",
      "04151\n",
      "03451\n",
      "08152\n",
      "07352\n",
      "03171\n",
      "07451\n",
      "04352\n",
      "04251\n",
      "01171\n",
      "03153\n",
      "08351\n",
      "02371\n",
      "03351\n",
      "08251\n",
      "04351\n",
      "01272\n",
      "08451\n",
      "02571\n",
      "11161\n",
      "09751\n",
      "11262\n",
      "08462\n",
      "08651\n",
      "02651\n",
      "08751\n",
      "08551\n",
      "02471\n",
      "11263\n",
      "08762\n",
      "02751\n",
      "02664\n",
      "09351\n",
      "08652\n",
      "02666\n",
      "08763\n",
      "09471\n",
      "08764\n",
      "02665\n",
      "08665\n",
      "02663\n",
      "08562\n",
      "08664\n",
      "08666\n",
      "02662\n",
      "08663\n",
      "09551\n",
      "02661\n",
      "09352\n",
      "05151\n"
     ]
    },
    {
     "name": "stderr",
     "output_type": "stream",
     "text": [
      "ERROR:fiona._env:/home/mlopez/EXEC/GeoJsonMFFP/05151_prcptot_monthly.json: No such file or directory\n",
      "WARNING:fiona._env:driver GeoJSON does not support creation option ENCODING\n",
      "ERROR:fiona._env:/home/mlopez/EXEC/GeoJsonMFFP/07151_prcptot_monthly.json: No such file or directory\n",
      "WARNING:fiona._env:driver GeoJSON does not support creation option ENCODING\n"
     ]
    },
    {
     "name": "stdout",
     "output_type": "stream",
     "text": [
      "07151\n"
     ]
    },
    {
     "name": "stderr",
     "output_type": "stream",
     "text": [
      "ERROR:fiona._env:/home/mlopez/EXEC/GeoJsonMFFP/07251_prcptot_monthly.json: No such file or directory\n",
      "WARNING:fiona._env:driver GeoJSON does not support creation option ENCODING\n"
     ]
    },
    {
     "name": "stdout",
     "output_type": "stream",
     "text": [
      "07251\n"
     ]
    },
    {
     "name": "stderr",
     "output_type": "stream",
     "text": [
      "ERROR:fiona._env:/home/mlopez/EXEC/GeoJsonMFFP/06151_prcptot_monthly.json: No such file or directory\n",
      "WARNING:fiona._env:driver GeoJSON does not support creation option ENCODING\n"
     ]
    },
    {
     "name": "stdout",
     "output_type": "stream",
     "text": [
      "06151\n"
     ]
    },
    {
     "name": "stderr",
     "output_type": "stream",
     "text": [
      "ERROR:fiona._env:/home/mlopez/EXEC/GeoJsonMFFP/03571_prcptot_monthly.json: No such file or directory\n",
      "WARNING:fiona._env:driver GeoJSON does not support creation option ENCODING\n"
     ]
    },
    {
     "name": "stdout",
     "output_type": "stream",
     "text": [
      "03571\n"
     ]
    },
    {
     "name": "stderr",
     "output_type": "stream",
     "text": [
      "ERROR:fiona._env:/home/mlopez/EXEC/GeoJsonMFFP/06452_prcptot_monthly.json: No such file or directory\n",
      "WARNING:fiona._env:driver GeoJSON does not support creation option ENCODING\n"
     ]
    },
    {
     "name": "stdout",
     "output_type": "stream",
     "text": [
      "06452\n"
     ]
    },
    {
     "name": "stderr",
     "output_type": "stream",
     "text": [
      "ERROR:fiona._env:/home/mlopez/EXEC/GeoJsonMFFP/06271_prcptot_monthly.json: No such file or directory\n",
      "WARNING:fiona._env:driver GeoJSON does not support creation option ENCODING\n"
     ]
    },
    {
     "name": "stdout",
     "output_type": "stream",
     "text": [
      "06271\n"
     ]
    },
    {
     "name": "stderr",
     "output_type": "stream",
     "text": [
      "ERROR:fiona._env:/home/mlopez/EXEC/GeoJsonMFFP/07351_prcptot_monthly.json: No such file or directory\n",
      "WARNING:fiona._env:driver GeoJSON does not support creation option ENCODING\n"
     ]
    },
    {
     "name": "stdout",
     "output_type": "stream",
     "text": [
      "07351\n"
     ]
    },
    {
     "name": "stderr",
     "output_type": "stream",
     "text": [
      "ERROR:fiona._env:/home/mlopez/EXEC/GeoJsonMFFP/07152_prcptot_monthly.json: No such file or directory\n",
      "WARNING:fiona._env:driver GeoJSON does not support creation option ENCODING\n"
     ]
    },
    {
     "name": "stdout",
     "output_type": "stream",
     "text": [
      "07152\n"
     ]
    },
    {
     "name": "stderr",
     "output_type": "stream",
     "text": [
      "ERROR:fiona._env:/home/mlopez/EXEC/GeoJsonMFFP/08151_prcptot_monthly.json: No such file or directory\n",
      "WARNING:fiona._env:driver GeoJSON does not support creation option ENCODING\n"
     ]
    },
    {
     "name": "stdout",
     "output_type": "stream",
     "text": [
      "08151\n"
     ]
    },
    {
     "name": "stderr",
     "output_type": "stream",
     "text": [
      "ERROR:fiona._env:/home/mlopez/EXEC/GeoJsonMFFP/06471_prcptot_monthly.json: No such file or directory\n",
      "WARNING:fiona._env:driver GeoJSON does not support creation option ENCODING\n"
     ]
    },
    {
     "name": "stdout",
     "output_type": "stream",
     "text": [
      "06471\n"
     ]
    },
    {
     "name": "stderr",
     "output_type": "stream",
     "text": [
      "ERROR:fiona._env:/home/mlopez/EXEC/GeoJsonMFFP/04151_prcptot_monthly.json: No such file or directory\n",
      "WARNING:fiona._env:driver GeoJSON does not support creation option ENCODING\n"
     ]
    },
    {
     "name": "stdout",
     "output_type": "stream",
     "text": [
      "04151\n"
     ]
    },
    {
     "name": "stderr",
     "output_type": "stream",
     "text": [
      "ERROR:fiona._env:/home/mlopez/EXEC/GeoJsonMFFP/03451_prcptot_monthly.json: No such file or directory\n",
      "WARNING:fiona._env:driver GeoJSON does not support creation option ENCODING\n",
      "ERROR:fiona._env:/home/mlopez/EXEC/GeoJsonMFFP/08152_prcptot_monthly.json: No such file or directory\n",
      "WARNING:fiona._env:driver GeoJSON does not support creation option ENCODING\n"
     ]
    },
    {
     "name": "stdout",
     "output_type": "stream",
     "text": [
      "03451\n",
      "08152\n"
     ]
    },
    {
     "name": "stderr",
     "output_type": "stream",
     "text": [
      "ERROR:fiona._env:/home/mlopez/EXEC/GeoJsonMFFP/07352_prcptot_monthly.json: No such file or directory\n",
      "WARNING:fiona._env:driver GeoJSON does not support creation option ENCODING\n"
     ]
    },
    {
     "name": "stdout",
     "output_type": "stream",
     "text": [
      "07352\n"
     ]
    },
    {
     "name": "stderr",
     "output_type": "stream",
     "text": [
      "ERROR:fiona._env:/home/mlopez/EXEC/GeoJsonMFFP/03171_prcptot_monthly.json: No such file or directory\n",
      "WARNING:fiona._env:driver GeoJSON does not support creation option ENCODING\n"
     ]
    },
    {
     "name": "stdout",
     "output_type": "stream",
     "text": [
      "03171\n"
     ]
    },
    {
     "name": "stderr",
     "output_type": "stream",
     "text": [
      "ERROR:fiona._env:/home/mlopez/EXEC/GeoJsonMFFP/07451_prcptot_monthly.json: No such file or directory\n",
      "WARNING:fiona._env:driver GeoJSON does not support creation option ENCODING\n"
     ]
    },
    {
     "name": "stdout",
     "output_type": "stream",
     "text": [
      "07451\n"
     ]
    },
    {
     "name": "stderr",
     "output_type": "stream",
     "text": [
      "ERROR:fiona._env:/home/mlopez/EXEC/GeoJsonMFFP/04352_prcptot_monthly.json: No such file or directory\n",
      "WARNING:fiona._env:driver GeoJSON does not support creation option ENCODING\n"
     ]
    },
    {
     "name": "stdout",
     "output_type": "stream",
     "text": [
      "04352\n"
     ]
    },
    {
     "name": "stderr",
     "output_type": "stream",
     "text": [
      "ERROR:fiona._env:/home/mlopez/EXEC/GeoJsonMFFP/04251_prcptot_monthly.json: No such file or directory\n",
      "WARNING:fiona._env:driver GeoJSON does not support creation option ENCODING\n"
     ]
    },
    {
     "name": "stdout",
     "output_type": "stream",
     "text": [
      "04251\n"
     ]
    },
    {
     "name": "stderr",
     "output_type": "stream",
     "text": [
      "ERROR:fiona._env:/home/mlopez/EXEC/GeoJsonMFFP/01171_prcptot_monthly.json: No such file or directory\n",
      "WARNING:fiona._env:driver GeoJSON does not support creation option ENCODING\n"
     ]
    },
    {
     "name": "stdout",
     "output_type": "stream",
     "text": [
      "01171\n"
     ]
    },
    {
     "name": "stderr",
     "output_type": "stream",
     "text": [
      "ERROR:fiona._env:/home/mlopez/EXEC/GeoJsonMFFP/03153_prcptot_monthly.json: No such file or directory\n",
      "WARNING:fiona._env:driver GeoJSON does not support creation option ENCODING\n"
     ]
    },
    {
     "name": "stdout",
     "output_type": "stream",
     "text": [
      "03153\n"
     ]
    },
    {
     "name": "stderr",
     "output_type": "stream",
     "text": [
      "ERROR:fiona._env:/home/mlopez/EXEC/GeoJsonMFFP/08351_prcptot_monthly.json: No such file or directory\n",
      "WARNING:fiona._env:driver GeoJSON does not support creation option ENCODING\n"
     ]
    },
    {
     "name": "stdout",
     "output_type": "stream",
     "text": [
      "08351\n"
     ]
    },
    {
     "name": "stderr",
     "output_type": "stream",
     "text": [
      "ERROR:fiona._env:/home/mlopez/EXEC/GeoJsonMFFP/02371_prcptot_monthly.json: No such file or directory\n",
      "WARNING:fiona._env:driver GeoJSON does not support creation option ENCODING\n"
     ]
    },
    {
     "name": "stdout",
     "output_type": "stream",
     "text": [
      "02371\n"
     ]
    },
    {
     "name": "stderr",
     "output_type": "stream",
     "text": [
      "ERROR:fiona._env:/home/mlopez/EXEC/GeoJsonMFFP/03351_prcptot_monthly.json: No such file or directory\n",
      "WARNING:fiona._env:driver GeoJSON does not support creation option ENCODING\n"
     ]
    },
    {
     "name": "stdout",
     "output_type": "stream",
     "text": [
      "03351\n"
     ]
    },
    {
     "name": "stderr",
     "output_type": "stream",
     "text": [
      "ERROR:fiona._env:/home/mlopez/EXEC/GeoJsonMFFP/08251_prcptot_monthly.json: No such file or directory\n",
      "WARNING:fiona._env:driver GeoJSON does not support creation option ENCODING\n"
     ]
    },
    {
     "name": "stdout",
     "output_type": "stream",
     "text": [
      "08251\n"
     ]
    },
    {
     "name": "stderr",
     "output_type": "stream",
     "text": [
      "ERROR:fiona._env:/home/mlopez/EXEC/GeoJsonMFFP/04351_prcptot_monthly.json: No such file or directory\n",
      "WARNING:fiona._env:driver GeoJSON does not support creation option ENCODING\n"
     ]
    },
    {
     "name": "stdout",
     "output_type": "stream",
     "text": [
      "04351\n"
     ]
    },
    {
     "name": "stderr",
     "output_type": "stream",
     "text": [
      "ERROR:fiona._env:/home/mlopez/EXEC/GeoJsonMFFP/01272_prcptot_monthly.json: No such file or directory\n",
      "WARNING:fiona._env:driver GeoJSON does not support creation option ENCODING\n"
     ]
    },
    {
     "name": "stdout",
     "output_type": "stream",
     "text": [
      "01272\n"
     ]
    },
    {
     "name": "stderr",
     "output_type": "stream",
     "text": [
      "ERROR:fiona._env:/home/mlopez/EXEC/GeoJsonMFFP/08451_prcptot_monthly.json: No such file or directory\n",
      "WARNING:fiona._env:driver GeoJSON does not support creation option ENCODING\n"
     ]
    },
    {
     "name": "stdout",
     "output_type": "stream",
     "text": [
      "08451\n"
     ]
    },
    {
     "name": "stderr",
     "output_type": "stream",
     "text": [
      "ERROR:fiona._env:/home/mlopez/EXEC/GeoJsonMFFP/02571_prcptot_monthly.json: No such file or directory\n",
      "WARNING:fiona._env:driver GeoJSON does not support creation option ENCODING\n"
     ]
    },
    {
     "name": "stdout",
     "output_type": "stream",
     "text": [
      "02571\n"
     ]
    },
    {
     "name": "stderr",
     "output_type": "stream",
     "text": [
      "ERROR:fiona._env:/home/mlopez/EXEC/GeoJsonMFFP/11161_prcptot_monthly.json: No such file or directory\n",
      "WARNING:fiona._env:driver GeoJSON does not support creation option ENCODING\n"
     ]
    },
    {
     "name": "stdout",
     "output_type": "stream",
     "text": [
      "11161\n"
     ]
    },
    {
     "name": "stderr",
     "output_type": "stream",
     "text": [
      "ERROR:fiona._env:/home/mlopez/EXEC/GeoJsonMFFP/09751_prcptot_monthly.json: No such file or directory\n",
      "WARNING:fiona._env:driver GeoJSON does not support creation option ENCODING\n"
     ]
    },
    {
     "name": "stdout",
     "output_type": "stream",
     "text": [
      "09751\n"
     ]
    },
    {
     "name": "stderr",
     "output_type": "stream",
     "text": [
      "ERROR:fiona._env:/home/mlopez/EXEC/GeoJsonMFFP/11262_prcptot_monthly.json: No such file or directory\n",
      "WARNING:fiona._env:driver GeoJSON does not support creation option ENCODING\n"
     ]
    },
    {
     "name": "stdout",
     "output_type": "stream",
     "text": [
      "11262\n"
     ]
    },
    {
     "name": "stderr",
     "output_type": "stream",
     "text": [
      "ERROR:fiona._env:/home/mlopez/EXEC/GeoJsonMFFP/08462_prcptot_monthly.json: No such file or directory\n",
      "WARNING:fiona._env:driver GeoJSON does not support creation option ENCODING\n"
     ]
    },
    {
     "name": "stdout",
     "output_type": "stream",
     "text": [
      "08462\n"
     ]
    },
    {
     "name": "stderr",
     "output_type": "stream",
     "text": [
      "ERROR:fiona._env:/home/mlopez/EXEC/GeoJsonMFFP/08651_prcptot_monthly.json: No such file or directory\n",
      "WARNING:fiona._env:driver GeoJSON does not support creation option ENCODING\n"
     ]
    },
    {
     "name": "stdout",
     "output_type": "stream",
     "text": [
      "08651\n"
     ]
    },
    {
     "name": "stderr",
     "output_type": "stream",
     "text": [
      "ERROR:fiona._env:/home/mlopez/EXEC/GeoJsonMFFP/02651_prcptot_monthly.json: No such file or directory\n",
      "WARNING:fiona._env:driver GeoJSON does not support creation option ENCODING\n"
     ]
    },
    {
     "name": "stdout",
     "output_type": "stream",
     "text": [
      "02651\n"
     ]
    },
    {
     "name": "stderr",
     "output_type": "stream",
     "text": [
      "ERROR:fiona._env:/home/mlopez/EXEC/GeoJsonMFFP/08751_prcptot_monthly.json: No such file or directory\n",
      "WARNING:fiona._env:driver GeoJSON does not support creation option ENCODING\n"
     ]
    },
    {
     "name": "stdout",
     "output_type": "stream",
     "text": [
      "08751\n"
     ]
    },
    {
     "name": "stderr",
     "output_type": "stream",
     "text": [
      "ERROR:fiona._env:/home/mlopez/EXEC/GeoJsonMFFP/08551_prcptot_monthly.json: No such file or directory\n",
      "WARNING:fiona._env:driver GeoJSON does not support creation option ENCODING\n"
     ]
    },
    {
     "name": "stdout",
     "output_type": "stream",
     "text": [
      "08551\n"
     ]
    },
    {
     "name": "stderr",
     "output_type": "stream",
     "text": [
      "ERROR:fiona._env:/home/mlopez/EXEC/GeoJsonMFFP/02471_prcptot_monthly.json: No such file or directory\n",
      "WARNING:fiona._env:driver GeoJSON does not support creation option ENCODING\n"
     ]
    },
    {
     "name": "stdout",
     "output_type": "stream",
     "text": [
      "02471\n"
     ]
    },
    {
     "name": "stderr",
     "output_type": "stream",
     "text": [
      "ERROR:fiona._env:/home/mlopez/EXEC/GeoJsonMFFP/11263_prcptot_monthly.json: No such file or directory\n",
      "WARNING:fiona._env:driver GeoJSON does not support creation option ENCODING\n"
     ]
    },
    {
     "name": "stdout",
     "output_type": "stream",
     "text": [
      "11263\n"
     ]
    },
    {
     "name": "stderr",
     "output_type": "stream",
     "text": [
      "ERROR:fiona._env:/home/mlopez/EXEC/GeoJsonMFFP/08762_prcptot_monthly.json: No such file or directory\n",
      "WARNING:fiona._env:driver GeoJSON does not support creation option ENCODING\n"
     ]
    },
    {
     "name": "stdout",
     "output_type": "stream",
     "text": [
      "08762\n"
     ]
    },
    {
     "name": "stderr",
     "output_type": "stream",
     "text": [
      "ERROR:fiona._env:/home/mlopez/EXEC/GeoJsonMFFP/02751_prcptot_monthly.json: No such file or directory\n",
      "WARNING:fiona._env:driver GeoJSON does not support creation option ENCODING\n"
     ]
    },
    {
     "name": "stdout",
     "output_type": "stream",
     "text": [
      "02751\n"
     ]
    },
    {
     "name": "stderr",
     "output_type": "stream",
     "text": [
      "ERROR:fiona._env:/home/mlopez/EXEC/GeoJsonMFFP/02664_prcptot_monthly.json: No such file or directory\n",
      "WARNING:fiona._env:driver GeoJSON does not support creation option ENCODING\n"
     ]
    },
    {
     "name": "stdout",
     "output_type": "stream",
     "text": [
      "02664\n"
     ]
    },
    {
     "name": "stderr",
     "output_type": "stream",
     "text": [
      "ERROR:fiona._env:/home/mlopez/EXEC/GeoJsonMFFP/09351_prcptot_monthly.json: No such file or directory\n",
      "WARNING:fiona._env:driver GeoJSON does not support creation option ENCODING\n"
     ]
    },
    {
     "name": "stdout",
     "output_type": "stream",
     "text": [
      "09351\n"
     ]
    },
    {
     "name": "stderr",
     "output_type": "stream",
     "text": [
      "ERROR:fiona._env:/home/mlopez/EXEC/GeoJsonMFFP/08652_prcptot_monthly.json: No such file or directory\n",
      "WARNING:fiona._env:driver GeoJSON does not support creation option ENCODING\n"
     ]
    },
    {
     "name": "stdout",
     "output_type": "stream",
     "text": [
      "08652\n"
     ]
    },
    {
     "name": "stderr",
     "output_type": "stream",
     "text": [
      "ERROR:fiona._env:/home/mlopez/EXEC/GeoJsonMFFP/02666_prcptot_monthly.json: No such file or directory\n",
      "WARNING:fiona._env:driver GeoJSON does not support creation option ENCODING\n"
     ]
    },
    {
     "name": "stdout",
     "output_type": "stream",
     "text": [
      "02666\n"
     ]
    },
    {
     "name": "stderr",
     "output_type": "stream",
     "text": [
      "ERROR:fiona._env:/home/mlopez/EXEC/GeoJsonMFFP/08763_prcptot_monthly.json: No such file or directory\n",
      "WARNING:fiona._env:driver GeoJSON does not support creation option ENCODING\n"
     ]
    },
    {
     "name": "stdout",
     "output_type": "stream",
     "text": [
      "08763\n"
     ]
    },
    {
     "name": "stderr",
     "output_type": "stream",
     "text": [
      "ERROR:fiona._env:/home/mlopez/EXEC/GeoJsonMFFP/09471_prcptot_monthly.json: No such file or directory\n",
      "WARNING:fiona._env:driver GeoJSON does not support creation option ENCODING\n"
     ]
    },
    {
     "name": "stdout",
     "output_type": "stream",
     "text": [
      "09471\n"
     ]
    },
    {
     "name": "stderr",
     "output_type": "stream",
     "text": [
      "ERROR:fiona._env:/home/mlopez/EXEC/GeoJsonMFFP/08764_prcptot_monthly.json: No such file or directory\n",
      "WARNING:fiona._env:driver GeoJSON does not support creation option ENCODING\n"
     ]
    },
    {
     "name": "stdout",
     "output_type": "stream",
     "text": [
      "08764\n"
     ]
    },
    {
     "name": "stderr",
     "output_type": "stream",
     "text": [
      "ERROR:fiona._env:/home/mlopez/EXEC/GeoJsonMFFP/02665_prcptot_monthly.json: No such file or directory\n",
      "WARNING:fiona._env:driver GeoJSON does not support creation option ENCODING\n"
     ]
    },
    {
     "name": "stdout",
     "output_type": "stream",
     "text": [
      "02665\n"
     ]
    },
    {
     "name": "stderr",
     "output_type": "stream",
     "text": [
      "ERROR:fiona._env:/home/mlopez/EXEC/GeoJsonMFFP/08665_prcptot_monthly.json: No such file or directory\n",
      "WARNING:fiona._env:driver GeoJSON does not support creation option ENCODING\n"
     ]
    },
    {
     "name": "stdout",
     "output_type": "stream",
     "text": [
      "08665\n"
     ]
    },
    {
     "name": "stderr",
     "output_type": "stream",
     "text": [
      "ERROR:fiona._env:/home/mlopez/EXEC/GeoJsonMFFP/02663_prcptot_monthly.json: No such file or directory\n",
      "WARNING:fiona._env:driver GeoJSON does not support creation option ENCODING\n"
     ]
    },
    {
     "name": "stdout",
     "output_type": "stream",
     "text": [
      "02663\n"
     ]
    },
    {
     "name": "stderr",
     "output_type": "stream",
     "text": [
      "ERROR:fiona._env:/home/mlopez/EXEC/GeoJsonMFFP/08562_prcptot_monthly.json: No such file or directory\n",
      "WARNING:fiona._env:driver GeoJSON does not support creation option ENCODING\n"
     ]
    },
    {
     "name": "stdout",
     "output_type": "stream",
     "text": [
      "08562\n"
     ]
    },
    {
     "name": "stderr",
     "output_type": "stream",
     "text": [
      "ERROR:fiona._env:/home/mlopez/EXEC/GeoJsonMFFP/08664_prcptot_monthly.json: No such file or directory\n",
      "WARNING:fiona._env:driver GeoJSON does not support creation option ENCODING\n"
     ]
    },
    {
     "name": "stdout",
     "output_type": "stream",
     "text": [
      "08664\n"
     ]
    },
    {
     "name": "stderr",
     "output_type": "stream",
     "text": [
      "ERROR:fiona._env:/home/mlopez/EXEC/GeoJsonMFFP/08666_prcptot_monthly.json: No such file or directory\n",
      "WARNING:fiona._env:driver GeoJSON does not support creation option ENCODING\n"
     ]
    },
    {
     "name": "stdout",
     "output_type": "stream",
     "text": [
      "08666\n"
     ]
    },
    {
     "name": "stderr",
     "output_type": "stream",
     "text": [
      "ERROR:fiona._env:/home/mlopez/EXEC/GeoJsonMFFP/02662_prcptot_monthly.json: No such file or directory\n",
      "WARNING:fiona._env:driver GeoJSON does not support creation option ENCODING\n"
     ]
    },
    {
     "name": "stdout",
     "output_type": "stream",
     "text": [
      "02662\n"
     ]
    },
    {
     "name": "stderr",
     "output_type": "stream",
     "text": [
      "ERROR:fiona._env:/home/mlopez/EXEC/GeoJsonMFFP/08663_prcptot_monthly.json: No such file or directory\n",
      "WARNING:fiona._env:driver GeoJSON does not support creation option ENCODING\n"
     ]
    },
    {
     "name": "stdout",
     "output_type": "stream",
     "text": [
      "08663\n"
     ]
    },
    {
     "name": "stderr",
     "output_type": "stream",
     "text": [
      "ERROR:fiona._env:/home/mlopez/EXEC/GeoJsonMFFP/09551_prcptot_monthly.json: No such file or directory\n",
      "WARNING:fiona._env:driver GeoJSON does not support creation option ENCODING\n"
     ]
    },
    {
     "name": "stdout",
     "output_type": "stream",
     "text": [
      "09551\n"
     ]
    },
    {
     "name": "stderr",
     "output_type": "stream",
     "text": [
      "ERROR:fiona._env:/home/mlopez/EXEC/GeoJsonMFFP/02661_prcptot_monthly.json: No such file or directory\n",
      "WARNING:fiona._env:driver GeoJSON does not support creation option ENCODING\n"
     ]
    },
    {
     "name": "stdout",
     "output_type": "stream",
     "text": [
      "02661\n"
     ]
    },
    {
     "name": "stderr",
     "output_type": "stream",
     "text": [
      "ERROR:fiona._env:/home/mlopez/EXEC/GeoJsonMFFP/09352_prcptot_monthly.json: No such file or directory\n",
      "WARNING:fiona._env:driver GeoJSON does not support creation option ENCODING\n"
     ]
    },
    {
     "name": "stdout",
     "output_type": "stream",
     "text": [
      "09352\n"
     ]
    },
    {
     "name": "stderr",
     "output_type": "stream",
     "text": [
      "ERROR:fiona._env:/home/mlopez/EXEC/GeoJsonMFFP/UA_prcptot_monthly.json: No such file or directory\n",
      "WARNING:fiona._env:driver GeoJSON does not support creation option ENCODING\n",
      "WARNING:py.warnings:/home/mlopez/EXEC/anaconda3/envs/python37-2/lib/python3.8/site-packages/geofeather/core.py:85: UserWarning: /home/mlopez/EXEC/Grids-polygons-regions/Grid-DOM_BIO.feather.crs coordinate reference system file is missing. No crs will be set for this GeoDataFrame.\n",
      "  warnings.warn(\n",
      "\n"
     ]
    },
    {
     "name": "stdout",
     "output_type": "stream",
     "text": [
      "DOM_BIO\n",
      "Merged with polygons\n",
      "Érablière à caryer cordiforme\n",
      "Érablière à tilleul\n",
      "Érablière à bouleau jaune\n",
      "Sapinière à bouleau jaune\n",
      "Sapinière à bouleau blanc\n",
      "Golfe du Saint-Laurent\n",
      "Pessière à mousses\n",
      "None\n",
      "Pessière à lichens\n",
      "Toundra forestière\n",
      "Toundra arctique herbacée\n",
      "Toundra arctique arbustive\n"
     ]
    },
    {
     "name": "stderr",
     "output_type": "stream",
     "text": [
      "ERROR:fiona._env:/home/mlopez/EXEC/GeoJsonMFFP/Erabliere a caryer cordiforme_prcptot_monthly.json: No such file or directory\n",
      "WARNING:fiona._env:driver GeoJSON does not support creation option ENCODING\n"
     ]
    },
    {
     "name": "stdout",
     "output_type": "stream",
     "text": [
      "Érablière à caryer cordiforme\n"
     ]
    },
    {
     "name": "stderr",
     "output_type": "stream",
     "text": [
      "ERROR:fiona._env:/home/mlopez/EXEC/GeoJsonMFFP/Erabliere a tilleul_prcptot_monthly.json: No such file or directory\n",
      "WARNING:fiona._env:driver GeoJSON does not support creation option ENCODING\n"
     ]
    },
    {
     "name": "stdout",
     "output_type": "stream",
     "text": [
      "Érablière à tilleul\n"
     ]
    },
    {
     "name": "stderr",
     "output_type": "stream",
     "text": [
      "ERROR:fiona._env:/home/mlopez/EXEC/GeoJsonMFFP/Erabliere a bouleau jaune_prcptot_monthly.json: No such file or directory\n",
      "WARNING:fiona._env:driver GeoJSON does not support creation option ENCODING\n"
     ]
    },
    {
     "name": "stdout",
     "output_type": "stream",
     "text": [
      "Érablière à bouleau jaune\n"
     ]
    },
    {
     "name": "stderr",
     "output_type": "stream",
     "text": [
      "ERROR:fiona._env:/home/mlopez/EXEC/GeoJsonMFFP/Sapiniere a bouleau jaune_prcptot_monthly.json: No such file or directory\n",
      "WARNING:fiona._env:driver GeoJSON does not support creation option ENCODING\n"
     ]
    },
    {
     "name": "stdout",
     "output_type": "stream",
     "text": [
      "Sapinière à bouleau jaune\n"
     ]
    },
    {
     "name": "stderr",
     "output_type": "stream",
     "text": [
      "ERROR:fiona._env:/home/mlopez/EXEC/GeoJsonMFFP/Sapiniere a bouleau blanc_prcptot_monthly.json: No such file or directory\n",
      "WARNING:fiona._env:driver GeoJSON does not support creation option ENCODING\n"
     ]
    },
    {
     "name": "stdout",
     "output_type": "stream",
     "text": [
      "Sapinière à bouleau blanc\n"
     ]
    },
    {
     "name": "stderr",
     "output_type": "stream",
     "text": [
      "ERROR:fiona._env:/home/mlopez/EXEC/GeoJsonMFFP/Golfe du Saint-Laurent_prcptot_monthly.json: No such file or directory\n",
      "WARNING:fiona._env:driver GeoJSON does not support creation option ENCODING\n"
     ]
    },
    {
     "name": "stdout",
     "output_type": "stream",
     "text": [
      "Golfe du Saint-Laurent\n"
     ]
    },
    {
     "name": "stderr",
     "output_type": "stream",
     "text": [
      "ERROR:fiona._env:/home/mlopez/EXEC/GeoJsonMFFP/Pessiere a mousses_prcptot_monthly.json: No such file or directory\n",
      "WARNING:fiona._env:driver GeoJSON does not support creation option ENCODING\n"
     ]
    },
    {
     "name": "stdout",
     "output_type": "stream",
     "text": [
      "Pessière à mousses\n"
     ]
    },
    {
     "name": "stderr",
     "output_type": "stream",
     "text": [
      "ERROR:fiona._env:/home/mlopez/EXEC/GeoJsonMFFP/Pessiere a lichens_prcptot_monthly.json: No such file or directory\n",
      "WARNING:fiona._env:driver GeoJSON does not support creation option ENCODING\n"
     ]
    },
    {
     "name": "stdout",
     "output_type": "stream",
     "text": [
      "Pessière à lichens\n"
     ]
    },
    {
     "name": "stderr",
     "output_type": "stream",
     "text": [
      "ERROR:fiona._env:/home/mlopez/EXEC/GeoJsonMFFP/Toundra forestiere_prcptot_monthly.json: No such file or directory\n",
      "WARNING:fiona._env:driver GeoJSON does not support creation option ENCODING\n"
     ]
    },
    {
     "name": "stdout",
     "output_type": "stream",
     "text": [
      "Toundra forestière\n"
     ]
    },
    {
     "name": "stderr",
     "output_type": "stream",
     "text": [
      "ERROR:fiona._env:/home/mlopez/EXEC/GeoJsonMFFP/Toundra arctique herbacee_prcptot_monthly.json: No such file or directory\n",
      "WARNING:fiona._env:driver GeoJSON does not support creation option ENCODING\n"
     ]
    },
    {
     "name": "stdout",
     "output_type": "stream",
     "text": [
      "Toundra arctique herbacée\n"
     ]
    },
    {
     "name": "stderr",
     "output_type": "stream",
     "text": [
      "ERROR:fiona._env:/home/mlopez/EXEC/GeoJsonMFFP/Toundra arctique arbustive_prcptot_monthly.json: No such file or directory\n",
      "WARNING:fiona._env:driver GeoJSON does not support creation option ENCODING\n"
     ]
    },
    {
     "name": "stdout",
     "output_type": "stream",
     "text": [
      "Toundra arctique arbustive\n"
     ]
    },
    {
     "name": "stderr",
     "output_type": "stream",
     "text": [
      "ERROR:fiona._env:/home/mlopez/EXEC/GeoJsonMFFP/DB_prcptot_monthly.json: No such file or directory\n",
      "WARNING:fiona._env:driver GeoJSON does not support creation option ENCODING\n",
      "WARNING:py.warnings:/home/mlopez/EXEC/anaconda3/envs/python37-2/lib/python3.8/site-packages/geofeather/core.py:85: UserWarning: /home/mlopez/EXEC/Grids-polygons-regions/Grid-REG_ECO.feather.crs coordinate reference system file is missing. No crs will be set for this GeoDataFrame.\n",
      "  warnings.warn(\n",
      "\n"
     ]
    },
    {
     "name": "stdout",
     "output_type": "stream",
     "text": [
      "REG_ECO\n",
      "Merged with polygons\n",
      "Plaine du bas Outaouais et de l'archipel de Montréal\n",
      "Coteaux de l'Estrie\n",
      "Coteaux des basses Appalaches\n",
      "Plaine du Saint-Laurent\n",
      "Collines de la basse Gatineau\n",
      "Hautes collines du bas Saint-Maurice\n",
      "Collines du lac Nominingue\n",
      "Collines de l'Outaouais et du Témiscamingue\n",
      "Coteaux du réservoir Cabonga\n",
      "Collines du moyen Saint-Maurice\n",
      "Hautes collines de Charlevoix et du Saguenay\n",
      "Collines des moyennes Appalaches\n",
      "Massif du lac Jacques-Cartier\n",
      "Plaines et coteaux du lac Simard\n",
      "Golfe du Saint- Laurent\n",
      "Îles-de-la-Madeleine\n",
      "Collines du haut Saint-Maurice\n",
      "Plaine de l'Abitibi\n",
      "Coteaux du réservoir Gouin\n",
      "Côte de la baie des Chaleurs\n",
      "Collines ceinturant le lac Saint-Jean\n",
      "Massif gaspésien\n",
      "Hautes collines de Baie-Comeau-Sept-Îles\n",
      "Plaine du lac Saint-Jean et du Saguenay\n",
      "Massif du mont Valin\n",
      "Haut massif gaspésien\n",
      "Côte gaspésienne\n",
      "Plaine du lac Opémisca\n",
      "Coteaux de la rivière Nestaocano\n",
      "Collines du lac Péribonka\n",
      "Plaine du lac Matagami\n",
      "Île d'Anticosti\n",
      "Hautes collines du réservoir aux Outardes\n",
      "Hautes collines du lac Cacaoui\n",
      "Coteaux du lac Mistassini\n",
      "Coteaux du lac Assinica\n",
      "Collines de Havre-Saint-Pierre et de Blanc-Sablon\n",
      "Coteaux du lac Manouane\n",
      "Île Mingan\n",
      "Plaine de la baie de Rupert\n",
      "Collines du lac Musquaro\n",
      "Collines du lac Grandmesnil\n",
      "Coteaux de la rivière à la Croix et du lac au Griffon\n",
      "Coteaux du lac Caopacho\n",
      "Coteaux du lac Fonteneau\n",
      "Massif des monts Groulx\n",
      "Coteaux des lacs Matonipi et Jonquet\n"
     ]
    },
    {
     "name": "stderr",
     "output_type": "stream",
     "text": [
      "ERROR:fiona._env:/home/mlopez/EXEC/GeoJsonMFFP/Plaine du bas Outaouais et de l'archipel de Montreal_prcptot_monthly.json: No such file or directory\n",
      "WARNING:fiona._env:driver GeoJSON does not support creation option ENCODING\n"
     ]
    },
    {
     "name": "stdout",
     "output_type": "stream",
     "text": [
      "Plaine du bas Outaouais et de l'archipel de Montréal\n"
     ]
    },
    {
     "name": "stderr",
     "output_type": "stream",
     "text": [
      "ERROR:fiona._env:/home/mlopez/EXEC/GeoJsonMFFP/Coteaux de l'Estrie_prcptot_monthly.json: No such file or directory\n",
      "WARNING:fiona._env:driver GeoJSON does not support creation option ENCODING\n"
     ]
    },
    {
     "name": "stdout",
     "output_type": "stream",
     "text": [
      "Coteaux de l'Estrie\n"
     ]
    },
    {
     "name": "stderr",
     "output_type": "stream",
     "text": [
      "ERROR:fiona._env:/home/mlopez/EXEC/GeoJsonMFFP/Coteaux des basses Appalaches_prcptot_monthly.json: No such file or directory\n",
      "WARNING:fiona._env:driver GeoJSON does not support creation option ENCODING\n"
     ]
    },
    {
     "name": "stdout",
     "output_type": "stream",
     "text": [
      "Coteaux des basses Appalaches\n"
     ]
    },
    {
     "name": "stderr",
     "output_type": "stream",
     "text": [
      "ERROR:fiona._env:/home/mlopez/EXEC/GeoJsonMFFP/Plaine du Saint-Laurent_prcptot_monthly.json: No such file or directory\n",
      "WARNING:fiona._env:driver GeoJSON does not support creation option ENCODING\n"
     ]
    },
    {
     "name": "stdout",
     "output_type": "stream",
     "text": [
      "Plaine du Saint-Laurent\n"
     ]
    },
    {
     "name": "stderr",
     "output_type": "stream",
     "text": [
      "ERROR:fiona._env:/home/mlopez/EXEC/GeoJsonMFFP/Collines de la basse Gatineau_prcptot_monthly.json: No such file or directory\n",
      "WARNING:fiona._env:driver GeoJSON does not support creation option ENCODING\n"
     ]
    },
    {
     "name": "stdout",
     "output_type": "stream",
     "text": [
      "Collines de la basse Gatineau\n"
     ]
    },
    {
     "name": "stderr",
     "output_type": "stream",
     "text": [
      "ERROR:fiona._env:/home/mlopez/EXEC/GeoJsonMFFP/Hautes collines du bas Saint-Maurice_prcptot_monthly.json: No such file or directory\n",
      "WARNING:fiona._env:driver GeoJSON does not support creation option ENCODING\n"
     ]
    },
    {
     "name": "stdout",
     "output_type": "stream",
     "text": [
      "Hautes collines du bas Saint-Maurice\n"
     ]
    },
    {
     "name": "stderr",
     "output_type": "stream",
     "text": [
      "ERROR:fiona._env:/home/mlopez/EXEC/GeoJsonMFFP/Collines du lac Nominingue_prcptot_monthly.json: No such file or directory\n",
      "WARNING:fiona._env:driver GeoJSON does not support creation option ENCODING\n"
     ]
    },
    {
     "name": "stdout",
     "output_type": "stream",
     "text": [
      "Collines du lac Nominingue\n"
     ]
    },
    {
     "name": "stderr",
     "output_type": "stream",
     "text": [
      "ERROR:fiona._env:/home/mlopez/EXEC/GeoJsonMFFP/Collines de l'Outaouais et du Temiscamingue_prcptot_monthly.json: No such file or directory\n",
      "WARNING:fiona._env:driver GeoJSON does not support creation option ENCODING\n"
     ]
    },
    {
     "name": "stdout",
     "output_type": "stream",
     "text": [
      "Collines de l'Outaouais et du Témiscamingue\n"
     ]
    },
    {
     "name": "stderr",
     "output_type": "stream",
     "text": [
      "ERROR:fiona._env:/home/mlopez/EXEC/GeoJsonMFFP/Coteaux du reservoir Cabonga_prcptot_monthly.json: No such file or directory\n",
      "WARNING:fiona._env:driver GeoJSON does not support creation option ENCODING\n"
     ]
    },
    {
     "name": "stdout",
     "output_type": "stream",
     "text": [
      "Coteaux du réservoir Cabonga\n"
     ]
    },
    {
     "name": "stderr",
     "output_type": "stream",
     "text": [
      "ERROR:fiona._env:/home/mlopez/EXEC/GeoJsonMFFP/Collines du moyen Saint-Maurice_prcptot_monthly.json: No such file or directory\n",
      "WARNING:fiona._env:driver GeoJSON does not support creation option ENCODING\n"
     ]
    },
    {
     "name": "stdout",
     "output_type": "stream",
     "text": [
      "Collines du moyen Saint-Maurice\n"
     ]
    },
    {
     "name": "stderr",
     "output_type": "stream",
     "text": [
      "ERROR:fiona._env:/home/mlopez/EXEC/GeoJsonMFFP/Hautes collines de Charlevoix et du Saguenay_prcptot_monthly.json: No such file or directory\n",
      "WARNING:fiona._env:driver GeoJSON does not support creation option ENCODING\n"
     ]
    },
    {
     "name": "stdout",
     "output_type": "stream",
     "text": [
      "Hautes collines de Charlevoix et du Saguenay\n"
     ]
    },
    {
     "name": "stderr",
     "output_type": "stream",
     "text": [
      "ERROR:fiona._env:/home/mlopez/EXEC/GeoJsonMFFP/Collines des moyennes Appalaches_prcptot_monthly.json: No such file or directory\n",
      "WARNING:fiona._env:driver GeoJSON does not support creation option ENCODING\n"
     ]
    },
    {
     "name": "stdout",
     "output_type": "stream",
     "text": [
      "Collines des moyennes Appalaches\n"
     ]
    },
    {
     "name": "stderr",
     "output_type": "stream",
     "text": [
      "ERROR:fiona._env:/home/mlopez/EXEC/GeoJsonMFFP/Massif du lac Jacques-Cartier_prcptot_monthly.json: No such file or directory\n",
      "WARNING:fiona._env:driver GeoJSON does not support creation option ENCODING\n"
     ]
    },
    {
     "name": "stdout",
     "output_type": "stream",
     "text": [
      "Massif du lac Jacques-Cartier\n"
     ]
    },
    {
     "name": "stderr",
     "output_type": "stream",
     "text": [
      "ERROR:fiona._env:/home/mlopez/EXEC/GeoJsonMFFP/Plaines et coteaux du lac Simard_prcptot_monthly.json: No such file or directory\n",
      "WARNING:fiona._env:driver GeoJSON does not support creation option ENCODING\n"
     ]
    },
    {
     "name": "stdout",
     "output_type": "stream",
     "text": [
      "Plaines et coteaux du lac Simard\n"
     ]
    },
    {
     "name": "stderr",
     "output_type": "stream",
     "text": [
      "ERROR:fiona._env:/home/mlopez/EXEC/GeoJsonMFFP/Golfe du Saint- Laurent_prcptot_monthly.json: No such file or directory\n",
      "WARNING:fiona._env:driver GeoJSON does not support creation option ENCODING\n"
     ]
    },
    {
     "name": "stdout",
     "output_type": "stream",
     "text": [
      "Golfe du Saint- Laurent\n"
     ]
    },
    {
     "name": "stderr",
     "output_type": "stream",
     "text": [
      "ERROR:fiona._env:/home/mlopez/EXEC/GeoJsonMFFP/iles-de-la-Madeleine_prcptot_monthly.json: No such file or directory\n",
      "WARNING:fiona._env:driver GeoJSON does not support creation option ENCODING\n"
     ]
    },
    {
     "name": "stdout",
     "output_type": "stream",
     "text": [
      "Îles-de-la-Madeleine\n"
     ]
    },
    {
     "name": "stderr",
     "output_type": "stream",
     "text": [
      "ERROR:fiona._env:/home/mlopez/EXEC/GeoJsonMFFP/Collines du haut Saint-Maurice_prcptot_monthly.json: No such file or directory\n",
      "WARNING:fiona._env:driver GeoJSON does not support creation option ENCODING\n"
     ]
    },
    {
     "name": "stdout",
     "output_type": "stream",
     "text": [
      "Collines du haut Saint-Maurice\n"
     ]
    },
    {
     "name": "stderr",
     "output_type": "stream",
     "text": [
      "ERROR:fiona._env:/home/mlopez/EXEC/GeoJsonMFFP/Plaine de l'Abitibi_prcptot_monthly.json: No such file or directory\n",
      "WARNING:fiona._env:driver GeoJSON does not support creation option ENCODING\n"
     ]
    },
    {
     "name": "stdout",
     "output_type": "stream",
     "text": [
      "Plaine de l'Abitibi\n"
     ]
    },
    {
     "name": "stderr",
     "output_type": "stream",
     "text": [
      "ERROR:fiona._env:/home/mlopez/EXEC/GeoJsonMFFP/Coteaux du reservoir Gouin_prcptot_monthly.json: No such file or directory\n",
      "WARNING:fiona._env:driver GeoJSON does not support creation option ENCODING\n"
     ]
    },
    {
     "name": "stdout",
     "output_type": "stream",
     "text": [
      "Coteaux du réservoir Gouin\n"
     ]
    },
    {
     "name": "stderr",
     "output_type": "stream",
     "text": [
      "ERROR:fiona._env:/home/mlopez/EXEC/GeoJsonMFFP/Cote de la baie des Chaleurs_prcptot_monthly.json: No such file or directory\n",
      "WARNING:fiona._env:driver GeoJSON does not support creation option ENCODING\n"
     ]
    },
    {
     "name": "stdout",
     "output_type": "stream",
     "text": [
      "Côte de la baie des Chaleurs\n"
     ]
    },
    {
     "name": "stderr",
     "output_type": "stream",
     "text": [
      "ERROR:fiona._env:/home/mlopez/EXEC/GeoJsonMFFP/Collines ceinturant le lac Saint-Jean_prcptot_monthly.json: No such file or directory\n",
      "WARNING:fiona._env:driver GeoJSON does not support creation option ENCODING\n"
     ]
    },
    {
     "name": "stdout",
     "output_type": "stream",
     "text": [
      "Collines ceinturant le lac Saint-Jean\n"
     ]
    },
    {
     "name": "stderr",
     "output_type": "stream",
     "text": [
      "ERROR:fiona._env:/home/mlopez/EXEC/GeoJsonMFFP/Massif gaspesien_prcptot_monthly.json: No such file or directory\n",
      "WARNING:fiona._env:driver GeoJSON does not support creation option ENCODING\n"
     ]
    },
    {
     "name": "stdout",
     "output_type": "stream",
     "text": [
      "Massif gaspésien\n"
     ]
    },
    {
     "name": "stderr",
     "output_type": "stream",
     "text": [
      "ERROR:fiona._env:/home/mlopez/EXEC/GeoJsonMFFP/Hautes collines de Baie-Comeau-Sept-iles_prcptot_monthly.json: No such file or directory\n",
      "WARNING:fiona._env:driver GeoJSON does not support creation option ENCODING\n"
     ]
    },
    {
     "name": "stdout",
     "output_type": "stream",
     "text": [
      "Hautes collines de Baie-Comeau-Sept-Îles\n"
     ]
    },
    {
     "name": "stderr",
     "output_type": "stream",
     "text": [
      "ERROR:fiona._env:/home/mlopez/EXEC/GeoJsonMFFP/Plaine du lac Saint-Jean et du Saguenay_prcptot_monthly.json: No such file or directory\n",
      "WARNING:fiona._env:driver GeoJSON does not support creation option ENCODING\n"
     ]
    },
    {
     "name": "stdout",
     "output_type": "stream",
     "text": [
      "Plaine du lac Saint-Jean et du Saguenay\n"
     ]
    },
    {
     "name": "stderr",
     "output_type": "stream",
     "text": [
      "ERROR:fiona._env:/home/mlopez/EXEC/GeoJsonMFFP/Massif du mont Valin_prcptot_monthly.json: No such file or directory\n",
      "WARNING:fiona._env:driver GeoJSON does not support creation option ENCODING\n"
     ]
    },
    {
     "name": "stdout",
     "output_type": "stream",
     "text": [
      "Massif du mont Valin\n"
     ]
    },
    {
     "name": "stderr",
     "output_type": "stream",
     "text": [
      "ERROR:fiona._env:/home/mlopez/EXEC/GeoJsonMFFP/Haut massif gaspesien_prcptot_monthly.json: No such file or directory\n",
      "WARNING:fiona._env:driver GeoJSON does not support creation option ENCODING\n"
     ]
    },
    {
     "name": "stdout",
     "output_type": "stream",
     "text": [
      "Haut massif gaspésien\n"
     ]
    },
    {
     "name": "stderr",
     "output_type": "stream",
     "text": [
      "ERROR:fiona._env:/home/mlopez/EXEC/GeoJsonMFFP/Cote gaspesienne_prcptot_monthly.json: No such file or directory\n",
      "WARNING:fiona._env:driver GeoJSON does not support creation option ENCODING\n"
     ]
    },
    {
     "name": "stdout",
     "output_type": "stream",
     "text": [
      "Côte gaspésienne\n"
     ]
    },
    {
     "name": "stderr",
     "output_type": "stream",
     "text": [
      "ERROR:fiona._env:/home/mlopez/EXEC/GeoJsonMFFP/Plaine du lac Opemisca_prcptot_monthly.json: No such file or directory\n",
      "WARNING:fiona._env:driver GeoJSON does not support creation option ENCODING\n"
     ]
    },
    {
     "name": "stdout",
     "output_type": "stream",
     "text": [
      "Plaine du lac Opémisca\n"
     ]
    },
    {
     "name": "stderr",
     "output_type": "stream",
     "text": [
      "ERROR:fiona._env:/home/mlopez/EXEC/GeoJsonMFFP/Coteaux de la riviere Nestaocano_prcptot_monthly.json: No such file or directory\n",
      "WARNING:fiona._env:driver GeoJSON does not support creation option ENCODING\n"
     ]
    },
    {
     "name": "stdout",
     "output_type": "stream",
     "text": [
      "Coteaux de la rivière Nestaocano\n"
     ]
    },
    {
     "name": "stderr",
     "output_type": "stream",
     "text": [
      "ERROR:fiona._env:/home/mlopez/EXEC/GeoJsonMFFP/Collines du lac Peribonka_prcptot_monthly.json: No such file or directory\n",
      "WARNING:fiona._env:driver GeoJSON does not support creation option ENCODING\n"
     ]
    },
    {
     "name": "stdout",
     "output_type": "stream",
     "text": [
      "Collines du lac Péribonka\n"
     ]
    },
    {
     "name": "stderr",
     "output_type": "stream",
     "text": [
      "ERROR:fiona._env:/home/mlopez/EXEC/GeoJsonMFFP/Plaine du lac Matagami_prcptot_monthly.json: No such file or directory\n",
      "WARNING:fiona._env:driver GeoJSON does not support creation option ENCODING\n"
     ]
    },
    {
     "name": "stdout",
     "output_type": "stream",
     "text": [
      "Plaine du lac Matagami\n"
     ]
    },
    {
     "name": "stderr",
     "output_type": "stream",
     "text": [
      "ERROR:fiona._env:/home/mlopez/EXEC/GeoJsonMFFP/ile d'Anticosti_prcptot_monthly.json: No such file or directory\n",
      "WARNING:fiona._env:driver GeoJSON does not support creation option ENCODING\n"
     ]
    },
    {
     "name": "stdout",
     "output_type": "stream",
     "text": [
      "Île d'Anticosti\n"
     ]
    },
    {
     "name": "stderr",
     "output_type": "stream",
     "text": [
      "ERROR:fiona._env:/home/mlopez/EXEC/GeoJsonMFFP/Hautes collines du reservoir aux Outardes_prcptot_monthly.json: No such file or directory\n",
      "WARNING:fiona._env:driver GeoJSON does not support creation option ENCODING\n"
     ]
    },
    {
     "name": "stdout",
     "output_type": "stream",
     "text": [
      "Hautes collines du réservoir aux Outardes\n"
     ]
    },
    {
     "name": "stderr",
     "output_type": "stream",
     "text": [
      "ERROR:fiona._env:/home/mlopez/EXEC/GeoJsonMFFP/Hautes collines du lac Cacaoui_prcptot_monthly.json: No such file or directory\n",
      "WARNING:fiona._env:driver GeoJSON does not support creation option ENCODING\n"
     ]
    },
    {
     "name": "stdout",
     "output_type": "stream",
     "text": [
      "Hautes collines du lac Cacaoui\n"
     ]
    },
    {
     "name": "stderr",
     "output_type": "stream",
     "text": [
      "ERROR:fiona._env:/home/mlopez/EXEC/GeoJsonMFFP/Coteaux du lac Mistassini_prcptot_monthly.json: No such file or directory\n",
      "WARNING:fiona._env:driver GeoJSON does not support creation option ENCODING\n"
     ]
    },
    {
     "name": "stdout",
     "output_type": "stream",
     "text": [
      "Coteaux du lac Mistassini\n"
     ]
    },
    {
     "name": "stderr",
     "output_type": "stream",
     "text": [
      "ERROR:fiona._env:/home/mlopez/EXEC/GeoJsonMFFP/Coteaux du lac Assinica_prcptot_monthly.json: No such file or directory\n",
      "WARNING:fiona._env:driver GeoJSON does not support creation option ENCODING\n"
     ]
    },
    {
     "name": "stdout",
     "output_type": "stream",
     "text": [
      "Coteaux du lac Assinica\n"
     ]
    },
    {
     "name": "stderr",
     "output_type": "stream",
     "text": [
      "ERROR:fiona._env:/home/mlopez/EXEC/GeoJsonMFFP/Collines de Havre-Saint-Pierre et de Blanc-Sablon_prcptot_monthly.json: No such file or directory\n",
      "WARNING:fiona._env:driver GeoJSON does not support creation option ENCODING\n"
     ]
    },
    {
     "name": "stdout",
     "output_type": "stream",
     "text": [
      "Collines de Havre-Saint-Pierre et de Blanc-Sablon\n"
     ]
    },
    {
     "name": "stderr",
     "output_type": "stream",
     "text": [
      "ERROR:fiona._env:/home/mlopez/EXEC/GeoJsonMFFP/Coteaux du lac Manouane_prcptot_monthly.json: No such file or directory\n",
      "WARNING:fiona._env:driver GeoJSON does not support creation option ENCODING\n"
     ]
    },
    {
     "name": "stdout",
     "output_type": "stream",
     "text": [
      "Coteaux du lac Manouane\n"
     ]
    },
    {
     "name": "stderr",
     "output_type": "stream",
     "text": [
      "ERROR:fiona._env:/home/mlopez/EXEC/GeoJsonMFFP/ile Mingan_prcptot_monthly.json: No such file or directory\n",
      "WARNING:fiona._env:driver GeoJSON does not support creation option ENCODING\n"
     ]
    },
    {
     "name": "stdout",
     "output_type": "stream",
     "text": [
      "Île Mingan\n"
     ]
    },
    {
     "name": "stderr",
     "output_type": "stream",
     "text": [
      "ERROR:fiona._env:/home/mlopez/EXEC/GeoJsonMFFP/Plaine de la baie de Rupert_prcptot_monthly.json: No such file or directory\n",
      "WARNING:fiona._env:driver GeoJSON does not support creation option ENCODING\n"
     ]
    },
    {
     "name": "stdout",
     "output_type": "stream",
     "text": [
      "Plaine de la baie de Rupert\n"
     ]
    },
    {
     "name": "stderr",
     "output_type": "stream",
     "text": [
      "ERROR:fiona._env:/home/mlopez/EXEC/GeoJsonMFFP/Collines du lac Musquaro_prcptot_monthly.json: No such file or directory\n",
      "WARNING:fiona._env:driver GeoJSON does not support creation option ENCODING\n"
     ]
    },
    {
     "name": "stdout",
     "output_type": "stream",
     "text": [
      "Collines du lac Musquaro\n"
     ]
    },
    {
     "name": "stderr",
     "output_type": "stream",
     "text": [
      "ERROR:fiona._env:/home/mlopez/EXEC/GeoJsonMFFP/Collines du lac Grandmesnil_prcptot_monthly.json: No such file or directory\n",
      "WARNING:fiona._env:driver GeoJSON does not support creation option ENCODING\n"
     ]
    },
    {
     "name": "stdout",
     "output_type": "stream",
     "text": [
      "Collines du lac Grandmesnil\n"
     ]
    },
    {
     "name": "stderr",
     "output_type": "stream",
     "text": [
      "ERROR:fiona._env:/home/mlopez/EXEC/GeoJsonMFFP/Coteaux de la riviere a la Croix et du lac au Griffon_prcptot_monthly.json: No such file or directory\n",
      "WARNING:fiona._env:driver GeoJSON does not support creation option ENCODING\n"
     ]
    },
    {
     "name": "stdout",
     "output_type": "stream",
     "text": [
      "Coteaux de la rivière à la Croix et du lac au Griffon\n"
     ]
    },
    {
     "name": "stderr",
     "output_type": "stream",
     "text": [
      "ERROR:fiona._env:/home/mlopez/EXEC/GeoJsonMFFP/Coteaux du lac Caopacho_prcptot_monthly.json: No such file or directory\n",
      "WARNING:fiona._env:driver GeoJSON does not support creation option ENCODING\n"
     ]
    },
    {
     "name": "stdout",
     "output_type": "stream",
     "text": [
      "Coteaux du lac Caopacho\n"
     ]
    },
    {
     "name": "stderr",
     "output_type": "stream",
     "text": [
      "ERROR:fiona._env:/home/mlopez/EXEC/GeoJsonMFFP/Coteaux du lac Fonteneau_prcptot_monthly.json: No such file or directory\n",
      "WARNING:fiona._env:driver GeoJSON does not support creation option ENCODING\n"
     ]
    },
    {
     "name": "stdout",
     "output_type": "stream",
     "text": [
      "Coteaux du lac Fonteneau\n"
     ]
    },
    {
     "name": "stderr",
     "output_type": "stream",
     "text": [
      "ERROR:fiona._env:/home/mlopez/EXEC/GeoJsonMFFP/Massif des monts Groulx_prcptot_monthly.json: No such file or directory\n",
      "WARNING:fiona._env:driver GeoJSON does not support creation option ENCODING\n"
     ]
    },
    {
     "name": "stdout",
     "output_type": "stream",
     "text": [
      "Massif des monts Groulx\n"
     ]
    },
    {
     "name": "stderr",
     "output_type": "stream",
     "text": [
      "ERROR:fiona._env:/home/mlopez/EXEC/GeoJsonMFFP/Coteaux des lacs Matonipi et Jonquet_prcptot_monthly.json: No such file or directory\n",
      "WARNING:fiona._env:driver GeoJSON does not support creation option ENCODING\n"
     ]
    },
    {
     "name": "stdout",
     "output_type": "stream",
     "text": [
      "Coteaux des lacs Matonipi et Jonquet\n"
     ]
    },
    {
     "name": "stderr",
     "output_type": "stream",
     "text": [
      "ERROR:fiona._env:/home/mlopez/EXEC/GeoJsonMFFP/RE_prcptot_monthly.json: No such file or directory\n",
      "WARNING:fiona._env:driver GeoJSON does not support creation option ENCODING\n",
      "WARNING:py.warnings:/home/mlopez/EXEC/anaconda3/envs/python37-2/lib/python3.8/site-packages/geofeather/core.py:85: UserWarning: /home/mlopez/EXEC/Grids-polygons-regions/Grid-SDOM_BIO.feather.crs coordinate reference system file is missing. No crs will be set for this GeoDataFrame.\n",
      "  warnings.warn(\n",
      "\n"
     ]
    },
    {
     "name": "stdout",
     "output_type": "stream",
     "text": [
      "SDOM_BIO\n"
     ]
    },
    {
     "name": "stderr",
     "output_type": "stream",
     "text": [
      "ERROR:fiona._env:/home/mlopez/EXEC/GeoJsonMFFP/Erabliere a caryer cordiforme_prcptot_monthly.json: No such file or directory\n",
      "WARNING:fiona._env:driver GeoJSON does not support creation option ENCODING\n"
     ]
    },
    {
     "name": "stdout",
     "output_type": "stream",
     "text": [
      "Merged with polygons\n",
      "Érablière à caryer cordiforme\n",
      "Érablière à tilleul de l'Est\n",
      "Érablière à bouleau jaune de l'Est\n",
      "Érablière à tilleul de l'Ouest\n",
      "Érablière à bouleau jaune de l'Ouest\n",
      "Sapinière à bouleau jaune de l'Ouest\n",
      "Sapinière à bouleau jaune de l'Est\n",
      "Sapinière à bouleau blanc de l'Est\n",
      "Golfe du Saint-Laurent\n",
      "Sapinière à bouleau blanc de l'Ouest\n",
      "Pessière à mousses de l'Ouest\n",
      "Pessière à mousses de l'Est\n",
      "Érablière à caryer cordiforme\n"
     ]
    },
    {
     "name": "stderr",
     "output_type": "stream",
     "text": [
      "ERROR:fiona._env:/home/mlopez/EXEC/GeoJsonMFFP/Erabliere a tilleul de l'Est_prcptot_monthly.json: No such file or directory\n",
      "WARNING:fiona._env:driver GeoJSON does not support creation option ENCODING\n"
     ]
    },
    {
     "name": "stdout",
     "output_type": "stream",
     "text": [
      "Érablière à tilleul de l'Est\n"
     ]
    },
    {
     "name": "stderr",
     "output_type": "stream",
     "text": [
      "ERROR:fiona._env:/home/mlopez/EXEC/GeoJsonMFFP/Erabliere a bouleau jaune de l'Est_prcptot_monthly.json: No such file or directory\n",
      "WARNING:fiona._env:driver GeoJSON does not support creation option ENCODING\n"
     ]
    },
    {
     "name": "stdout",
     "output_type": "stream",
     "text": [
      "Érablière à bouleau jaune de l'Est\n"
     ]
    },
    {
     "name": "stderr",
     "output_type": "stream",
     "text": [
      "ERROR:fiona._env:/home/mlopez/EXEC/GeoJsonMFFP/Erabliere a tilleul de l'Ouest_prcptot_monthly.json: No such file or directory\n",
      "WARNING:fiona._env:driver GeoJSON does not support creation option ENCODING\n"
     ]
    },
    {
     "name": "stdout",
     "output_type": "stream",
     "text": [
      "Érablière à tilleul de l'Ouest\n"
     ]
    },
    {
     "name": "stderr",
     "output_type": "stream",
     "text": [
      "ERROR:fiona._env:/home/mlopez/EXEC/GeoJsonMFFP/Erabliere a bouleau jaune de l'Ouest_prcptot_monthly.json: No such file or directory\n",
      "WARNING:fiona._env:driver GeoJSON does not support creation option ENCODING\n"
     ]
    },
    {
     "name": "stdout",
     "output_type": "stream",
     "text": [
      "Érablière à bouleau jaune de l'Ouest\n"
     ]
    },
    {
     "name": "stderr",
     "output_type": "stream",
     "text": [
      "ERROR:fiona._env:/home/mlopez/EXEC/GeoJsonMFFP/Sapiniere a bouleau jaune de l'Ouest_prcptot_monthly.json: No such file or directory\n",
      "WARNING:fiona._env:driver GeoJSON does not support creation option ENCODING\n"
     ]
    },
    {
     "name": "stdout",
     "output_type": "stream",
     "text": [
      "Sapinière à bouleau jaune de l'Ouest\n",
      "Sapinière à bouleau jaune de l'Est\n",
      "Sapinière à bouleau blanc de l'Est\n"
     ]
    },
    {
     "name": "stderr",
     "output_type": "stream",
     "text": [
      "ERROR:fiona._env:/home/mlopez/EXEC/GeoJsonMFFP/Golfe du Saint-Laurent_prcptot_monthly.json: No such file or directory\n",
      "WARNING:fiona._env:driver GeoJSON does not support creation option ENCODING\n"
     ]
    },
    {
     "name": "stdout",
     "output_type": "stream",
     "text": [
      "Golfe du Saint-Laurent\n",
      "Sapinière à bouleau blanc de l'Ouest\n",
      "Pessière à mousses de l'Ouest\n",
      "Pessière à mousses de l'Est\n"
     ]
    },
    {
     "name": "stderr",
     "output_type": "stream",
     "text": [
      "WARNING:py.warnings:/home/mlopez/EXEC/anaconda3/envs/python37-2/lib/python3.8/site-packages/geofeather/core.py:85: UserWarning: /home/mlopez/EXEC/Grids-polygons-regions/Grid-Secteurs_Operations_Regionales.feather.crs coordinate reference system file is missing. No crs will be set for this GeoDataFrame.\n",
      "  warnings.warn(\n",
      "\n"
     ]
    },
    {
     "name": "stdout",
     "output_type": "stream",
     "text": [
      "Secteurs_Operations_Regionales\n",
      "Merged with polygons\n",
      "Secteur métropolitain et sud\n",
      "Sud-Ouest\n",
      "Centre du Québec\n",
      "Nord-ouest\n",
      "Sud-est\n",
      "Nord-est\n",
      "Secteur métropolitain et sud\n",
      "Sud-Ouest\n",
      "Centre du Québec\n",
      "Nord-ouest\n",
      "Sud-est\n",
      "Nord-est\n"
     ]
    },
    {
     "name": "stderr",
     "output_type": "stream",
     "text": [
      "WARNING:py.warnings:/home/mlopez/EXEC/anaconda3/envs/python37-2/lib/python3.8/site-packages/geofeather/core.py:85: UserWarning: /home/mlopez/EXEC/Grids-polygons-regions/Grid-SREG_ECO.feather.crs coordinate reference system file is missing. No crs will be set for this GeoDataFrame.\n",
      "  warnings.warn(\n",
      "\n"
     ]
    },
    {
     "name": "stdout",
     "output_type": "stream",
     "text": [
      "SREG_ECO\n",
      "Merged with polygons\n",
      "Plaine du bas Outaouais et de l'archipel de Montréal\n",
      "Coteaux de l'Estrie\n",
      "Collines du Mont-Mégantic\n",
      "Coteaux de la rivière Chaudière\n",
      "Plaine du Saint-Laurent\n",
      "Collines de la basse Gatineau\n",
      "Collines de Saint-Jérôme-Grand-Mère\n",
      "Hautes collines du lac Simon\n",
      "Collines du lac Dumont\n",
      "Hautes collines de Val-David-Lac-Mékinac\n",
      "Coteaux du lac Etchemin\n",
      "Collines du lac Saint-Patrice\n",
      "Massif du Mont-Tremblant\n",
      "Collines du réservoir Kiamika\n",
      "Collines du lac Kipawa\n",
      "Collines du lac Notawassi\n",
      "Collines de la rivière Vermillon\n",
      "Coteaux du réservoir Dozois\n",
      "Hautes collines de Saint-Tite-des-Caps\n",
      "Hautes collines du lac Édouard\n",
      "Collines et coteaux du lac Pohénégamook\n",
      "Monts du lac des Martres\n",
      "Plaines et coteaux du lac Simard\n",
      "Coteaux du lac Yser\n",
      "Golfe du Saint-Laurent\n",
      "Îles-de-la-Madeleine\n",
      "Hautes collines du lac Jacques-Cartier\n",
      "Collines du lac Témiscouata\n",
      "Collines du lac Lareau\n",
      "Hautes collines du mont des Éboulements\n",
      "Collines du Grand-Lac-Bostonnais\n",
      "Plaine de l'Abitibi\n",
      "Coteaux du réservoir Gouin\n",
      "Collines du lac Humqui\n",
      "Côte de la baie des Chaleurs\n",
      "Collines du lac Onatchiway\n",
      "Collines du lac Simoncouche\n",
      "Massif gaspésien\n",
      "Hautes collines de Baie-Comeau-Sept-Îles\n",
      "Collines du lac Trenche\n",
      "Plaine du lac Saint-Jean et du Saguenay\n",
      "Mont du lac des Savanes\n",
      "Monts de Murdochville\n",
      "Hautes collines du lac Poulin-De Courval\n",
      "Côte gaspésienne\n",
      "Plaine du lac Opémisca\n",
      "Coteaux de la rivière Nestaocano\n",
      "Monts du Mont-Albert\n",
      "Collines du lac Péribonka\n",
      "Plaine du lac Matagami\n",
      "Hautes collines du réservoir Manic 3\n",
      "Hautes collines des lacs Nipissis et Magpie\n",
      "Hautes collines des lacs Walker et Beetz\n",
      "Coteaux du lac Mistassini\n",
      "Coteaux du lac Assinica\n",
      "Coteaux de Natashquan\n",
      "Coteaux du lac Manouane\n",
      "Collines des lacs Musquanousse et du Vieux Fort\n",
      "Plaine de la baie de Rupert\n",
      "Hautes collines du lac Guinecourt\n"
     ]
    },
    {
     "name": "stderr",
     "output_type": "stream",
     "text": [
      "ERROR:fiona._env:/home/mlopez/EXEC/GeoJsonMFFP/Plaine du bas Outaouais et de l'archipel de Montreal_prcptot_monthly.json: No such file or directory\n",
      "WARNING:fiona._env:driver GeoJSON does not support creation option ENCODING\n"
     ]
    },
    {
     "name": "stdout",
     "output_type": "stream",
     "text": [
      "Collines du lac Musquaro\n",
      "Collines du lac Grandmesnil\n",
      "Coteaux de la rivière à la Croix et du lac au Griffon\n",
      "Coteaux du lac Caopocho\n",
      "Collines du lac Fonteneau\n",
      "None\n",
      "Massif des monts Groulx\n",
      "Coteaux des lacs Matonipi et Jonquet\n",
      "Plaine du bas Outaouais et de l'archipel de Montréal\n"
     ]
    },
    {
     "name": "stderr",
     "output_type": "stream",
     "text": [
      "ERROR:fiona._env:/home/mlopez/EXEC/GeoJsonMFFP/Coteaux de l'Estrie_prcptot_monthly.json: No such file or directory\n",
      "WARNING:fiona._env:driver GeoJSON does not support creation option ENCODING\n"
     ]
    },
    {
     "name": "stdout",
     "output_type": "stream",
     "text": [
      "Coteaux de l'Estrie\n",
      "Collines du Mont-Mégantic\n",
      "Coteaux de la rivière Chaudière\n"
     ]
    },
    {
     "name": "stderr",
     "output_type": "stream",
     "text": [
      "ERROR:fiona._env:/home/mlopez/EXEC/GeoJsonMFFP/Plaine du Saint-Laurent_prcptot_monthly.json: No such file or directory\n",
      "WARNING:fiona._env:driver GeoJSON does not support creation option ENCODING\n"
     ]
    },
    {
     "name": "stdout",
     "output_type": "stream",
     "text": [
      "Plaine du Saint-Laurent\n"
     ]
    },
    {
     "name": "stderr",
     "output_type": "stream",
     "text": [
      "ERROR:fiona._env:/home/mlopez/EXEC/GeoJsonMFFP/Collines de la basse Gatineau_prcptot_monthly.json: No such file or directory\n",
      "WARNING:fiona._env:driver GeoJSON does not support creation option ENCODING\n"
     ]
    },
    {
     "name": "stdout",
     "output_type": "stream",
     "text": [
      "Collines de la basse Gatineau\n",
      "Collines de Saint-Jérôme-Grand-Mère\n",
      "Hautes collines du lac Simon\n",
      "Collines du lac Dumont\n",
      "Hautes collines de Val-David-Lac-Mékinac\n",
      "Coteaux du lac Etchemin\n",
      "Collines du lac Saint-Patrice\n",
      "Massif du Mont-Tremblant\n",
      "Collines du réservoir Kiamika\n",
      "Collines du lac Kipawa\n",
      "Collines du lac Notawassi\n",
      "Collines de la rivière Vermillon\n",
      "Coteaux du réservoir Dozois\n",
      "Hautes collines de Saint-Tite-des-Caps\n",
      "Hautes collines du lac Édouard\n",
      "Collines et coteaux du lac Pohénégamook\n",
      "Monts du lac des Martres\n"
     ]
    },
    {
     "name": "stderr",
     "output_type": "stream",
     "text": [
      "ERROR:fiona._env:/home/mlopez/EXEC/GeoJsonMFFP/Plaines et coteaux du lac Simard_prcptot_monthly.json: No such file or directory\n",
      "WARNING:fiona._env:driver GeoJSON does not support creation option ENCODING\n"
     ]
    },
    {
     "name": "stdout",
     "output_type": "stream",
     "text": [
      "Plaines et coteaux du lac Simard\n",
      "Coteaux du lac Yser\n"
     ]
    },
    {
     "name": "stderr",
     "output_type": "stream",
     "text": [
      "ERROR:fiona._env:/home/mlopez/EXEC/GeoJsonMFFP/Golfe du Saint-Laurent_prcptot_monthly.json: No such file or directory\n",
      "WARNING:fiona._env:driver GeoJSON does not support creation option ENCODING\n"
     ]
    },
    {
     "name": "stdout",
     "output_type": "stream",
     "text": [
      "Golfe du Saint-Laurent\n"
     ]
    },
    {
     "name": "stderr",
     "output_type": "stream",
     "text": [
      "ERROR:fiona._env:/home/mlopez/EXEC/GeoJsonMFFP/iles-de-la-Madeleine_prcptot_monthly.json: No such file or directory\n",
      "WARNING:fiona._env:driver GeoJSON does not support creation option ENCODING\n"
     ]
    },
    {
     "name": "stdout",
     "output_type": "stream",
     "text": [
      "Îles-de-la-Madeleine\n",
      "Hautes collines du lac Jacques-Cartier\n",
      "Collines du lac Témiscouata\n",
      "Collines du lac Lareau\n",
      "Hautes collines du mont des Éboulements\n",
      "Collines du Grand-Lac-Bostonnais\n"
     ]
    },
    {
     "name": "stderr",
     "output_type": "stream",
     "text": [
      "ERROR:fiona._env:/home/mlopez/EXEC/GeoJsonMFFP/Plaine de l'Abitibi_prcptot_monthly.json: No such file or directory\n",
      "WARNING:fiona._env:driver GeoJSON does not support creation option ENCODING\n"
     ]
    },
    {
     "name": "stdout",
     "output_type": "stream",
     "text": [
      "Plaine de l'Abitibi\n"
     ]
    },
    {
     "name": "stderr",
     "output_type": "stream",
     "text": [
      "ERROR:fiona._env:/home/mlopez/EXEC/GeoJsonMFFP/Coteaux du reservoir Gouin_prcptot_monthly.json: No such file or directory\n",
      "WARNING:fiona._env:driver GeoJSON does not support creation option ENCODING\n"
     ]
    },
    {
     "name": "stdout",
     "output_type": "stream",
     "text": [
      "Coteaux du réservoir Gouin\n",
      "Collines du lac Humqui\n"
     ]
    },
    {
     "name": "stderr",
     "output_type": "stream",
     "text": [
      "ERROR:fiona._env:/home/mlopez/EXEC/GeoJsonMFFP/Cote de la baie des Chaleurs_prcptot_monthly.json: No such file or directory\n",
      "WARNING:fiona._env:driver GeoJSON does not support creation option ENCODING\n"
     ]
    },
    {
     "name": "stdout",
     "output_type": "stream",
     "text": [
      "Côte de la baie des Chaleurs\n",
      "Collines du lac Onatchiway\n",
      "Collines du lac Simoncouche\n"
     ]
    },
    {
     "name": "stderr",
     "output_type": "stream",
     "text": [
      "ERROR:fiona._env:/home/mlopez/EXEC/GeoJsonMFFP/Massif gaspesien_prcptot_monthly.json: No such file or directory\n",
      "WARNING:fiona._env:driver GeoJSON does not support creation option ENCODING\n"
     ]
    },
    {
     "name": "stdout",
     "output_type": "stream",
     "text": [
      "Massif gaspésien\n"
     ]
    },
    {
     "name": "stderr",
     "output_type": "stream",
     "text": [
      "ERROR:fiona._env:/home/mlopez/EXEC/GeoJsonMFFP/Hautes collines de Baie-Comeau-Sept-iles_prcptot_monthly.json: No such file or directory\n",
      "WARNING:fiona._env:driver GeoJSON does not support creation option ENCODING\n"
     ]
    },
    {
     "name": "stdout",
     "output_type": "stream",
     "text": [
      "Hautes collines de Baie-Comeau-Sept-Îles\n",
      "Collines du lac Trenche\n"
     ]
    },
    {
     "name": "stderr",
     "output_type": "stream",
     "text": [
      "ERROR:fiona._env:/home/mlopez/EXEC/GeoJsonMFFP/Plaine du lac Saint-Jean et du Saguenay_prcptot_monthly.json: No such file or directory\n",
      "WARNING:fiona._env:driver GeoJSON does not support creation option ENCODING\n"
     ]
    },
    {
     "name": "stdout",
     "output_type": "stream",
     "text": [
      "Plaine du lac Saint-Jean et du Saguenay\n",
      "Mont du lac des Savanes\n",
      "Monts de Murdochville\n",
      "Hautes collines du lac Poulin-De Courval\n"
     ]
    },
    {
     "name": "stderr",
     "output_type": "stream",
     "text": [
      "ERROR:fiona._env:/home/mlopez/EXEC/GeoJsonMFFP/Cote gaspesienne_prcptot_monthly.json: No such file or directory\n",
      "WARNING:fiona._env:driver GeoJSON does not support creation option ENCODING\n"
     ]
    },
    {
     "name": "stdout",
     "output_type": "stream",
     "text": [
      "Côte gaspésienne\n"
     ]
    },
    {
     "name": "stderr",
     "output_type": "stream",
     "text": [
      "ERROR:fiona._env:/home/mlopez/EXEC/GeoJsonMFFP/Plaine du lac Opemisca_prcptot_monthly.json: No such file or directory\n",
      "WARNING:fiona._env:driver GeoJSON does not support creation option ENCODING\n"
     ]
    },
    {
     "name": "stdout",
     "output_type": "stream",
     "text": [
      "Plaine du lac Opémisca\n"
     ]
    },
    {
     "name": "stderr",
     "output_type": "stream",
     "text": [
      "ERROR:fiona._env:/home/mlopez/EXEC/GeoJsonMFFP/Coteaux de la riviere Nestaocano_prcptot_monthly.json: No such file or directory\n",
      "WARNING:fiona._env:driver GeoJSON does not support creation option ENCODING\n"
     ]
    },
    {
     "name": "stdout",
     "output_type": "stream",
     "text": [
      "Coteaux de la rivière Nestaocano\n",
      "Monts du Mont-Albert\n"
     ]
    },
    {
     "name": "stderr",
     "output_type": "stream",
     "text": [
      "ERROR:fiona._env:/home/mlopez/EXEC/GeoJsonMFFP/Collines du lac Peribonka_prcptot_monthly.json: No such file or directory\n",
      "WARNING:fiona._env:driver GeoJSON does not support creation option ENCODING\n"
     ]
    },
    {
     "name": "stdout",
     "output_type": "stream",
     "text": [
      "Collines du lac Péribonka\n"
     ]
    },
    {
     "name": "stderr",
     "output_type": "stream",
     "text": [
      "ERROR:fiona._env:/home/mlopez/EXEC/GeoJsonMFFP/Plaine du lac Matagami_prcptot_monthly.json: No such file or directory\n",
      "WARNING:fiona._env:driver GeoJSON does not support creation option ENCODING\n"
     ]
    },
    {
     "name": "stdout",
     "output_type": "stream",
     "text": [
      "Plaine du lac Matagami\n",
      "Hautes collines du réservoir Manic 3\n",
      "Hautes collines des lacs Nipissis et Magpie\n",
      "Hautes collines des lacs Walker et Beetz\n"
     ]
    },
    {
     "name": "stderr",
     "output_type": "stream",
     "text": [
      "ERROR:fiona._env:/home/mlopez/EXEC/GeoJsonMFFP/Coteaux du lac Mistassini_prcptot_monthly.json: No such file or directory\n",
      "WARNING:fiona._env:driver GeoJSON does not support creation option ENCODING\n"
     ]
    },
    {
     "name": "stdout",
     "output_type": "stream",
     "text": [
      "Coteaux du lac Mistassini\n"
     ]
    },
    {
     "name": "stderr",
     "output_type": "stream",
     "text": [
      "ERROR:fiona._env:/home/mlopez/EXEC/GeoJsonMFFP/Coteaux du lac Assinica_prcptot_monthly.json: No such file or directory\n",
      "WARNING:fiona._env:driver GeoJSON does not support creation option ENCODING\n"
     ]
    },
    {
     "name": "stdout",
     "output_type": "stream",
     "text": [
      "Coteaux du lac Assinica\n",
      "Coteaux de Natashquan\n"
     ]
    },
    {
     "name": "stderr",
     "output_type": "stream",
     "text": [
      "ERROR:fiona._env:/home/mlopez/EXEC/GeoJsonMFFP/Coteaux du lac Manouane_prcptot_monthly.json: No such file or directory\n",
      "WARNING:fiona._env:driver GeoJSON does not support creation option ENCODING\n"
     ]
    },
    {
     "name": "stdout",
     "output_type": "stream",
     "text": [
      "Coteaux du lac Manouane\n",
      "Collines des lacs Musquanousse et du Vieux Fort\n"
     ]
    },
    {
     "name": "stderr",
     "output_type": "stream",
     "text": [
      "ERROR:fiona._env:/home/mlopez/EXEC/GeoJsonMFFP/Plaine de la baie de Rupert_prcptot_monthly.json: No such file or directory\n",
      "WARNING:fiona._env:driver GeoJSON does not support creation option ENCODING\n"
     ]
    },
    {
     "name": "stdout",
     "output_type": "stream",
     "text": [
      "Plaine de la baie de Rupert\n",
      "Hautes collines du lac Guinecourt\n"
     ]
    },
    {
     "name": "stderr",
     "output_type": "stream",
     "text": [
      "ERROR:fiona._env:/home/mlopez/EXEC/GeoJsonMFFP/Collines du lac Musquaro_prcptot_monthly.json: No such file or directory\n",
      "WARNING:fiona._env:driver GeoJSON does not support creation option ENCODING\n"
     ]
    },
    {
     "name": "stdout",
     "output_type": "stream",
     "text": [
      "Collines du lac Musquaro\n"
     ]
    },
    {
     "name": "stderr",
     "output_type": "stream",
     "text": [
      "ERROR:fiona._env:/home/mlopez/EXEC/GeoJsonMFFP/Collines du lac Grandmesnil_prcptot_monthly.json: No such file or directory\n",
      "WARNING:fiona._env:driver GeoJSON does not support creation option ENCODING\n"
     ]
    },
    {
     "name": "stdout",
     "output_type": "stream",
     "text": [
      "Collines du lac Grandmesnil\n"
     ]
    },
    {
     "name": "stderr",
     "output_type": "stream",
     "text": [
      "ERROR:fiona._env:/home/mlopez/EXEC/GeoJsonMFFP/Coteaux de la riviere a la Croix et du lac au Griffon_prcptot_monthly.json: No such file or directory\n",
      "WARNING:fiona._env:driver GeoJSON does not support creation option ENCODING\n"
     ]
    },
    {
     "name": "stdout",
     "output_type": "stream",
     "text": [
      "Coteaux de la rivière à la Croix et du lac au Griffon\n",
      "Coteaux du lac Caopocho\n",
      "Collines du lac Fonteneau\n"
     ]
    },
    {
     "name": "stderr",
     "output_type": "stream",
     "text": [
      "ERROR:fiona._env:/home/mlopez/EXEC/GeoJsonMFFP/Massif des monts Groulx_prcptot_monthly.json: No such file or directory\n",
      "WARNING:fiona._env:driver GeoJSON does not support creation option ENCODING\n"
     ]
    },
    {
     "name": "stdout",
     "output_type": "stream",
     "text": [
      "Massif des monts Groulx\n"
     ]
    },
    {
     "name": "stderr",
     "output_type": "stream",
     "text": [
      "ERROR:fiona._env:/home/mlopez/EXEC/GeoJsonMFFP/Coteaux des lacs Matonipi et Jonquet_prcptot_monthly.json: No such file or directory\n",
      "WARNING:fiona._env:driver GeoJSON does not support creation option ENCODING\n"
     ]
    },
    {
     "name": "stdout",
     "output_type": "stream",
     "text": [
      "Coteaux des lacs Matonipi et Jonquet\n"
     ]
    },
    {
     "name": "stderr",
     "output_type": "stream",
     "text": [
      "WARNING:py.warnings:/home/mlopez/EXEC/anaconda3/envs/python37-2/lib/python3.8/site-packages/geofeather/core.py:85: UserWarning: /home/mlopez/EXEC/Grids-polygons-regions/Grid-territoire_guide.feather.crs coordinate reference system file is missing. No crs will be set for this GeoDataFrame.\n",
      "  warnings.warn(\n",
      "\n"
     ]
    },
    {
     "name": "stdout",
     "output_type": "stream",
     "text": [
      "territoire_guide\n",
      "Merged with polygons\n",
      "1a\n",
      "2c\n",
      "3d\n",
      "2b\n",
      "2a\n",
      "3c\n",
      "3ab\n",
      "4bc\n",
      "4de\n",
      "5ef\n",
      "4f\n",
      "4a\n",
      "5jk\n",
      "5bcd\n",
      "5a\n",
      "4gh\n",
      "5hi\n",
      "5g\n",
      "6cdefg\n",
      "6hi\n",
      "6ab\n",
      "6j\n",
      "6mn\n",
      "6kl\n",
      "6opqr\n",
      "1a\n",
      "2c\n",
      "3d\n",
      "2b\n",
      "2a\n",
      "3c\n",
      "3ab\n",
      "4bc\n",
      "4de\n",
      "5ef\n",
      "4f\n",
      "4a\n",
      "5jk\n",
      "5bcd\n",
      "5a\n",
      "4gh\n",
      "5hi\n",
      "5g\n",
      "6cdefg\n",
      "6hi\n",
      "6ab\n",
      "6j\n",
      "6mn\n",
      "6kl\n",
      "6opqr\n"
     ]
    }
   ],
   "source": [
    "for region, (name, short) in short_dict.items():\n",
    "    print(region)\n",
    "    dfpolyshape = from_geofeather('/home/mlopez/EXEC/Grids-polygons-regions/Grid-'+region+'.feather')\n",
    "    dftp = pd.merge(dftgseall3, dfpolyshape, on=[\"lat\",\"lon\"])\n",
    "    dfpolyshape = 0\n",
    "    print (\"Merged with polygons\")\n",
    "    listTG = []\n",
    "    for tg in dftp[name].unique().tolist():\n",
    "        df2 = dftp[dftp[name] == tg]\n",
    "        print (tg)\n",
    "        if tg != None:\n",
    "            listTG.append(df2)\n",
    "        #print (listTG)\n",
    "    for df in listTG:\n",
    "        geometry = df[\"geometry\"]\n",
    "        crs = {'init': \"epsg:4326\"}\n",
    "        gdf = GeoDataFrame(df, crs=crs, geometry=geometry)\n",
    "        print (gdf[name].iloc[0])\n",
    "        #Substitute filename accents\n",
    "        gdf.to_file(replace_all(\"/home/mlopez/EXEC/GeoJsonMFFP/\"+gdf[name].iloc[0], d)+\"_\"+var+\"_monthly.json\", driver=\"GeoJSON\")\n",
    "    geometry = dftp[\"geometry\"]\n",
    "    crs = {'init': \"epsg:4326\"}\n",
    "    gdf = GeoDataFrame(dftp, crs=crs, geometry=geometry)\n",
    "    dftp = 0\n",
    "    gdf.to_file(\"/home/mlopez/EXEC/GeoJsonMFFP/\"+short+\"_\"+var+\"_monthly.json\", driver=\"GeoJSON\")\n",
    "    gdf = 0"
   ]
  },
  {
   "cell_type": "code",
   "execution_count": null,
   "metadata": {},
   "outputs": [],
   "source": []
  }
 ],
 "metadata": {
  "kernelspec": {
   "display_name": "Python 3",
   "language": "python",
   "name": "python3"
  },
  "language_info": {
   "codemirror_mode": {
    "name": "ipython",
    "version": 3
   },
   "file_extension": ".py",
   "mimetype": "text/x-python",
   "name": "python",
   "nbconvert_exporter": "python",
   "pygments_lexer": "ipython3",
   "version": "3.8.1"
  }
 },
 "nbformat": 4,
 "nbformat_minor": 4
}
