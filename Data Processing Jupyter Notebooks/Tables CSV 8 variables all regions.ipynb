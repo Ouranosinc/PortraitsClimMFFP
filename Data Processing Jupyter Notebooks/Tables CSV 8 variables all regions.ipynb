{
 "cells": [
  {
   "cell_type": "code",
   "execution_count": 1,
   "metadata": {},
   "outputs": [],
   "source": [
    "%load_ext autoreload\n",
    "%autoreload 2\n",
    "import xarray as xr\n",
    "import matplotlib.pyplot as plt\n",
    "import pandas as pd\n",
    "import processing_netcdf as pcdf\n",
    "import geopandas as gpd\n",
    "from geopandas import GeoDataFrame\n",
    "import shapely.geometry \n",
    "import numpy as np\n",
    "from shapely import geometry as gmty\n",
    "from geofeather import to_geofeather, from_geofeather\n",
    "import glob\n",
    "import os\n",
    "import pyarrow\n",
    "from xclim import ensembles as ens\n",
    "from xclim import subset"
   ]
  },
  {
   "cell_type": "code",
   "execution_count": 2,
   "metadata": {},
   "outputs": [],
   "source": [
    "import matplotlib.pyplot as plt"
   ]
  },
  {
   "cell_type": "code",
   "execution_count": 3,
   "metadata": {},
   "outputs": [],
   "source": [
    "folder = \"/scen3/scenario/netcdf/ouranos/portraits-clim-2.0/\"\n",
    "out_folder = \"/home/mlopez/EXEC/TimeMeansModels/\""
   ]
  },
  {
   "cell_type": "code",
   "execution_count": 34,
   "metadata": {},
   "outputs": [],
   "source": [
    "shapefile = (\"/home/mlopez/EXEC/Shapefiles/DDE_STF_20K_REG_FOR_VUE_S.shp\")\n",
    "poly = gpd.read_file(shapefile)\n",
    "poly= poly.to_crs('epsg:4326')\n",
    "#poly"
   ]
  },
  {
   "cell_type": "markdown",
   "metadata": {},
   "source": [
    "# Select variable"
   ]
  },
  {
   "cell_type": "code",
   "execution_count": 38,
   "metadata": {},
   "outputs": [],
   "source": [
    "#Variable \n",
    "#var=\"tg_mean\"\n",
    "#var =\"tn_mean\"\n",
    "#var =\"tx_mean\"\n",
    "#var =\"solidprcptot\"\n",
    "var =\"prcptot\"\n",
    "#var =\"dlyfrzthw\"\n",
    "#var =\"growing_season_length\"\n",
    "#var =\"DJC\"\n",
    "\n",
    "\n",
    "files85 = glob.glob(folder+\"*\"+\"rcp85_\"+var+\"_annual.nc\")\n",
    "files45 = glob.glob(folder+\"*\"+\"rcp45_\"+var+\"_annual.nc\")\n",
    "\n",
    "#ex: ACCESS1-3_rcp45_tn_mean_annual.nc\n",
    "files85\n",
    "files45\n",
    "\n",
    "filesSeas45 =  glob.glob(folder+\"*rcp45_\"+var+\"_seasonal.nc\")\n",
    "filesSeas85 =  glob.glob(folder+\"*rcp85_\"+var+\"_seasonal.nc\")\n",
    "#files = glob.glob(folder+\"*rcp85_tg_mean_annual.nc\")\n",
    "#ex: ACCESS1-3_rcp45_tn_mean_annual.nc\n",
    "#print(files)\n",
    "#print(filesSeas)\n"
   ]
  },
  {
   "cell_type": "markdown",
   "metadata": {},
   "source": [
    "# FOR RCP 45"
   ]
  },
  {
   "cell_type": "code",
   "execution_count": 46,
   "metadata": {},
   "outputs": [],
   "source": [
    "dsEns45= ens.create_ensemble(files45)\n",
    "#dsEns45"
   ]
  },
  {
   "cell_type": "markdown",
   "metadata": {},
   "source": [
    "## Getting time windows and percentiles"
   ]
  },
  {
   "cell_type": "code",
   "execution_count": 48,
   "metadata": {},
   "outputs": [
    {
     "data": {
      "text/html": [
       "<pre>&lt;xarray.Dataset&gt;\n",
       "Dimensions:      (lat: 320, lon: 416, realization: 11, time: 4)\n",
       "Coordinates:\n",
       "  * lon          (lon) float32 -89.04521 -88.96188 ... -54.54659 -54.46326\n",
       "  * time         (time) datetime64[ns] 1981-01-01 2011-01-01 ... 2071-01-01\n",
       "  * lat          (lat) float32 66.62331 66.53998 66.45665 ... 40.12437 40.04104\n",
       "  * realization  (realization) int64 0 1 2 3 4 5 6 7 8 9 10\n",
       "Data variables:\n",
       "    prcptot_p10  (time, lat, lon) float32 dask.array&lt;chunksize=(1, 320, 416), meta=np.ndarray&gt;\n",
       "    prcptot_p50  (time, lat, lon) float32 dask.array&lt;chunksize=(1, 320, 416), meta=np.ndarray&gt;\n",
       "    prcptot_p90  (time, lat, lon) float32 dask.array&lt;chunksize=(1, 320, 416), meta=np.ndarray&gt;</pre>"
      ],
      "text/plain": [
       "<xarray.Dataset>\n",
       "Dimensions:      (lat: 320, lon: 416, realization: 11, time: 4)\n",
       "Coordinates:\n",
       "  * lon          (lon) float32 -89.04521 -88.96188 ... -54.54659 -54.46326\n",
       "  * time         (time) datetime64[ns] 1981-01-01 2011-01-01 ... 2071-01-01\n",
       "  * lat          (lat) float32 66.62331 66.53998 66.45665 ... 40.12437 40.04104\n",
       "  * realization  (realization) int64 0 1 2 3 4 5 6 7 8 9 10\n",
       "Data variables:\n",
       "    prcptot_p10  (time, lat, lon) float32 dask.array<chunksize=(1, 320, 416), meta=np.ndarray>\n",
       "    prcptot_p50  (time, lat, lon) float32 dask.array<chunksize=(1, 320, 416), meta=np.ndarray>\n",
       "    prcptot_p90  (time, lat, lon) float32 dask.array<chunksize=(1, 320, 416), meta=np.ndarray>"
      ]
     },
     "execution_count": 48,
     "metadata": {},
     "output_type": "execute_result"
    }
   ],
   "source": [
    "# Table \n",
    "# Mapping data - 30 year means\n",
    "tmp1 = dsEns45.sel(time=(dsEns45.time.dt.year>=1981))\n",
    "window = 30\n",
    "time1 = tmp1.time[0::window]\n",
    "# 30 y means\n",
    "ds30yavgTable = tmp1.coarsen(time=window).mean()\n",
    "ds30yavgTable['time'] = time1\n",
    "# spatial mean\n",
    "perc30yavgTable = ens.ensemble_percentiles(ds30yavgTable)\n",
    "perc30yavgTable "
   ]
  },
  {
   "cell_type": "code",
   "execution_count": 50,
   "metadata": {},
   "outputs": [
    {
     "name": "stderr",
     "output_type": "stream",
     "text": [
      "WARNING:py.warnings:/home/mlopez/EXEC/anaconda3/envs/python37-2/lib/python3.8/site-packages/dask/array/numpy_compat.py:40: RuntimeWarning: divide by zero encountered in true_divide\n",
      "  x = np.divide(x1, x2, out)\n",
      "\n",
      "WARNING:py.warnings:/home/mlopez/EXEC/anaconda3/envs/python37-2/lib/python3.8/site-packages/dask/array/numpy_compat.py:40: RuntimeWarning: invalid value encountered in true_divide\n",
      "  x = np.divide(x1, x2, out)\n",
      "\n",
      "WARNING:py.warnings:/home/mlopez/EXEC/anaconda3/envs/python37-2/lib/python3.8/site-packages/dask/array/numpy_compat.py:40: RuntimeWarning: divide by zero encountered in true_divide\n",
      "  x = np.divide(x1, x2, out)\n",
      "\n",
      "WARNING:py.warnings:/home/mlopez/EXEC/anaconda3/envs/python37-2/lib/python3.8/site-packages/dask/array/numpy_compat.py:40: RuntimeWarning: invalid value encountered in true_divide\n",
      "  x = np.divide(x1, x2, out)\n",
      "\n",
      "WARNING:py.warnings:/home/mlopez/EXEC/anaconda3/envs/python37-2/lib/python3.8/site-packages/dask/array/numpy_compat.py:40: RuntimeWarning: divide by zero encountered in true_divide\n",
      "  x = np.divide(x1, x2, out)\n",
      "\n",
      "WARNING:py.warnings:/home/mlopez/EXEC/anaconda3/envs/python37-2/lib/python3.8/site-packages/dask/array/numpy_compat.py:40: RuntimeWarning: invalid value encountered in true_divide\n",
      "  x = np.divide(x1, x2, out)\n",
      "\n"
     ]
    },
    {
     "name": "stdout",
     "output_type": "stream",
     "text": [
      "CPU times: user 51.1 s, sys: 4min 17s, total: 5min 8s\n",
      "Wall time: 4.99 s\n"
     ]
    }
   ],
   "source": [
    "%time dfperT = perc30yavgTable.drop('realization').to_dataframe().dropna()"
   ]
  },
  {
   "cell_type": "markdown",
   "metadata": {},
   "source": [
    "## Split by periodos"
   ]
  },
  {
   "cell_type": "code",
   "execution_count": 54,
   "metadata": {},
   "outputs": [],
   "source": [
    "df45T1980 = dfperT.query(\"time=='1981-01-01'\")\n",
    "df45T2041= dfperT.query(\"time=='2041-01-01'\")\n",
    "df45T2071 = dfperT.query(\"time=='2071-01-01'\")"
   ]
  },
  {
   "cell_type": "markdown",
   "metadata": {},
   "source": [
    "## TODO\n",
    "- Cut by region\n",
    "- get the mean by region\n",
    "- Do the same for rcp84 and seasonal 45 and 85. \n",
    "- Put all together into the table"
   ]
  },
  {
   "cell_type": "markdown",
   "metadata": {},
   "source": [
    "## Seasonal"
   ]
  },
  {
   "cell_type": "code",
   "execution_count": 42,
   "metadata": {},
   "outputs": [],
   "source": [
    "dsEnsSeas45 = ens.create_ensemble(filesSeas45)"
   ]
  },
  {
   "cell_type": "markdown",
   "metadata": {},
   "source": [
    "## To split by region"
   ]
  },
  {
   "cell_type": "code",
   "execution_count": 55,
   "metadata": {},
   "outputs": [
    {
     "name": "stdout",
     "output_type": "stream",
     "text": [
      "DDE_STF_20K_REG_FOR_VUE_S NM_REG_FOR RF\n",
      "DDE_STF_20K_UA_PER_VUE_S PER_NO_UA UA\n",
      "DOM_BIO NOM DB\n",
      "REG_ECO NOM RE\n",
      "SDOM_BIO NOM SDB\n",
      "Secteurs_Operations_Regionales D_GENERAL SOR\n",
      "SREG_ECO NOM SRE\n",
      "territoire_guide TER_GUIDE TG\n"
     ]
    }
   ],
   "source": [
    "short_dict = {\"DDE_STF_20K_REG_FOR_VUE_S\": (\"NM_REG_FOR\", \"RF\"), \n",
    "            \"DDE_STF_20K_UA_PER_VUE_S\": (\"PER_NO_UA\", \"UA\"), \n",
    "              \"DOM_BIO\": (\"NOM\", \"DB\"), \n",
    "              \"REG_ECO\": (\"NOM\", \"RE\"), \n",
    "              \"SDOM_BIO\": (\"NOM\", \"SDB\"), \n",
    "              \"Secteurs_Operations_Regionales\": (\"D_GENERAL\", \"SOR\"), \n",
    "              \"SREG_ECO\": (\"NOM\", \"SRE\"),  \n",
    "              \"territoire_guide\": (\"TER_GUIDE\", \"TG\") \n",
    "              }\n",
    "\n",
    "for region, (name, short) in short_dict.items():\n",
    "    print(region, name, short)"
   ]
  },
  {
   "cell_type": "code",
   "execution_count": 56,
   "metadata": {},
   "outputs": [],
   "source": [
    "def replace_all(text, dic):\n",
    "    for i, j in dic.items():\n",
    "        text = text.replace(i, j)\n",
    "    return text"
   ]
  },
  {
   "cell_type": "code",
   "execution_count": 57,
   "metadata": {},
   "outputs": [],
   "source": [
    "d = { 'BAS-SAINT-LAURENT':\"Bas-Saint-Laurent\", \n",
    "     'SAGUENAY -LAC-SAINT-JEAN': \"Saguenay -Lac-Saint-Jean\",\n",
    "     'CAPITALE-NATIONALE-CHAUDIÈRE-APPALACHES':\"Capitale-Nationale-Chaudiere-Appalaches\",\n",
    "     'MAURICIE-CENTRE-DU-QUÉBEC':'Mauricie-Centre-du-Quebec','OUTAOUAIS':'Outaouais', \n",
    "     'ABITIBI-TEMISCAMINGUE':'Abitibi-Temiscamingue', 'COTE-NORD':'Cote-Nord',\n",
    "     'NORD-DU-QUEBEC':'Nord-Du-Quebec', 'GASPESIE-ILES-DE-LA-MADELEINE':'Gaspesie-Iles-De-La-Madeleine', \n",
    "     'LANAUDIERE':'Lanaudiere','LAURENTIDES':\"Laurentides\", \n",
    "     \"ESTRIE-MONTÉRÉGIE-LAVAL-MONTRÉAL\":\"Estrie-Monteregie-Laval-Montreal\", \n",
    "     \"é\": \"e\", \"É\": \"E\", \"à\": \"a\", \"è\": \"e\", \"Î\": \"i\", \"È\": \"E\", \"ô\" : \"o\", \"Ç\":\"C\", \"ç\":\"c\",\n",
    "       } "
   ]
  },
  {
   "cell_type": "code",
   "execution_count": null,
   "metadata": {},
   "outputs": [],
   "source": []
  },
  {
   "cell_type": "code",
   "execution_count": null,
   "metadata": {},
   "outputs": [],
   "source": []
  },
  {
   "cell_type": "code",
   "execution_count": null,
   "metadata": {},
   "outputs": [],
   "source": []
  },
  {
   "cell_type": "code",
   "execution_count": null,
   "metadata": {},
   "outputs": [],
   "source": []
  },
  {
   "cell_type": "markdown",
   "metadata": {},
   "source": [
    "# Creating ROWS"
   ]
  },
  {
   "cell_type": "code",
   "execution_count": 19,
   "metadata": {},
   "outputs": [],
   "source": [
    "col1 = [\"Annuel\",\"Percentiles (10 - 90)\",\"Hiver\",\"Percentiles (10 - 90)\",\"Printemps\",\"Percentiles (10 - 90)\",\n",
    "        \"Ete\",\"Percentiles (10 - 90)\",\"Automne\",\"Percentiles (10 - 90)\"]"
   ]
  },
  {
   "cell_type": "markdown",
   "metadata": {},
   "source": [
    "# Creating COLUMNS"
   ]
  },
  {
   "cell_type": "code",
   "execution_count": null,
   "metadata": {},
   "outputs": [],
   "source": [
    "dfTable = pd.DataFrame()\n",
    "dfTable[\"Saison\"] = col1"
   ]
  },
  {
   "cell_type": "code",
   "execution_count": 44,
   "metadata": {},
   "outputs": [],
   "source": [
    "#dfTable"
   ]
  },
  {
   "cell_type": "markdown",
   "metadata": {},
   "source": [
    "## Adding columns for RCP85"
   ]
  },
  {
   "cell_type": "code",
   "execution_count": 33,
   "metadata": {},
   "outputs": [],
   "source": [
    "dfTable[\"1981-2010\"] = [round(dfReg1T1980.tg_mean_p50.values[0]-273.15, 2), (str(round(dfReg1T1980.tg_mean_p10.values[0]-273.15,2))\n",
    "                                                            +\" - \"+str(round(dfReg1T1980.tg_mean_p90.values[0]-273.15,2))),str(1)+\"-\"+str(99),2,3,4,5,6,7,8]\n",
    "dfTable[\"2041-2070\"] = [round(dfReg1T2041.tg_mean_p50.values[0]-273.15, 2), (str(round(dfReg1T2041.tg_mean_p10.values[0]-273.15,2))\n",
    "                                                            +\" - \"+str(round(dfReg1T2041.tg_mean_p90.values[0]-273.15,2))),str(1)+\"-\"+str(99),2,3,4,5,6,7,8]\n",
    "dfTable[\"2071-2100\"] = [round(dfReg1T2071.tg_mean_p50.values[0]-273.15, 2), (str(round(dfReg1T2071.tg_mean_p10.values[0]-273.15,2))\n",
    "                                                            +\" - \"+str(round(dfReg1T2071.tg_mean_p90.values[0]-273.15,2))),str(1)+\"-\"+str(99),2,3,4,5,6,7,8]\n",
    "dft2 = dfTable.set_index(\"Saison\")"
   ]
  },
  {
   "cell_type": "code",
   "execution_count": 29,
   "metadata": {},
   "outputs": [
    {
     "data": {
      "text/html": [
       "<div>\n",
       "<style scoped>\n",
       "    .dataframe tbody tr th:only-of-type {\n",
       "        vertical-align: middle;\n",
       "    }\n",
       "\n",
       "    .dataframe tbody tr th {\n",
       "        vertical-align: top;\n",
       "    }\n",
       "\n",
       "    .dataframe thead th {\n",
       "        text-align: right;\n",
       "    }\n",
       "</style>\n",
       "<table border=\"1\" class=\"dataframe\">\n",
       "  <thead>\n",
       "    <tr style=\"text-align: right;\">\n",
       "      <th></th>\n",
       "      <th>1981-2010</th>\n",
       "      <th>2041-2070</th>\n",
       "      <th>2071-2100</th>\n",
       "    </tr>\n",
       "    <tr>\n",
       "      <th>Saison</th>\n",
       "      <th></th>\n",
       "      <th></th>\n",
       "      <th></th>\n",
       "    </tr>\n",
       "  </thead>\n",
       "  <tbody>\n",
       "    <tr>\n",
       "      <th>Annuel</th>\n",
       "      <td>2.82903</td>\n",
       "      <td>5.95568</td>\n",
       "      <td>8.71639</td>\n",
       "    </tr>\n",
       "    <tr>\n",
       "      <th>Percentiles (10 - 90)</th>\n",
       "      <td>2.79 - 3.03</td>\n",
       "      <td>5.31 - 6.9</td>\n",
       "      <td>6.5 - 9.8</td>\n",
       "    </tr>\n",
       "    <tr>\n",
       "      <th>Hiver</th>\n",
       "      <td>1-99</td>\n",
       "      <td>1-99</td>\n",
       "      <td>1-99</td>\n",
       "    </tr>\n",
       "    <tr>\n",
       "      <th>Percentiles (10 - 90)</th>\n",
       "      <td>2</td>\n",
       "      <td>2</td>\n",
       "      <td>2</td>\n",
       "    </tr>\n",
       "    <tr>\n",
       "      <th>Printemps</th>\n",
       "      <td>3</td>\n",
       "      <td>3</td>\n",
       "      <td>3</td>\n",
       "    </tr>\n",
       "    <tr>\n",
       "      <th>Percentiles (10 - 90)</th>\n",
       "      <td>4</td>\n",
       "      <td>4</td>\n",
       "      <td>4</td>\n",
       "    </tr>\n",
       "    <tr>\n",
       "      <th>Ete</th>\n",
       "      <td>5</td>\n",
       "      <td>5</td>\n",
       "      <td>5</td>\n",
       "    </tr>\n",
       "    <tr>\n",
       "      <th>Percentiles (10 - 90)</th>\n",
       "      <td>6</td>\n",
       "      <td>6</td>\n",
       "      <td>6</td>\n",
       "    </tr>\n",
       "    <tr>\n",
       "      <th>Automne</th>\n",
       "      <td>7</td>\n",
       "      <td>7</td>\n",
       "      <td>7</td>\n",
       "    </tr>\n",
       "    <tr>\n",
       "      <th>Percentiles (10 - 90)</th>\n",
       "      <td>8</td>\n",
       "      <td>8</td>\n",
       "      <td>8</td>\n",
       "    </tr>\n",
       "  </tbody>\n",
       "</table>\n",
       "</div>"
      ],
      "text/plain": [
       "                         1981-2010   2041-2070  2071-2100\n",
       "Saison                                                   \n",
       "Annuel                     2.82903     5.95568    8.71639\n",
       "Percentiles (10 - 90)  2.79 - 3.03  5.31 - 6.9  6.5 - 9.8\n",
       "Hiver                         1-99        1-99       1-99\n",
       "Percentiles (10 - 90)            2           2          2\n",
       "Printemps                        3           3          3\n",
       "Percentiles (10 - 90)            4           4          4\n",
       "Ete                              5           5          5\n",
       "Percentiles (10 - 90)            6           6          6\n",
       "Automne                          7           7          7\n",
       "Percentiles (10 - 90)            8           8          8"
      ]
     },
     "execution_count": 29,
     "metadata": {},
     "output_type": "execute_result"
    }
   ],
   "source": [
    "dft2"
   ]
  },
  {
   "cell_type": "code",
   "execution_count": 24,
   "metadata": {},
   "outputs": [],
   "source": [
    "dft2.to_csv('dfTable.csv')"
   ]
  },
  {
   "cell_type": "code",
   "execution_count": null,
   "metadata": {},
   "outputs": [],
   "source": []
  },
  {
   "cell_type": "code",
   "execution_count": null,
   "metadata": {},
   "outputs": [],
   "source": []
  }
 ],
 "metadata": {
  "kernelspec": {
   "display_name": "Python 3",
   "language": "python",
   "name": "python3"
  },
  "language_info": {
   "codemirror_mode": {
    "name": "ipython",
    "version": 3
   },
   "file_extension": ".py",
   "mimetype": "text/x-python",
   "name": "python",
   "nbconvert_exporter": "python",
   "pygments_lexer": "ipython3",
   "version": "3.8.1"
  }
 },
 "nbformat": 4,
 "nbformat_minor": 4
}
